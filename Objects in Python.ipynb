{
 "cells": [
  {
   "attachments": {
    "7a402cee-cf57-4ab9-a5ce-3bd8dbc30fa0.png": {
     "image/png": "[encoded data removed]"
    }
   },
   "cell_type": "markdown",
   "id": "b1d1f400-356b-4ebf-b0dd-82b05475a7bb",
   "metadata": {},
   "source": [
    "## **Objects in Python**\n",
    "This is the last notebook on object-oriented programming in Python. The subject of this notebook is the object, you might think this is a bit odd, after all objects have been the focus of all the notebooks. Though this is true our discussions on objects have been superficial, the object is the very core of Python as a programming language. Literally everything is an object in Python, and everything is a subclass of object. \n",
    "\n",
    "Quite often you will see that relation being made explicit by a line of code like this.\n",
    "\n",
    "`class ExampleOne(object):` \n",
    "\n",
    "Meaning that this class Example has no other superclass than object itself. I call this Google style, for I seem to recollect that at one time it stated in the Google Python style guide it was said to make this relationship explicit. I can't find it the current style guide so I might be wrong. However, using a style guide and a linter is a good idea, and why not use Google's style guide. See https://google.github.io/styleguide/pyguide.html.\n",
    "\n",
    "Pylint is an example of a linter, pylint will give you advice on style and substance, make your code both less prone to bugs and much more readable for fellow programmers.\n",
    "\n",
    "The object is always the root of the directed acyclic graph that is the Python object hierarchy. \n",
    "\n",
    "![afbeelding.png](attachment:7a402cee-cf57-4ab9-a5ce-3bd8dbc30fa0.png)\n",
    "\n",
    "All object-oriented programming languages have objects, hence the name of course. An object is not much more than an allocated space in memory (on the heap), it has identification, a human readable name, it would be difficult to identify an object by its memory address. And it has a structure, a way an object is put together. The Python object is a mix of a C++ struct and a modula3 object. \n"
   ]
  },
  {
   "cell_type": "markdown",
   "id": "aa6d8307-5910-4b1a-bd06-7f574040ff00",
   "metadata": {},
   "source": [
    "## **class objects & instance objects** \n",
    "\n",
    "A Python object comes in two flavours:\n",
    "\n",
    " 1. class object\n",
    " 2. instance object\n",
    " \n",
    "The first is the class object, the class object has two roles:\n",
    "\n",
    " 1. to function as blueprint of all objects belonging to this class. \n",
    " 2. The second role is to create objects of this class. \n",
    " \n",
    "For the first role class defines & names attribute references, in doing so it creates the namespace of the object. A namespace is a set of signs (names) that are used to identify and refer to the attributes the object has. The use of the namespace is that it ensures names can reused over multiple objects, iff the object identifiers are unique. We can access the attributes by using the object identifier and the name. \n",
    "\n",
    "`ExampleOne. Variable` & `ExampleTwo.variable`\n",
    "\n",
    "Python class objects have three types of attributes:\n",
    "\n",
    " 1. Instance variables (confusingly so perhaps, these are mostly referred to as attributes in OO-speak)\n",
    " 2. Class variables\n",
    " 3. Methods\n",
    "\n",
    "Methods we can further subdivide in:\n",
    " * regular methods\n",
    " * class methods\n",
    " * static methods\n",
    " \n",
    "Python also knows an abstract method but that belongs to the abc module not the class object itself.\n",
    "\n",
    "Let's see a class object.\n"
   ]
  },
  {
   "cell_type": "code",
   "execution_count": 43,
   "id": "3efd181d-9e74-4c61-a72e-c1398d0ee078",
   "metadata": {},
   "outputs": [],
   "source": [
    "class ExampleOne:\n",
    "    '''an example class we can inspect.'''\n",
    "    classvar:int = 1\n",
    "    \n",
    "    def __init__(self, nr:int, text:str)->None:\n",
    "        self.nr = nr\n",
    "        self.text = text\n",
    "        \n"
   ]
  },
  {
   "cell_type": "markdown",
   "id": "0cf46d47-7218-423f-ae03-dc7cf849e9e5",
   "metadata": {},
   "source": [
    "It is important to understand that a class object functions as a blueprint for all objects of this class. \n",
    "\n",
    "The other goal of the class object is to instantiate the object, that is to create it in memory with a unique identifier and the instance variables being assigned a value.\n",
    "\n",
    "The difference between an class object and an instance object is that the latter only lives in memory. If the computer is off, the object does not exist. This in contrast to the class object that lives in program code stored on some sort of medium. "
   ]
  },
  {
   "cell_type": "code",
   "execution_count": 45,
   "id": "5a56e848-76e7-479a-96cc-ffa82bde2582",
   "metadata": {},
   "outputs": [],
   "source": [
    "one = ExampleOne(nr=7, text='This is an instance object')"
   ]
  },
  {
   "cell_type": "markdown",
   "id": "145ba578-4aa7-4f92-84ec-233098ea3368",
   "metadata": {},
   "source": [
    "The first step is a call to a special method named `__new__`, this will create a new object with a memory address \n",
    "\n",
    "The return value of new is an object an instance object of its class\n",
    "\n",
    "We can inspect that our object has a memory location via the `id()` function."
   ]
  },
  {
   "cell_type": "code",
   "execution_count": 7,
   "id": "4f9b3d52-a349-49c6-9850-d9ceec5fd265",
   "metadata": {},
   "outputs": [
    {
     "data": {
      "text/plain": [
       "2727377575056"
      ]
     },
     "execution_count": 7,
     "metadata": {},
     "output_type": "execute_result"
    }
   ],
   "source": [
    "id(one)"
   ]
  },
  {
   "cell_type": "code",
   "execution_count": 44,
   "id": "db2837a7-37a2-40b8-959c-50efcd2dfe48",
   "metadata": {},
   "outputs": [
    {
     "name": "stdout",
     "output_type": "stream",
     "text": [
      "Help on class ExampleOne in module __main__:\n",
      "\n",
      "class ExampleOne(builtins.object)\n",
      " |  ExampleOne(nr: int, text: str) -> None\n",
      " |  \n",
      " |  an example class we can inspect.\n",
      " |  \n",
      " |  Methods defined here:\n",
      " |  \n",
      " |  __init__(self, nr: int, text: str) -> None\n",
      " |      Initialize self.  See help(type(self)) for accurate signature.\n",
      " |  \n",
      " |  ----------------------------------------------------------------------\n",
      " |  Data descriptors defined here:\n",
      " |  \n",
      " |  __dict__\n",
      " |      dictionary for instance variables (if defined)\n",
      " |  \n",
      " |  __weakref__\n",
      " |      list of weak references to the object (if defined)\n",
      " |  \n",
      " |  ----------------------------------------------------------------------\n",
      " |  Data and other attributes defined here:\n",
      " |  \n",
      " |  __annotations__ = {'classvar': <class 'int'>}\n",
      " |  \n",
      " |  classvar = 1\n",
      "\n"
     ]
    }
   ],
   "source": [
    "help(ExampleOne)"
   ]
  },
  {
   "cell_type": "markdown",
   "id": "b4abf8e3-aa6d-43ce-8949-954398bf3672",
   "metadata": {},
   "source": [
    "Python has an excellent help function that is I feel often under used. \n",
    "\n",
    "The help function tells us most of what we want to know about a class object.\n",
    "\n",
    " * line 1: class ExampleOne(builtins.object) - tells us that ExampleOne has no super classes other than object, object is the superclass to all other objects, it is the object that Python built-in.\n",
    " * line 2: ExampleOne(nr: int, text: str) -> None - This is the code we need to execute to create the object, this will call the static method `__new__`. The astute observer will have noticed we do not define that method, we inherit it from builtins.object.\n",
    " * line 3: an example class we can inspect - The message the author wants to give the user of the class, it makes the intent of the class clear. You should read the Google style guide for how to properly comment on your code.\n",
    " * line 4: Methods defined here: - names the methods we have defined for our class object\n",
    " * line 5: `__init__(self, nr: int, text: str) -> None` - initialize self, the object\n",
    " * line 6:  Data descriptors defined here: - similar to line 4 but instead of naming the methods defined in our class objects, it names the data descriptors we have defined here. For now, it is only important to remember that the instance variables are kept in a dictionary, one that can be called on with the name `__dict__`. I will show you how to do that in a moment and will discuss data descriptors in depth later in this notebook.\n",
    " * line 7: We are going to skip weak references here. I will quickly explain them at the end of this notebook.\n",
    " * line 8: Data and other attributes defined here: - functions similar to line four and six, but now it refers to the other data, such as the class variable we have named, including the value, see line 10. And a dict giving the annotations we have used for our class variable, see line 9.\n",
    "\n",
    "All this information we have received from help. There is more to help but we will see that later. For now you should understand that you can use this information in your programming. We can access the instance variables of any object by calling its dict.\n"
   ]
  },
  {
   "cell_type": "code",
   "execution_count": 46,
   "id": "04228e3c-eb54-4c1c-a09c-d5b6c0df7f5e",
   "metadata": {},
   "outputs": [
    {
     "data": {
      "text/plain": [
       "{'nr': 7, 'text': 'This is an instance object'}"
      ]
     },
     "execution_count": 46,
     "metadata": {},
     "output_type": "execute_result"
    }
   ],
   "source": [
    "one.__dict__"
   ]
  },
  {
   "cell_type": "markdown",
   "id": "dc741fb2-54fc-4643-85f1-21effc247542",
   "metadata": {},
   "source": [
    "We can change the value of attributes by accessing the dictionary directly. \n",
    "\n",
    "This might seem like something you should not do, but if you become experienced in Python this is probably something you want to do. I will some uses of this later, when we move into descriptors."
   ]
  },
  {
   "cell_type": "code",
   "execution_count": 49,
   "id": "6f1924ad-ea85-471b-8d51-e3c34d2b4ad2",
   "metadata": {},
   "outputs": [
    {
     "data": {
      "text/plain": [
       "'This is a very different example'"
      ]
     },
     "execution_count": 49,
     "metadata": {},
     "output_type": "execute_result"
    }
   ],
   "source": [
    "one.__dict__['text'] = 'This is a very different example'\n",
    "one.__dict__['text']"
   ]
  },
  {
   "cell_type": "code",
   "execution_count": 50,
   "id": "38a25c9b-f9ee-4881-bca0-c1df0c91d2d0",
   "metadata": {},
   "outputs": [
    {
     "data": {
      "text/plain": [
       "{'classvar': int}"
      ]
     },
     "execution_count": 50,
     "metadata": {},
     "output_type": "execute_result"
    }
   ],
   "source": [
    "one.__annotations__"
   ]
  },
  {
   "cell_type": "code",
   "execution_count": 14,
   "id": "ac372ed2-4cfd-4b91-99c3-8f9a07137aa4",
   "metadata": {},
   "outputs": [
    {
     "data": {
      "text/plain": [
       "1"
      ]
     },
     "execution_count": 14,
     "metadata": {},
     "output_type": "execute_result"
    }
   ],
   "source": [
    "one.classvar"
   ]
  },
  {
   "cell_type": "code",
   "execution_count": 52,
   "id": "8c0c8882-7ec3-4133-9777-b595c76a2dc4",
   "metadata": {},
   "outputs": [],
   "source": [
    "class ExampleTwo:\n",
    "    '''This is an example class with given instantiation values'''\n",
    "    \n",
    "    def __init__(self)->None:\n",
    "        self.number = 5\n",
    "        self.txt = 'Second a silver lining'\n",
    "        \n",
    "    def __repr__(self)->str:\n",
    "        return f'{self.__class__.__name__} has two data attributes: {self.number} & {self.txt}'\n",
    "    \n",
    "    def __str__(self)->str:\n",
    "        return f'This is a very different object'\n",
    "    \n",
    "    def text(self):\n",
    "        return self.txt"
   ]
  },
  {
   "cell_type": "code",
   "execution_count": 53,
   "id": "5230a46a-6023-4899-a7b8-4835717c7920",
   "metadata": {},
   "outputs": [],
   "source": [
    "snd = ExampleTwo()"
   ]
  },
  {
   "cell_type": "markdown",
   "id": "6c57b4c0-b2c3-467a-bd7c-39ea64f28637",
   "metadata": {},
   "source": [
    "#### **instance object** \n",
    "`snd`is the second flavour of objects Python has, it is the object instance. The instance object can really only do one thing, it can do attribute references.\n",
    "\n",
    "There are two types of attribute references, method references and data references.\n",
    "\n",
    "Let me begin by calling help to see what is all in there, and what is not."
   ]
  },
  {
   "cell_type": "code",
   "execution_count": 54,
   "id": "e2f17a9f-e72e-4738-80cd-76413bd11297",
   "metadata": {},
   "outputs": [
    {
     "name": "stdout",
     "output_type": "stream",
     "text": [
      "Help on class ExampleTwo in module __main__:\n",
      "\n",
      "class ExampleTwo(builtins.object)\n",
      " |  ExampleTwo() -> None\n",
      " |  \n",
      " |  This is an example class with given instantiation values\n",
      " |  \n",
      " |  Methods defined here:\n",
      " |  \n",
      " |  __init__(self) -> None\n",
      " |      Initialize self.  See help(type(self)) for accurate signature.\n",
      " |  \n",
      " |  __repr__(self) -> str\n",
      " |      Return repr(self).\n",
      " |  \n",
      " |  __str__(self) -> str\n",
      " |      Return str(self).\n",
      " |  \n",
      " |  text(self)\n",
      " |  \n",
      " |  ----------------------------------------------------------------------\n",
      " |  Data descriptors defined here:\n",
      " |  \n",
      " |  __dict__\n",
      " |      dictionary for instance variables (if defined)\n",
      " |  \n",
      " |  __weakref__\n",
      " |      list of weak references to the object (if defined)\n",
      "\n"
     ]
    }
   ],
   "source": [
    "help(type(snd))"
   ]
  },
  {
   "cell_type": "markdown",
   "id": "aa9a8ef8-63c4-4511-aad5-d90adbbfa3bd",
   "metadata": {},
   "source": [
    "As you can see there are four methods defined in the class object.\n",
    "\n",
    "There are data descriptors, they will be given a standard start value at initialization.\n",
    "\n",
    "There are no other data, no annotations nothing.\n",
    "\n",
    "`snd` can only do attribute reference, meaning I can call the instance attributes"
   ]
  },
  {
   "cell_type": "code",
   "execution_count": 55,
   "id": "28d8c4d2-9ece-4e3e-9004-96a78a0d6ed5",
   "metadata": {},
   "outputs": [
    {
     "data": {
      "text/plain": [
       "5"
      ]
     },
     "execution_count": 55,
     "metadata": {},
     "output_type": "execute_result"
    }
   ],
   "source": [
    "snd.number"
   ]
  },
  {
   "cell_type": "code",
   "execution_count": 56,
   "id": "1243e3bd-ed38-4cb5-b5c4-d3514b731e3a",
   "metadata": {},
   "outputs": [
    {
     "data": {
      "text/plain": [
       "'Second a silver lining'"
      ]
     },
     "execution_count": 56,
     "metadata": {},
     "output_type": "execute_result"
    }
   ],
   "source": [
    "snd.txt"
   ]
  },
  {
   "cell_type": "markdown",
   "id": "d73bef5d-ce21-4a23-bcbf-26a2f91dfb28",
   "metadata": {},
   "source": [
    "and I can call the methods"
   ]
  },
  {
   "cell_type": "code",
   "execution_count": 57,
   "id": "52f68a51-d61f-4afd-af2b-a2b9a5270ce7",
   "metadata": {},
   "outputs": [
    {
     "name": "stdout",
     "output_type": "stream",
     "text": [
      "This is a very different object\n"
     ]
    }
   ],
   "source": [
    "print(snd)"
   ]
  },
  {
   "cell_type": "code",
   "execution_count": 58,
   "id": "e911c428-8301-4340-8bd3-f929f064d0a5",
   "metadata": {},
   "outputs": [
    {
     "data": {
      "text/plain": [
       "ExampleTwo has two data attributes: 5 & Second a silver lining"
      ]
     },
     "execution_count": 58,
     "metadata": {},
     "output_type": "execute_result"
    }
   ],
   "source": [
    "snd"
   ]
  },
  {
   "cell_type": "code",
   "execution_count": 59,
   "id": "b169a840-509f-46ea-a84c-a8ab30594e26",
   "metadata": {},
   "outputs": [
    {
     "data": {
      "text/plain": [
       "'Second a silver lining'"
      ]
     },
     "execution_count": 59,
     "metadata": {},
     "output_type": "execute_result"
    }
   ],
   "source": [
    "snd.text()"
   ]
  },
  {
   "cell_type": "markdown",
   "id": "81900b8d-a765-414d-8772-5ee7fba43447",
   "metadata": {},
   "source": [
    "If we inspect the code of `__repr__` a bit closer we see that I call `self.__class__.__name__` in the format string. \n",
    "\n",
    "Consider that line of code, apperently there are more attributes"
   ]
  },
  {
   "cell_type": "code",
   "execution_count": 29,
   "id": "851af19a-41cd-4b5c-9e66-65e29a311372",
   "metadata": {},
   "outputs": [
    {
     "data": {
      "text/plain": [
       "__main__.ExampleTwo"
      ]
     },
     "execution_count": 29,
     "metadata": {},
     "output_type": "execute_result"
    }
   ],
   "source": [
    "snd.__class__"
   ]
  },
  {
   "cell_type": "code",
   "execution_count": 30,
   "id": "27b01551-f173-4777-b758-746bea4cdcbf",
   "metadata": {},
   "outputs": [
    {
     "data": {
      "text/plain": [
       "'ExampleTwo'"
      ]
     },
     "execution_count": 30,
     "metadata": {},
     "output_type": "execute_result"
    }
   ],
   "source": [
    "snd.__class__.__name__"
   ]
  },
  {
   "cell_type": "markdown",
   "id": "fde87b23-1bf7-4cc8-9d52-69ed07f5c39a",
   "metadata": {},
   "source": [
    "Of course this is circular it is akin to:"
   ]
  },
  {
   "cell_type": "code",
   "execution_count": 31,
   "id": "23fcf035-da93-47d4-9d47-4d63c76b2c17",
   "metadata": {},
   "outputs": [
    {
     "data": {
      "text/plain": [
       "__main__.ExampleTwo"
      ]
     },
     "execution_count": 31,
     "metadata": {},
     "output_type": "execute_result"
    }
   ],
   "source": [
    "type(snd)"
   ]
  },
  {
   "cell_type": "code",
   "execution_count": 32,
   "id": "d3c2227f-51ef-46c3-80a9-ff0950ed1919",
   "metadata": {},
   "outputs": [
    {
     "data": {
      "text/plain": [
       "'ExampleTwo'"
      ]
     },
     "execution_count": 32,
     "metadata": {},
     "output_type": "execute_result"
    }
   ],
   "source": [
    "type(snd).__name__"
   ]
  },
  {
   "cell_type": "markdown",
   "id": "9a40b2d0-6628-4d77-82c1-d61cc1dc846b",
   "metadata": {},
   "source": [
    "To understand where this comes from we would have to look back at `object`.\n",
    "\n",
    "`object` comes with a host of method attributes, we have already seen two: `__new__` and `__init__` but it has quite a few more, too many for me to list. You should look at the Python data model to see all of them and how to use them for effective Python programming. https://docs.python.org/3/reference/datamodel.html#special-method-names \n",
    "\n",
    "In this notebook I can only show you a few of them ones that allow you to do surprising things in Python. \n",
    "\n",
    "Though you inherit all these methods, after all everything is a subclass of `object`, however not these methods are implemented. \n",
    "\n",
    "`object` comes with data attributes, one of them is `__name__`, again all other classes inherit `__name__` from `object`\n"
   ]
  },
  {
   "cell_type": "code",
   "execution_count": 38,
   "id": "c4184204-fd17-4478-9040-9fea8e01df9d",
   "metadata": {},
   "outputs": [
    {
     "data": {
      "text/plain": [
       "'object'"
      ]
     },
     "execution_count": 38,
     "metadata": {},
     "output_type": "execute_result"
    }
   ],
   "source": [
    "object.__name__"
   ]
  },
  {
   "cell_type": "markdown",
   "id": "2292b7c0-d304-4e2a-898d-b2c07f433c02",
   "metadata": {},
   "source": [
    "We can see all the methods defined if we call on help"
   ]
  },
  {
   "cell_type": "code",
   "execution_count": 37,
   "id": "fa1a91de-8dbc-4571-a6a0-1f07fd44e241",
   "metadata": {},
   "outputs": [
    {
     "name": "stdout",
     "output_type": "stream",
     "text": [
      "Help on class object in module builtins:\n",
      "\n",
      "class object\n",
      " |  The base class of the class hierarchy.\n",
      " |  \n",
      " |  When called, it accepts no arguments and returns a new featureless\n",
      " |  instance that has no instance attributes and cannot be given any.\n",
      " |  \n",
      " |  Built-in subclasses:\n",
      " |      anext_awaitable\n",
      " |      ArgNotFound\n",
      " |      async_generator\n",
      " |      async_generator_asend\n",
      " |      ... and 116 other subclasses\n",
      " |  \n",
      " |  Methods defined here:\n",
      " |  \n",
      " |  __delattr__(self, name, /)\n",
      " |      Implement delattr(self, name).\n",
      " |  \n",
      " |  __dir__(self, /)\n",
      " |      Default dir() implementation.\n",
      " |  \n",
      " |  __eq__(self, value, /)\n",
      " |      Return self==value.\n",
      " |  \n",
      " |  __format__(self, format_spec, /)\n",
      " |      Default object formatter.\n",
      " |  \n",
      " |  __ge__(self, value, /)\n",
      " |      Return self>=value.\n",
      " |  \n",
      " |  __getattribute__(self, name, /)\n",
      " |      Return getattr(self, name).\n",
      " |  \n",
      " |  __getstate__(self, /)\n",
      " |      Helper for pickle.\n",
      " |  \n",
      " |  __gt__(self, value, /)\n",
      " |      Return self>value.\n",
      " |  \n",
      " |  __hash__(self, /)\n",
      " |      Return hash(self).\n",
      " |  \n",
      " |  __init__(self, /, *args, **kwargs)\n",
      " |      Initialize self.  See help(type(self)) for accurate signature.\n",
      " |  \n",
      " |  __le__(self, value, /)\n",
      " |      Return self<=value.\n",
      " |  \n",
      " |  __lt__(self, value, /)\n",
      " |      Return self<value.\n",
      " |  \n",
      " |  __ne__(self, value, /)\n",
      " |      Return self!=value.\n",
      " |  \n",
      " |  __reduce__(self, /)\n",
      " |      Helper for pickle.\n",
      " |  \n",
      " |  __reduce_ex__(self, protocol, /)\n",
      " |      Helper for pickle.\n",
      " |  \n",
      " |  __repr__(self, /)\n",
      " |      Return repr(self).\n",
      " |  \n",
      " |  __setattr__(self, name, value, /)\n",
      " |      Implement setattr(self, name, value).\n",
      " |  \n",
      " |  __sizeof__(self, /)\n",
      " |      Size of object in memory, in bytes.\n",
      " |  \n",
      " |  __str__(self, /)\n",
      " |      Return str(self).\n",
      " |  \n",
      " |  ----------------------------------------------------------------------\n",
      " |  Class methods defined here:\n",
      " |  \n",
      " |  __init_subclass__(...) from builtins.type\n",
      " |      This method is called when a class is subclassed.\n",
      " |      \n",
      " |      The default implementation does nothing. It may be\n",
      " |      overridden to extend subclasses.\n",
      " |  \n",
      " |  __subclasshook__(...) from builtins.type\n",
      " |      Abstract classes can override this to customize issubclass().\n",
      " |      \n",
      " |      This is invoked early on by abc.ABCMeta.__subclasscheck__().\n",
      " |      It should return True, False or NotImplemented.  If it returns\n",
      " |      NotImplemented, the normal algorithm is used.  Otherwise, it\n",
      " |      overrides the normal algorithm (and the outcome is cached).\n",
      " |  \n",
      " |  ----------------------------------------------------------------------\n",
      " |  Static methods defined here:\n",
      " |  \n",
      " |  __new__(*args, **kwargs) from builtins.type\n",
      " |      Create and return a new object.  See help(type) for accurate signature.\n",
      " |  \n",
      " |  ----------------------------------------------------------------------\n",
      " |  Data and other attributes defined here:\n",
      " |  \n",
      " |  __class__ = <class 'type'>\n",
      " |      type(object) -> the object's type\n",
      " |      type(name, bases, dict, **kwds) -> a new type\n",
      "\n"
     ]
    }
   ],
   "source": [
    "help(object)"
   ]
  },
  {
   "cell_type": "markdown",
   "id": "b398a2ef-9c3f-498d-972a-06ab87e673d2",
   "metadata": {},
   "source": [
    "Most of these I am not going to discuss here, for they have very specific roles in Python.\n",
    "\n",
    "Those that I want to discuss are:\n",
    "\n",
    " * `__new__`\n",
    " * `__init__`\n",
    " * `__del__`\n",
    "\n",
    "These control the basic operations of an object, creation and deletion. I have discussed the first two, (there is more to know) but haven't really discussed `__del__` which is called when we want the instance object to be destroyed.`"
   ]
  },
  {
   "cell_type": "code",
   "execution_count": 60,
   "id": "5f3f86fe-c1e1-4865-abed-be4d1a143a82",
   "metadata": {},
   "outputs": [
    {
     "data": {
      "text/plain": [
       "2727377809488"
      ]
     },
     "execution_count": 60,
     "metadata": {},
     "output_type": "execute_result"
    }
   ],
   "source": [
    "id(snd)"
   ]
  },
  {
   "cell_type": "code",
   "execution_count": 61,
   "id": "d4d2a72f-b97c-406c-8110-e1fd1a609d1c",
   "metadata": {},
   "outputs": [],
   "source": [
    "del(snd)"
   ]
  },
  {
   "cell_type": "code",
   "execution_count": 62,
   "id": "d77d2129-4c0d-4eaa-a52f-3394f0833cda",
   "metadata": {},
   "outputs": [
    {
     "ename": "NameError",
     "evalue": "name 'snd' is not defined",
     "output_type": "error",
     "traceback": [
      "\u001b[1;31m---------------------------------------------------------------------------\u001b[0m",
      "\u001b[1;31mNameError\u001b[0m                                 Traceback (most recent call last)",
      "Cell \u001b[1;32mIn[62], line 1\u001b[0m\n\u001b[1;32m----> 1\u001b[0m \u001b[38;5;28mid\u001b[39m(\u001b[43msnd\u001b[49m)\n",
      "\u001b[1;31mNameError\u001b[0m: name 'snd' is not defined"
     ]
    }
   ],
   "source": [
    "id(snd)"
   ]
  },
  {
   "cell_type": "code",
   "execution_count": null,
   "id": "715708c4-2c1b-4e64-b393-e3a52a25cdc3",
   "metadata": {},
   "outputs": [],
   "source": []
  }
 ],
 "metadata": {
  "kernelspec": {
   "display_name": "Python 3 (ipykernel)",
   "language": "python",
   "name": "python3"
  },
  "language_info": {
   "codemirror_mode": {
    "name": "ipython",
    "version": 3
   },
   "file_extension": ".py",
   "mimetype": "text/x-python",
   "name": "python",
   "nbconvert_exporter": "python",
   "pygments_lexer": "ipython3",
   "version": "3.11.1"
  }
 },
 "nbformat": 4,
 "nbformat_minor": 5
}
