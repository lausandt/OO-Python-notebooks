{
 "cells": [
  {
   "attachments": {
    "c147500d-8486-4471-b714-210510cb8662.png": {
     "image/png": "[encoded data removed]"
    }
   },
   "cell_type": "markdown",
   "id": "b1d1f400-356b-4ebf-b0dd-82b05475a7bb",
   "metadata": {},
   "source": [
    "## **Objects in Python**\n",
    "This is the last notebook on object-oriented programming in Python. The subject of this notebook is the object, you might think this is a bit odd, after all objects have been the focus of all the notebooks. Though this is true our discussions on objects have been superficial, the object is the very core of Python as a programming language. Knowing how to manipulate objects in Python allows you to be a much more efficient and effective programmer.\n",
    "\n",
    "All object-oriented programming languages have objects, hence the name of course. An object is not much more than an allocated space in memory (on the heap), it has identification, a human readable name, it would be difficult to identify an object by its memory address. Finally, an object has the structure of a tagged tuple, a manner with which the object is constructed. The Python object is a mix of a C++ struct and a modula3 object. This mix delivers a flexible construct. A Python object is easy to use, easy to manipulate, but also quite difficult to protect from abuse. \n",
    "\n",
    "In Python literally everything is an object, and everything is a subclass of object (If you don't know what a subclass is, this notebook is not for you, you should read the Inheritance notebook). Quite often you will see the base / sub class relation being made explicit by a line of code like this.\n",
    "\n",
    "`class ExampleOne(object):` \n",
    "\n",
    "The object is always the root of the directed acyclic graph (DAG) that is the Python object hierarchy. \n",
    "\n",
    "![afbeelding.png](attachment:c147500d-8486-4471-b714-210510cb8662.png)\n",
    "\n",
    "I have put the objects next to each other on purpose, for although Python has only one DAG you should consider object not to be the root, ExampleOne and ExampleTwo are not siblings. Instead you want to work with multiple object hierarchies.\n",
    "\n",
    "The meaning of `class ExampleOne(object):` is that this class ExampleOne has no other superclass than object itself. I think you should not make this relation explicit and use `class ExampleOne:`.  Object is not part of the class hierarchy you will create.\n",
    "\n",
    "I call the former explicit declaration, Google style, for I seem to recollect that at one time it stated in the Google Python style guide it was said to make this relationship explicit. I can't find it the current style guide so I might be wrong or they might have changed the style. However, using a style guide and a linter is a good idea, and why not use Google's style guide. See https://google.github.io/styleguide/pyguide.html.\n",
    "\n",
    "Pylint is an example of a linter, pylint will give you advice on style and substance, make your code both less prone to bugs and much more readable for fellow programmers."
   ]
  },
  {
   "cell_type": "markdown",
   "id": "aa6d8307-5910-4b1a-bd06-7f574040ff00",
   "metadata": {},
   "source": [
    "## **class objects & instance objects** \n",
    "\n",
    "There are two forms of object-oriented programming, there is the prototype programming, mostly known from JavaScript and other ECMA script dialects, and there is class based programming. Python is class based. As everything in Python is an object, Python objects come in two flavours:\n",
    "\n",
    " * class object\n",
    " * instance object\n",
    " \n",
    "The first to understand is the class object, the class object has two roles:\n",
    "\n",
    " 1. to function as blueprint of all objects belonging to this class. \n",
    " 2. The second role is to create objects of this class. \n",
    " \n",
    "For the first role class defines & names attribute references, in doing so it creates the namespace of the object. A namespace is a set of signs (names) that are used to identify and refer to the attributes the object has. The use of the namespace is that it ensures names can reused over multiple objects, iff the object identifiers are unique. We can access the attributes by using the object identifier and the name. \n",
    "\n",
    "`ExampleOne.variable` & `ExampleTwo.variable`\n",
    "\n",
    "Python class objects have three types of attributes:\n",
    "\n",
    " 1. Instance variables (confusingly so perhaps, these are mostly referred to as attributes in OO-speak)\n",
    " 2. Class variables\n",
    " 3. Methods\n",
    "\n",
    "Methods we can further subdivide in:\n",
    " * regular methods\n",
    " * class methods\n",
    " * static methods\n",
    " \n",
    "Python also knows an abstract method but that belongs to the abc module not the class object itself.\n",
    "\n",
    "Let's see a class object.\n"
   ]
  },
  {
   "cell_type": "code",
   "execution_count": null,
   "id": "3efd181d-9e74-4c61-a72e-c1398d0ee078",
   "metadata": {},
   "outputs": [],
   "source": [
    "class ExampleOne:\n",
    "    '''an example class we can inspect.'''\n",
    "    classvar:int = 1\n",
    "    \n",
    "    def __init__(self, nr:int, text:str)->None:\n",
    "        self.nr = nr\n",
    "        self.text = text\n",
    "        \n"
   ]
  },
  {
   "cell_type": "markdown",
   "id": "0cf46d47-7218-423f-ae03-dc7cf849e9e5",
   "metadata": {},
   "source": [
    "It is important to understand that a class object functions as a blueprint for all objects of this class. \n",
    "\n",
    "The other goal of the class object is to instantiate the object, that is to create it in memory with a unique identifier and the instance variables being assigned a value.\n",
    "\n",
    "The difference between an class object and an instance object is that the latter only lives in memory. If the computer is off, the object does not exist. This in contrast to the class object that lives in program code stored on some sort of medium, usually a hard disk. "
   ]
  },
  {
   "cell_type": "code",
   "execution_count": null,
   "id": "5a56e848-76e7-479a-96cc-ffa82bde2582",
   "metadata": {},
   "outputs": [],
   "source": [
    "one = ExampleOne(nr=7, text='This is an instance object')"
   ]
  },
  {
   "cell_type": "markdown",
   "id": "145ba578-4aa7-4f92-84ec-233098ea3368",
   "metadata": {},
   "source": [
    "The first step is a call to a special method named `__new__`, this will create a new object with a memory address \n",
    "\n",
    "The return value of new is an object an instance object of its class\n",
    "\n",
    "We can inspect that our object has a memory location via the `id()` function."
   ]
  },
  {
   "cell_type": "code",
   "execution_count": null,
   "id": "4f9b3d52-a349-49c6-9850-d9ceec5fd265",
   "metadata": {},
   "outputs": [],
   "source": [
    "id(one)"
   ]
  },
  {
   "cell_type": "code",
   "execution_count": null,
   "id": "db2837a7-37a2-40b8-959c-50efcd2dfe48",
   "metadata": {},
   "outputs": [],
   "source": [
    "help(ExampleOne)"
   ]
  },
  {
   "cell_type": "markdown",
   "id": "b4abf8e3-aa6d-43ce-8949-954398bf3672",
   "metadata": {},
   "source": [
    "Python has an excellent help function that is I feel often under used. \n",
    "\n",
    "The help function tells us most of what we want to know about a class object.\n",
    "\n",
    " * line 1: class ExampleOne(builtins.object) - tells us that ExampleOne has no super classes other than object, object is the superclass to all other objects, it is the object that Python built-in.\n",
    " * line 2: ExampleOne(nr: int, text: str) -> None - This is the code we need to execute to create the object, this will call the static method `__new__`. The astute observer will have noticed we do not define that method, we inherit it from builtins.object.\n",
    " * line 3: an example class we can inspect - The message the author wants to give the user of the class, it makes the intent of the class clear. You should read the Google style guide for how to properly comment on your code.\n",
    " * line 4: Methods defined here: - names the methods we have defined for our class object\n",
    " * line 5: `__init__(self, nr: int, text: str) -> None` - initialize self, the object\n",
    " * line 6:  Data descriptors defined here: - similar to line 4 but instead of naming the methods defined in our class objects, it names the data descriptors we have defined here. For now, it is only important to remember that the instance variables are kept in a dictionary, one that can be called on with the name `__dict__`. I will show you how to do that in a moment and will discuss data descriptors in depth later in this notebook.\n",
    " * line 7: We are going to skip weak references here. I will quickly explain them at the end of this notebook.\n",
    " * line 8: Data and other attributes defined here: - functions similar to line four and six, but now it refers to the other data, such as the class variable we have named, including the value, see line 10. And a dict giving the annotations we have used for our class variable, see line 9.\n",
    "\n",
    "All this information we have received from help. There is more to help but we will see that later. For now you should understand that you can use this information in your programming. We can access the instance variables of any object by calling its dict.\n"
   ]
  },
  {
   "cell_type": "code",
   "execution_count": null,
   "id": "04228e3c-eb54-4c1c-a09c-d5b6c0df7f5e",
   "metadata": {},
   "outputs": [],
   "source": [
    "one.__dict__"
   ]
  },
  {
   "cell_type": "markdown",
   "id": "dc741fb2-54fc-4643-85f1-21effc247542",
   "metadata": {},
   "source": [
    "We can change the value of attributes by accessing the dictionary directly. \n",
    "\n",
    "This might seem like something you should not do, but if you become experienced in Python this is probably something you want to do. I will some uses of this later, when we move into descriptors."
   ]
  },
  {
   "cell_type": "code",
   "execution_count": null,
   "id": "6f1924ad-ea85-471b-8d51-e3c34d2b4ad2",
   "metadata": {},
   "outputs": [],
   "source": [
    "one.__dict__['text'] = 'This is a very different example'"
   ]
  },
  {
   "cell_type": "code",
   "execution_count": null,
   "id": "180d97a7-30ba-449a-a117-cb741c5dedc3",
   "metadata": {},
   "outputs": [],
   "source": [
    "one.text"
   ]
  },
  {
   "cell_type": "code",
   "execution_count": null,
   "id": "38a25c9b-f9ee-4881-bca0-c1df0c91d2d0",
   "metadata": {},
   "outputs": [],
   "source": [
    "one.__annotations__"
   ]
  },
  {
   "cell_type": "code",
   "execution_count": null,
   "id": "ac372ed2-4cfd-4b91-99c3-8f9a07137aa4",
   "metadata": {},
   "outputs": [],
   "source": [
    "one.classvar"
   ]
  },
  {
   "cell_type": "code",
   "execution_count": null,
   "id": "8c0c8882-7ec3-4133-9777-b595c76a2dc4",
   "metadata": {},
   "outputs": [],
   "source": [
    "class ExampleTwo:\n",
    "    '''This is an example class with given instantiation values'''\n",
    "    \n",
    "    def __init__(self)->None:\n",
    "        self.number = 5\n",
    "        self.txt = 'Second a silver lining'\n",
    "        \n",
    "    def __repr__(self)->str:\n",
    "        return f'{self.__class__.__name__} has two data attributes: {self.number} & {self.txt}'\n",
    "    \n",
    "    def __str__(self)->str:\n",
    "        return f'This is a very different object'\n",
    "    \n",
    "    def text(self):\n",
    "        return self.txt"
   ]
  },
  {
   "cell_type": "code",
   "execution_count": null,
   "id": "5230a46a-6023-4899-a7b8-4835717c7920",
   "metadata": {},
   "outputs": [],
   "source": [
    "snd = ExampleTwo()"
   ]
  },
  {
   "cell_type": "markdown",
   "id": "6c57b4c0-b2c3-467a-bd7c-39ea64f28637",
   "metadata": {},
   "source": [
    "#### **instance object** \n",
    "`snd`is the second flavour of objects Python has, it is the object instance. The instance object can really only do one thing, it can do attribute references.\n",
    "\n",
    "There are two types of attribute references, method references and data references.\n",
    "\n",
    "Let me begin by calling help to see what is all in there, and what is not."
   ]
  },
  {
   "cell_type": "code",
   "execution_count": null,
   "id": "e2f17a9f-e72e-4738-80cd-76413bd11297",
   "metadata": {},
   "outputs": [],
   "source": [
    "help(type(snd))"
   ]
  },
  {
   "cell_type": "markdown",
   "id": "aa9a8ef8-63c4-4511-aad5-d90adbbfa3bd",
   "metadata": {},
   "source": [
    "As you can see there are four methods defined in the class object.\n",
    "\n",
    "There are data descriptors, they will be given a standard start value at initialization.\n",
    "\n",
    "There are no other data, no annotations nothing.\n",
    "\n",
    "`snd` can only do attribute reference, meaning I can call the instance attributes"
   ]
  },
  {
   "cell_type": "code",
   "execution_count": null,
   "id": "28d8c4d2-9ece-4e3e-9004-96a78a0d6ed5",
   "metadata": {},
   "outputs": [],
   "source": [
    "snd.number"
   ]
  },
  {
   "cell_type": "code",
   "execution_count": null,
   "id": "1243e3bd-ed38-4cb5-b5c4-d3514b731e3a",
   "metadata": {},
   "outputs": [],
   "source": [
    "snd.txt"
   ]
  },
  {
   "cell_type": "markdown",
   "id": "d73bef5d-ce21-4a23-bcbf-26a2f91dfb28",
   "metadata": {},
   "source": [
    "and I can call the methods"
   ]
  },
  {
   "cell_type": "code",
   "execution_count": null,
   "id": "52f68a51-d61f-4afd-af2b-a2b9a5270ce7",
   "metadata": {},
   "outputs": [],
   "source": [
    "print(snd)"
   ]
  },
  {
   "cell_type": "code",
   "execution_count": null,
   "id": "e911c428-8301-4340-8bd3-f929f064d0a5",
   "metadata": {},
   "outputs": [],
   "source": [
    "snd"
   ]
  },
  {
   "cell_type": "code",
   "execution_count": null,
   "id": "b169a840-509f-46ea-a84c-a8ab30594e26",
   "metadata": {},
   "outputs": [],
   "source": [
    "snd.text()"
   ]
  },
  {
   "cell_type": "markdown",
   "id": "81900b8d-a765-414d-8772-5ee7fba43447",
   "metadata": {},
   "source": [
    "If we inspect the code of `__repr__` a bit closer we see that I call `self.__class__.__name__` in the format string. \n",
    "\n",
    "Consider that line of code, apperently there are more attributes"
   ]
  },
  {
   "cell_type": "code",
   "execution_count": null,
   "id": "851af19a-41cd-4b5c-9e66-65e29a311372",
   "metadata": {},
   "outputs": [],
   "source": [
    "snd.__class__"
   ]
  },
  {
   "cell_type": "code",
   "execution_count": null,
   "id": "27b01551-f173-4777-b758-746bea4cdcbf",
   "metadata": {},
   "outputs": [],
   "source": [
    "snd.__class__.__name__"
   ]
  },
  {
   "cell_type": "markdown",
   "id": "fde87b23-1bf7-4cc8-9d52-69ed07f5c39a",
   "metadata": {},
   "source": [
    "Of course this is circular it is akin to:"
   ]
  },
  {
   "cell_type": "code",
   "execution_count": null,
   "id": "23fcf035-da93-47d4-9d47-4d63c76b2c17",
   "metadata": {},
   "outputs": [],
   "source": [
    "type(snd)"
   ]
  },
  {
   "cell_type": "code",
   "execution_count": null,
   "id": "d3c2227f-51ef-46c3-80a9-ff0950ed1919",
   "metadata": {},
   "outputs": [],
   "source": [
    "type(snd).__name__"
   ]
  },
  {
   "cell_type": "markdown",
   "id": "903b7282-116f-4bdb-89b4-9803319e134f",
   "metadata": {},
   "source": [
    "The function `type` basically calls the attribute `__class__` on its argument. \n",
    "\n",
    "All built-in functions in Python have this relationship with a special method e.g., `print` with `__str__` and `repr` with `__repr__`. "
   ]
  },
  {
   "cell_type": "markdown",
   "id": "9a40b2d0-6628-4d77-82c1-d61cc1dc846b",
   "metadata": {},
   "source": [
    "To understand where this comes from we would have to look back at `object`.\n",
    "\n",
    "`object` comes with a host of method attributes. These are called special methods and have a prefix and suffix of a double underscore, known in Python talk as a dunder. We have already seen two special methods: `__new__` and `__init__` but it has quite a few more, too many for me to list. You should look at the Python data model to see all of them and how to use them for effective Python programming. https://docs.python.org/3/reference/datamodel.html#special-method-names \n",
    "\n",
    "In this notebook I can only show you a few of them ones that allow you to do surprising things in Python. \n",
    "\n",
    "Though you inherit all these methods, after all everything is a subclass of `object`, however not all these methods are implemented. \n",
    "\n",
    "`object` also comes with special (data) attributes. For instance `__name__` is a special attribute, again all other classes inherit `__name__` from `object`.\n"
   ]
  },
  {
   "cell_type": "code",
   "execution_count": null,
   "id": "c4184204-fd17-4478-9040-9fea8e01df9d",
   "metadata": {},
   "outputs": [],
   "source": [
    "object.__name__"
   ]
  },
  {
   "cell_type": "code",
   "execution_count": null,
   "id": "e9ea4ee9-38cb-4304-a656-df8a8bb0a5e3",
   "metadata": {},
   "outputs": [],
   "source": [
    "object.__qualname__"
   ]
  },
  {
   "cell_type": "markdown",
   "id": "45429527-b81f-480c-bf95-c6591b1d4ff9",
   "metadata": {},
   "source": [
    "We have already seen a special data attribute in action."
   ]
  },
  {
   "cell_type": "code",
   "execution_count": null,
   "id": "b2768176-9dd0-4d22-bb74-5c86357df64a",
   "metadata": {},
   "outputs": [],
   "source": [
    "one.__dict__"
   ]
  },
  {
   "cell_type": "markdown",
   "id": "2292b7c0-d304-4e2a-898d-b2c07f433c02",
   "metadata": {},
   "source": [
    "We can see most (not all don't ask me why) methods defined for an object if we call on `dir(object)`"
   ]
  },
  {
   "cell_type": "code",
   "execution_count": null,
   "id": "fa1a91de-8dbc-4571-a6a0-1f07fd44e241",
   "metadata": {},
   "outputs": [],
   "source": [
    "dir(object)"
   ]
  },
  {
   "cell_type": "markdown",
   "id": "b398a2ef-9c3f-498d-972a-06ab87e673d2",
   "metadata": {},
   "source": [
    "Most of these I am not going to discuss here, for they have very specific roles in Python. \n",
    "\n",
    "The special methods that control the basic operations of an object are:\n",
    "\n",
    " * `__new__`\n",
    " * `__init__`\n",
    " * `__del__`\n",
    "\n",
    "These are responsible for creation and deletion of an object. I have discussed the first two, (there is more to know) but haven't really discussed `__del__` which is called when we want the instance object to be destroyed."
   ]
  },
  {
   "cell_type": "code",
   "execution_count": null,
   "id": "5f3f86fe-c1e1-4865-abed-be4d1a143a82",
   "metadata": {},
   "outputs": [],
   "source": [
    "id(snd)"
   ]
  },
  {
   "cell_type": "markdown",
   "id": "c08df489-0357-47fa-899c-d311b1917530",
   "metadata": {},
   "source": [
    "id is not the actual hexadecimal memory address instead it is a more readable integer. \n",
    "\n",
    "The CPython interpreter uses converts this integer to hexidecimal  memory address of the object on the heap\n",
    "\n",
    "A non-overridden version of `__repr__` will give you the hexadecimal"
   ]
  },
  {
   "cell_type": "code",
   "execution_count": null,
   "id": "715708c4-2c1b-4e64-b393-e3a52a25cdc3",
   "metadata": {},
   "outputs": [],
   "source": [
    "repr(one)"
   ]
  },
  {
   "cell_type": "code",
   "execution_count": null,
   "id": "d4d2a72f-b97c-406c-8110-e1fd1a609d1c",
   "metadata": {},
   "outputs": [],
   "source": [
    "del(snd)"
   ]
  },
  {
   "cell_type": "code",
   "execution_count": null,
   "id": "d77d2129-4c0d-4eaa-a52f-3394f0833cda",
   "metadata": {},
   "outputs": [],
   "source": [
    "id(snd)"
   ]
  },
  {
   "cell_type": "markdown",
   "id": "1af6bd8e-f070-49b3-ac3a-7df548e3a593",
   "metadata": {},
   "source": [
    "## **Member Access Control & Attribute Validation** \n",
    "\n",
    "I learned OO-programming in Java and as such I have a slightly different understanding of object than a Python trained programmer. For a Python trained programmer an object is what we described above, a tagged tuple, with attributes, that functions as blueprint, or a location in memory with a unique identifier that can reference attributes.\n",
    "\n",
    "For me as a trained Java programmer this definition is incomplete. I would say that a class is a tagged tuple with members, being attributes methods, and member access control. An object would be basically the same definition. Where Python has method and data attributes, Java seperates them in terminology and has attributes and methods. \n",
    "\n",
    "A Java class reads different from a Python class, the difference is twofold:\n",
    "\n",
    " 1. Java is a static typed language\n",
    " 2. Jave defines member access control.\n",
    "\n",
    "A Java class will look like the following code:"
   ]
  },
  {
   "cell_type": "code",
   "execution_count": null,
   "id": "0671119c-276a-4864-9e9a-449964800b9e",
   "metadata": {},
   "outputs": [],
   "source": [
    "class Bicycle {\n",
    "    # don't run this cell it is Java not Python\n",
    "  // attribute    \n",
    "  private int gear = 5;\n",
    "\n",
    "  // method   \n",
    "  public void braking() {    \n",
    "    System.out.println(\"Braking\");   \n",
    "   }\n",
    "} \n"
   ]
  },
  {
   "cell_type": "markdown",
   "id": "0d5616cc-ceaf-45d9-8f1d-17fd661ec6a8",
   "metadata": {
    "jp-MarkdownHeadingCollapsed": true,
    "tags": []
   },
   "source": [
    "As you can see a Java class is very similar to a Python, loose from some syntax, the clear difference is in typing and in member access control.\n",
    "\n",
    "Java enforces typing (by the compiler), this is the reason why it is general faster, less prone to bugs, but also more difficult to learn and verbose. \n",
    "\n",
    "Java also enforces member access control, with the keywords private, protected, *no modifier*, and public. This in order of strictness. Java data attributes are usually private, meaning you cannot access them outside the class itself. Public is the same member access as Python has, pretty much unlimited access. \n",
    "\n",
    "The fact that Java knows member access control & static typing makes it easy to validate attributes both on type and value. There are compelling reasons why you want to control the validity of especially data attributes. Attributes determine the state of an object. What if we want to avoid undesireable states, states where attributes cannot have certain values, for these values will lead to unwanted behaviour or bugs. On a higher level, we want to avoid dependecies on implementations. A user of an API for instance, should not depend on the implementation of the methods presented in the API.\n",
    "\n",
    "Of course Python has the \"private\" variable but those are not really private as you know. This lack of built-in member access makes it more difficult in Python to validate attributes. Therefore you will see quite often attributes \"validated\"with a error for type and an if/else for value. See the code below"
   ]
  },
  {
   "cell_type": "code",
   "execution_count": null,
   "id": "1ec1683d-76be-4a51-b075-b2bad19198c4",
   "metadata": {},
   "outputs": [],
   "source": [
    "class LineItem:\n",
    "    \n",
    "    def __init__(self,description:str, weight:float, price:float)->None:\n",
    "        self.description = description\n",
    "        self.weight = weight\n",
    "        self.price  = price\n",
    "    \n",
    "    def subtotal(self)->float:\n",
    "        return round(self.weight * self.price,2)    "
   ]
  },
  {
   "cell_type": "code",
   "execution_count": null,
   "id": "1e780e16-c378-4896-ae81-0406aa969759",
   "metadata": {},
   "outputs": [],
   "source": [
    "oranges = LineItem(description='oranges', weight=1.6, price=3.17)\n",
    "oranges.subtotal()"
   ]
  },
  {
   "cell_type": "markdown",
   "id": "a1f7a334-f109-47e3-8ea3-2fec00684079",
   "metadata": {},
   "source": [
    "This code works but has some obvious flaws:\n",
    " 1. Weight and price cannot be negative\n",
    " 2. We state that weight & price are of type float but we do not validate that\n",
    " \n",
    "How to overcome these flaws, with all you have read sofar, do you think the following code suffices?"
   ]
  },
  {
   "cell_type": "code",
   "execution_count": null,
   "id": "1e42baf8-7d0f-401c-89b6-05a60559f440",
   "metadata": {},
   "outputs": [],
   "source": [
    "from typing import Union\n",
    "\n",
    "numeric = Union[float, int]\n",
    "numeric_values = set([float, int])\n",
    "\n",
    "class LineItem:\n",
    "    '''This class contains Line Items for a super market cash register system'''\n",
    "    \n",
    "    arg_neg = 'we cannot have negative weights and/or prices, please adjust the argument accordingly'\n",
    "    arg_type = 'The wrong types are used, please check the types of your arguments.'\n",
    "    \n",
    "    def __init__(self,description:str, weight:numeric, price:numeric)->None:\n",
    "        if type(description) == str and type(weight) in numeric_values and type(price) in numeric_values:\n",
    "            if weight >= 0 and price >=0:\n",
    "                self._description = description\n",
    "                self._weight = weight\n",
    "                self._price  = price\n",
    "            else:\n",
    "                raise ValueError(self.arg_neg) \n",
    "        else:\n",
    "            raise TypeError(self.arg_type)\n",
    "            \n",
    "    def set_price(self,value:numeric)->None:\n",
    "        if type(value) in numeric_values:\n",
    "            if value >= 0:\n",
    "                self._price = value\n",
    "            else:\n",
    "                raise ValueError(self.arg_neg)\n",
    "        else:\n",
    "            raise TypeError(self.arg_type)\n",
    "            \n",
    "    def set_weight(self,value:numeric)->None:\n",
    "        if type(value) in numeric_values:\n",
    "            if value >= 0:\n",
    "                self._weight = value\n",
    "            else:\n",
    "                raise ValueError(self.arg_neg)\n",
    "        else:\n",
    "            raise TypeError(self.arg_type)\n",
    "                \n",
    "    def subtotal(self)->float:\n",
    "        return round(self._weight * self._price,2)    "
   ]
  },
  {
   "cell_type": "code",
   "execution_count": null,
   "id": "4cef1307-8a8d-4f20-ba8c-8f624729534e",
   "metadata": {},
   "outputs": [],
   "source": [
    "oranges = LineItem(description='oranges', weight=1.6, price=3.17)"
   ]
  },
  {
   "cell_type": "code",
   "execution_count": null,
   "id": "003e7c55-c540-44f1-8b9e-bc1d67d2c651",
   "metadata": {},
   "outputs": [],
   "source": [
    "bananas = LineItem(description='bananas', weight=1.6, price='an awful lot')"
   ]
  },
  {
   "cell_type": "code",
   "execution_count": null,
   "id": "cc80dd30-8158-4cc4-a48f-e92d51e19b98",
   "metadata": {},
   "outputs": [],
   "source": [
    "herons = LineItem(description='herons', weight=1.6, price=-1)"
   ]
  },
  {
   "cell_type": "markdown",
   "id": "2d467abd-9523-4aef-90be-caeed078bcd8",
   "metadata": {},
   "source": [
    "This code obviously validates both on price and type, however ponder the question for a second is this good enough? \n",
    "\n",
    "Consider for a second how Python creates objects, it is two step process that happens when we invoke:\n",
    "\n",
    "`herons = LineItem(description='herons', weight=1.6, price=-1)` \n",
    "\n",
    "`__new__` creates the object for us, `__init__` only initializes the data attributes if any exists (in case you wondered why `__init__` has a self, this is why )."
   ]
  },
  {
   "cell_type": "code",
   "execution_count": null,
   "id": "34860b80-4a77-4490-874d-fcce79bbfe4a",
   "metadata": {},
   "outputs": [],
   "source": [
    "id(herons)"
   ]
  },
  {
   "cell_type": "code",
   "execution_count": null,
   "id": "7c165741-891d-4cf9-8fc0-07272382b582",
   "metadata": {},
   "outputs": [],
   "source": [
    "herons._weight = 10_000"
   ]
  },
  {
   "cell_type": "code",
   "execution_count": null,
   "id": "c112c0ef-b784-4081-ae09-610b069de171",
   "metadata": {},
   "outputs": [],
   "source": [
    "herons._weight"
   ]
  },
  {
   "cell_type": "code",
   "execution_count": null,
   "id": "b7e41345-c068-4e0e-b763-7d5b2b417e4a",
   "metadata": {},
   "outputs": [],
   "source": [
    "type(herons)"
   ]
  },
  {
   "cell_type": "markdown",
   "id": "12bce80e-85d9-4496-a9e6-cd96ce8ff229",
   "metadata": {},
   "source": [
    "#### **Factory pattern**\n",
    "\n",
    "We need to adjust our code to keep the memory from cluttering with incomplete objects, and worse. \n",
    "\n",
    "That should be an easy fix, you have read how to do this already, simply use `__del__`, unfortunately it is not an easy fix. I cannot actively delete an object that Python created if I don't like the initalization. Python simple garabage collects them when there are no more references to that object. In the mean time we can simply add attributes to incomplete objects and the compiler fools us to think these incomplete objects are of the same type.\n",
    "\n",
    "I am not convinced by this approach, I think it leads at best sloppy code, at worst buggy, unsafe code. I would have to construct a manner around it if I want to prevent object being created by doing attribute validation first. Lets do that by implementing the good old factory pattern."
   ]
  },
  {
   "cell_type": "code",
   "execution_count": null,
   "id": "f65ca9ff-4b7d-4e91-8489-257e506ed680",
   "metadata": {},
   "outputs": [],
   "source": [
    "from typing import Union, Optional\n",
    "\n",
    "numeric = Union[float, int]\n",
    "numeric_values = set([float, int])\n",
    "\n",
    "arg_neg = 'we cannot have negative weights and/or prices, please adjust the argument accordingly'\n",
    "arg_type = 'The wrong types are used, please check the types of your arguments.'\n",
    "\n",
    "class LineItemFactory:\n",
    "    '''This is factory for making correct LineItem objects'''\n",
    "    \n",
    "    def create_line_item(self, name:str, description:str, price:numeric, weight:numeric)->Union[LineItem, None]:\n",
    "        if type(description) == str and type(weight) in numeric_values and type(price) in numeric_values:\n",
    "            if price >= 0 and weight >= 0:\n",
    "                name = LineItem(description, price, weight)\n",
    "                return name\n",
    "            else:\n",
    "                raise ValueError(arg_neg)\n",
    "        else:\n",
    "            raise TypeError(arg_type)                \n",
    "                \n",
    "class LineItem:\n",
    "    '''\n",
    "        This class is for LineItems in a super market cash register system.\n",
    "        The attribute validation for initialization is done by the factory class\n",
    "        DO NOT CREATE LineItems DIRECTLY, USE THE FACTORY!!!\n",
    "    '''\n",
    "    \n",
    "    def __init__(self,description:str, price:numeric, weight:numeric)->None:\n",
    "        self._description = description\n",
    "        self._weight = weight\n",
    "        self._price = price\n",
    "            \n",
    "    def set_price(self,value:numeric)->None:\n",
    "        if type(value) in numeric_values:\n",
    "            if value >= 0:\n",
    "                self._price = value\n",
    "            else:\n",
    "                print(arg_neg)\n",
    "        else:\n",
    "            print(arg_type)\n",
    "            \n",
    "    def set_weight(self,value:numeric)->None:\n",
    "        if type(value) in numeric_values:\n",
    "            if value >= 0:\n",
    "                self._weight = value\n",
    "            else:\n",
    "                print(arg_neg)\n",
    "        else:\n",
    "            print(arg_type)\n",
    "                \n",
    "    def subtotal(self)->float:\n",
    "        return round(self._weight * self._price,2)    \n",
    "    \n",
    "    def __repr__(self)->str:\n",
    "        return f'{self.__class__.__name__}[description:{self._description} price:{self._price} weight:{self._weight}]'\n",
    "        \n",
    "        "
   ]
  },
  {
   "cell_type": "code",
   "execution_count": null,
   "id": "58e9e5ba-7097-4b94-a429-c73308ae8564",
   "metadata": {},
   "outputs": [],
   "source": [
    "oranges = LineItemFactory().create_line_item(name='oranges', description='oranges', price=1.78, weight=2)"
   ]
  },
  {
   "cell_type": "code",
   "execution_count": null,
   "id": "f48deb69-c90b-49a1-84ca-cfd4ce49d550",
   "metadata": {},
   "outputs": [],
   "source": [
    "oranges"
   ]
  },
  {
   "cell_type": "code",
   "execution_count": null,
   "id": "5119d595-0f20-4257-8d48-607c12c86f66",
   "metadata": {},
   "outputs": [],
   "source": [
    "heronies = LineItemFactory().create_line_item(name='heronies', description='lovely juicy herons', price=-1.78, weight=2)"
   ]
  },
  {
   "cell_type": "code",
   "execution_count": null,
   "id": "d58ccb47-9b15-4222-841b-ac429998d3d4",
   "metadata": {},
   "outputs": [],
   "source": [
    "id(heronies)"
   ]
  },
  {
   "cell_type": "code",
   "execution_count": null,
   "id": "3d6778d5-e7ec-4c94-97ef-cd85aec6f1b6",
   "metadata": {},
   "outputs": [],
   "source": [
    "type(heronies)"
   ]
  },
  {
   "cell_type": "code",
   "execution_count": null,
   "id": "d010c40f-1871-4908-b639-51f9902dac64",
   "metadata": {},
   "outputs": [],
   "source": [
    "heronies._weight = 10"
   ]
  },
  {
   "cell_type": "markdown",
   "id": "f31b44cd-9c1a-49f1-b078-ed03b6466b8f",
   "metadata": {},
   "source": [
    "#### **Properties**\n",
    "\n",
    "This pretty much the very best I can do to prevent Python from making objects that are incorrect.\n",
    "\n",
    "Luckily Python has options for attribute validation that are better than the ones I present here. One of the possibilities Python offers us is to use properties. \n",
    "\n",
    "The built-in function `property(fget=None, fset=None, fdel=None, doc=None)` returns a property attribute. A property attribute is a class method that manages instance attributes, by giving it a getter, setter and deleter. In other words it is code that manages code, a form of meta programming. As I already wrote languages like Java and C++ you in general do not expose attributes to others, you keep them private and access them via an accessor or a mutator (your getter and setters) this allows you to validate attributes.\n",
    "\n",
    "In Python attributes are directly accessable via Classinstance.attribute. This has potentionally severe consequences, all my previous validation work is useless. "
   ]
  },
  {
   "cell_type": "code",
   "execution_count": null,
   "id": "eea07a2f-a79d-4dd8-b99a-18c976c2aac5",
   "metadata": {},
   "outputs": [],
   "source": [
    "apples = LineItemFactory().create_line_item(name='apples', description='healthy apples', price=2.78, weight=1)\n",
    "apples"
   ]
  },
  {
   "cell_type": "markdown",
   "id": "15547b79-4152-4bac-8df8-5553604327e0",
   "metadata": {},
   "source": [
    "I have just showed you a manner with which to guarantee that there are no faulty objects in memory.\n",
    "\n",
    "This is important because we can abuse incorrect objects, but unfortunately we can also abuse correct objects."
   ]
  },
  {
   "cell_type": "code",
   "execution_count": null,
   "id": "f6706003-b233-4ce5-81c4-ddd350aa829e",
   "metadata": {},
   "outputs": [],
   "source": [
    "apples._price = -2.78"
   ]
  },
  {
   "cell_type": "code",
   "execution_count": null,
   "id": "243b38c0-bf1b-4d37-a0e6-56df81b39ce7",
   "metadata": {},
   "outputs": [],
   "source": [
    "apples.subtotal()"
   ]
  },
  {
   "cell_type": "markdown",
   "id": "69150341-29de-4696-a705-f98fb7608aeb",
   "metadata": {},
   "source": [
    "Great I receive money when I buy a kilo of apples, this will help combat inflation!\n",
    "\n",
    "Obviously we do not want this to happen.\n",
    "\n",
    "create_line_item(name='heronies', description='lovely juicy herons', price=-1.78, weight=2)\n",
    "\n",
    "This where properties come in, the built-in `property()` function allows you to control accessing, mutating and deletion of attributes. Preventing from altering attributes directly."
   ]
  },
  {
   "cell_type": "code",
   "execution_count": 1,
   "id": "bda6bd8a-bec0-4c26-b1b6-31cc4223458b",
   "metadata": {},
   "outputs": [],
   "source": [
    "from typing import Union, Optional\n",
    "\n",
    "numeric = Union[float, int]\n",
    "numeric_values = set([float, int])\n",
    "\n",
    "arg_neg = 'we cannot have negative weights and/or prices, please adjust the argument accordingly'\n",
    "arg_type = 'The wrong types are used, please check the types of your arguments.'\n",
    "                \n",
    "class LineItem:\n",
    "    '''\n",
    "        This class is for LineItems in a super market cash register system.\n",
    "        The attribute validation for initialization is done by the factory class\n",
    "        DO NOT CREATE LineItems DIRECTLY, USE THE FACTORY!!!\n",
    "    '''\n",
    "        \n",
    "    def __init__(self,description:str, price:numeric, weight:numeric)->None:\n",
    "        self._description = description\n",
    "        self.weight = weight\n",
    "        self.price = price\n",
    "    \n",
    "    @property\n",
    "    def weight(self)->float:\n",
    "        return self.__weight\n",
    "        \n",
    "    @weight.setter\n",
    "    def weight(self, value:numeric)->None:\n",
    "        if type(value) in numeric_values:\n",
    "            if value >= 0:\n",
    "                self.__weight = value\n",
    "            else:\n",
    "                raise ValueError(arg_neg)\n",
    "        else:\n",
    "            raise TypeError(arg_type)\n",
    "            \n",
    "    @property\n",
    "    def price(self)->None:\n",
    "        return self.__price\n",
    "    \n",
    "    @price.setter\n",
    "    def price(self,value:numeric)->None:\n",
    "        if type(value) in numeric_values:\n",
    "            if value >= 0:\n",
    "                self.__price = value\n",
    "            else:\n",
    "                raise ValueError(arg_neg)\n",
    "        else:\n",
    "            raise TypeError(arg_type)\n",
    "        \n",
    "                \n",
    "    def subtotal(self)->float:\n",
    "        return round(self.weight * self.price,2)    \n",
    "    \n",
    "    def __repr__(self)->str:\n",
    "        return f'{self.__class__.__name__}[description:{self._description} price:{self.price} weight:{self.weight}]'\n",
    "    \n",
    "    \n",
    "class LineItemFactory:\n",
    "    '''This is factory for making correct LineItem objects'''\n",
    "    \n",
    "    def create_line_item(self, name:str, description:str, price:numeric, weight:numeric)->Union[LineItem, None]:\n",
    "        if type(description) == str and type(weight) in numeric_values and type(price) in numeric_values:\n",
    "            if price >= 0 and weight >= 0:\n",
    "                name = LineItem(description, price, weight)\n",
    "                return name\n",
    "            else:\n",
    "                raise ValueError(arg_neg)\n",
    "        else:\n",
    "            raise TypeError(arg_type)\n",
    "                "
   ]
  },
  {
   "cell_type": "code",
   "execution_count": 2,
   "id": "7e81247a-578a-4ae4-8086-1a6fa0c4b52d",
   "metadata": {},
   "outputs": [
    {
     "data": {
      "text/plain": [
       "LineItem[description:healthy apples price:2.78 weight:1]"
      ]
     },
     "execution_count": 2,
     "metadata": {},
     "output_type": "execute_result"
    }
   ],
   "source": [
    "apples = LineItemFactory().create_line_item(name='apples', description='healthy apples', price=2.78, weight=1)\n",
    "apples"
   ]
  },
  {
   "cell_type": "code",
   "execution_count": 3,
   "id": "192453b6-21e9-4574-b763-bfef8fdf6fa4",
   "metadata": {},
   "outputs": [
    {
     "ename": "ValueError",
     "evalue": "we cannot have negative weights and/or prices, please adjust the argument accordingly",
     "output_type": "error",
     "traceback": [
      "\u001b[1;31m---------------------------------------------------------------------------\u001b[0m",
      "\u001b[1;31mValueError\u001b[0m                                Traceback (most recent call last)",
      "Cell \u001b[1;32mIn[3], line 1\u001b[0m\n\u001b[1;32m----> 1\u001b[0m \u001b[43mapples\u001b[49m\u001b[38;5;241;43m.\u001b[39;49m\u001b[43mprice\u001b[49m\u001b[38;5;241m=\u001b[39m \u001b[38;5;241m-\u001b[39m\u001b[38;5;241m2.78\u001b[39m\n",
      "Cell \u001b[1;32mIn[1], line 45\u001b[0m, in \u001b[0;36mLineItem.price\u001b[1;34m(self, value)\u001b[0m\n\u001b[0;32m     43\u001b[0m         \u001b[38;5;28mself\u001b[39m\u001b[38;5;241m.\u001b[39m__price \u001b[38;5;241m=\u001b[39m value\n\u001b[0;32m     44\u001b[0m     \u001b[38;5;28;01melse\u001b[39;00m:\n\u001b[1;32m---> 45\u001b[0m         \u001b[38;5;28;01mraise\u001b[39;00m \u001b[38;5;167;01mValueError\u001b[39;00m(arg_neg)\n\u001b[0;32m     46\u001b[0m \u001b[38;5;28;01melse\u001b[39;00m:\n\u001b[0;32m     47\u001b[0m     \u001b[38;5;28;01mraise\u001b[39;00m \u001b[38;5;167;01mTypeError\u001b[39;00m(arg_type)\n",
      "\u001b[1;31mValueError\u001b[0m: we cannot have negative weights and/or prices, please adjust the argument accordingly"
     ]
    }
   ],
   "source": [
    "apples.price= -2.78"
   ]
  },
  {
   "cell_type": "markdown",
   "id": "7799dfe2-1264-454e-a119-8c67921a6f9a",
   "metadata": {},
   "source": [
    "You do not have to use a decorator, I could have used the function `property()` itself, \n",
    "but I find this clearer less in need of comment. I will refactor eventually and not use the decorator.\n",
    "\n",
    "`@property` even controls the instantiation of the object of our object. "
   ]
  },
  {
   "cell_type": "code",
   "execution_count": 4,
   "id": "6734641a-77fd-4b64-91b3-4c324f741782",
   "metadata": {},
   "outputs": [
    {
     "ename": "TypeError",
     "evalue": "The wrong types are used, please check the types of your arguments.",
     "output_type": "error",
     "traceback": [
      "\u001b[1;31m---------------------------------------------------------------------------\u001b[0m",
      "\u001b[1;31mTypeError\u001b[0m                                 Traceback (most recent call last)",
      "Cell \u001b[1;32mIn[4], line 1\u001b[0m\n\u001b[1;32m----> 1\u001b[0m beer \u001b[38;5;241m=\u001b[39m \u001b[43mLineItem\u001b[49m\u001b[43m(\u001b[49m\u001b[43mdescription\u001b[49m\u001b[38;5;241;43m=\u001b[39;49m\u001b[38;5;124;43m'\u001b[39;49m\u001b[38;5;124;43mbeer\u001b[39;49m\u001b[38;5;124;43m'\u001b[39;49m\u001b[43m,\u001b[49m\u001b[43m \u001b[49m\u001b[43mprice\u001b[49m\u001b[38;5;241;43m=\u001b[39;49m\u001b[38;5;241;43m1.11\u001b[39;49m\u001b[43m,\u001b[49m\u001b[43m \u001b[49m\u001b[43mweight\u001b[49m\u001b[38;5;241;43m=\u001b[39;49m\u001b[38;5;124;43m'\u001b[39;49m\u001b[38;5;124;43mbottle\u001b[39;49m\u001b[38;5;124;43m'\u001b[39;49m\u001b[43m)\u001b[49m\n\u001b[0;32m      2\u001b[0m beer\n",
      "Cell \u001b[1;32mIn[1], line 18\u001b[0m, in \u001b[0;36mLineItem.__init__\u001b[1;34m(self, description, price, weight)\u001b[0m\n\u001b[0;32m     16\u001b[0m \u001b[38;5;28;01mdef\u001b[39;00m \u001b[38;5;21m__init__\u001b[39m(\u001b[38;5;28mself\u001b[39m,description:\u001b[38;5;28mstr\u001b[39m, price:numeric, weight:numeric)\u001b[38;5;241m-\u001b[39m\u001b[38;5;241m>\u001b[39m\u001b[38;5;28;01mNone\u001b[39;00m:\n\u001b[0;32m     17\u001b[0m     \u001b[38;5;28mself\u001b[39m\u001b[38;5;241m.\u001b[39m_description \u001b[38;5;241m=\u001b[39m description\n\u001b[1;32m---> 18\u001b[0m     \u001b[38;5;28;43mself\u001b[39;49m\u001b[38;5;241;43m.\u001b[39;49m\u001b[43mweight\u001b[49m \u001b[38;5;241m=\u001b[39m weight\n\u001b[0;32m     19\u001b[0m     \u001b[38;5;28mself\u001b[39m\u001b[38;5;241m.\u001b[39mprice \u001b[38;5;241m=\u001b[39m price\n",
      "Cell \u001b[1;32mIn[1], line 33\u001b[0m, in \u001b[0;36mLineItem.weight\u001b[1;34m(self, value)\u001b[0m\n\u001b[0;32m     31\u001b[0m         \u001b[38;5;28;01mraise\u001b[39;00m \u001b[38;5;167;01mValueError\u001b[39;00m(arg_neg)\n\u001b[0;32m     32\u001b[0m \u001b[38;5;28;01melse\u001b[39;00m:\n\u001b[1;32m---> 33\u001b[0m     \u001b[38;5;28;01mraise\u001b[39;00m \u001b[38;5;167;01mTypeError\u001b[39;00m(arg_type)\n",
      "\u001b[1;31mTypeError\u001b[0m: The wrong types are used, please check the types of your arguments."
     ]
    }
   ],
   "source": [
    "beer = LineItem(description='beer', price=1.11, weight='bottle')\n",
    "beer"
   ]
  },
  {
   "cell_type": "markdown",
   "id": "47a4b55c-327f-4633-a01a-31b8591b2ad0",
   "metadata": {},
   "source": [
    "Finally at last we can get rid of our factory as property prevents the object from being created"
   ]
  },
  {
   "cell_type": "code",
   "execution_count": 6,
   "id": "20086c5a-d67a-4e7b-b425-378b97c049ce",
   "metadata": {},
   "outputs": [
    {
     "ename": "NameError",
     "evalue": "name 'beer' is not defined",
     "output_type": "error",
     "traceback": [
      "\u001b[1;31m---------------------------------------------------------------------------\u001b[0m",
      "\u001b[1;31mNameError\u001b[0m                                 Traceback (most recent call last)",
      "Cell \u001b[1;32mIn[6], line 1\u001b[0m\n\u001b[1;32m----> 1\u001b[0m \u001b[38;5;28mid\u001b[39m(\u001b[43mbeer\u001b[49m)\n",
      "\u001b[1;31mNameError\u001b[0m: name 'beer' is not defined"
     ]
    }
   ],
   "source": [
    "id(beer)"
   ]
  },
  {
   "cell_type": "markdown",
   "id": "04f4a3cf-aaf3-434f-9fa4-6360faefd61a",
   "metadata": {},
   "source": [
    "All in all the use of factory in combination with property is good way to prevent accidents.\n",
    "\n",
    "It is even sufficient to stop people who understand Python from doing malicious things."
   ]
  },
  {
   "cell_type": "code",
   "execution_count": 7,
   "id": "fa3ea295-6fd2-4cb7-9d92-011909950ec6",
   "metadata": {},
   "outputs": [
    {
     "data": {
      "text/plain": [
       "LineItem[description:apples price:2.78 weight:1]"
      ]
     },
     "execution_count": 7,
     "metadata": {},
     "output_type": "execute_result"
    }
   ],
   "source": [
    "apples = LineItem(description='apples', price=2.78, weight=1)\n",
    "apples"
   ]
  },
  {
   "cell_type": "code",
   "execution_count": 8,
   "id": "1a1ead79-f5bd-4e01-8ae6-687cb595a50d",
   "metadata": {},
   "outputs": [
    {
     "data": {
      "text/plain": [
       "{'_description': 'apples', '_LineItem__weight': 1, '_LineItem__price': 2.78}"
      ]
     },
     "execution_count": 8,
     "metadata": {},
     "output_type": "execute_result"
    }
   ],
   "source": [
    "apples.__dict__"
   ]
  },
  {
   "cell_type": "code",
   "execution_count": 9,
   "id": "58c29f3c-60ec-4c60-88ea-5bf9d454f75a",
   "metadata": {},
   "outputs": [
    {
     "ename": "TypeError",
     "evalue": "'LineItem' object does not support item assignment",
     "output_type": "error",
     "traceback": [
      "\u001b[1;31m---------------------------------------------------------------------------\u001b[0m",
      "\u001b[1;31mTypeError\u001b[0m                                 Traceback (most recent call last)",
      "Cell \u001b[1;32mIn[9], line 1\u001b[0m\n\u001b[1;32m----> 1\u001b[0m \u001b[43mapples\u001b[49m\u001b[43m[\u001b[49m\u001b[38;5;124;43m'\u001b[39;49m\u001b[38;5;124;43m_LineItem__price\u001b[39;49m\u001b[38;5;124;43m'\u001b[39;49m\u001b[43m]\u001b[49m\u001b[38;5;241m=\u001b[39m\u001b[38;5;241m-\u001b[39m\u001b[38;5;241m2.78\u001b[39m\n",
      "\u001b[1;31mTypeError\u001b[0m: 'LineItem' object does not support item assignment"
     ]
    }
   ],
   "source": [
    "apples['_LineItem__price']=-2.78"
   ]
  },
  {
   "cell_type": "markdown",
   "id": "d9ad4766-ac54-4af2-9f83-536c6506085b",
   "metadata": {},
   "source": [
    "The only comment you good have is that code is not very DRY. Let me refactor the code a bit."
   ]
  },
  {
   "cell_type": "code",
   "execution_count": 15,
   "id": "f1cb9e40-2ed8-44df-8862-7946df70541b",
   "metadata": {},
   "outputs": [],
   "source": [
    "from typing import Union, Optional, Any\n",
    "\n",
    "numeric = Union[float, int]\n",
    "numeric_values = set([float, int])\n",
    "                \n",
    "class LineItem:\n",
    "    '''\n",
    "        This class is for LineItems in a super market cash register system.\n",
    "        The attribute validation for initialization is done by the factory class\n",
    "        DO NOT CREATE LineItems DIRECTLY, USE THE FACTORY!!!\n",
    "    '''\n",
    "    \n",
    "    arg_neg = 'we cannot have negative weights and/or prices, please adjust the argument accordingly'\n",
    "    arg_type = 'The wrong types are used, please check the types of your arguments.'\n",
    "\n",
    "        \n",
    "    def __init__(self,description:str, price:numeric, weight:numeric)->None:\n",
    "        self._description = description\n",
    "        self.weight = weight\n",
    "        self.price = price\n",
    "     \n",
    "    def attribute_manager(attr_name:str)->property: \n",
    "        \n",
    "        def getter(instance)->Any:\n",
    "            return instance.__dict__[attr_name]\n",
    "        \n",
    "        def setter(instance, value)->None:\n",
    "            if type(value) in numeric_values:\n",
    "                if value >= 0:\n",
    "                    instance.__dict__[attr_name] = value\n",
    "                else:\n",
    "                    raise ValueError(instance.arg_neg)\n",
    "            else:\n",
    "                raise TypeError(instance.arg_type)\n",
    "        \n",
    "        return property(getter, setter)\n",
    "    \n",
    "    weight = attribute_manager('weight')\n",
    "    price = attribute_manager('price')\n",
    "    \n",
    "                \n",
    "    def subtotal(self)->float:\n",
    "        return round(self.weight * self.price,2)    \n",
    "    \n",
    "    def __repr__(self)->str:\n",
    "        return f'{self.__class__.__name__}[description:{self._description} price:{self.price} weight:{self.weight}]'\n",
    "        "
   ]
  },
  {
   "cell_type": "markdown",
   "id": "d47f04b5-f9e8-489a-afd4-fed1a98b6c57",
   "metadata": {},
   "source": [
    "Now this code is mean and lean, before we try it let me give some comment, for it is not that easy to understand.\n",
    "\n",
    "We will start with property, I have used property as a decorator in the previous examples, here I do not, I use it as a function, even worse I use it as a return type of the method attribute_manager. `property()` is a built-in function of Python, functions in Python are \"first class citizens\" meaning they can be argument and return type to other function/methods. \n",
    "\n",
    "class property(fget=None, fset=None, fdel=None, doc=None) takes 4 arguments, defaults can be None, and it returns a property attribute.\n",
    "\n",
    "As you can see as return the method attribute_manager returns a property object with as attributes two functions, getter and setter. Both functions are inner functions of attribute_manager and know no self. Here this solved by givinging both functions instance, an object is an instance of a class. When for instance weight is called it is called instance.weight e.g., steak.weight.    \n",
    "\n",
    "Finally we go deep into Python itself, and use the attr_name to go straight in to the dictionary and retrieve or assign the value of the attribute."
   ]
  },
  {
   "cell_type": "code",
   "execution_count": 16,
   "id": "b4ed283a-9382-4186-81d5-ebe430718f36",
   "metadata": {},
   "outputs": [
    {
     "data": {
      "text/plain": [
       "LineItem[description:juicy steak price:20.78 weight:0.5]"
      ]
     },
     "execution_count": 16,
     "metadata": {},
     "output_type": "execute_result"
    }
   ],
   "source": [
    "steak = LineItemFactory().create_line_item(name='steak', description='juicy steak', price=20.78, weight=0.5)\n",
    "steak"
   ]
  },
  {
   "cell_type": "code",
   "execution_count": 17,
   "id": "cfd04a47-e00b-4a7c-bac1-083d587527cf",
   "metadata": {},
   "outputs": [],
   "source": [
    "steak.price = 33.05"
   ]
  },
  {
   "cell_type": "code",
   "execution_count": 18,
   "id": "151eec83-ec1f-4027-9234-9749c89ffa77",
   "metadata": {},
   "outputs": [
    {
     "data": {
      "text/plain": [
       "LineItem[description:juicy steak price:33.05 weight:0.5]"
      ]
     },
     "execution_count": 18,
     "metadata": {},
     "output_type": "execute_result"
    }
   ],
   "source": [
    "steak"
   ]
  },
  {
   "cell_type": "code",
   "execution_count": 19,
   "id": "72e7cfa6-ce93-447c-9604-ab939614b993",
   "metadata": {},
   "outputs": [
    {
     "ename": "TypeError",
     "evalue": "The wrong types are used, please check the types of your arguments.",
     "output_type": "error",
     "traceback": [
      "\u001b[1;31m---------------------------------------------------------------------------\u001b[0m",
      "\u001b[1;31mTypeError\u001b[0m                                 Traceback (most recent call last)",
      "Cell \u001b[1;32mIn[19], line 1\u001b[0m\n\u001b[1;32m----> 1\u001b[0m \u001b[43msteak\u001b[49m\u001b[38;5;241;43m.\u001b[39;49m\u001b[43mweight\u001b[49m \u001b[38;5;241m=\u001b[39m \u001b[38;5;124m'\u001b[39m\u001b[38;5;124mCroc wants an awful lot\u001b[39m\u001b[38;5;124m'\u001b[39m \n",
      "Cell \u001b[1;32mIn[15], line 34\u001b[0m, in \u001b[0;36mLineItem.attribute_manager.<locals>.setter\u001b[1;34m(instance, value)\u001b[0m\n\u001b[0;32m     32\u001b[0m         \u001b[38;5;28;01mraise\u001b[39;00m \u001b[38;5;167;01mValueError\u001b[39;00m(instance\u001b[38;5;241m.\u001b[39marg_neg)\n\u001b[0;32m     33\u001b[0m \u001b[38;5;28;01melse\u001b[39;00m:\n\u001b[1;32m---> 34\u001b[0m     \u001b[38;5;28;01mraise\u001b[39;00m \u001b[38;5;167;01mTypeError\u001b[39;00m(instance\u001b[38;5;241m.\u001b[39marg_type)\n",
      "\u001b[1;31mTypeError\u001b[0m: The wrong types are used, please check the types of your arguments."
     ]
    }
   ],
   "source": [
    "steak.weight = 'Croc wants an awful lot' "
   ]
  },
  {
   "cell_type": "code",
   "execution_count": 20,
   "id": "502851e4-8ddb-42fb-b4b8-64feb39d2895",
   "metadata": {},
   "outputs": [
    {
     "ename": "ValueError",
     "evalue": "we cannot have negative weights and/or prices, please adjust the argument accordingly",
     "output_type": "error",
     "traceback": [
      "\u001b[1;31m---------------------------------------------------------------------------\u001b[0m",
      "\u001b[1;31mValueError\u001b[0m                                Traceback (most recent call last)",
      "Cell \u001b[1;32mIn[20], line 1\u001b[0m\n\u001b[1;32m----> 1\u001b[0m \u001b[43msteak\u001b[49m\u001b[38;5;241;43m.\u001b[39;49m\u001b[43mprice\u001b[49m \u001b[38;5;241m=\u001b[39m \u001b[38;5;241m-\u001b[39m\u001b[38;5;241m10\u001b[39m\n",
      "Cell \u001b[1;32mIn[15], line 32\u001b[0m, in \u001b[0;36mLineItem.attribute_manager.<locals>.setter\u001b[1;34m(instance, value)\u001b[0m\n\u001b[0;32m     30\u001b[0m         instance\u001b[38;5;241m.\u001b[39m\u001b[38;5;18m__dict__\u001b[39m[attr_name] \u001b[38;5;241m=\u001b[39m value\n\u001b[0;32m     31\u001b[0m     \u001b[38;5;28;01melse\u001b[39;00m:\n\u001b[1;32m---> 32\u001b[0m         \u001b[38;5;28;01mraise\u001b[39;00m \u001b[38;5;167;01mValueError\u001b[39;00m(instance\u001b[38;5;241m.\u001b[39marg_neg)\n\u001b[0;32m     33\u001b[0m \u001b[38;5;28;01melse\u001b[39;00m:\n\u001b[0;32m     34\u001b[0m     \u001b[38;5;28;01mraise\u001b[39;00m \u001b[38;5;167;01mTypeError\u001b[39;00m(instance\u001b[38;5;241m.\u001b[39marg_type)\n",
      "\u001b[1;31mValueError\u001b[0m: we cannot have negative weights and/or prices, please adjust the argument accordingly"
     ]
    }
   ],
   "source": [
    "steak.price = -10"
   ]
  },
  {
   "cell_type": "markdown",
   "id": "4e92b814-b7dc-467a-b761-82669aaef20f",
   "metadata": {},
   "source": [
    "#### **Using properties in APIs**\n",
    "This code works as expected, we have come a long way from our first attempt by using Python \"private\" attributes. Now we are able to sufficiently protect our class from abuse and unnecessary object creation. \n",
    "\n",
    "But more we can now seperate the underlying implementation of code from its public interface. This is important, for in modular programming like object oriented programming you use a lot of code written by other, your code might be used by others. You do not want to dependend on the implementation, just on the public signature of a method. Let me give you an example.\n",
    "\n",
    "Imagine we are creating a linear algebra API, in it we create a vector class. Now we have multiple ways in representing vectors. A common way of representing a vector is as tuple (2,4) which is a vector that leaves from some point usually the origin and goes two in the x-direction and four in the y-direction in an Eucleadian plane. \n",
    "\n",
    "We might program the class as such:"
   ]
  },
  {
   "cell_type": "code",
   "execution_count": 24,
   "id": "cf484021-a248-419b-9f53-dbf579e0a2b4",
   "metadata": {},
   "outputs": [],
   "source": [
    "class Vector:\n",
    "    '''This is class that represents a two dimensional vector'''\n",
    "    error = 'The type of the data attributes needs to be an int'\n",
    "    \n",
    "    def __init__(self, x:int, y:int)->None:\n",
    "        if type(x) == int and type(y) == int:\n",
    "            self._x = x\n",
    "            self._y = y\n",
    "        else:\n",
    "            raise TypeError(self.error)\n",
    "        \n",
    "    def getx(self)->int:\n",
    "        return self._x\n",
    "    \n",
    "    def setx(self, value:int)->None:\n",
    "        if type(value) == int:\n",
    "            self._x = value\n",
    "        else:\n",
    "            raise TypeError(self.error)\n",
    "            \n",
    "    def gety(self)->int:\n",
    "        return self._y\n",
    "    \n",
    "    def sety(self, value:int)->None:\n",
    "        if type(value) == int:\n",
    "            self._y = value\n",
    "        else:\n",
    "            raise TypeError(self.error)\n",
    "            \n",
    "    def __str__(self)->str:\n",
    "        return f'({self._x},{self._y})'\n",
    "    \n",
    "    def __repr__(self)->str:\n",
    "        return f'{self.__class__.__name__}[x={self._x},y={self._y}]'"
   ]
  },
  {
   "cell_type": "code",
   "execution_count": 25,
   "id": "9eba31ac-6727-46a2-a322-7217a84e8ab6",
   "metadata": {},
   "outputs": [
    {
     "name": "stdout",
     "output_type": "stream",
     "text": [
      "(3,7)\n"
     ]
    }
   ],
   "source": [
    "vec1 = Vector(3,7)\n",
    "print(vec1)"
   ]
  },
  {
   "cell_type": "code",
   "execution_count": 26,
   "id": "ca7ec0c4-12e2-43e0-b0f7-f578dce497ac",
   "metadata": {},
   "outputs": [
    {
     "data": {
      "text/plain": [
       "Vector[x=3,y=7]"
      ]
     },
     "execution_count": 26,
     "metadata": {},
     "output_type": "execute_result"
    }
   ],
   "source": [
    "vec1"
   ]
  },
  {
   "cell_type": "code",
   "execution_count": 28,
   "id": "fc9c6ed5-fd87-4844-8c1c-1b8878188576",
   "metadata": {},
   "outputs": [
    {
     "ename": "TypeError",
     "evalue": "The type of the data attributes needs to be an int",
     "output_type": "error",
     "traceback": [
      "\u001b[1;31m---------------------------------------------------------------------------\u001b[0m",
      "\u001b[1;31mTypeError\u001b[0m                                 Traceback (most recent call last)",
      "Cell \u001b[1;32mIn[28], line 1\u001b[0m\n\u001b[1;32m----> 1\u001b[0m vec2 \u001b[38;5;241m=\u001b[39m \u001b[43mVector\u001b[49m\u001b[43m(\u001b[49m\u001b[38;5;241;43m3.7\u001b[39;49m\u001b[43m,\u001b[49m\u001b[38;5;241;43m8\u001b[39;49m\u001b[43m)\u001b[49m\n",
      "Cell \u001b[1;32mIn[24], line 10\u001b[0m, in \u001b[0;36mVector.__init__\u001b[1;34m(self, x, y)\u001b[0m\n\u001b[0;32m      8\u001b[0m     \u001b[38;5;28mself\u001b[39m\u001b[38;5;241m.\u001b[39m_y \u001b[38;5;241m=\u001b[39m y\n\u001b[0;32m      9\u001b[0m \u001b[38;5;28;01melse\u001b[39;00m:\n\u001b[1;32m---> 10\u001b[0m     \u001b[38;5;28;01mraise\u001b[39;00m \u001b[38;5;167;01mTypeError\u001b[39;00m(\u001b[38;5;28mself\u001b[39m\u001b[38;5;241m.\u001b[39merror)\n",
      "\u001b[1;31mTypeError\u001b[0m: The type of the data attributes needs to be an int"
     ]
    }
   ],
   "source": [
    "vec2 = Vector(3.7,8)"
   ]
  },
  {
   "cell_type": "markdown",
   "id": "63ac67eb-c8ac-47d2-befb-9384482b6260",
   "metadata": {},
   "source": [
    "This is still probably the manner in which programming in Python is done a lot. \n",
    "\n",
    "We dependend on the conventention that an attribute with an underscore is private and should not be accessed directly. However the user of our API might not care or know of this convention and do this."
   ]
  },
  {
   "cell_type": "code",
   "execution_count": 29,
   "id": "f0f1d156-353b-4525-a150-2990ae50d982",
   "metadata": {},
   "outputs": [
    {
     "name": "stdout",
     "output_type": "stream",
     "text": [
      "(6,7)\n"
     ]
    }
   ],
   "source": [
    "vec1._x = 6\n",
    "print(vec1)"
   ]
  },
  {
   "cell_type": "markdown",
   "id": "2e78a651-1da4-4bbd-95be-cc99f27ad59a",
   "metadata": {},
   "source": [
    "We have changed the vector and this is fine & the absolute correct way of doing this if our implemetation of a vector is a point.\n",
    "\n",
    "However we are now completely dependent on the implementation of that vecor as a point. What happens if we want to change our representation to physics notation ($\\hat i + \\hat j + \\hat k$) Where $\\hat i = \\begin{matrix} 1 \\\\ 0  \\end{matrix}$ and $\\hat j = \\begin{matrix}0 \\\\ 1  \\end{matrix}$ so our two dimensional representation actually becomes $ x = s \\times \\begin{matrix} 1 \\\\ 0  \\end{matrix}$ and $ y = s \\times \\begin{matrix} 0 \\\\ 1  \\end{matrix}$ where s is some scalar."
   ]
  },
  {
   "cell_type": "code",
   "execution_count": 31,
   "id": "1663c2e2-bf22-49e0-9737-1aaa6f241284",
   "metadata": {},
   "outputs": [],
   "source": [
    "class Vector:\n",
    "    '''This is class that represents a two dimensional vector'''\n",
    "    error = 'The type of the data attributes needs to be an int'\n",
    "    \n",
    "    def __init__(self, x:int, y:int)->None:\n",
    "        if type(x) == int and type(y) == int:\n",
    "            self._x = [x,0]\n",
    "            self._y = [0,y]\n",
    "        else:\n",
    "            raise TypeError(self.error)\n",
    "        \n",
    "    def getx(self)->int:\n",
    "        return self._x[0]\n",
    "    \n",
    "    def setx(self, value:int)->None:\n",
    "        if type(value) == int:\n",
    "            self._x[0] = value\n",
    "        else:\n",
    "            raise TypeError(self.error)\n",
    "            \n",
    "    def gety(self)->int:\n",
    "        return self._y[1]\n",
    "    \n",
    "    def sety(self, value:int)->None:\n",
    "        if type(value) == int:\n",
    "            self._y[1] = value\n",
    "        else:\n",
    "            raise TypeError(self.error)\n",
    "            \n",
    "    def __str__(self)->str:\n",
    "        return f'({self._x[0]},{self._y[1]})'\n",
    "    \n",
    "    def __repr__(self)->str:\n",
    "        return f'{self.__class__.__name__}[x={self._x[0]},y={self._y[1]}]'"
   ]
  },
  {
   "cell_type": "code",
   "execution_count": 33,
   "id": "5c87e54d-ac01-47af-9fad-3b3d966a1a0c",
   "metadata": {},
   "outputs": [
    {
     "name": "stdout",
     "output_type": "stream",
     "text": [
      "(3,5)\n"
     ]
    }
   ],
   "source": [
    "vec3 = Vector(3,5)\n",
    "print(vec3)"
   ]
  },
  {
   "cell_type": "code",
   "execution_count": 34,
   "id": "22513702-d37d-4c81-8221-2e043f459d85",
   "metadata": {},
   "outputs": [
    {
     "name": "stdout",
     "output_type": "stream",
     "text": [
      "(3,7)\n"
     ]
    }
   ],
   "source": [
    "vec3.sety(7)\n",
    "print(vec3)"
   ]
  },
  {
   "cell_type": "code",
   "execution_count": 35,
   "id": "bd951298-facd-4bf5-973f-d1be9aad0b8d",
   "metadata": {},
   "outputs": [],
   "source": [
    "vec3._x = 5"
   ]
  },
  {
   "cell_type": "code",
   "execution_count": 36,
   "id": "1b5387bd-8b90-4db6-be51-0c7dbea48be0",
   "metadata": {},
   "outputs": [
    {
     "ename": "TypeError",
     "evalue": "'int' object is not subscriptable",
     "output_type": "error",
     "traceback": [
      "\u001b[1;31m---------------------------------------------------------------------------\u001b[0m",
      "\u001b[1;31mTypeError\u001b[0m                                 Traceback (most recent call last)",
      "Cell \u001b[1;32mIn[36], line 1\u001b[0m\n\u001b[1;32m----> 1\u001b[0m \u001b[38;5;28;43mprint\u001b[39;49m\u001b[43m(\u001b[49m\u001b[43mvec3\u001b[49m\u001b[43m)\u001b[49m\n",
      "Cell \u001b[1;32mIn[31], line 31\u001b[0m, in \u001b[0;36mVector.__str__\u001b[1;34m(self)\u001b[0m\n\u001b[0;32m     30\u001b[0m \u001b[38;5;28;01mdef\u001b[39;00m \u001b[38;5;21m__str__\u001b[39m(\u001b[38;5;28mself\u001b[39m)\u001b[38;5;241m-\u001b[39m\u001b[38;5;241m>\u001b[39m\u001b[38;5;28mstr\u001b[39m:\n\u001b[1;32m---> 31\u001b[0m     \u001b[38;5;28;01mreturn\u001b[39;00m \u001b[38;5;124mf\u001b[39m\u001b[38;5;124m'\u001b[39m\u001b[38;5;124m(\u001b[39m\u001b[38;5;132;01m{\u001b[39;00m\u001b[38;5;28;43mself\u001b[39;49m\u001b[38;5;241;43m.\u001b[39;49m\u001b[43m_x\u001b[49m\u001b[43m[\u001b[49m\u001b[38;5;241;43m0\u001b[39;49m\u001b[43m]\u001b[49m\u001b[38;5;132;01m}\u001b[39;00m\u001b[38;5;124m,\u001b[39m\u001b[38;5;132;01m{\u001b[39;00m\u001b[38;5;28mself\u001b[39m\u001b[38;5;241m.\u001b[39m_y[\u001b[38;5;241m1\u001b[39m]\u001b[38;5;132;01m}\u001b[39;00m\u001b[38;5;124m)\u001b[39m\u001b[38;5;124m'\u001b[39m\n",
      "\u001b[1;31mTypeError\u001b[0m: 'int' object is not subscriptable"
     ]
    }
   ],
   "source": [
    "print(vec3)"
   ]
  },
  {
   "cell_type": "markdown",
   "id": "a9806189-5494-421c-a90d-67344f70c442",
   "metadata": {},
   "source": [
    "The clients code is broken because we allowed the client to access our underlying code.\n",
    "\n",
    "I believe it is the duty of the API author to make sure that the underlying representation is seperated from the public interface. \n",
    "\n",
    "With properties we can achieve this easily."
   ]
  },
  {
   "cell_type": "code",
   "execution_count": 59,
   "id": "0a25f219-de13-434b-8e9f-76ae6d09564d",
   "metadata": {},
   "outputs": [],
   "source": [
    "class Vector:\n",
    "    '''This is class that represents a two dimensional vector'''\n",
    "    error = 'The type of the data attributes needs to be an int'\n",
    "    \n",
    "    def __init__(self, x:int, y:int)->None:\n",
    "        self._x = [x,0]\n",
    "        self._y = [0,y]\n",
    "        \n",
    "    @property\n",
    "    def x(self)->int:\n",
    "        return self._x[0]\n",
    "    \n",
    "    @x.setter\n",
    "    def x(self, value:int)->None:\n",
    "        self._x[0] = value\n",
    "        \n",
    "    @property\n",
    "    def y(self)->int:\n",
    "        return self._y[1]\n",
    "    \n",
    "    @y.setter\n",
    "    def y(self, value:int)->None:\n",
    "        self._y[1] = value\n",
    "            \n",
    "    def __str__(self)->str:\n",
    "        return f'({self._x[0]},{self._y[1]})'\n",
    "    \n",
    "    def __repr__(self)->str:\n",
    "        return f'{self.__class__.__name__}[x={self._x[0]},y={self._y[1]}]'"
   ]
  },
  {
   "cell_type": "code",
   "execution_count": 60,
   "id": "984d2ddc-058e-4ab5-bee0-7951f6f8693d",
   "metadata": {},
   "outputs": [
    {
     "name": "stdout",
     "output_type": "stream",
     "text": [
      "(3,9)\n"
     ]
    }
   ],
   "source": [
    "vec4 = Vector(3,9)\n",
    "print(vec4)"
   ]
  },
  {
   "cell_type": "code",
   "execution_count": 63,
   "id": "1366527d-7f8f-4bb6-9f55-cd82af3f522d",
   "metadata": {},
   "outputs": [
    {
     "ename": "TypeError",
     "evalue": "'int' object does not support item assignment",
     "output_type": "error",
     "traceback": [
      "\u001b[1;31m---------------------------------------------------------------------------\u001b[0m",
      "\u001b[1;31mTypeError\u001b[0m                                 Traceback (most recent call last)",
      "Cell \u001b[1;32mIn[63], line 1\u001b[0m\n\u001b[1;32m----> 1\u001b[0m \u001b[43mvec4\u001b[49m\u001b[38;5;241;43m.\u001b[39;49m\u001b[43my\u001b[49m \u001b[38;5;241m=\u001b[39m \u001b[38;5;241m5\u001b[39m\n\u001b[0;32m      2\u001b[0m \u001b[38;5;28mprint\u001b[39m(vec4)\n",
      "Cell \u001b[1;32mIn[59], line 23\u001b[0m, in \u001b[0;36mVector.y\u001b[1;34m(self, value)\u001b[0m\n\u001b[0;32m     21\u001b[0m \u001b[38;5;129m@y\u001b[39m\u001b[38;5;241m.\u001b[39msetter\n\u001b[0;32m     22\u001b[0m \u001b[38;5;28;01mdef\u001b[39;00m \u001b[38;5;21my\u001b[39m(\u001b[38;5;28mself\u001b[39m, value:\u001b[38;5;28mint\u001b[39m)\u001b[38;5;241m-\u001b[39m\u001b[38;5;241m>\u001b[39m\u001b[38;5;28;01mNone\u001b[39;00m:\n\u001b[1;32m---> 23\u001b[0m     \u001b[38;5;28;43mself\u001b[39;49m\u001b[38;5;241;43m.\u001b[39;49m\u001b[43m_y\u001b[49m\u001b[43m[\u001b[49m\u001b[38;5;241;43m1\u001b[39;49m\u001b[43m]\u001b[49m \u001b[38;5;241m=\u001b[39m value\n",
      "\u001b[1;31mTypeError\u001b[0m: 'int' object does not support item assignment"
     ]
    }
   ],
   "source": [
    "vec4.y = 5\n",
    "print(vec4)"
   ]
  },
  {
   "cell_type": "markdown",
   "id": "f419043f-e79d-44fd-9163-c628a0ae1895",
   "metadata": {},
   "source": [
    "Python being Python I can of course still access `vec4._x` as Alan Runyan of (https://plone.org/) says: \"Python is a language of consenting adults\"\n",
    "\n",
    "However there is also easy fix for people not knowing or caring about the meaning of  `_x`. Just change the private variariable in a meaningless name. "
   ]
  },
  {
   "cell_type": "code",
   "execution_count": 65,
   "id": "e5964f75-4dfd-44b1-9b43-b1c0c8f99414",
   "metadata": {},
   "outputs": [],
   "source": [
    "class Vector:\n",
    "    '''This is class that represents a two dimensional vector'''\n",
    "    error = 'The type of the data attributes needs to be an int'\n",
    "    \n",
    "    def __init__(self, x:int, y:int)->None:\n",
    "        self._a = [x,0]\n",
    "        self._b = [0,y]\n",
    "        \n",
    "    @property\n",
    "    def x(self)->int:\n",
    "        return self._a[0]\n",
    "    \n",
    "    @x.setter\n",
    "    def x(self, value:int)->None:\n",
    "        self._a[0] = value\n",
    "        \n",
    "    @property\n",
    "    def y(self)->int:\n",
    "        return self._b[1]\n",
    "    \n",
    "    @y.setter\n",
    "    def y(self, value:int)->None:\n",
    "        self._b[1] = value\n",
    "            \n",
    "    def __str__(self)->str:\n",
    "        return f'({self._a[0]},{self._b[1]})'\n",
    "    \n",
    "    def __repr__(self)->str:\n",
    "        return f'{self.__class__.__name__}[x={self._a[0]},y={self._b[1]}]'"
   ]
  },
  {
   "cell_type": "markdown",
   "id": "d60c2abb-21e0-460f-a342-10eb84523157",
   "metadata": {},
   "source": [
    "#### **Descriptors & the descriptor interface**\n",
    "\"Descriptors invert the relationship that the calling class determines look-up and allow the data that is being looked-up to have a say in the matter.\" Raymond Hettinger\n",
    "\n",
    "A descriptor is what we call any object that defines `__get__()`, `__set__()`, or `__delete__()`. This is very similar of course to the `property()` function that manages instance attributes, by giving it a getter, setter and deleter. Which isn't really a surprise because the property class implements the descriptor interface. However there is a difference property manages instance attributes, a descriptor only works with class variables.\n",
    "\n",
    "The descriptor interface is why in Python we can bind functions to attribute names as I did before before with attribute_manager."
   ]
  },
  {
   "cell_type": "code",
   "execution_count": 68,
   "id": "f6c0802a-0ba1-4375-a0a6-534d1c81107f",
   "metadata": {},
   "outputs": [
    {
     "data": {
      "text/plain": [
       "4"
      ]
     },
     "execution_count": 68,
     "metadata": {},
     "output_type": "execute_result"
    }
   ],
   "source": [
    "def times_two(n:int)->int:\n",
    "    return n * 2\n",
    "four = times_two\n",
    "\n",
    "four(2)"
   ]
  },
  {
   "cell_type": "code",
   "execution_count": null,
   "id": "6418af2d-48b3-4d26-985d-198015dbcfc4",
   "metadata": {},
   "outputs": [],
   "source": []
  }
 ],
 "metadata": {
  "kernelspec": {
   "display_name": "Python 3 (ipykernel)",
   "language": "python",
   "name": "python3"
  },
  "language_info": {
   "codemirror_mode": {
    "name": "ipython",
    "version": 3
   },
   "file_extension": ".py",
   "mimetype": "text/x-python",
   "name": "python",
   "nbconvert_exporter": "python",
   "pygments_lexer": "ipython3",
   "version": "3.11.1"
  }
 },
 "nbformat": 4,
 "nbformat_minor": 5
}
