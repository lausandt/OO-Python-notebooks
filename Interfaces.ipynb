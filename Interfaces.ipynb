{
 "cells": [
  {
   "cell_type": "markdown",
   "id": "0c6a2fa0-013f-40a5-8e68-80a0f2b97419",
   "metadata": {},
   "source": [
    "## **Interfaces**\n",
    "\n",
    "---\n",
    "The word interface has several meanings in programming. Often you hear people referring to an interface when they are actually talking about an Application Programming Interface, an API. This idea of an interface is the idea of a shared boundary between parts of a program, or even users and a program, for instance a GUI is also an interface, it is a Graphical User Interface. API and GUIs are not the type of interface we are discussing here.   \n",
    "\n",
    "In object-oriented design an interface has a different meaning. It is programming by contract (Betrand Meyer, https://en.wikipedia.org/wiki/Design_by_contract), an interface is a collection of methods signatures e.g., `def signature(self, message: str)->str`, and sometimes attributes, that functions as a contract. It states that if you implement this interface then the class is of a certain type or subtype. \n",
    "\n",
    "Python knows three types of interfaces:   \n",
    " 1. Duck Typing\n",
    " 2. Abstract Base Classes \n",
    " 3. Static Protocols    \n",
    "\n",
    "In this notebook I will only discuss the first two. The latter needs to be used in conjunction with an external type checker like MyPy, and is not interesting for our discussion. The interfaces we do discuss are integral part of OO-programming/design and are must know for anyone who wishes to program in the object-oriented paradigm. \n",
    "\n",
    "If you were a bit confused with my somewhat opaque description of an interface, a simple example of Duck Typing will lift the veil.\n"
   ]
  },
  {
   "cell_type": "markdown",
   "id": "08485a80-704c-43ce-8cbf-4a3ae1bdb891",
   "metadata": {},
   "source": [
    "#### **DuckTyping** \n",
    "DuckTyping is the first kind of interface. it is the oldest interface in Python, and it is probably still most used. DuckTyping as an interface is a convention, it something programmers agree to. People who program in Python agree that DuckTyping is an interface, not that it actually is an interface, it is a class with unimplemented method (signatures), that sort of functions as an interface.\n",
    "\n",
    "In my opinion it is typical Python solution, flexible, easy to grasp. Unfortunately, impossible to enforce and prone to faults, but that is also Python. \n",
    "\n",
    "For more information on DuckTyping see https://en.wikipedia.org/wiki/Duck_typing\n"
   ]
  },
  {
   "cell_type": "code",
   "execution_count": 2,
   "id": "0a01ba31-1ca1-4496-9e39-c1eba7c8b328",
   "metadata": {},
   "outputs": [],
   "source": [
    "from decimal import Decimal\n",
    "\n",
    "class BankAccount:\n",
    "    '''a duck typed bankaccount interface'''\n",
    "    \n",
    "    def deposit(self, amount:float)->None:\n",
    "        ...\n",
    "    \n",
    "    def withdrawl(self, amount:float)->None:\n",
    "        ...\n",
    "    \n",
    "    def transfer(self, counter:str, amount)->str:\n",
    "        ...\n",
    "    \n",
    "    def get_balance(self)->str:\n",
    "        ...\n",
    "    "
   ]
  },
  {
   "cell_type": "markdown",
   "id": "a57fa2ef-8629-4972-8e23-4460f6c2c383",
   "metadata": {},
   "source": [
    "A simple DuckTyped bank account interface. As you can see all the methods have a signature, but no other body than pass. I need the ellipsis for not writing a true interface but one by convention, technically (as the keyword says) `BankAccount` is a class. Python has no separate concept of an interface. It knows an object (everything is an object) and everything has a type.\n",
    "\n",
    "The class functions here as an interface, subclass the interface and you have kind of a subtype. I will have to be incredibly careful with the wording here for Python lacks the ability distinct type and subtype, it can only make a distinction between base class and subclass. Which is why Pythonista's confuse the two often.\n",
    "\n",
    "The definitions of the two concepts are:\n",
    " * Type: A type is a set of values, equipped with one or more operations that can be applied uniformly to all these values\n",
    " * Class: A class is a set of similar objects. All objects of a class have similar components and are equipped with the same operations.\n",
    "    \n",
    "As you can see from these definitions, types and classes are nearly the same but there is a subtle difference. Type is related to and derived from set theory. We consider a set of values, for instance all integers $\\mathbb{Z}$ and the operations from $\\mathbb{Z} \\rightarrow \\mathbb{Z}$ defined for it, such as $ +, -, \\times$. \n",
    "\n",
    "A class is obviously built upon this, but more limited in the sense that you would have to name the variables (I dare you to do this in $\\mathbb{Z}$) and freer, as you can pretty much define any method you want to on a class. Furthermore, you cannot recursively define classes, which you can do for types.\n",
    "\n",
    "This is complicated subject, I just touched on it, because, if nothing else, you should understand there is a difference between the two concepts. For more information on types see https://en.wikipedia.org/wiki/Type_system. \n"
   ]
  },
  {
   "cell_type": "code",
   "execution_count": 4,
   "id": "136c4825-de12-48c2-902e-7283b824ea29",
   "metadata": {},
   "outputs": [],
   "source": [
    "class CurrentAccount(BankAccount):\n",
    "    '''current_account implements the BankAccount interface'''\n",
    "    \n",
    "    def __init__(self, account_nr:str, account_holders:list[str],balance:float=0,overdraft:float=0):\n",
    "        self.account_nr      = account_nr\n",
    "        self.account_holders = account_holders\n",
    "        self.balance         = Decimal(str(balance))\n",
    "        \n"
   ]
  },
  {
   "cell_type": "code",
   "execution_count": 5,
   "id": "a8a133b7-35bf-478e-bffd-f011cebe42a7",
   "metadata": {},
   "outputs": [
    {
     "name": "stdout",
     "output_type": "stream",
     "text": [
      "<__main__.CurrentAccount object at 0x000001818479D290>\n"
     ]
    }
   ],
   "source": [
    "acc = CurrentAccount(account_nr='NL57SNSB0987654', account_holders=['George'])\n",
    "print(acc)"
   ]
  },
  {
   "cell_type": "code",
   "execution_count": 6,
   "id": "7c30a8a7-d4db-4b26-8e26-6ad83b2ed2e3",
   "metadata": {},
   "outputs": [
    {
     "data": {
      "text/plain": [
       "'NL57SNSB0987654'"
      ]
     },
     "execution_count": 6,
     "metadata": {},
     "output_type": "execute_result"
    }
   ],
   "source": [
    "acc.account_nr"
   ]
  },
  {
   "cell_type": "markdown",
   "id": "6f9a0eb9-5c48-444f-ac0b-b5e61b543ca5",
   "metadata": {},
   "source": [
    "It works as expected, now a DuckTyped interface is just a class so I have inherited the methods of the superclass, they just wont do anything."
   ]
  },
  {
   "cell_type": "code",
   "execution_count": 9,
   "id": "1b8fe131-694d-4500-9bc7-73e39026805d",
   "metadata": {},
   "outputs": [],
   "source": [
    "acc.get_balance()"
   ]
  },
  {
   "cell_type": "code",
   "execution_count": 10,
   "id": "531f1afe-0f42-4308-a7df-2b0c1ebf818f",
   "metadata": {},
   "outputs": [],
   "source": [
    "acc.deposit(500)"
   ]
  },
  {
   "cell_type": "markdown",
   "id": "c41f7987-913e-4f74-a131-fab576b0f2dc",
   "metadata": {},
   "source": [
    "I will need to implement the methods (obviously so of course)."
   ]
  },
  {
   "cell_type": "code",
   "execution_count": 11,
   "id": "9feee93c-4d87-4338-8c38-dea3411a305c",
   "metadata": {},
   "outputs": [],
   "source": [
    "class CurrentAccount(BankAccount):\n",
    "    '''current_account implements the BankAccount interface'''\n",
    "    \n",
    "    def __init__(self, account_nr:str, account_holders:list[str],balance:float=0,overdraft:float=0):\n",
    "        self.account_nr      = account_nr\n",
    "        self.account_holders = account_holders\n",
    "        self.balance         = Decimal(str(balance))\n",
    "        \n",
    "    def deposit(self, amount:float)->None:\n",
    "        self.balance = self.balance = Decimal(str(amount))\n",
    "    \n",
    "    def withdrawl(self, amount:float)->None:\n",
    "        self.balance -= Decimal(str(amount))\n",
    "\n",
    "    def transfer(self, counter:str, amount)->str:\n",
    "        amount = Decimal(str(amount))\n",
    "        if self.balance >= amount:\n",
    "            return f'the sum of {amount} euro has been transferred to account_nr {counter}.'\n",
    "        else:\n",
    "            return f'account {self.account_nr} has insufficient funds for the requested transfer'\n",
    "    \n",
    "    def get_balance(self)->str:\n",
    "        return f'current balance is {self.balance} euro.'      \n",
    "    \n",
    "    #this a special method that allows you to bring a user friendly print to the screen\n",
    "    def __str__(self)->str:\n",
    "        return f'the account with number {self.account_nr} has a balance of {self.balance} euro.' \n",
    "    \n",
    "    def set_overdraft(self, amount)->None:\n",
    "        self.overdraft += Decimal(str(amount))\n",
    "    "
   ]
  },
  {
   "cell_type": "code",
   "execution_count": 12,
   "id": "173e6be7-39e9-4e58-85a4-8bbbe2fd9a20",
   "metadata": {},
   "outputs": [
    {
     "name": "stdout",
     "output_type": "stream",
     "text": [
      "the account with number NL57SNSB0987654 has a balance of 0 euro.\n"
     ]
    }
   ],
   "source": [
    "acc = CurrentAccount(account_nr='NL57SNSB0987654', account_holders=['George'])\n",
    "print(acc)"
   ]
  },
  {
   "cell_type": "code",
   "execution_count": 13,
   "id": "189a19d9-af68-4603-8f7e-42015ede8362",
   "metadata": {},
   "outputs": [
    {
     "name": "stdout",
     "output_type": "stream",
     "text": [
      "the account with number NL57SNSB0987654 has a balance of 57800 euro.\n"
     ]
    }
   ],
   "source": [
    "acc.deposit(57800)\n",
    "print(acc)"
   ]
  },
  {
   "cell_type": "code",
   "execution_count": 14,
   "id": "890e9b03-c444-4b79-af95-2796e3d30c4a",
   "metadata": {},
   "outputs": [
    {
     "data": {
      "text/plain": [
       "'<__main__.CurrentAccount object at 0x00000181847D7590>'"
      ]
     },
     "execution_count": 14,
     "metadata": {},
     "output_type": "execute_result"
    }
   ],
   "source": [
    "repr(acc)"
   ]
  },
  {
   "cell_type": "code",
   "execution_count": 15,
   "id": "9d3fa078-6704-46c5-87c1-162b130d72f2",
   "metadata": {},
   "outputs": [
    {
     "data": {
      "text/plain": [
       "'current balance is 57800 euro.'"
      ]
     },
     "execution_count": 15,
     "metadata": {},
     "output_type": "execute_result"
    }
   ],
   "source": [
    "acc.get_balance()"
   ]
  },
  {
   "cell_type": "markdown",
   "id": "70e80519-3092-40c7-a348-d1055359f117",
   "metadata": {},
   "source": [
    "**Object representations**     \n",
    "As you know, Python has two type of object representations:\n",
    " 1. `__repr()__` which contains information useful to programmers.\n",
    " 2. `__str()__`  which contains information useful to users.\n",
    "\n",
    "The first time we created acc and printed it we got <__main__.Current_account object at 0x000001F42A281850> this is not very useful information. I therefor created a useful message to go with a print of the object for users.    \n",
    "\n",
    "Unfortunately there is no useful information for the fellow programmer `repr(acc)` $\\rightarrow$ `<__main__.Current_account object at 0x000001F42A22C1D0>` let me make that useful to by overriding the `__repr__()` method "
   ]
  },
  {
   "cell_type": "code",
   "execution_count": 16,
   "id": "d9db28c9-cb8b-4f21-9784-d6aa2cc48940",
   "metadata": {},
   "outputs": [],
   "source": [
    "class CurrentAccount(BankAccount):\n",
    "    '''Currentaccount implements the BankAccount interface'''\n",
    "    \n",
    "    def __init__(self, account_nr:str, account_holders:list[str],balance:float=0,overdraft:float=0):\n",
    "        self.account_nr      = account_nr\n",
    "        self.account_holders = account_holders\n",
    "        self.balance         = Decimal(str(balance))\n",
    "        \n",
    "    def deposit(self, amount:float)->None:\n",
    "        self.balance += Decimal(str(amount))\n",
    "    \n",
    "    def withdrawl(self, amount:float)->None:\n",
    "        self.balance -= Decimal(str(amount))\n",
    "\n",
    "    def transfer(self, counter:str, amount:float)->str:\n",
    "        amount = Decimal(str(amount))\n",
    "        if self.balance >= amount:\n",
    "            return f'the sum of {amount} euro has been transferred to account_nr {counter}.'\n",
    "        else:\n",
    "            return f'account {self.account_nr} has insufficient funds for the requested transfer'\n",
    "    \n",
    "    def get_balance(self)->str:\n",
    "        return f'current balance is {self.balance} euro.'    \n",
    "    \n",
    "    def set_overdraft(self, amount)->None:\n",
    "        self.overdraft += Decimal(str(amount))\n",
    "        \n",
    "    #special methods\n",
    "    def __str__(self)->str:\n",
    "        return f'the account with number {self.account_nr} has a balance of {self.balance} euro.' \n",
    "    \n",
    "    def __repr__(self)->str:\n",
    "        return f'Currentaccount(account_nr={self.account_nr}, account_holders={self.account_holders}, balance={self.balance})' \n",
    "    \n"
   ]
  },
  {
   "cell_type": "markdown",
   "id": "351b41cc-e084-45d3-b0b5-d0413b55a23f",
   "metadata": {},
   "source": [
    "We have useful information for the programmer.    \n",
    "\n",
    "Two quick sidenotes:\n",
    " 1. If you type in an object in the notebook console you get repr function back, not the print.\n",
    " 2. If you want to use the `repr` in a f-string you need to write !r in the placeholder; like in `f'bla {attr !r} bla'`."
   ]
  },
  {
   "cell_type": "code",
   "execution_count": 17,
   "id": "8f505cd3-b385-4aa0-a882-3a83f82466b7",
   "metadata": {},
   "outputs": [
    {
     "data": {
      "text/plain": [
       "Currentaccount(account_nr=NL57SNSB0987654, account_holders=['George'], balance=0)"
      ]
     },
     "execution_count": 17,
     "metadata": {},
     "output_type": "execute_result"
    }
   ],
   "source": [
    "acc = CurrentAccount(account_nr='NL57SNSB0987654', account_holders=['George'])\n",
    "acc"
   ]
  },
  {
   "cell_type": "markdown",
   "id": "55327a24-da3d-405e-85b3-b860d0878133",
   "metadata": {},
   "source": [
    "Let me create a few more classes that implement the BankAccount interface, just so you get a feel for it."
   ]
  },
  {
   "cell_type": "code",
   "execution_count": 18,
   "id": "1f04e6ca-014d-4117-accb-a3f3226b600c",
   "metadata": {},
   "outputs": [],
   "source": [
    "class SavingsAccount(BankAccount):\n",
    "    '''a savings account class'''\n",
    "    #class variable \n",
    "    interest_rate:Decimal=Decimal('0')\n",
    "    \n",
    "    def __init__(self, account_nr:str, account_holders:list[str], counter_account:str, balance:float=0):\n",
    "        self.account_nr      = account_nr\n",
    "        self.account_holders = account_holders\n",
    "        self.counter_account = counter_account\n",
    "        self.balance         = Decimal(str(balance))\n",
    "    \n",
    "    def deposit(self, amount:float)->None:\n",
    "        self.balance += Decimal(str(amount))\n",
    "    \n",
    "    def transfer(self, amount:float)->str:\n",
    "        amount = Decimal(str(amount))\n",
    "        if self.balance + self.overdraft >= amount:\n",
    "            return f'the sum of {amount} euro has been transferred to account_nr {self.counter_account}.'\n",
    "        else:\n",
    "            return f'account {self.account_nr} has insufficient funds for the requested transfer'\n",
    "    \n",
    "    def get_balance(self)->str:\n",
    "        return f'current balance is {self.balance} euro.'\n",
    "    \n",
    "    @classmethod\n",
    "    def set_interest_rate(self, rate:float)->None:\n",
    "        self.interest_rate = Decimal(str(rate))        \n",
    "    \n",
    "    #special methods\n",
    "    def __str__(self)->str:\n",
    "        return f'the savings account with number {self.account_nr} has a balance of {self.balance} euro.' \n",
    "    \n",
    "    def __repr__(self)->str:\n",
    "        return f'{self.__class__.__name__}(account_nr={self.account_nr}, account_holders={self.account_holders},counter_account={self.counter_account}, balance={self.balance},interest_rate={self.interest_rate})' \n",
    "    "
   ]
  },
  {
   "cell_type": "code",
   "execution_count": 19,
   "id": "a554d708-3c20-494f-9abd-51715eca839b",
   "metadata": {},
   "outputs": [
    {
     "name": "stdout",
     "output_type": "stream",
     "text": [
      "the savings account with number NL57SNSB1234567 has a balance of 78000 euro.\n"
     ]
    }
   ],
   "source": [
    "sav = SavingsAccount(account_nr='NL57SNSB1234567', account_holders=['George','Croc'], counter_account='NL57SNSB0987654')\n",
    "sav.deposit(78000)\n",
    "print(sav)"
   ]
  },
  {
   "cell_type": "code",
   "execution_count": 20,
   "id": "2524fc4c-8d66-4d9e-9a69-4e81574d9b81",
   "metadata": {},
   "outputs": [
    {
     "data": {
      "text/plain": [
       "SavingsAccount(account_nr=NL57SNSB1234567, account_holders=['George', 'Croc'],counter_account=NL57SNSB0987654, balance=78000,interest_rate=0)"
      ]
     },
     "execution_count": 20,
     "metadata": {},
     "output_type": "execute_result"
    }
   ],
   "source": [
    "sav"
   ]
  },
  {
   "cell_type": "code",
   "execution_count": 21,
   "id": "d8998e9b-4b75-4d92-b9d7-066e6d84eee8",
   "metadata": {},
   "outputs": [
    {
     "data": {
      "text/plain": [
       "SavingsAccount(account_nr=NL57SNSB1234567, account_holders=['George', 'Croc'],counter_account=NL57SNSB0987654, balance=78000,interest_rate=2.5)"
      ]
     },
     "execution_count": 21,
     "metadata": {},
     "output_type": "execute_result"
    }
   ],
   "source": [
    "sav.set_interest_rate(2.5)\n",
    "sav"
   ]
  },
  {
   "cell_type": "code",
   "execution_count": 22,
   "id": "118ac8ac-0a8f-4255-a1f9-9e593471f7c9",
   "metadata": {},
   "outputs": [
    {
     "data": {
      "text/plain": [
       "SavingsAccount(account_nr=NL57SNSB121212, account_holders=['Ente', 'Rhino'],counter_account=NL57SNSB09875555, balance=0,interest_rate=2.5)"
      ]
     },
     "execution_count": 22,
     "metadata": {},
     "output_type": "execute_result"
    }
   ],
   "source": [
    "sav2 = SavingsAccount(account_nr='NL57SNSB121212', account_holders=['Ente','Rhino'], counter_account='NL57SNSB09875555')\n",
    "sav2"
   ]
  },
  {
   "cell_type": "markdown",
   "id": "419febc0-5590-48bb-b6a7-c743bbcd7204",
   "metadata": {},
   "source": [
    "There are a few noteworthy things in the SavingsAccount class:\n",
    " 1. not all the methods are implemented, i.e., there is no withdrawal method, and no overdraft attribute. You can partially implement a DuckTyped interface.*  \n",
    " 2. Also we have overridden a method we want one less argument.\n",
    " 3. We introduced a class method (remember a class method is similar but not the same as a static method).    \n",
    " \n",
    " *This in my mind leads to a series of questions; if I partially implement an interface is it than still a subtype of that interface? Or is it a partial type? Does such a thing exist? Pyton has no way to establish subtype just subclass, it is definitely a subclass according to Python."
   ]
  },
  {
   "cell_type": "code",
   "execution_count": 23,
   "id": "9f468958-7a6b-4b63-a674-d35e63ac357f",
   "metadata": {},
   "outputs": [
    {
     "data": {
      "text/plain": [
       "True"
      ]
     },
     "execution_count": 23,
     "metadata": {},
     "output_type": "execute_result"
    }
   ],
   "source": [
    "issubclass(SavingsAccount, BankAccount)"
   ]
  },
  {
   "cell_type": "code",
   "execution_count": 24,
   "id": "28e241dc-3e3d-4257-b9b2-b2e871277aa1",
   "metadata": {},
   "outputs": [
    {
     "data": {
      "text/plain": [
       "False"
      ]
     },
     "execution_count": 24,
     "metadata": {},
     "output_type": "execute_result"
    }
   ],
   "source": [
    "isinstance(SavingsAccount, BankAccount)"
   ]
  },
  {
   "cell_type": "markdown",
   "id": "b250a34e-71c6-4de4-9fd5-ff59f04a2f60",
   "metadata": {},
   "source": [
    "#### **Not so SOLID** (sidenote)\n",
    "This might seem a trivial problem to you, but it has severe implications in programming practice. It is the reason why in Python you cannot program SOLID as you cannot perform a Liskov substitution aka strong behavioural subtyping. If I can only partially implement an interface, I cannot guarantee that I could use a subtype where I expect the supertype, the supertype may need implementations I do not have in my subtype.\n",
    "\n",
    "Formally Liskov substitution states; if S subtypes T, what holds for T-objects holds for S-objects. Which is obviously not true in our case for I can withdraw from a BankAccount object but not from a SavingsAccount object.  \n",
    "\n",
    "Is this sidenote important? Well not really but if someone tells you to program SOLID in Python, you might ask them how Python guarantees type? By now you should start to realize that Python does not."
   ]
  },
  {
   "cell_type": "code",
   "execution_count": 25,
   "id": "ef8bee37-4efe-4505-a863-023720067789",
   "metadata": {},
   "outputs": [],
   "source": [
    "from typing import NamedTuple\n",
    "\n",
    "class Stock(NamedTuple):\n",
    "    company:str\n",
    "    current_price:Decimal = Decimal('0') \n",
    "    \n",
    "class Fund(NamedTuple):\n",
    "    name:str\n",
    "    risc_factor:str\n",
    "    invested_amount:Decimal=Decimal('0')\n",
    "    fund_yield:Decimal=Decimal('0') \n",
    "    "
   ]
  },
  {
   "cell_type": "code",
   "execution_count": 26,
   "id": "98a64307-a619-4ad6-9b9b-e1911ba24160",
   "metadata": {},
   "outputs": [
    {
     "data": {
      "text/plain": [
       "Stock(company='ASML', current_price=125)"
      ]
     },
     "execution_count": 26,
     "metadata": {},
     "output_type": "execute_result"
    }
   ],
   "source": [
    "asml = Stock(company='ASML',current_price=125)\n",
    "asml"
   ]
  },
  {
   "cell_type": "code",
   "execution_count": 27,
   "id": "a0e4d28e-ff28-44ca-a198-987d8ff2c38f",
   "metadata": {},
   "outputs": [
    {
     "data": {
      "text/plain": [
       "Stock(company='Microsoft', current_price=227)"
      ]
     },
     "execution_count": 27,
     "metadata": {},
     "output_type": "execute_result"
    }
   ],
   "source": [
    "microsoft = Stock(company='Microsoft',current_price=227)\n",
    "microsoft"
   ]
  },
  {
   "cell_type": "code",
   "execution_count": 28,
   "id": "a510f4f4-debd-4aef-bc5e-f7a2ddb4dbbc",
   "metadata": {},
   "outputs": [
    {
     "data": {
      "text/plain": [
       "Fund(name='PORTX', risc_factor='medium', invested_amount=420000, fund_yield=10.7)"
      ]
     },
     "execution_count": 28,
     "metadata": {},
     "output_type": "execute_result"
    }
   ],
   "source": [
    "portx = Fund(name='PORTX', risc_factor='medium', invested_amount=420000, fund_yield=10.7)\n",
    "portx"
   ]
  },
  {
   "cell_type": "code",
   "execution_count": 29,
   "id": "8f09bbfc-4b96-444f-949f-47101017f9a8",
   "metadata": {},
   "outputs": [
    {
     "data": {
      "text/plain": [
       "Fund(name='TBWAX', risc_factor='low', invested_amount=1000000, fund_yield=5.2)"
      ]
     },
     "execution_count": 29,
     "metadata": {},
     "output_type": "execute_result"
    }
   ],
   "source": [
    "tbwax = Fund(name='TBWAX', risc_factor='low', invested_amount=1000000, fund_yield=5.2)\n",
    "tbwax"
   ]
  },
  {
   "cell_type": "code",
   "execution_count": 30,
   "id": "8a93bb07-ad65-4355-b21b-4ffee351cb95",
   "metadata": {},
   "outputs": [],
   "source": [
    "class InvestmentAccount(BankAccount):\n",
    "    '''an investment account class'''\n",
    "    def __init__(self, account_nr:str, account_holders:list[str], counter_account:str, balance:float=0,stocks:list[(Stock,int,float)]=[], funds:list[Fund]=[]):\n",
    "        self.account_nr      = account_nr\n",
    "        self.account_holders = account_holders\n",
    "        self.counter_account = counter_account\n",
    "        self.balance         = Decimal(str(balance))\n",
    "        self.stocks          = stocks\n",
    "        self.funds           = funds\n",
    "    \n",
    "    def deposit(self, amount:float)->None:\n",
    "        self.balance += Decimal(str(amount))\n",
    "    \n",
    "    def transfer(self, amount:float)->str:\n",
    "        amount = Decimal(str(amount))\n",
    "        if self.balance >= amount:\n",
    "            return f'the sum of {amount} euro has been transferred to account_nr {self.counter_account}.'\n",
    "        else:\n",
    "            return f'account {self.account_nr} has insufficient funds for the requested transfer would you like to sell some stock or investment funds?'\n",
    "    \n",
    "    def get_balance(self)->str:\n",
    "        return f'current balance is {self.balance} euro.'\n",
    "    \n",
    "    def buy_stock(self,stock:Stock, number:int)->str:\n",
    "        if self.balance >= stock.current_price*number:\n",
    "            self.balance -= stock.current_price*number\n",
    "            self.stocks.append((Stock,number,stock.current_price))\n",
    "            return f'we have added {number} of stock {stock.company} to your investment account at a price of {stock.current_price*number} euro.'\n",
    "        else:\n",
    "            return 'you have insufficient funds the transaction can`t be executed'\n",
    "        \n",
    "    def sell_stock(self,stock:str)->None:\n",
    "        pass\n",
    "    \n",
    "    def invest_fund(self, fund:Fund, amount:float)->None:\n",
    "        pass\n",
    "    \n",
    "    def disinvest_fund(self,fund_name:str)->None:\n",
    "        pass\n",
    "    \n",
    "    #special methods\n",
    "    def __str__(self)->str:\n",
    "        return f'the investment account with number {self.account_nr} has a balance of {self.balance} euro.' \n",
    "    \n",
    "    def __repr__(self)->str:\n",
    "        return f'Investmentaccount(account_nr={self.account_nr}, account_holders={self.account_holders},counter_account={self.counter_account}, balance={self.balance},stocks={self.stocks}, funds={self.funds})' \n",
    "    \n",
    "    "
   ]
  },
  {
   "cell_type": "code",
   "execution_count": 31,
   "id": "385af116-e70e-4fc3-af65-112c8b4e2f64",
   "metadata": {},
   "outputs": [
    {
     "data": {
      "text/plain": [
       "Investmentaccount(account_nr=KEMPEN753197, account_holders=['Ente', 'Rhino'],counter_account=NL19INSBEAUF998999, balance=0,stocks=[], funds=[])"
      ]
     },
     "execution_count": 31,
     "metadata": {},
     "output_type": "execute_result"
    }
   ],
   "source": [
    "inv = InvestmentAccount(account_nr='KEMPEN753197', account_holders=['Ente','Rhino'],counter_account='NL19INSBEAUF998999')\n",
    "inv"
   ]
  },
  {
   "cell_type": "code",
   "execution_count": 32,
   "id": "fd30a816-dc81-4dfa-96b4-7e964b1c8ab5",
   "metadata": {},
   "outputs": [
    {
     "data": {
      "text/plain": [
       "'current balance is 250000000 euro.'"
      ]
     },
     "execution_count": 32,
     "metadata": {},
     "output_type": "execute_result"
    }
   ],
   "source": [
    "inv.deposit(250000000)\n",
    "inv.get_balance()"
   ]
  },
  {
   "cell_type": "code",
   "execution_count": 33,
   "id": "aa62e304-8f0e-43fd-b231-57bdc4df1ff8",
   "metadata": {},
   "outputs": [
    {
     "name": "stdout",
     "output_type": "stream",
     "text": [
      "the investment account with number KEMPEN753197 has a balance of 250000000 euro.\n"
     ]
    }
   ],
   "source": [
    "print(inv)"
   ]
  },
  {
   "cell_type": "code",
   "execution_count": 34,
   "id": "4db35416-fede-4a00-b517-62f7e25e6c14",
   "metadata": {},
   "outputs": [
    {
     "data": {
      "text/plain": [
       "'we have added 5000 of stock ASML to your investment account at a price of 625000 euro.'"
      ]
     },
     "execution_count": 34,
     "metadata": {},
     "output_type": "execute_result"
    }
   ],
   "source": [
    "inv.buy_stock(stock=asml, number=5000)"
   ]
  },
  {
   "cell_type": "code",
   "execution_count": 32,
   "id": "3a547657-a568-4302-80b5-fd50146424b5",
   "metadata": {},
   "outputs": [
    {
     "data": {
      "text/plain": [
       "'current balance is 249375000 euro.'"
      ]
     },
     "execution_count": 32,
     "metadata": {},
     "output_type": "execute_result"
    }
   ],
   "source": [
    "inv.get_balance()"
   ]
  },
  {
   "cell_type": "markdown",
   "id": "8aab0dc5-d1a5-4772-aa2b-dc6ce338d434",
   "metadata": {},
   "source": [
    "As an exercise play with this class I have left you with some skeleton methods, implement these."
   ]
  },
  {
   "cell_type": "markdown",
   "id": "38df6dd7-1287-4aa8-8cf5-521442ff9054",
   "metadata": {},
   "source": [
    "Can you use inheritance in combination with an interface implementation in Python? The answer is yes, Python supports multi class inheritance and our DuckTyped interface is just a class, subclassing a DuckTyped interface together with a regular class is quite common in Python. \n",
    "\n",
    "Multiple inheritance can lead to confusion and should be handled with care, see the inheritance notebook for more details. However, if I use multiple inheritance and both super classes have a similar method, the interpreter will use the Method Resolution Order to determine which method to use, and as such prevents much of potential problems. \n",
    "\n",
    "In the Objects&Classes notebook I showed you how you could use dataclasses as a framework for creating a class. We can use dataclasses here too, there is no influence on the inheritance relationship. The dataclass decorator is a closure, not a superclass. See the decorators notebook.\n"
   ]
  },
  {
   "cell_type": "code",
   "execution_count": 35,
   "id": "9c5955b1-9ed7-44c3-abf7-741722bcdd08",
   "metadata": {},
   "outputs": [],
   "source": [
    "from dataclasses import dataclass, field\n",
    "from typing import ClassVar\n",
    "\n",
    "@dataclass\n",
    "class SavingsAccount(BankAccount):\n",
    "    '''a savings account class with a dataclass decorator'''\n",
    "    account_nr:str\n",
    "    counter_account:str\n",
    "    account_holders:list[str] = field(default_factory=list) \n",
    "    balance:Decimal=Decimal('0')\n",
    "    # class variable\n",
    "    interest_rate:ClassVar[Decimal]=None\n",
    "    \n",
    "    def deposit(self, amount:float)->None:\n",
    "        self.balance += Decimal(str(amount))\n",
    "    \n",
    "    def transfer(self, amount:float)->str:\n",
    "        amount = Decimal(str(amount))\n",
    "        if self.balance >= amount:\n",
    "            return f'the sum of {amount} euro has been transferred to account_nr {self.counter_account}.'\n",
    "        else:\n",
    "            return f'account {self.account_nr} has insufficient funds for the requested transfer'\n",
    "    \n",
    "    def get_balance(self)->str:\n",
    "        return f'current balance is {self.balance} euro.'\n",
    "    \n",
    "    def set_interest_rate(self, rate:float)->None:\n",
    "        self.interest_rate = Decimal(str(rate))\n",
    "    \n",
    "    #special methods\n",
    "    def __str__(self)->str:\n",
    "        return f'the {self.__class__.__name__} with number {self.account_nr} has a balance of {self.balance} euro.' "
   ]
  },
  {
   "cell_type": "code",
   "execution_count": 36,
   "id": "089c978f-a3e9-46cf-96b8-a3b9ad85608b",
   "metadata": {},
   "outputs": [
    {
     "data": {
      "text/plain": [
       "SavingsAccount(account_nr='NL57SNSB1234567', counter_account='NL57SNSB0987654', account_holders=['George', 'Croc'], balance=Decimal('0'))"
      ]
     },
     "execution_count": 36,
     "metadata": {},
     "output_type": "execute_result"
    }
   ],
   "source": [
    "sav = SavingsAccount(account_nr='NL57SNSB1234567', account_holders=['George','Croc'], counter_account='NL57SNSB0987654')\n",
    "sav"
   ]
  },
  {
   "cell_type": "code",
   "execution_count": 37,
   "id": "e7f46f99-7d42-4286-8258-74cd32573a69",
   "metadata": {},
   "outputs": [
    {
     "name": "stdout",
     "output_type": "stream",
     "text": [
      "the SavingsAccount with number NL57SNSB1234567 has a balance of 0 euro.\n"
     ]
    }
   ],
   "source": [
    "print(sav)"
   ]
  },
  {
   "cell_type": "markdown",
   "id": "8bb5d28e-d4c1-4b2a-b31a-cfa5c863dbe3",
   "metadata": {},
   "source": [
    "Again, we have a few noteworthy things:\n",
    " 1. I didn't write an `__init__()` as is the habit.\n",
    " 2. The `__init__()` from the `@dataclass` knows which fields to use.\n",
    " 3. `field(default_factory=list)` can be used to specify fields with mutable default values such as lists, sets etc. This comes in place of `[]`.\n",
    " 4. We can use class variables with dataclasses. A class variable belongs to the class and not the object, a class variable's lifespan is the programming running time. \n",
    " 5. I have used dataclasses version of `__repr__()` while implementing my own version of `__str__()`."
   ]
  },
  {
   "cell_type": "code",
   "execution_count": 38,
   "id": "e645da68-dcd3-4e79-b2cd-69168e318440",
   "metadata": {},
   "outputs": [
    {
     "data": {
      "text/plain": [
       "Decimal('2.7')"
      ]
     },
     "execution_count": 38,
     "metadata": {},
     "output_type": "execute_result"
    }
   ],
   "source": [
    "sav.set_interest_rate(2.7)\n",
    "sav.interest_rate"
   ]
  },
  {
   "cell_type": "markdown",
   "id": "14c941e2-5011-4e30-a2ed-f03c991b570e",
   "metadata": {},
   "source": [
    "However, I left an unclear print for interest rate, we should want a return value that is legible for the dimmest audience.    \n",
    "\n",
    "I'll let you implement that as an exercise.\n",
    "\n",
    "There is a lot of room to better this class, for instance we might want to use attribute validation here. This is an important subject, and we will discuss it in a separate notebook called Objects in Python."
   ]
  },
  {
   "cell_type": "markdown",
   "id": "9e9b332c-1211-420b-923c-d35dc21d0e24",
   "metadata": {},
   "source": [
    "#### **Abstract Base Class (ABC) aka Goose Typing**\n",
    "Using the abstract base class is the proper way of implementing an interface in Python. A base class is the same as a super class, it is just a term from C++ and Python.   \n",
    "\n",
    "Abstract means not implemented in this case.   \n",
    "\n",
    "Let's implement the same BankAccount interface now using abstract base classes and dataclass"
   ]
  },
  {
   "cell_type": "code",
   "execution_count": 39,
   "id": "39f051a6-d51b-4484-bb4e-19aa0d0a2a02",
   "metadata": {},
   "outputs": [],
   "source": [
    "from dataclasses import dataclass, field\n",
    "from typing import ClassVar, NamedTuple\n",
    "from decimal import Decimal\n",
    "from abc import ABC, abstractmethod\n",
    "\n",
    "\n",
    "class BankAccount(ABC):\n",
    "    '''an bankaccount interface'''\n",
    "    \n",
    "    @abstractmethod\n",
    "    def deposit(self, amount:float)->None:\n",
    "        pass\n",
    "    \n",
    "    @abstractmethod\n",
    "    def withdrawl(self, amount:float)->None:\n",
    "        pass\n",
    "    \n",
    "    @abstractmethod\n",
    "    def transfer(self, counter:str, amount)->str:\n",
    "        pass\n",
    "    \n",
    "    @abstractmethod\n",
    "    def get_balance(self)->str:        \n",
    "        pass\n",
    "    \n",
    "@dataclass\n",
    "class CurrentAccount(BankAccount):\n",
    "    account_nr:str\n",
    "    account_holders:list[str] = field(default_factory=list) \n",
    "    balance:Decimal=Decimal('0')\n"
   ]
  },
  {
   "cell_type": "code",
   "execution_count": 40,
   "id": "894bed67-12fb-4ef9-9931-1bfff05985c5",
   "metadata": {},
   "outputs": [
    {
     "ename": "TypeError",
     "evalue": "Can't instantiate abstract class CurrentAccount with abstract methods deposit, get_balance, transfer, withdrawl",
     "output_type": "error",
     "traceback": [
      "\u001b[1;31m---------------------------------------------------------------------------\u001b[0m",
      "\u001b[1;31mTypeError\u001b[0m                                 Traceback (most recent call last)",
      "Cell \u001b[1;32mIn[40], line 1\u001b[0m\n\u001b[1;32m----> 1\u001b[0m cur \u001b[38;5;241m=\u001b[39m \u001b[43mCurrentAccount\u001b[49m\u001b[43m(\u001b[49m\u001b[43maccount_nr\u001b[49m\u001b[38;5;241;43m=\u001b[39;49m\u001b[38;5;124;43m'\u001b[39;49m\u001b[38;5;124;43mNL01INSBEAU08642468\u001b[39;49m\u001b[38;5;124;43m'\u001b[39;49m\u001b[43m,\u001b[49m\u001b[43maccount_holders\u001b[49m\u001b[38;5;241;43m=\u001b[39;49m\u001b[43m[\u001b[49m\u001b[38;5;124;43m'\u001b[39;49m\u001b[38;5;124;43mGeorge\u001b[39;49m\u001b[38;5;124;43m'\u001b[39;49m\u001b[43m,\u001b[49m\u001b[38;5;124;43m'\u001b[39;49m\u001b[38;5;124;43mRhino\u001b[39;49m\u001b[38;5;124;43m'\u001b[39;49m\u001b[43m]\u001b[49m\u001b[43m)\u001b[49m\n\u001b[0;32m      2\u001b[0m cur\n",
      "\u001b[1;31mTypeError\u001b[0m: Can't instantiate abstract class CurrentAccount with abstract methods deposit, get_balance, transfer, withdrawl"
     ]
    }
   ],
   "source": [
    "cur = CurrentAccount(account_nr='NL01INSBEAU08642468',account_holders=['George','Rhino'])\n",
    "cur"
   ]
  },
  {
   "cell_type": "markdown",
   "id": "ca285f63-81f0-4a2f-b48f-121455b8e79a",
   "metadata": {},
   "source": [
    "I have yet to implement all abstract methods. \n",
    "You cannot initialize a class without having implemented all the abstract methods inherited from its base class. This is an important thing to notice, an class with an abstract method can never be instantiated, and is an ABC itself."
   ]
  },
  {
   "cell_type": "code",
   "execution_count": 39,
   "id": "c44a4bb8-c1f1-48e8-a356-a297b923bfff",
   "metadata": {},
   "outputs": [],
   "source": [
    "from dataclasses import dataclass, field\n",
    "from typing import ClassVar, NamedTuple\n",
    "from decimal import Decimal\n",
    "from abc import ABC, abstractmethod\n",
    "\n",
    "\n",
    "class BankAccount(ABC):\n",
    "    '''an bankaccount interface'''\n",
    "    \n",
    "    @abstractmethod\n",
    "    def deposit(self, amount:float)->None:\n",
    "        pass\n",
    "    \n",
    "    @abstractmethod\n",
    "    def withdrawl(self, amount:float)->None:\n",
    "        pass\n",
    "    \n",
    "    @abstractmethod\n",
    "    def transfer(self, counter:str, amount)->str:\n",
    "        pass\n",
    "    \n",
    "    @abstractmethod\n",
    "    def get_balance(self)->str:        \n",
    "        pass\n",
    "    \n",
    "@dataclass\n",
    "class CurrentAccount(BankAccount):\n",
    "    account_nr:str\n",
    "    account_holders:list[str] = field(default_factory=list) \n",
    "    balance:Decimal=Decimal('0')\n",
    "    \n",
    "    def deposit(self, amount:float)->None:\n",
    "        self.balance += Decimal(str(amount))\n",
    "    \n",
    "    def withdrawl(self, amount:float)->None:\n",
    "        pass \n",
    "    \n",
    "    def transfer(self, counter:str, amount)->str:\n",
    "        amount = Decimal(str(amount))\n",
    "        if self.balance >= amount:\n",
    "            self.balance -= amount\n",
    "            return f'the sum of {amount} euro has been transferred to account_nr {counter}.'\n",
    "        else:\n",
    "            return f'account {self.account_nr} has insufficient funds for the requested transfer'\n",
    "\n",
    "    def get_balance(self)->str:        \n",
    "        return f'this account has a balance of {self.balance} euro'"
   ]
  },
  {
   "cell_type": "code",
   "execution_count": 40,
   "id": "722ac8c5-71ed-4ea0-a656-2c2364e275bb",
   "metadata": {},
   "outputs": [
    {
     "data": {
      "text/plain": [
       "CurrentAccount(account_nr='NL01INSBEAU08642468', account_holders=['George', 'Ente'], balance=Decimal('0'))"
      ]
     },
     "execution_count": 40,
     "metadata": {},
     "output_type": "execute_result"
    }
   ],
   "source": [
    "cur = CurrentAccount(account_nr='NL01INSBEAU08642468',account_holders=['George','Ente'])\n",
    "cur"
   ]
  },
  {
   "cell_type": "code",
   "execution_count": 41,
   "id": "bfb8d676-8212-4ff9-8cb8-52ce0ce84bbc",
   "metadata": {},
   "outputs": [
    {
     "data": {
      "text/plain": [
       "CurrentAccount(account_nr='NL01INSBEAU08642468', account_holders=['George', 'Ente'], balance=Decimal('45000'))"
      ]
     },
     "execution_count": 41,
     "metadata": {},
     "output_type": "execute_result"
    }
   ],
   "source": [
    "cur.deposit(45000)\n",
    "cur"
   ]
  },
  {
   "cell_type": "code",
   "execution_count": 42,
   "id": "28b35034-a40b-499e-b463-3819dcc541da",
   "metadata": {},
   "outputs": [
    {
     "data": {
      "text/plain": [
       "'the sum of 375.67 euro has been transferred to account_nr NL57SNSB8765.'"
      ]
     },
     "execution_count": 42,
     "metadata": {},
     "output_type": "execute_result"
    }
   ],
   "source": [
    "cur.transfer(counter='NL57SNSB8765', amount=375.67)"
   ]
  },
  {
   "cell_type": "code",
   "execution_count": 43,
   "id": "ca847de5-0103-4d7c-9227-0227f530db57",
   "metadata": {},
   "outputs": [
    {
     "data": {
      "text/plain": [
       "'this account has a balance of 44624.33 euro'"
      ]
     },
     "execution_count": 43,
     "metadata": {},
     "output_type": "execute_result"
    }
   ],
   "source": [
    "cur.get_balance()"
   ]
  },
  {
   "cell_type": "code",
   "execution_count": 44,
   "id": "1030ae46-1c45-4d60-b86e-a16792fee50d",
   "metadata": {},
   "outputs": [
    {
     "data": {
      "text/plain": [
       "__main__.CurrentAccount"
      ]
     },
     "execution_count": 44,
     "metadata": {},
     "output_type": "execute_result"
    }
   ],
   "source": [
    "type(cur)"
   ]
  },
  {
   "cell_type": "code",
   "execution_count": 45,
   "id": "af229d6b-c55b-48bf-8941-e1fd382e7eb1",
   "metadata": {},
   "outputs": [
    {
     "data": {
      "text/plain": [
       "True"
      ]
     },
     "execution_count": 45,
     "metadata": {},
     "output_type": "execute_result"
    }
   ],
   "source": [
    "issubclass(CurrentAccount,BankAccount)"
   ]
  },
  {
   "cell_type": "markdown",
   "id": "69538c8e-63a9-43ae-a2c3-6996b66e4ac3",
   "metadata": {},
   "source": [
    "#### **Super()**\n",
    "Even an abstract base class can implement methods and leave others abstract. This is useful for we can easily enough think of a use case where we want the base class to implement some methods for all its subclasses while letting the subclasses implement other themselves. \n",
    "\n",
    "This results in two questions:\n",
    " 1. How do we make sure the base class’s implementation is used? Simple use a call to `super()` in the subclass implementation\n",
    " 2. How can we make sure that a subclass does not override the base class implementation of the method. Again simple, you cannot. It is not Pythonic to do so, you must communicate why the implementation should not be overridden.\n"
   ]
  },
  {
   "cell_type": "code",
   "execution_count": 41,
   "id": "6e9b1195-5d05-459d-a7bb-82bff562cf5a",
   "metadata": {},
   "outputs": [],
   "source": [
    "from dataclasses import dataclass, field\n",
    "from typing import ClassVar, NamedTuple\n",
    "from decimal import Decimal\n",
    "from abc import ABC, abstractmethod\n",
    "\n",
    "\n",
    "class BankAccount(ABC):\n",
    "    '''an bankaccount interface'''\n",
    "    \n",
    "    @abstractmethod\n",
    "    def deposit(self, amount:float)->None:\n",
    "        pass\n",
    "    \n",
    "    @abstractmethod\n",
    "    def withdrawl(self, amount:float)->None:\n",
    "        pass\n",
    "    \n",
    "    @abstractmethod\n",
    "    def transfer(self, counter:str, amount)->str:\n",
    "        pass\n",
    "    \n",
    "    @abstractmethod\n",
    "    def get_balance(self)->str:        \n",
    "        pass\n",
    "    \n",
    "@dataclass\n",
    "class CurrentAccount(BankAccount):\n",
    "    account_nr:str\n",
    "    account_holders:list[str] = field(default_factory=list) \n",
    "    balance:Decimal=Decimal('0')\n",
    "    \n",
    "    def deposit(self, amount:float)->None:\n",
    "        self.balance += Decimal(str(amount))\n",
    "    \n",
    "    @abstractmethod\n",
    "    def withdrawl(self, amount:float)->None:\n",
    "        pass \n",
    "    \n",
    "    def transfer(self, counter:str, amount)->str:\n",
    "        amount = Decimal(str(amount))\n",
    "        if self.balance >= amount:\n",
    "            self.balance -= amount\n",
    "            return f'the sum of {amount} euro has been transferred to account_nr {counter}.'\n",
    "        else:\n",
    "            return f'account {self.account_nr} has insufficient funds for the requested transfer'\n",
    "\n",
    "    def get_balance(self)->str:        \n",
    "        return f'this account has a balance of {self.balance} euro'\n",
    "        \n",
    "@dataclass\n",
    "class ChildAccount(CurrentAccount):\n",
    "    account_nr:str\n",
    "    account_holders:list[str] = field(default_factory=list) \n",
    "    balance:Decimal=Decimal('0')\n",
    "    \n",
    "    def deposit(self, amount:float)->None:\n",
    "        super().deposit(amount)\n",
    "    \n",
    "    def withdrawl(self, amount:float)->None:\n",
    "        self.balance -= Decimal(str(amount))\n",
    "        \n",
    "    def transfer(self,counter:str,amount:float)->str:\n",
    "        return super().transfer(counter, amount)\n",
    "        \n",
    "    def get_balance(self)->str:\n",
    "        return super().get_balance()\n",
    "        \n",
    "    "
   ]
  },
  {
   "cell_type": "code",
   "execution_count": 42,
   "id": "b66d21e7-5a15-4482-8c87-f3f3bb13a853",
   "metadata": {},
   "outputs": [
    {
     "data": {
      "text/plain": [
       "'this account has a balance of 5000 euro'"
      ]
     },
     "execution_count": 42,
     "metadata": {},
     "output_type": "execute_result"
    }
   ],
   "source": [
    "child = ChildAccount(account_nr='NL63INGB09876', account_holders=['Ente'])\n",
    "child.deposit(5000)\n",
    "child.get_balance()"
   ]
  },
  {
   "cell_type": "markdown",
   "id": "072213b7-78fe-4227-8caf-624d6e18f1cf",
   "metadata": {},
   "source": [
    "If you have complicated function you don't have to overwrite them. \n",
    "You can just implement the parent version, but it needs to be able to distinct which object the method is performed on."
   ]
  },
  {
   "cell_type": "code",
   "execution_count": 43,
   "id": "114186c9-72e4-454c-9210-a96c4837778c",
   "metadata": {},
   "outputs": [
    {
     "data": {
      "text/plain": [
       "'the sum of 200 euro has been transferred to account_nr NL57SNSB876.'"
      ]
     },
     "execution_count": 43,
     "metadata": {},
     "output_type": "execute_result"
    }
   ],
   "source": [
    "child.transfer(counter='NL57SNSB876', amount=200)"
   ]
  },
  {
   "cell_type": "code",
   "execution_count": 44,
   "id": "95ea62b6-b5ff-4bb2-80e7-899f98dc5938",
   "metadata": {},
   "outputs": [
    {
     "data": {
      "text/plain": [
       "'this account has a balance of 4800 euro'"
      ]
     },
     "execution_count": 44,
     "metadata": {},
     "output_type": "execute_result"
    }
   ],
   "source": [
    "child.get_balance()"
   ]
  },
  {
   "cell_type": "markdown",
   "id": "381500e0-eae6-432a-801a-bef74b20d468",
   "metadata": {},
   "source": [
    "Let's expand the class a bit."
   ]
  },
  {
   "cell_type": "code",
   "execution_count": 45,
   "id": "0bcbaa3c-d813-461e-941d-93bb5ad47699",
   "metadata": {},
   "outputs": [],
   "source": [
    "from dataclasses import dataclass, field\n",
    "from typing import ClassVar, NamedTuple\n",
    "from decimal import Decimal\n",
    "from abc import ABC, abstractmethod\n",
    "\n",
    "\n",
    "class BankAccount(ABC):\n",
    "    '''an bankaccount interface'''\n",
    "    \n",
    "    @abstractmethod\n",
    "    def deposit(self, amount:float)->None:\n",
    "        pass\n",
    "    \n",
    "    @abstractmethod\n",
    "    def withdrawl(self, amount:float)->None:\n",
    "        pass\n",
    "    \n",
    "    @abstractmethod\n",
    "    def transfer(self, counter:str, amount)->str:\n",
    "        pass\n",
    "    \n",
    "    @abstractmethod\n",
    "    def get_balance(self)->str:        \n",
    "        pass\n",
    "    \n",
    "@dataclass\n",
    "class CurrentAccount(BankAccount):\n",
    "    account_nr:str\n",
    "    account_holders:list[str] = field(default_factory=list) \n",
    "    balance:Decimal=Decimal('0')\n",
    "    \n",
    "    def deposit(self, amount:float)->None:\n",
    "        self.balance += Decimal(str(amount))\n",
    "    \n",
    "    def withdrawl(self, amount:float)->None:\n",
    "        self.balance -= Decimal(str(amount))\n",
    "    \n",
    "    def transfer(self, counter:str, amount)->str:\n",
    "        amount = Decimal(str(amount))\n",
    "        if self.balance >= amount:\n",
    "            return f'the sum of {amount} euro has been transferred to account_nr {self.counter_account}.'\n",
    "        else:\n",
    "            return f'account {self.account_nr} has insufficient funds for the requested transfer'\n",
    "\n",
    "    def get_balance(self)->str:        \n",
    "        return f'this account has a balance of {self.balance} euro'\n",
    "    \n",
    "    #special method\n",
    "    def __str__(self)->str:\n",
    "        return f'the current account with number {self.account_nr} has a balance of {self.balance} euro.' \n",
    "\n",
    "@dataclass\n",
    "class SavingsAccount(BankAccount):\n",
    "    account_nr: str\n",
    "    balance: Decimal = Decimal('0')\n",
    "    rate:ClassVar[Decimal] = Decimal('2.0')\n",
    "    counter_account: BankAccount = None\n",
    "    account_holders:list[str] = field(default_factory = list)\n",
    "    \n",
    "    def deposit(self, amount:float)->None:\n",
    "        self.balance = self.balance + Decimal(str(amount)) \n",
    "    \n",
    "    def withdrawl(self, amount:float)->None:\n",
    "        self.transfer(amount)\n",
    "    \n",
    "    def transfer(self,amount:float)->str:\n",
    "        amount = Decimal(str(amount))\n",
    "        if self.balance >= amount:\n",
    "            self.balance = self.balance - amount\n",
    "            return f'{amount} euro has been send to {self.counter_account} your account has been debited with {amount} euro'\n",
    "        else:\n",
    "            return f'you have insufficent funds on the account with number {self.account_number}, the current balance is {self.balance}' \n",
    "    \n",
    "    def get_balance(self):\n",
    "        return f'your savings are {self.balance} euro'\n",
    "    \n",
    "    @classmethod\n",
    "    def set_interest_rate(self, rate=float)->None:\n",
    "        self.rate = Decimal(str(rate))\n",
    "\n",
    "    #special method    \n",
    "    def __str__(self)->str:\n",
    "        return f'the savings account with number {self.account_nr} has a balance of {self.balance} euro.' \n",
    "        \n",
    "@dataclass\n",
    "class InvestmentAccount(BankAccount):\n",
    "    '''an investment account class'''\n",
    "    account_nr:str\n",
    "    counter_account:str\n",
    "    account_holders:list[str]= field(default_factory=list)\n",
    "    balance:Decimal = Decimal('0')\n",
    "    stocks:list[(Stock,int,float)]=field(default_factory=list)\n",
    "    funds:list[Fund]=field(default_factory=list)\n",
    "    \n",
    "    def deposit(self, amount:float)->None:\n",
    "        self.balance += Decimal(str(amount))\n",
    "    \n",
    "    def withdrawl(self,amount):\n",
    "        self.balance += Decimal(str(amount))\n",
    "    \n",
    "    def transfer(self, amount:float)->str:\n",
    "        amount = Decimal(str(amount))\n",
    "        if self.balance >= amount:\n",
    "            return f'the sum of {amount} euro has been transferred to account_nr {self.counter_account}.'\n",
    "        else:\n",
    "            return f'account {self.account_nr} has insufficient funds for the requested transfer would you like to sell some stock or investment funds?'\n",
    "    \n",
    "    def get_balance(self)->str:\n",
    "        return f'current balance is {self.balance} euro.'\n",
    "    \n",
    "    def buy_stock(self,stock:Stock, number:int)->str:\n",
    "        if self.balance >= stock.current_price*number:\n",
    "            self.balance -= stock.current_price*number\n",
    "            self.stocks.append((Stock,number,stock.current_price))\n",
    "            return f'we have added {number} of stock {stock.company} to your investment account at a price of {stock.current_price*number} euro.'\n",
    "        else:\n",
    "            return 'you have insufficient funds the transaction can`t be executed'\n",
    "        \n",
    "    def sell_stock(self,stock:str)->None:\n",
    "        pass\n",
    "    \n",
    "    def invest_fund(self, fund:Fund, amount:float)->None:\n",
    "        pass\n",
    "    \n",
    "    def disinvest_fund(self,fund_name:str)->None:\n",
    "        pass\n",
    "    \n",
    "    #special methods\n",
    "    def __str__(self)->str:\n",
    "        return f'the investment account with number {self.account_nr} has a balance of {self.balance} euro.' \n",
    "\n",
    "    def __len__(self):\n",
    "        '''This function doesn't make too much sense, but implementing your own function determing the size of a class does'''\n",
    "        return sum([x for _,x,_ in self.stocks]) # uses pattern matching\n",
    "        \n"
   ]
  },
  {
   "cell_type": "code",
   "execution_count": 46,
   "id": "48de69d1-70fa-4941-ab0b-3bf1c9ee68d5",
   "metadata": {},
   "outputs": [
    {
     "name": "stdout",
     "output_type": "stream",
     "text": [
      "the current account with number NL01INSBEAU08642468 has a balance of 3800 euro.\n"
     ]
    }
   ],
   "source": [
    "cur = CurrentAccount(account_nr='NL01INSBEAU08642468',account_holders=['George','Rhino'])\n",
    "cur.deposit(3800)\n",
    "print(cur)"
   ]
  },
  {
   "cell_type": "code",
   "execution_count": 47,
   "id": "47204951-3438-419b-bc08-d6106f4c3a17",
   "metadata": {},
   "outputs": [
    {
     "data": {
      "text/plain": [
       "SavingsAccount(account_nr='NL57SNSB1234567', balance=Decimal('0'), counter_account='NL57SNSB0987654', account_holders=['George', 'Croc'])"
      ]
     },
     "execution_count": 47,
     "metadata": {},
     "output_type": "execute_result"
    }
   ],
   "source": [
    "sav = SavingsAccount(account_nr='NL57SNSB1234567', account_holders=['George','Croc'], counter_account='NL57SNSB0987654')\n",
    "sav"
   ]
  },
  {
   "cell_type": "code",
   "execution_count": 48,
   "id": "803cbecc-7223-4094-95e4-f5009e39ae8a",
   "metadata": {},
   "outputs": [
    {
     "name": "stdout",
     "output_type": "stream",
     "text": [
      "the savings account with number NL57SNSB1234567 has a balance of 78000 euro.\n"
     ]
    }
   ],
   "source": [
    "sav.deposit(78000)\n",
    "print(sav)"
   ]
  },
  {
   "cell_type": "code",
   "execution_count": 49,
   "id": "f948d9b0-6b6c-4fb8-80e1-91c2f1ffedbd",
   "metadata": {},
   "outputs": [
    {
     "name": "stdout",
     "output_type": "stream",
     "text": [
      "the investment account with number KEMPEN753197 has a balance of 25000000 euro.\n"
     ]
    }
   ],
   "source": [
    "inv = InvestmentAccount(account_nr='KEMPEN753197', account_holders=['Ente','Rhino'],counter_account='NL19INSBEAUF998999')\n",
    "inv.deposit(25000000)\n",
    "print(inv)"
   ]
  },
  {
   "cell_type": "code",
   "execution_count": 50,
   "id": "36fba2d4-5e5a-458b-971f-61baeba992d7",
   "metadata": {},
   "outputs": [
    {
     "data": {
      "text/plain": [
       "'we have added 5000 of stock ASML to your investment account at a price of 625000 euro.'"
      ]
     },
     "execution_count": 50,
     "metadata": {},
     "output_type": "execute_result"
    }
   ],
   "source": [
    "inv.buy_stock(asml, 5000)"
   ]
  },
  {
   "cell_type": "code",
   "execution_count": 51,
   "id": "3d4dfeb5-f0ae-4bfc-97e0-9cf44ac61dad",
   "metadata": {},
   "outputs": [
    {
     "data": {
      "text/plain": [
       "'we have added 10000 of stock Microsoft to your investment account at a price of 2270000 euro.'"
      ]
     },
     "execution_count": 51,
     "metadata": {},
     "output_type": "execute_result"
    }
   ],
   "source": [
    "inv.buy_stock(microsoft, 10000)"
   ]
  },
  {
   "cell_type": "code",
   "execution_count": 52,
   "id": "35516e40-4b2c-4298-bdbd-25424ee74038",
   "metadata": {},
   "outputs": [
    {
     "data": {
      "text/plain": [
       "15000"
      ]
     },
     "execution_count": 52,
     "metadata": {},
     "output_type": "execute_result"
    }
   ],
   "source": [
    "len(inv)"
   ]
  },
  {
   "cell_type": "markdown",
   "id": "5d7bbc6c-80d9-4189-89fb-99009e32b7e6",
   "metadata": {},
   "source": [
    "**Using ABC is the proper way to implement an interface in Python!**"
   ]
  },
  {
   "cell_type": "markdown",
   "id": "1ce6173e-5f82-4ada-bf14-8965bd055ccf",
   "metadata": {},
   "source": [
    "#### **Informal protocols**\n",
    "Python really does not use the word interface. Instead, it uses protocols, which are sort of interfaces, and abstract base classes. Most likely you have implemented protocols without even knowing it, as many protocols in Python are used implicitly, which is kind of a Python super power.\n",
    "\n",
    "For instance, we are implementing the sequence protocol in the example below."
   ]
  },
  {
   "cell_type": "code",
   "execution_count": 53,
   "id": "5aef52a4-e819-40bb-90d4-f3353807a5a2",
   "metadata": {},
   "outputs": [
    {
     "data": {
      "text/plain": [
       "'I'"
      ]
     },
     "execution_count": 53,
     "metadata": {},
     "output_type": "execute_result"
    }
   ],
   "source": [
    "class Vowels: \n",
    "    \n",
    "    def __getitem__(self, i)->str:# this is unsafe implementation and will give you an index out of bound error\n",
    "        return 'AEIOU'[i]\n",
    "        \n",
    "\n",
    "v = Vowels()\n",
    "v[2]"
   ]
  },
  {
   "cell_type": "markdown",
   "id": "cd3c3020-d17d-4758-9597-2489f92f32ac",
   "metadata": {},
   "source": [
    "`__getitem__()` is, as you know, a special method just implementing it is enough to implement the Sequence protocol    \n",
    "\n",
    "In Python this is known as a dynamic protocol. We have only partially implemented the Sequence protocol. In actual fact, to completely implement the Sequence protocol you would have to implement 5 other methods.    \n",
    "\n",
    "Just this partial implementation will allow you to do sequence things:\n",
    " 1. index in \n",
    " 2. slice\n",
    " 3. use de `in` operator\n",
    " 4. iterate over it. "
   ]
  },
  {
   "cell_type": "code",
   "execution_count": 54,
   "id": "1c74edb0-fbf8-42b2-ac7b-ed13a73d545d",
   "metadata": {},
   "outputs": [
    {
     "data": {
      "text/plain": [
       "'EI'"
      ]
     },
     "execution_count": 54,
     "metadata": {},
     "output_type": "execute_result"
    }
   ],
   "source": [
    "v[1:3]"
   ]
  },
  {
   "cell_type": "code",
   "execution_count": 55,
   "id": "665dffe2-031a-48b9-8b61-51bd2e53dcba",
   "metadata": {},
   "outputs": [
    {
     "data": {
      "text/plain": [
       "True"
      ]
     },
     "execution_count": 55,
     "metadata": {},
     "output_type": "execute_result"
    }
   ],
   "source": [
    "'A' in v"
   ]
  },
  {
   "cell_type": "code",
   "execution_count": 56,
   "id": "77dd221a-f300-4e00-82c7-9629fa39b1dd",
   "metadata": {},
   "outputs": [
    {
     "name": "stdout",
     "output_type": "stream",
     "text": [
      "A\n",
      "E\n",
      "I\n",
      "O\n",
      "U\n"
     ]
    }
   ],
   "source": [
    "for vowel in v:\n",
    "    print(vowel)"
   ]
  },
  {
   "cell_type": "markdown",
   "id": "e59fc80c-8db5-492c-a25b-9a7f1ad5c4f6",
   "metadata": {},
   "source": [
    "This type of implicit protocol implementation is, as you can see, an immensely powerful tool in your Python toolkit.\n",
    "It is one of the reasons Python is such a popular language. This type of partial on the fly implementation of a protocol is not possible in static languages, such as Java."
   ]
  },
  {
   "cell_type": "markdown",
   "id": "41102f7e-7fb7-4fa1-8f98-288cd2379d02",
   "metadata": {},
   "source": [
    "#### **static protocol**\n",
    "Introduced in Python 3.8 there is also a static form of DuckTyping see https://peps.python.org/pep-0544/. A static protocol enforces you to implement the entire protocol, the main benefit is that you can use a type checker as MyPy https://www.mypy-lang.org/ to see if the protocol is completely implemented, and thus finally guarantee subtype.    \n",
    "\n",
    "I am not going into static protocols for a quite simple reason. Static type checking by the interpreter in Python is not possible. Yes, you can static type checking with for instance MyPy, but this is at compile time at runtime Python does not care about MyPy. I then also feel that if you want to do static type checking, you might want to move to a language like Go-lang or if you don't mind the verbosity of Java (I do) use Java.    \n",
    "\n",
    "Python's strength is that it is dynamic as we have seen in the previous example.\n"
   ]
  },
  {
   "cell_type": "markdown",
   "id": "3904445d-a4b7-439c-a3c5-7abf780f8e39",
   "metadata": {},
   "source": [
    "#### **Zope** \n",
    "Now I have mentioned static protocols, I should probably mention zope. It is a library that allows you to build actual interfaces in Python.\n",
    "See https://zope.dev/"
   ]
  },
  {
   "cell_type": "markdown",
   "id": "ff8392a2-7b03-4244-b43a-14c93ce5f60a",
   "metadata": {},
   "source": [
    "## **The end**"
   ]
  }
 ],
 "metadata": {
  "kernelspec": {
   "display_name": "Python 3 (ipykernel)",
   "language": "python",
   "name": "python3"
  },
  "language_info": {
   "codemirror_mode": {
    "name": "ipython",
    "version": 3
   },
   "file_extension": ".py",
   "mimetype": "text/x-python",
   "name": "python",
   "nbconvert_exporter": "python",
   "pygments_lexer": "ipython3",
   "version": "3.11.1"
  }
 },
 "nbformat": 4,
 "nbformat_minor": 5
}
