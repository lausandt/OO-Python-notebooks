{
 "cells": [
  {
   "cell_type": "markdown",
   "id": "d9e60813-f185-48b9-8a84-298fe89bdf8c",
   "metadata": {
    "tags": []
   },
   "source": [
    "## **SOLID the good, the bad & the ugly**\n",
    "I need to start with a confession, I am not a fan of the OO-paradigm. I find objected-oriented programming & design often wieldy, overly verbose, and that most perceived benefits are easily achieved in other paradigms. If we see an object as module with a public interface, then modular programming, code reuse and information hiding are achieved in pretty much all modern languages.\n",
    "\n",
    "I perceive object-oriented programming to have two distinct advantages:\n",
    " 1. The object-oriented paradigm makes it easy to model real world phenomena.\n",
    " 2. The object-oriented paradigm is well structured.\n",
    "    \n",
    "Where I find the OO-model to be well structured, I would argue that SOLID makes it seriously over structured. So serious in fact that it becomes nearly impossible to grasp what is going on in the code (yes this applies to GRASP too :-) ). But I should probably stop essaying and tell you what SOLID is first. SOLID is an acronym for five design principles intended to make object-oriented designs more understandable, flexible, and maintainable (see https://en.wikipedia.org/wiki/SOLID). Brought together by Bob Martin aka Uncle Bob in the nineties to stop something he called software rot (see http://butunclebob.com/ArticleS.UncleBob.PrinciplesOfOod).   \n",
    "\n",
    "The principles themselves are not the brainchildren of Bob Martin (as I am sure he would acknowledge straightaway), but of truly eminent computer scientist as, Betrand Meyer, Edsger Dijkstra, Barbera Liskov, and others. The ideas that are brought together in SOLID originated in the sixties, seventies, and eighties in a time where computer programming was in its infancy.  \n",
    "\n",
    "This leads to a question, are a lot of these ideas still valid. Is style of programming that Bob Martin champions still applicable within a programming world where JavaScript is probably the most used language, closely followed by Python. Both languages without a strong static type system! When SOLID was written the most used language would surely have been C, followed by Pascal and C++ with Java at the ascent. Nowadays you can question if anybody outside of the systems programming world still programs in C/C++. With other words is application development still done with those languages? You could even wonder if with advent of Rust you still program systems with C/C++? How does agility function with SOLID? I mean in his book on GRASP, Larman (Applying UML and Patterns: An Introduction to Object-Oriented Analysis and Design and the Unified Process) uses the unified process, which I think most people would suggest is not that agile. All questions that I feel are justified to ask, but I will not endeavour to answer here, but they have, I would suggest, a profound impact on SOLID. \n",
    "\n",
    "In this notebook however, I just want to focus on Python and the implementation of the SOLID principles for Python. I want to investigate what is useful and what is not. I want you to be able to understand SOLID and question it. I do this with a title inspired by Betrand Meyer, who authored a book on Agile, called Agile, the good, the bad, and the ugly. \n",
    "\n",
    "Let me start off with the good in SOLID.\n"
   ]
  },
  {
   "attachments": {
    "8c056ac3-c414-4eb6-ad40-adea9afbf008.png": {
     "image/png": "[encoded data removed]"
    }
   },
   "cell_type": "markdown",
   "id": "0201ac44-d3cd-470a-a052-8eaa6b15a45a",
   "metadata": {},
   "source": [
    "#### **The single responsibility principle (S)**\n",
    "The single responsibility principle (SRP for short) leads to a lot of confusion (mostly thanks to Uncle Bob who is often far from rigorous in his definitions, unlike the people he borrows his ideas from). For unlike what is often thought, SRP is not about having your classes and functions having only one single responsibility! \n",
    "\n",
    "It means that the responsibility of changing a module (class) lies with one actor. Bob Martin rewords this principle as: Gather together the things that change for the same reasons. Separate those things that change for distinct reasons, see https://blog.cleancoder.com/uncle-bob/2014/05/08/SingleReponsibilityPrinciple.html. This is a much older idea as Bob Martin rightfully suggest. It comes from Edsger Dijkstra who wrote about separation of concerns in his paper on scientific thought (https://www.cs.utexas.edu/users/EWD/transcriptions/EWD04xx/EWD447.html) In other words, we look at the core responsibilities of a class and separate out the none core, after we have done that, we limit access to that class to the only actor (most of the times another class) that has the responsibility to change that class. Both should ideally happen to make it single responsibility.\n",
    "\n",
    "To understand this requires an example, first one, not adhering to single responsibility, then we make it adhere.   \n",
    "\n",
    "As SOLID is al about design we start with a UML diagram    \n",
    "\n",
    "![afbeelding.png](attachment:8c056ac3-c414-4eb6-ad40-adea9afbf008.png)\n",
    "\n"
   ]
  },
  {
   "cell_type": "code",
   "execution_count": null,
   "id": "7fcb75e7-b630-4288-9ec5-89fcb11fa920",
   "metadata": {},
   "outputs": [],
   "source": [
    "from dataclasses import dataclass\n",
    "from datetime import date\n",
    "\n",
    "@dataclass\n",
    "class Employee:\n",
    "    '''I am going to keep the program examples simple they are not meant to be perfect, but to show you the point'''\n",
    "    employee_id:str\n",
    "    job_title:str\n",
    "    name:str\n",
    "    salary:float=0.0\n",
    "    employment_status:bool=True\n",
    "    \n",
    "    def end_employment(self)->None:\n",
    "        self.employment_status = False\n",
    "        \n",
    "    def raise_salary(self, percentage)->bool:\n",
    "        self.salary *= (1+percentage)        \n",
    "    \n",
    "    def calculate_income_tax(self)->float:\n",
    "        # todo include logic for calculating income tax\n",
    "        pass\n",
    "    \n",
    "    def __str__(self)->str:\n",
    "        return f'{type(self).__name__}`s name is {self.name}, he is our {self.job_title}.'"
   ]
  },
  {
   "cell_type": "code",
   "execution_count": null,
   "id": "85dacacd-6a56-44b3-970b-d8c1eaab8fc8",
   "metadata": {},
   "outputs": [],
   "source": [
    "croc = Employee(employee_id='Croc1', job_title='Chief Snacking Officer', name='Croc', salary=85250)\n",
    "croc"
   ]
  },
  {
   "cell_type": "code",
   "execution_count": null,
   "id": "47bf7477-44e2-4d33-a789-8294eb60e1f3",
   "metadata": {},
   "outputs": [],
   "source": [
    "print(croc)"
   ]
  },
  {
   "cell_type": "markdown",
   "id": "3d867a75-5349-4ce2-b4bd-090b549bb81d",
   "metadata": {},
   "source": [
    "We have our employee, the variables define the employee, \n",
    "they make it unique. At minimal we could expect employee_id to be unique and therefore the whole object is unique.\n",
    "\n",
    "However now we should start thinking about the methods that are defined for this employee. Are they unique, are they there for every employee? Should employee have these at all. We go back to Bob Martin: Gather together the things that change for the same reasons. Separate those things that change for distinct reasons.: \n",
    " 1. Who changes the employment status? \n",
    " 2. who raises salary? \n",
    " 3. who calculates income tax? \n",
    " 4. who tells about the employee?    \n",
    " \n",
    " The answers are:\n",
    " 1. The human resources department.\n",
    " 2. ditto. \n",
    " 3. The financial department.\n",
    " 4. Employee itself.\n",
    "\n",
    "We need to separate the first three concerns. Also, we should stop for a second, and consider who creates an employee. Fairly obvious but, this should not be the Employee class itself. We need at minimal create a class responsible for our employee object."
   ]
  },
  {
   "cell_type": "code",
   "execution_count": null,
   "id": "33713c93-3312-41bf-b1c9-d5dc09bc7571",
   "metadata": {},
   "outputs": [],
   "source": [
    "from dataclasses import dataclass, field\n",
    "from typing import ClassVar\n",
    "\n",
    "@dataclass\n",
    "class Employee:\n",
    "    employee_id:str\n",
    "    job_title:str\n",
    "    name:str\n",
    "    salary:float=0.0\n",
    "    employment_status:bool=True\n",
    "    \n",
    "    def __str__(self)->str:\n",
    "        return f'{type(self).__name__}`s name is {self.name}, he is our {self.job_title}.'\n",
    "    \n",
    "@dataclass    \n",
    "class HRMEmployee: \n",
    "    employees:list[str] = field(default_factory = list)\n",
    "    \n",
    "    def create_employee(self, employee_id:str, job_title:str, name:str, salary:float)->Employee:\n",
    "        '''method to create and store an employee'''\n",
    "        employee = Employee(employee_id=employee_id, job_title=job_title, name=name, salary=salary) \n",
    "        self.employees.append(employee)\n",
    "        return employee\n",
    "    \n",
    "    def end_employment(self, employee:Employee)->None:\n",
    "        if employee in self.employees:\n",
    "            employee.employment_status = False\n",
    "            employee.end_employment_date = date.now()\n",
    "        else:\n",
    "            print('Employee is unknown')\n",
    "                       \n",
    "    def raise_salary(self, employee:Employee, percentage:float)->None:\n",
    "        if employee in self.employees:\n",
    "            employee.salary *= (1+percentage)\n",
    "        else:\n",
    "            print('Employee is unknown')\n",
    "\n",
    "@dataclass        \n",
    "class FinTaxEmployee:\n",
    "    \n",
    "    taxrate:ClassVar[float]=0.41\n",
    "    \n",
    "    def calculate_income_tax(self, salary:float)->float:\n",
    "        return salary*self.taxrate"
   ]
  },
  {
   "cell_type": "code",
   "execution_count": null,
   "id": "8ad48bbb-8d3f-4f69-8dc0-8de77ebfe0c8",
   "metadata": {},
   "outputs": [],
   "source": [
    "croc = HRMEmployee().create_employee(employee_id='Croc1', job_title='Chief Snacking Officer', name='Croc', salary=85250)\n",
    "croc"
   ]
  },
  {
   "cell_type": "code",
   "execution_count": null,
   "id": "28651310-ca9c-4181-9bfa-d67e65eeee72",
   "metadata": {},
   "outputs": [],
   "source": [
    "print(croc)"
   ]
  },
  {
   "cell_type": "code",
   "execution_count": null,
   "id": "4b8e8a5c-cd4f-4cac-8171-d3780bfb5736",
   "metadata": {},
   "outputs": [],
   "source": [
    "FinTaxEmployee().calculate_income_tax(croc.salary)"
   ]
  },
  {
   "attachments": {
    "458decb9-bbae-4e97-83ad-13cdb9081b41.png": {
     "image/png": "[encoded data removed]"
    }
   },
   "cell_type": "markdown",
   "id": "e6cc8862-7a9a-4c98-9ce4-0ef404cef446",
   "metadata": {},
   "source": [
    "This is single responsibility principle in optima forma.\n",
    "We have separated out the different concerns to the different actors that are responsible for those concerns. \n",
    "\n",
    "HRMEmployee is responsible for change of Employee. Employee is only tasked with methods the Employee need to execute. which currently is to tell about itself via the `__str__` and `__repr__` special methods (only the former is explicitly programmed, the latter comes from the dataclass decorator).   \n",
    "\n",
    "Let's look at a diagram of this:\n",
    "\n",
    "![afbeelding.png](attachment:458decb9-bbae-4e97-83ad-13cdb9081b41.png)    \n",
    "\n",
    "My UML is shoddy at best you get the point\n",
    "\n",
    "\n"
   ]
  },
  {
   "cell_type": "markdown",
   "id": "91668d4c-f430-47dd-b0ca-03b6596d2e10",
   "metadata": {
    "tags": []
   },
   "source": [
    "#### **high cohesion / low coupling**\n",
    "The single responsibility principle is definitely a good principle. Perhaps the single responsibilty is Bob Martin's attempt to reformulate the software quality principles of high cohesion / low coupling which come from Larry Constatine, from his 1960's work on structured design in programming.   \n",
    "\n",
    "High cohesion is the degree to which the elements inside a module (class & more) belong together, it is a measure of the strength of relationship between the methods and data of a class and some unifying purpose or concept served by that class. (See https://en.wikipedia.org/wiki/Cohesion_(computer_science) for the complete definition)\n",
    "\n",
    "Let see an example first of low cohesion  "
   ]
  },
  {
   "cell_type": "code",
   "execution_count": null,
   "id": "322d4257-c8b2-47f1-a535-9f04e9b59094",
   "metadata": {},
   "outputs": [],
   "source": [
    "from dataclasses import dataclass\n",
    "\n",
    "@dataclass\n",
    "class User:\n",
    "    name:str \n",
    "    email_address:str\n",
    "    \n",
    "    def get_user(self)->str:\n",
    "        return self.name\n",
    "    \n",
    "    def set_user(self, name:str)->None:\n",
    "        self.name = name\n",
    "\n",
    "    def get_email_addess(self)->str:\n",
    "        return self.email\n",
    "    \n",
    "    def set_email_address(self, email_address:str)->None:\n",
    "        self.email_adress = email_address\n",
    "        \n",
    "    def validate_email_address(self, email_address:str)->bool:\n",
    "        return self.email_address==email_address\n",
    "    \n",
    "    def send_email(self)->str:\n",
    "        return 'bye bye'  "
   ]
  },
  {
   "cell_type": "markdown",
   "id": "31d9d0af-70bf-4212-b847-cb0db0588590",
   "metadata": {},
   "source": [
    "As a (email) user you may store an email, but user should not validate or send emails. These are jobs for an Email class    \n",
    "\n",
    "Here is a high cohension version."
   ]
  },
  {
   "cell_type": "code",
   "execution_count": null,
   "id": "e4af79ee-7aef-4ac9-95e1-03e4cd70fba1",
   "metadata": {},
   "outputs": [],
   "source": [
    "from dataclasses import dataclass\n",
    "\n",
    "@dataclass\n",
    "class EmailUser:\n",
    "    name:str \n",
    "    email_adress:str\n",
    "    \n",
    "    def get_user(self)->str:\n",
    "        return self.name\n",
    "    \n",
    "    def set_user(self, name:str)->None:\n",
    "        self.name = name\n",
    "\n",
    "    def get_email(self)->str:\n",
    "        return self.email_adress\n",
    "    \n",
    "    def set_email(self, email_address:str)->None:\n",
    "        self.email_address = email_address"
   ]
  },
  {
   "cell_type": "markdown",
   "id": "7d616ed3-f724-4bdd-80a0-b3bdf0df7299",
   "metadata": {},
   "source": [
    "This class has high cohesion and adheres to the first part of the single responsibility.    \n",
    "\n",
    "Classes with a single, well-defined purpose are easy to understand and much more readable. The name of a class should convey the use of such a class, there are many distinct types of users possible, EmailUser narrows that down to one. EmailUser is here to store data about the user. Email is there to send email and check the validity of an email address.\n",
    "\n",
    "High Cohesion has specific advantages:\n",
    " 1. code is clearer, less cluttered.\n",
    " 2. code is easier to change (if you want that, which you should consider carefully).\n",
    " 3. code is easier to test."
   ]
  },
  {
   "cell_type": "markdown",
   "id": "0d698f0f-f3b7-4d2d-8c27-c948f68f3fff",
   "metadata": {},
   "source": [
    "#### **Immutability in data**\n",
    "We should have a good long look at our second \"good\" class. The class User has two traits, it has a name and an email address. Should we want that name to change, should we want that email address to change. I think the answer is no for both questions. Better create a new object and delete this one instead of changing it.    \n",
    "\n",
    "One of the main reasons that OO-programs contain more bugs than functional programs is that functional programs treat their data as immutable. For instance in Haskell if you remove an element from a list, the compiler actually creates a new list, with all but the one element removed from the previous list. Order is of course preserved. Many bugs in objected-oriented programming come from changing objects to have different values. \n",
    "\n",
    "In Python (with dataclasses) we can make these traits resistant to change, we can freeze them."
   ]
  },
  {
   "cell_type": "code",
   "execution_count": null,
   "id": "5f8dcef8-30cd-42e5-9c65-7e591548ffc0",
   "metadata": {},
   "outputs": [],
   "source": [
    "from dataclasses import dataclass\n",
    "\n",
    "@dataclass(frozen=True)\n",
    "class EmailUser:\n",
    "    name:str \n",
    "    email_address:str\n",
    "    \n",
    "    def get_user(self)->str:\n",
    "        return self.name\n",
    "    \n",
    "    def get_email(self)->str:\n",
    "        return self.email_address\n",
    "    "
   ]
  },
  {
   "cell_type": "code",
   "execution_count": null,
   "id": "45919a24-0516-4e2d-a6c4-53e6fd4a811c",
   "metadata": {},
   "outputs": [],
   "source": [
    "user = EmailUser(name='Croc',email_address='croc@peckish.com')\n",
    "user"
   ]
  },
  {
   "cell_type": "code",
   "execution_count": null,
   "id": "ce066e30-d426-4568-ab5a-a6029f0d96c0",
   "metadata": {},
   "outputs": [],
   "source": [
    "user.get_user()"
   ]
  },
  {
   "cell_type": "code",
   "execution_count": null,
   "id": "5c619c14-d877-4ac5-8c64-4540944337a6",
   "metadata": {},
   "outputs": [],
   "source": [
    "user.get_email()"
   ]
  },
  {
   "cell_type": "code",
   "execution_count": null,
   "id": "39310acf-a928-4eaa-b9f8-3686b99d98e8",
   "metadata": {},
   "outputs": [],
   "source": [
    "user.email_address = 'snacky@blueheron.com'"
   ]
  },
  {
   "cell_type": "markdown",
   "id": "f17d537f-28d9-441a-ade2-64a09bb71e10",
   "metadata": {
    "tags": []
   },
   "source": [
    "**Immutability increases testability**    \n",
    "\n",
    "The importance of immutable data lies in that there are simply less bugs in immutable data. If you can't change an attribute, you can't change it to an easy breakable type. For instance, you have a programmer that needs the EmailUser object croc to have an email address croc@peckish.com, and it finds snacky@blueheron.com, the program crashes. (Of course, this kind of dependency should always be avoided, yet it is still found)   \n",
    "\n",
    "Immutability allows you to reason about the program with much confidence, you know  a particular object won't have changed since creation. This allows you to test easier. In general, the order in which you can test things from easy to difficult are:\n",
    " 1. a pure (mathematical) function, meaning no side effects.\n",
    " 2. A class that has immutable state.\n",
    " 3. A class that has mutable state but has no dependencies with behaviour (not depending on other objects).\n",
    " 4. A class that operates against a dependency with its own behaviours.\n",
    " \n",
    "It is better to create a new object instead of changing it!"
   ]
  },
  {
   "attachments": {
    "36e95453-acf1-4cdf-9b0b-25c03aeff49e.png": {
     "image/png": "[encoded data removed]"
    }
   },
   "cell_type": "markdown",
   "id": "347fad3f-cb0e-480b-aa4f-96ce855a145b",
   "metadata": {},
   "source": [
    "Have a look at another example of High Cohesion a good one and a bad one.   \n",
    "\n",
    "Think about a class Book, a book has a title, a title would be a string, a book has an author and perhaps authors, we would need a list of string, finally a book has text, which is again a string. A book is an inanimate object, once the book is done it cannot change (except for some underlining and scribbling in the side lines perhaps) until you print a second edition. In this case it makes sense to make it frozen.\n",
    "\n",
    "![afbeelding.png](attachment:36e95453-acf1-4cdf-9b0b-25c03aeff49e.png)"
   ]
  },
  {
   "cell_type": "code",
   "execution_count": null,
   "id": "4813769c-1a43-4462-be69-a353b4dafabe",
   "metadata": {},
   "outputs": [],
   "source": [
    "from dataclasses import dataclass, field\n",
    "\n",
    "@dataclass(frozen=True)\n",
    "class Book:\n",
    "    title:str\n",
    "    text:str\n",
    "    authors:list[str]= field(default_factory=list) \n",
    "    \n",
    "    def get_title(self)->str:\n",
    "        return self.title\n",
    "    \n",
    "    def read_text(self):\n",
    "        return self.text\n",
    "    \n",
    "    def get_authors(self)->str:\n",
    "        result = ''\n",
    "        for author in self.authors:\n",
    "            result = result + author + ' '\n",
    "        return result\n",
    "    \n",
    "    def is_word_in_text(self, word:str)->bool:\n",
    "        return word in self.text\n",
    "    "
   ]
  },
  {
   "cell_type": "markdown",
   "id": "de9680aa-65dc-40bb-bdc2-7d01a17a46ed",
   "metadata": {},
   "source": [
    "Let's create a book"
   ]
  },
  {
   "cell_type": "code",
   "execution_count": null,
   "id": "37de494c-b3e2-4aa4-978b-b15afbb8caa8",
   "metadata": {},
   "outputs": [],
   "source": [
    "fpy = Book(title='Fluent in Python', text='use the tools Python offers you!', authors=['Luciano Ramalho'])\n",
    "fpy"
   ]
  },
  {
   "cell_type": "code",
   "execution_count": null,
   "id": "e2ec0837-1948-493f-b997-eabe2ca2f7ca",
   "metadata": {},
   "outputs": [],
   "source": [
    "print(fpy.get_authors())"
   ]
  },
  {
   "cell_type": "code",
   "execution_count": null,
   "id": "3cff9674-13ed-47d7-a550-3bccabaef2ad",
   "metadata": {},
   "outputs": [],
   "source": [
    "fpy.is_word_in_text('tools')"
   ]
  },
  {
   "cell_type": "markdown",
   "id": "c3461843-a250-4320-b70b-26e528be46cf",
   "metadata": {},
   "source": [
    "Now we add a print function to it, a function to print to the console"
   ]
  },
  {
   "cell_type": "code",
   "execution_count": null,
   "id": "d18470b2-da7d-46a2-8de6-fc8e1cfbfc3c",
   "metadata": {},
   "outputs": [],
   "source": [
    "from dataclasses import dataclass, field\n",
    "\n",
    "@dataclass(frozen=True)\n",
    "class BadBook:\n",
    "    title:str\n",
    "    text:str\n",
    "    authors:list[str]= field(default_factory=list) \n",
    "    \n",
    "    def get_title(self)->str:\n",
    "        return title\n",
    "    \n",
    "    def read_text(self):\n",
    "        return text\n",
    "    \n",
    "    def get_authors(self)->str:\n",
    "        result = ''\n",
    "        for author in self.authors:\n",
    "            result = result + author + ' '\n",
    "        return result\n",
    "    \n",
    "    def is_word_in_text(self, word:str)->bool:\n",
    "        return word in self.text\n",
    "    \n",
    "    def print_to_console(self):\n",
    "        pass "
   ]
  },
  {
   "cell_type": "markdown",
   "id": "a23568a9-b280-4e50-99ca-89c2e868c655",
   "metadata": {},
   "source": [
    "Let's think about this, is printing an operation that belongs to books?    \n",
    "\n",
    "No it isn't. This is the responsibility of different class let's call it the BookPrinter class"
   ]
  },
  {
   "cell_type": "code",
   "execution_count": null,
   "id": "d310ec20-eb5e-4f19-b212-4f0658ec175c",
   "metadata": {},
   "outputs": [],
   "source": [
    "from dataclasses import dataclass\n",
    "\n",
    "@dataclass\n",
    "class BookPrinter:\n",
    "    \n",
    "    def print_to_console(self, text:str)->None:\n",
    "        print(text)\n",
    "        \n",
    "    def print_to_file(self,name:str, text:str, path:str)->None:\n",
    "        with open(f'{name}.txt', path) as f:\n",
    "            f.write(text)"
   ]
  },
  {
   "cell_type": "code",
   "execution_count": null,
   "id": "fdd6d028-2062-475a-bd6b-26f8b339eaf2",
   "metadata": {},
   "outputs": [],
   "source": [
    "bp = BookPrinter()\n",
    "bp.print_to_console(fpy.read_text())"
   ]
  },
  {
   "cell_type": "markdown",
   "id": "c532a891-ed01-4532-ac33-6396d27e5118",
   "metadata": {},
   "source": [
    "This class adheres to SRP and High Cohesion.     \n",
    "\n",
    "I want you to notice how I implemented another print function. By using high cohesion, the classes have single responsibility, and I can easily expand the class with more functionality as I did in BookPrinter. We are open to extension."
   ]
  },
  {
   "cell_type": "markdown",
   "id": "d0dd8b0c-6fcc-44e9-b10a-e5fea3af7961",
   "metadata": {},
   "source": [
    "#### **Low coupling** \n",
    "As stated, the OO-model causes dependencies. some of these dependencies are wanted. For instance, we want to use that library in our code. Other dependencies such as the dependency of a class on another class we want to avoid as much as possible. We call this type of dependency coupling. Coupling is the degree of interdependence (dependencies) between classes (modules). \n",
    "\n",
    "Coupling is all about how much change you will have to do in one class if there is a change in another class. Let's look at bad and a good example, consider our BookPrinter. Let's add an attribute book to it.\n"
   ]
  },
  {
   "cell_type": "code",
   "execution_count": null,
   "id": "c9553ad2-7c1a-42be-a16b-af447602c470",
   "metadata": {},
   "outputs": [],
   "source": [
    "from dataclasses import dataclass\n",
    "\n",
    "@dataclass\n",
    "class BadBookPrinter:\n",
    "    path:str\n",
    "    book:Book=None\n",
    "    \n",
    "    def print_to_console(self)->None:\n",
    "        print(self.book.read_text())\n",
    "        \n",
    "    def print_to_file(self)->None:\n",
    "        with open(f'{self.book.get_title()}.txt', self.path) as f:\n",
    "            f.write(self.book.get_text())"
   ]
  },
  {
   "cell_type": "code",
   "execution_count": null,
   "id": "e864eade-ef92-4370-8377-df03dda9b155",
   "metadata": {},
   "outputs": [],
   "source": [
    "badprinter = BadBookPrinter(book=fpy, path='')"
   ]
  },
  {
   "cell_type": "code",
   "execution_count": null,
   "id": "86a94cbb-849a-490b-b1a2-ba650b6a9fe3",
   "metadata": {},
   "outputs": [],
   "source": [
    "badprinter.print_to_console()"
   ]
  },
  {
   "cell_type": "markdown",
   "id": "c3a66898-e87d-490e-861c-6d1370427db1",
   "metadata": {},
   "source": [
    "The code works, yet this is still bad code, try to answer why this would be bad code."
   ]
  },
  {
   "cell_type": "code",
   "execution_count": null,
   "id": "abaf302e-e5f0-4c4d-9c98-c45965bf895d",
   "metadata": {},
   "outputs": [],
   "source": [
    "from dataclasses import dataclass\n",
    "\n",
    "@dataclass\n",
    "class BookPrinter:\n",
    "    path:str\n",
    "    title:str\n",
    "    book_text:str\n",
    "    \n",
    "    def print_to_console(self)->None:\n",
    "        print(self.book_text)\n",
    "        \n",
    "    def print_to_file(self)->None:\n",
    "        with open(f'{self.title}.txt', self.path) as f:\n",
    "            f.write(self.book_text)"
   ]
  },
  {
   "cell_type": "code",
   "execution_count": null,
   "id": "76a05f90-fbf0-4c72-b5b3-c09976d8a963",
   "metadata": {},
   "outputs": [],
   "source": [
    "goodprinter = BookPrinter(path='', title=fpy.title, book_text=fpy.read_text())\n",
    "goodprinter.print_to_console()"
   ]
  },
  {
   "attachments": {
    "ae9eae93-d243-4312-a2ca-91d98c135df0.png": {
     "image/png": "[encoded data removed]"
    }
   },
   "cell_type": "markdown",
   "id": "e893d42a-f5f2-4281-b167-10ef82c67297",
   "metadata": {},
   "source": [
    "This implementation is good but, why is this class good and the former class bad? \n",
    "\n",
    "Remember SOLID is about designing software, not programming. If you wanted to reimplement the Book class which of these two classes is dependent on that book class and which isn't?\n",
    "\n",
    "A picture says a thousand words:   \n",
    "\n",
    "![afbeelding.png](attachment:ae9eae93-d243-4312-a2ca-91d98c135df0.png)\n",
    "\n",
    "You should try to avoid usage of objects in your classes. In general, I would suggest you should only use objects if you need all their attributes and methods otherwise use simple data types, for instance in BookPrinter we use a string. `book_text` Where in BadBookPrinter we use the entire book object. Thus, giving BadBookPrinter access to other variables and methods this class doesn't use nor need. Now here this is pretty much harmless, but it is easy to envision a class where this not the case. Classes should only receive the information that is need for these classes to function. Of course, this might be an object, but most of the time it is better to use a simple data type like a string or an int. \n",
    "  \n",
    "Also remember that the meaning of SRP is that only one actor has the responsibility to change a class, giving BadBookPrinter access to Book means that potentially BadBookPrinter can change all attributes of Book.\n",
    "Furthermore, we give BookPrinter access to much more information than it needs to operate. This goes against the OO principle of information hiding, see https://en.wikipedia.org/wiki/Information_hiding.\n",
    "\n",
    "Loose coupling has two distinct advantages:\n",
    " 1. tightly coupled classes are difficult to change. As you could see if we want to change our Book class and remove the text attribute, our BadBookPrinter would have to change too.\n",
    " 2. tightly coupled classes are difficult to test. Not only do you need to test the functionality of their classes, but also their interdependencies.\n"
   ]
  },
  {
   "cell_type": "markdown",
   "id": "694f38a5-88d5-4783-be51-80e15c47e1ee",
   "metadata": {},
   "source": [
    "**High quality software shows high cohesion / low coupling!**"
   ]
  },
  {
   "cell_type": "markdown",
   "id": "37127bcf-24d3-4ae9-a0ee-9f353336ca5e",
   "metadata": {},
   "source": [
    "#### **The Open/Closed principle** (O) \n",
    "The open close principle is the idea that we should be able to expand a class without changing the code of that class. The obvious way to do this by a form of inheritance. There are then also two forms of the open/closed principle:\n",
    " 1. Meyer OCP: where a class inherits from another class with implementations\n",
    " 2. Polymorphic OCP: the use of interface/ABC (abstract base classes) to implement inheritance.    \n",
    " \n",
    "Although Betrand Meyer invented OCP (He is a better guru than uncle Bob) you shouldn't use the Meyer OCP because you end up creating unnecessary child/parent relationships.    \n",
    "\n",
    "Let's look at a Meyer OCP and how this does not adhere to our quality principle of low coupling.\n"
   ]
  },
  {
   "cell_type": "code",
   "execution_count": null,
   "id": "70d4e8b5-9dae-461f-b55b-edc99fadee16",
   "metadata": {},
   "outputs": [],
   "source": [
    "from dataclasses import dataclass\n",
    "\n",
    "@dataclass\n",
    "class Guitar:\n",
    "    make:str\n",
    "    model:str\n",
    "    strings:int=6\n",
    "    \n",
    "    def get_make(self)->str:\n",
    "        return self.make\n",
    "    \n",
    "    def get_model(self)->str:\n",
    "        return self.model \n",
    "    \n",
    "    def play(self)->str:\n",
    "        return f' my {self.strings} strings are singing'\n",
    "    "
   ]
  },
  {
   "cell_type": "code",
   "execution_count": null,
   "id": "a697ecf5-d280-41f7-99ec-6b2020264e3d",
   "metadata": {},
   "outputs": [],
   "source": [
    "tod = Guitar(make='Ibanez', model='tod10')\n",
    "tod.play()"
   ]
  },
  {
   "cell_type": "markdown",
   "id": "94c07f83-6440-4b98-9649-f84288f32dcd",
   "metadata": {},
   "source": [
    "Now we want to expand the class with some flames on it. However if we expand our guitar class we might have problems, \n",
    "all guitars of this class now have potentially a flame. \n",
    "\n",
    "In reality of course changing the Guitar class could create a host of problems in our code somewhere else. So we extend guitar with FlamedGuitar as per Meyer OCP."
   ]
  },
  {
   "cell_type": "code",
   "execution_count": null,
   "id": "591e237b-242f-4c8b-82bb-b1256969e4f0",
   "metadata": {},
   "outputs": [],
   "source": [
    "@dataclass\n",
    "class FlamedGuitar(Guitar):\n",
    "    flame_colour:str='Red'\n",
    "    \n",
    "    def get_colour(self)->str:\n",
    "        return f'this guitar has an excellent {self.flame_colour} coloured flame '\n",
    "    "
   ]
  },
  {
   "cell_type": "markdown",
   "id": "b905487a-5240-4f20-ad87-7f8d8ba50e0d",
   "metadata": {},
   "source": [
    "This class can do anything that guitar can do and more.  "
   ]
  },
  {
   "cell_type": "code",
   "execution_count": null,
   "id": "5781cff4-b74b-4647-9d8b-dcde277ea3e5",
   "metadata": {},
   "outputs": [],
   "source": [
    "gib = FlamedGuitar(make='Gibson', model='Les Paul', flame_colour='Purple')\n",
    "gib.play()"
   ]
  },
  {
   "cell_type": "code",
   "execution_count": null,
   "id": "9e23bc14-99b3-4f1f-b560-f7da4f22f8c9",
   "metadata": {},
   "outputs": [],
   "source": [
    "gib.get_colour()"
   ]
  },
  {
   "cell_type": "code",
   "execution_count": null,
   "id": "8212c11e-16e3-4d6a-a5ec-dba9bb892632",
   "metadata": {},
   "outputs": [],
   "source": [
    "gib.__dict__"
   ]
  },
  {
   "cell_type": "markdown",
   "id": "d0aaf59b-5734-4b01-a22c-8827bcbe6ce2",
   "metadata": {},
   "source": [
    "Only now we are completely dependent on Guitar and this code is easy to break, especially in Python."
   ]
  },
  {
   "cell_type": "code",
   "execution_count": null,
   "id": "35e40700-87da-4f3c-af83-033e474db1a4",
   "metadata": {},
   "outputs": [],
   "source": [
    "class FlamedGuitar(Guitar):\n",
    "    \n",
    "    def __init__(self, strings:int=12, flame_colour:str='Red'):\n",
    "        self.strings       = strings\n",
    "        self.flame_coulour = flame_colour\n",
    "    \n",
    "    \n",
    "    def get_colour(self)->str:\n",
    "        return f'this guitar has an excellent {self.flame_colour} coloured flame '"
   ]
  },
  {
   "cell_type": "code",
   "execution_count": null,
   "id": "26307bab-ac0a-4a6a-8c1e-b9d1ca42d090",
   "metadata": {},
   "outputs": [],
   "source": [
    "fender = FlamedGuitar()"
   ]
  },
  {
   "cell_type": "code",
   "execution_count": null,
   "id": "d822a391-cf41-415d-8401-53447b2f42ba",
   "metadata": {},
   "outputs": [],
   "source": [
    "fender.get_model()"
   ]
  },
  {
   "cell_type": "markdown",
   "id": "c171177a-feb6-4871-aec9-2705e6e6331a",
   "metadata": {},
   "source": [
    "Though we can access the `get_model` method from guitar, the FlamedGuitar class has no attribute called model.   \n",
    "\n",
    "When we created our own init, we also overwrote our instance variable `__dict__`"
   ]
  },
  {
   "cell_type": "code",
   "execution_count": null,
   "id": "4c7076a8-602b-48b2-aeaf-d0c9d00fbc75",
   "metadata": {},
   "outputs": [],
   "source": [
    "fender.__dict__"
   ]
  },
  {
   "cell_type": "markdown",
   "id": "0f4a6deb-d384-4375-b7c5-c9cead6253a0",
   "metadata": {},
   "source": [
    "#### **MRO**\n",
    "What if we want Guitar to be twelve stringed? Of course, you would say Guitar should not change. \n",
    "\n",
    "However, should not, is not would not, is not will not. Reality is that code changes. If for whatever reason, maybe we found a bug, we need to change Guitar now we will have to check all the subclasses of guitar and down the MRO graph to see if or code still works. You should design your code ready for change and that mean truly little dependencies!\n",
    "\n",
    "MRO is Pythons method resolution order, which is basically a directed acyclic graph (affectionally known as a DAG). See https://docs.python.org/3/glossary.html#term-method-resolution-order The method resolution shows the inheritance hierarchy. More on this in the inheritance notebook.\n"
   ]
  },
  {
   "cell_type": "markdown",
   "id": "4c27c175-6a5a-4117-a78a-fb6ba3480bf9",
   "metadata": {},
   "source": [
    "#### **Polymorphic OCP**\n",
    "Luckily we have the polymorphic open/closed principle\n",
    "\n",
    "(Bob Martin's paper on the matter https://web.archive.org/web/20060822033314/http://www.objectmentor.com/resources/articles/ocp.pdf if you are not familar with C++, a struct is the C++ version of a class.) "
   ]
  },
  {
   "cell_type": "code",
   "execution_count": null,
   "id": "1f445187-749a-4f9d-863f-42662f46cb65",
   "metadata": {},
   "outputs": [],
   "source": [
    "\n",
    "class GuitarInterface:\n",
    "    '''This is an implicit interface in Python'''\n",
    "    make:str\n",
    "    model:str\n",
    "    strings:int\n",
    "    \n",
    "    def get_make(self):\n",
    "        pass\n",
    "    \n",
    "    def get_model(self):\n",
    "        pass\n",
    "    \n",
    "    def play(self):\n",
    "        pass\n",
    "    \n",
    "@dataclass\n",
    "class AccousticGuitar(GuitarInterface):\n",
    "    make:str\n",
    "    model:str\n",
    "    strings:int\n",
    "    sound_hole:bool=True\n",
    "    \n",
    "    def get_make(self)->str:\n",
    "        return self.make\n",
    "    \n",
    "    def get_model(self)->str:\n",
    "        return self.model\n",
    "    \n",
    "    def play(self)->str:\n",
    "        return f'my {self.strings} strings are singing.'\n",
    "    \n",
    "    def hollow(self)->bool:\n",
    "        return self.sound_hole\n",
    "\n",
    "@dataclass    \n",
    "class ElectricGuitar(GuitarInterface):\n",
    "    make:str\n",
    "    model:str\n",
    "    strings:int\n",
    "    sound_hole:bool=False\n",
    "    \n",
    "    def get_make(self)->str:\n",
    "        return self.make\n",
    "    \n",
    "    def get_model(self)->str:\n",
    "        return self.model\n",
    "    \n",
    "    def play(self)->str:\n",
    "        return f'my {self.strings} strings are howling.'\n",
    "    \n",
    "    def hollow(self)->bool:\n",
    "        return self.sound_hole"
   ]
  },
  {
   "cell_type": "code",
   "execution_count": null,
   "id": "43f0a0ca-9623-49b9-8f27-0ca45611b725",
   "metadata": {},
   "outputs": [],
   "source": [
    "ibz = ElectricGuitar(make='Ibanez', model='har10', strings=6)\n",
    "ibz"
   ]
  },
  {
   "cell_type": "code",
   "execution_count": null,
   "id": "10faab7c-ce73-4ea7-8102-3bf724e71d42",
   "metadata": {},
   "outputs": [],
   "source": [
    "fen = AccousticGuitar(make='Fender', model='Accoustic', strings=6)\n",
    "fen "
   ]
  },
  {
   "cell_type": "code",
   "execution_count": null,
   "id": "c88d9eb4-3a45-4133-831a-4da2703c9846",
   "metadata": {},
   "outputs": [],
   "source": [
    "fen.get_make()"
   ]
  },
  {
   "cell_type": "code",
   "execution_count": null,
   "id": "c01dacca-fced-42a3-834b-fd1e97442872",
   "metadata": {},
   "outputs": [],
   "source": [
    "ibz.play()"
   ]
  },
  {
   "cell_type": "code",
   "execution_count": null,
   "id": "6e99b7e6-721f-48e3-a119-fd8542574edb",
   "metadata": {},
   "outputs": [],
   "source": [
    "fen.play()"
   ]
  },
  {
   "attachments": {
    "8f12f988-e8a3-483d-a648-10c206016831.png": {
     "image/png": "[encoded data removed]"
    }
   },
   "cell_type": "markdown",
   "id": "49e274cc-78df-4bda-803c-a063446b70b7",
   "metadata": {},
   "source": [
    "As we can see we have two extensions of the guitar class, there are no dependencies between these classes. \n",
    "\n",
    "The GuitarInterface class functions as a blueprint. Now our implementation is high cohesion / low coupling. Of course, we could now implement our FlamedGuitar, however this isn't a very clever idea. Consider the diagram below.\n",
    "\n",
    "![afbeelding.png](attachment:8f12f988-e8a3-483d-a648-10c206016831.png)\n",
    "\n",
    "Now answer the question how would you expand this diagram if you want an electric and an acoustic FlamedGuitar? You must either create a connection between FlamedGuitar and ElectricGuitar and AcousticGuitar or make two subclasses for FlamedGuitar. The first option would create added coupling, which we want to avoid. The second added dependency, needless code repetition and cluttering, which of course we also want to avoid.\n",
    "\n",
    "I found this example on a very reputable website and think it is a bad example as you might have guessed. The website uses Java to explain the Open/Closed concept and Java is not Python. But it is still a strange concept, flames on your guitar I would suggest is not enough of a trait for the guitar to warrant a subclass. If the flame will fade it still will be a guitar and no less of guitar at that. \n",
    "\n",
    "Flamed should be either an attribute or, and this is the Python way, be a non-Guitar class that is implemented by a Guitar subclass. In Python this is called a Mixin class, the Mixin class holds the attributes and operations, the Guitar class will just implement the Mixin class. It is not the idea that the child reimplements the methods of the Mixin class, it is outside behaviour it doesn't belong to the class! \n",
    "\n",
    "Of course, this is possible because Python knows multi-inheritance, Java does not. Still, nobody uses Java like the websites example, you would use object composition or in a pinch an abstract class (which is not completely the same in Java as it is in Python).\n"
   ]
  },
  {
   "cell_type": "markdown",
   "id": "54dba35f-09e4-47b8-87ba-835f28e4a1b5",
   "metadata": {},
   "source": [
    "#### **Mixin Class**\n",
    "A mixin is a class that contains methods for use by other classes. Methods that are innately alien to other classes. As for instance drawings and colours are for our guitar class. Where mixins where intended not to have an inheritance relationship, in Python they are intended as such. Python knows multiple inheritance. \n",
    "\n",
    "See https://en.wikipedia.org/wiki/Mixin for more details.\n",
    " "
   ]
  },
  {
   "cell_type": "code",
   "execution_count": null,
   "id": "90e88e16-f6b0-43ec-af70-87a817b7cbd0",
   "metadata": {},
   "outputs": [],
   "source": [
    "\n",
    "class GuitarInterface:\n",
    "    '''This is an implicit interface in Python'''\n",
    "    make:str\n",
    "    model:str\n",
    "    strings:int\n",
    "    \n",
    "    def get_make(self):\n",
    "        pass\n",
    "    \n",
    "    def get_model(self):\n",
    "        pass\n",
    "    \n",
    "    def play(self):\n",
    "        pass\n",
    "\n",
    "class MixinGuitarDrawing:\n",
    "    \n",
    "    def create_drawing(self,drawing, drawing_colour)->None:\n",
    "        self.drawing=drawing\n",
    "        self.drawing_colour=drawing_colour\n",
    "    \n",
    "    def show_drawing(self)->str:\n",
    "        return f'{type(self).__name__} has wonderful {self.drawing} shape that is a great {self.drawing_colour} colour.'\n",
    "    \n",
    "    \n",
    "@dataclass\n",
    "class AccousticGuitar(GuitarInterface, MixinGuitarDrawing):\n",
    "    make:str\n",
    "    model:str\n",
    "    strings:int\n",
    "    drawing:str=None\n",
    "    drawing_colour=None\n",
    "    sound_hole:bool=True\n",
    "    \n",
    "    def get_make(self)->str:\n",
    "        return self.make\n",
    "    \n",
    "    def get_model(self)->str:\n",
    "        return self.model\n",
    "    \n",
    "    def play(self)->str:\n",
    "        return f'my {self.strings} strings are singing.'\n",
    "    \n",
    "    def hollow(self)->bool:\n",
    "        return self.sound_hole\n",
    "    \n",
    "    def create_drawing(self, drawing, drawing_colour)->None:\n",
    "        super().create_drawing(drawing, drawing_colour)\n",
    "        \n",
    "    def show_drawing(self)->str:\n",
    "        return super().show_drawing()\n",
    "        \n",
    "        \n",
    "\n",
    "@dataclass    \n",
    "class ElectricGuitar(GuitarInterface, MixinGuitarDrawing):\n",
    "    make:str\n",
    "    model:str\n",
    "    strings:int\n",
    "    sound_hole:bool=False\n",
    "    drawing:str=None\n",
    "    drawing_colour=None\n",
    "\n",
    "    \n",
    "    def get_make(self)->str:\n",
    "        return self.make\n",
    "    \n",
    "    def get_model(self)->str:\n",
    "        return self.model\n",
    "    \n",
    "    def play(self)->str:\n",
    "        return f'my {self.strings} strings are howling.'\n",
    "    \n",
    "    def hollow(self)->bool:\n",
    "        return self.sound_hole\n",
    "    \n",
    "    def create_drawing(self, drawing, drawing_colour)->None:\n",
    "        super().create_drawing(drawing, drawing_colour)\n",
    "        \n",
    "    def show_drawing(self)->str:\n",
    "        return super().show_drawing()"
   ]
  },
  {
   "cell_type": "code",
   "execution_count": null,
   "id": "45f3cff2-9126-49cb-b8ed-80f0d78446a2",
   "metadata": {},
   "outputs": [],
   "source": [
    "fen = AccousticGuitar(make='Fender', model='Accoustic', strings=6)\n",
    "fen"
   ]
  },
  {
   "cell_type": "code",
   "execution_count": null,
   "id": "ef70b575-ff24-4646-99ae-fb380b463207",
   "metadata": {},
   "outputs": [],
   "source": [
    "fen.create_drawing(drawing='Flame', drawing_colour='purple')"
   ]
  },
  {
   "cell_type": "code",
   "execution_count": null,
   "id": "adcdaf70-24af-48e9-b291-650f87cd51d4",
   "metadata": {},
   "outputs": [],
   "source": [
    "fen.show_drawing()"
   ]
  },
  {
   "cell_type": "code",
   "execution_count": null,
   "id": "159d3cf2-8563-48e8-8a4e-7b34e43a50de",
   "metadata": {},
   "outputs": [],
   "source": [
    "ibz = ElectricGuitar(make='Ibanez', model='satriani', strings=6)"
   ]
  },
  {
   "cell_type": "code",
   "execution_count": null,
   "id": "98ee38dc-c3d9-49d4-a920-d7d314b968ac",
   "metadata": {},
   "outputs": [],
   "source": [
    "ibz.create_drawing(drawing='lightning', drawing_colour='yellow')\n",
    "ibz.show_drawing()"
   ]
  },
  {
   "attachments": {
    "43c7f58d-a8e8-4572-ace5-1b45fbefe8a9.png": {
     "image/png": "[encoded data removed]"
    }
   },
   "cell_type": "markdown",
   "id": "024ec515-e0a3-4e24-b394-bd8176eafc57",
   "metadata": {},
   "source": [
    "A Mixin class gives outside behaviour to a class, obviously drawings are not essential for a guitar.    \n",
    "\n",
    "The Python diagram would look like this.   \n",
    "\n",
    "![afbeelding.png](attachment:43c7f58d-a8e8-4572-ace5-1b45fbefe8a9.png)"
   ]
  },
  {
   "cell_type": "markdown",
   "id": "a38255ce-4980-4386-9310-4230b532bcd6",
   "metadata": {},
   "source": [
    "#### **The Liskov substitution principle** (L)\n",
    "The Liskov principle is about types not about classes, being about types it is about type hierarchy, and not about inheritance don't confuse this. Much of the confusion concerning Liskov and Python is about types.    \n",
    "\n",
    "Formally the Liskov Substitution Principle states; if S subtypes T, what holds for T-objects holds for S-objects.\n",
    "\n",
    "I realize that this is a bit opaque. Let me try to say it simple. The LSP states that if class S is a subtype of class T, then we should be able to use an instance of type S where type T is expected. \n",
    "\n",
    "Mathematically we express this simply as if $S\\le T$ then I can use type S where I expect type T. \n",
    "\n",
    "This will become a lot clearer with a piece of code.\n"
   ]
  },
  {
   "cell_type": "code",
   "execution_count": null,
   "id": "417edd63-efc1-4aa8-b4dd-6248460ee626",
   "metadata": {},
   "outputs": [],
   "source": [
    "from abc import ABC, abstractmethod\n",
    "from dataclasses import dataclass\n",
    "\n",
    "class CurrencyConverter(ABC):\n",
    "    '''This the interface that the client class will use, there are no details here''' \n",
    "    \n",
    "    @abstractmethod\n",
    "    def convert(self, from_currency, to_currency, amount) -> float:\n",
    "        raise NotImplementedError(\"You need to implement this.\")\n",
    "\n",
    "\n",
    "@dataclass\n",
    "class FXConverter(CurrencyConverter):\n",
    "    '''this a low level module that implements the conversion in a detailed manner'''\n",
    "    \n",
    "    def convert(self, from_currency, to_currency, amount) -> float:\n",
    "        print(f'using the {type(self).__name__} converter')\n",
    "        print(f'{amount} {from_currency} = {amount * 1.2} {to_currency}')\n",
    "        return amount * 1.15\n",
    "\n",
    "\n",
    "@dataclass\n",
    "class AlphaConverter(CurrencyConverter):\n",
    "    '''this a low level module that implements the conversion in a detailed manner'''\n",
    "    \n",
    "    def convert(self, from_currency, to_currency, amount) -> float:\n",
    "        print(f'using the {type(self).__name__} converter')\n",
    "        print(f'{amount} {from_currency} = {amount * 1.2} {to_currency}')\n",
    "        return amount * 1.2\n",
    "\n",
    "@dataclass\n",
    "class Client:\n",
    "    '''here we find the Liskov example'''\n",
    "    converter:CurrencyConverter=None\n",
    "\n",
    "    def start(self):\n",
    "        self.converter.convert('EUR', 'USD', 100)"
   ]
  },
  {
   "cell_type": "code",
   "execution_count": null,
   "id": "0646d6bf-5083-40f1-bb43-5e7219df956a",
   "metadata": {},
   "outputs": [],
   "source": [
    "client = Client(converter=FXConverter())\n",
    "client.start()"
   ]
  },
  {
   "attachments": {
    "a10e73c7-bb21-4dd5-8f6f-4b6f76b51617.png": {
     "image/png": "[encoded data removed]"
    }
   },
   "cell_type": "markdown",
   "id": "2ca45f29-aeec-4aac-9be2-f8904075a9f9",
   "metadata": {},
   "source": [
    "To understand what happens see the following diagram   \n",
    "\n",
    "![image.png](attachment:a10e73c7-bb21-4dd5-8f6f-4b6f76b51617.png)\n",
    "\n",
    "The client has an attribute called converter of type CurrencyConverter.\n",
    "\n",
    "CurrencyConverter is an abstract base class. The only way you can subtype in Python is via the abstract base class. The abstract base class CurrencyConverter has type CurrencyConverter.\n",
    "\n",
    "Both AlpaConverter and FXConverter implement that interface and are thus subtypes of CurrencyConverter.\n",
    "\n",
    "In the class `Client` I have an attribute `converter` which is of type `CurrencyConverter`. However, when I instantiate the Client class `client = Client(converter=FXConverter())` I do this with an FXConverter. FXConverter is different type than the class expect, I expect a CurrencyConverter. This is possible because FXConverter $\\le$ CurrencyConverter. FXConverter is a subtype of CurrencyConverter. There is not more to Liskov.\n",
    "\n",
    "All code below  on the LSP is facultative, it explains Liskov in more depth, but in Python Liskov is really of no consequence as Python is dynamically typed language, where I can't nominate to be of type, instead the interpreter interprets that. Python then also doesn't know a method to check for subtypes."
   ]
  },
  {
   "attachments": {
    "efdcfef8-4416-480d-9592-91a0682701e8.png": {
     "image/png": "[encoded data removed]"
    }
   },
   "cell_type": "markdown",
   "id": "e2bd2411-0a95-42c3-8a15-0729afe75b6b",
   "metadata": {},
   "source": [
    "#### The Liskov Substiution Principle (LSP) explained\n",
    "To know the actual Liskov substitution principle, you need to know a few things:\n",
    " 1. Polymorphism\n",
    " 2. Typing\n",
    " 3. Subtyping\n",
    " 4. Why subtyping is not the same as subclassing\n",
    " 5. DuckTyping\n",
    "\n",
    "We could start at point 5 and state that the Liskov Principle requires nomitative typing. Nominal typing means that two variables are type-compatible if and only if their declarations name the same type. Python does not do nominative typing but DuckTyping (after the duck test) and that is the end of Liskov. I won't do that.\n",
    "\n",
    "Many Pythonistas confuse (inclusion) polymorphism, the provision of a single interface to entities of different types, with Liskov. What they want to see if you need to implement Liskov, is basically an interfac. In Python an interface is an abstract base class with only abstract methods. The latter is important because you cannot guarantee type otherwise.  \n",
    "\n",
    "![afbeelding.png](attachment:efdcfef8-4416-480d-9592-91a0682701e8.png)\n",
    "\n",
    "All the below examples follow this pattern and are Python style 'Liskov'\n"
   ]
  },
  {
   "attachments": {
    "5cfbec0c-ea19-48a3-91b8-bc8f28722be6.png": {
     "image/png": "[encoded data removed]"
    },
    "b96cd131-929a-46a3-bf30-47d7a991dc3b.png": {
     "image/png": "[encoded data removed]"
    }
   },
   "cell_type": "markdown",
   "id": "50e730ac-ac84-425f-bfb6-0241a66b1a01",
   "metadata": {},
   "source": [
    "#### **Type & Subtype**\n",
    "\n",
    "The LSP states if S subtypes T, what holds for T-objects holds for S-objects.\n",
    "\n",
    "That sentence only makes sense if we know what a subtype is. Before answering what is a subtype let me start with telling you what a subtype isn't, it is not a subclass. Subtyping and inheritance are not the same. In some languages inheritance and subtyping agree, but these are in general static OO languages like Java, Go, and C++. In Python you can't nominate a type and therefore can't guarantee the Liskov principle. \n",
    "\n",
    "You could also question the need for the Liskov Principle in general not just Python, the general tendency is to favour object composition over inheritance. Strangely enough my opinion on Python is that it does the opposite, it favours inheritance. \n",
    "\n",
    "Before I investigate the subtype, we should first know what a type is:\n",
    "\n",
    "A type is a set of values, with a set of allowed operations on these values, and/or a representation of these values as machine types.   \n",
    "\n",
    "For instance {-(n+1) ,-n, ... ,-2,-1,0,1,2,3, ... n, n+1} is the set of values knows as integers, its type is `int`, and addition and subtraction are some of the operations defined for going from int to int. \n",
    "\n",
    "a subtype is a datatype that is related to another datatype (the supertype) by some form of substitutability. This definition is from Wikipedia, see https://en.wikipedia.org/wiki/Subtyping. I am not sure I like the last part it seems to me that types and subtypes exist before substitutability. \n",
    "\n",
    "I personally find it easiest to explain typing with a bit of category theory:\n",
    "\n",
    "A type is a category with objects (data) here in capitals, and morphisms (functions) that allow you to go from object to object. \n",
    "\n",
    "![afbeelding.png](attachment:5cfbec0c-ea19-48a3-91b8-bc8f28722be6.png)\n",
    "\n",
    "A subtype of type is a category that has at minimum all the objects and morphisms from type, and maybe has objects and morphisms on its own.\n",
    "\n",
    "![afbeelding.png](attachment:b96cd131-929a-46a3-bf30-47d7a991dc3b.png)\n",
    "\n",
    "As subtype has all the objects and morphisms of type, you can do all with subtype that you can do with type, there for you can substitute a type or a subtype, for all you would want to do with type, you can do with subtype. As you can see, I can still go from $A \\rightarrow  B \\rightarrow C$  or from $A \\rightarrow C$ in the last category. Now if I do not want to do anything else as: $f,g$ or $g \\circ f$ then obviously I can do them in both categories, and can thus substitute S for T, on the condition that I want to do only those morphisms that apply to T.\n",
    "\n",
    "I in particular do not like $ S \\le T$ because yes is S a subtype but subtypes usually seem to be larger in objects and morphisms. I know that the less than equal here is actually a relationship in a type hierarchy, but I find it confusing instead of clear.\n",
    "\n",
    "In Python type is particularly important not only will it retrieve the type of the object you give to it, type also functions as a class factory you can use it to make classes.\n"
   ]
  },
  {
   "cell_type": "code",
   "execution_count": null,
   "id": "0de2e19c-95ef-4034-97b7-b31eef0a27ed",
   "metadata": {},
   "outputs": [],
   "source": [
    "x = 3\n",
    "type(x)"
   ]
  },
  {
   "cell_type": "code",
   "execution_count": null,
   "id": "061d56a6-24aa-44d3-acda-2f0a3e8e0173",
   "metadata": {},
   "outputs": [],
   "source": [
    "Class = type('Class', (), {'george':'rhino'})\n",
    "Class"
   ]
  },
  {
   "cell_type": "code",
   "execution_count": null,
   "id": "15e3ea41-e60c-44e4-baf4-ada63aa1356a",
   "metadata": {},
   "outputs": [],
   "source": [
    "Class.george"
   ]
  },
  {
   "attachments": {
    "4278f0f3-cc83-4768-b85b-cbfda781008f.png": {
     "image/png": "[encoded data removed]"
    }
   },
   "cell_type": "markdown",
   "id": "859c2f7b-0c0a-4fb7-911d-b92f10149522",
   "metadata": {},
   "source": [
    "#### **Python type hierarchy**\n",
    "Python knows a type hierarchy where all types are named and ordered. This is quite important to know if you want to build serious Python programs, with difficult algorithms that depend on sophisticated data structures.\n",
    "\n",
    "![image.png](attachment:4278f0f3-cc83-4768-b85b-cbfda781008f.png)    \n",
    "\n",
    "In the above hierarchy we can see several subtypes, so is list a subtype of mutables, mutables belong to the sequence type class. Both int and bool are subtypes, from the same supertype integral, integral belongs to the numeric type class.    \n",
    "\n",
    "The hierarchy itself are not subtypes, module is not a subtype of the NoneType. The hierarchy goes from simple to complex, with the NoneType the simplest and the module the most complex. \n"
   ]
  },
  {
   "cell_type": "markdown",
   "id": "1ccbf801-4e26-43b6-b267-aa8a1f0cc4d3",
   "metadata": {},
   "source": [
    "#### **Liskov in  Python** \n",
    "For a Python programmer it is important to remember that create a type,  once you've created a class. An object of certain class has the type of that class. This is where the confusing between subclassing and subtyping comes from. It stands to reason to think if I create a type when I create a class, that subclassing must be the same as subtyping. Unfortuantely it isn't.\n",
    "\n",
    "Subtyping is a form of polymorphism; inclusion polymorphism is the provision of a single interface to entities of different type. In Python you create a subtype if you implement an abstract base class, which is the Python interface. Subtyping is than also sometimes referred to as interface inheritance. \n",
    "\n",
    "If you get asked to implement Liskov in Python, for instance as an interview question, you should answer that you should use abstract base classes. however do realize that a Python abstract base class is insufficient to function as a contract, in the sense of Betrand Meyers design by contract, an ABC should be, to be a subtype. To be able to guarantee type you should work with a zope interface (https://github.com/zopefoundation/zope.interface) in Python. "
   ]
  },
  {
   "attachments": {
    "c44c5fc6-6a7d-496b-9819-3e86c0f3155c.png": {
     "image/png": "[encoded data removed]"
    }
   },
   "cell_type": "markdown",
   "id": "59835b5f-6aa5-471b-ada4-071a591b1cb5",
   "metadata": {},
   "source": [
    "#### **The abstract base class ABC**\n",
    " \n",
    "We will implement the model below\n",
    "\n",
    "![afbeelding.png](attachment:c44c5fc6-6a7d-496b-9819-3e86c0f3155c.png)"
   ]
  },
  {
   "cell_type": "code",
   "execution_count": null,
   "id": "ab5d255c-0a0d-400d-a4f9-8a775682ade3",
   "metadata": {},
   "outputs": [],
   "source": [
    "from abc import ABC, abstractmethod\n",
    "\n",
    "class Account(ABC):\n",
    "    customerID:str\n",
    "    nr:str\n",
    "    balance:float\n",
    "    \n",
    "    @abstractmethod\n",
    "    def deposit(self, amount:float):\n",
    "        pass\n",
    "    \n",
    "    @abstractmethod\n",
    "    def withdraw(self, amount:float):\n",
    "        pass\n",
    "    \n",
    "    @abstractmethod\n",
    "    def get_balance(self):\n",
    "        pass\n",
    "    \n",
    "    @abstractmethod\n",
    "    def transfer(self, amount:float, counter_account):\n",
    "        pass\n"
   ]
  },
  {
   "cell_type": "markdown",
   "id": "e8c65221-3418-46b5-902b-c00a1556b643",
   "metadata": {},
   "source": [
    "We cannot instantiate an abstract class, just like we can't instatiate a Java interface. However unlike with an ABC we can assign a value the type of an interface in Java. Well technically we can do this in Python, but the interpreter will ignore our assignment and determine the type itself."
   ]
  },
  {
   "cell_type": "code",
   "execution_count": null,
   "id": "eed9019a-f306-4dcd-8364-377a39eafdc0",
   "metadata": {},
   "outputs": [],
   "source": [
    "acc = Account()"
   ]
  },
  {
   "cell_type": "code",
   "execution_count": null,
   "id": "2b41118a-c442-4388-9768-5a0a42fc44bf",
   "metadata": {},
   "outputs": [],
   "source": [
    "from dataclasses import dataclass\n",
    "from typing import ClassVar \n",
    "from decimal import Decimal\n",
    "\n",
    "@dataclass\n",
    "class SavingsAccount(Account):\n",
    "    '''A savingsaccount can only transfer to a fixed counter-account'''\n",
    "\n",
    "    customerID:str\n",
    "    nr:str\n",
    "    counter_account:str \n",
    "    balance:float=0.0\n",
    "    interest_rate:ClassVar[float]=0.0\n",
    "    \n",
    "    \n",
    "    def deposit(self, amount:float)->None:\n",
    "        self.balance += amount\n",
    "    \n",
    "    def withdraw(self, amount:float)->None:\n",
    "        self.balance -= amount\n",
    "    \n",
    "    def get_balance(self)->None:\n",
    "        return f'The balance of this account is {self.balance} euro.'\n",
    "    \n",
    "    def transfer(self, amount:float)->str:\n",
    "        if self.balance >= amount:\n",
    "            self.balance -= amount\n",
    "            return f'the amount of {amount} euro has been transfered from your savingsaccount to {self.counter_account}'\n",
    "        else:\n",
    "            return f'The account with nr {self.nr} has insufficent funds for this transfer'\n",
    "        \n",
    "    @classmethod\n",
    "    def set_interest_rate(self, rate):\n",
    "        self.interest_rate = rate * 0.01\n",
    "        \n",
    "    def pay_interest(self)->float:\n",
    "        '''period is measured in years'''\n",
    "        return round(self.calculate_interest(balance=self.balance,interest_rate=self.interest_rate) - self.balance, 2)\n",
    "    \n",
    "    @staticmethod\n",
    "    def calculate_interest(balance:float, interest_rate:float)->float:\n",
    "        return balance * (1+interest_rate)\n",
    "\n",
    "@dataclass\n",
    "class CurrentAccount(Account):\n",
    "    customerID:str\n",
    "    nr:str\n",
    "    balance:float=0.0\n",
    "    pin:Decimal=Decimal('1000')\n",
    "    overdraft_limit:float=0.0\n",
    "    \n",
    "    \n",
    "    def deposit(self, amount:float)->None:\n",
    "        self.balance += amount\n",
    "    \n",
    "    def withdraw(self, amount:float)->None:\n",
    "        self.balance -= amount\n",
    "    \n",
    "    def get_balance(self):\n",
    "        return f'The balance of this account with number {self.nr} is {self.balance} euro.'\n",
    "        \n",
    "    def transfer(self, amount:float, counter_account)->str:\n",
    "        if self.balance + self.overdraft_limit >= amount:\n",
    "            self.balance -= amount\n",
    "            return f'the amount of {amount} euro has been transfered from your current account to {counter_account}'\n",
    "        else:\n",
    "            return f'The account with nr {self.nr} has insufficent funds for this transfer'\n",
    "        \n",
    "    def set_overdraft_limit(self, limit=int)->None:\n",
    "        self.overdraft_limit = limit\n",
    "        \n",
    "    def set_pin(self, pin:Decimal)->None:\n",
    "        self.pin = pin\n"
   ]
  },
  {
   "cell_type": "code",
   "execution_count": null,
   "id": "0dffab71-0f4f-4ed3-946a-eabe83d0b14b",
   "metadata": {},
   "outputs": [],
   "source": [
    "savAcc = SavingsAccount(customerID='George', nr='NL57SNSB0909009', counter_account='NL57SNSB0901111', balance=50000)\n",
    "savAcc.get_balance()"
   ]
  },
  {
   "cell_type": "code",
   "execution_count": null,
   "id": "9d6533a7-2066-4207-ade9-6600ff6de40b",
   "metadata": {},
   "outputs": [],
   "source": [
    "curAcc = CurrentAccount(customerID='Croc', nr='NL57SNSB01011010', balance=34000, overdraft_limit=10000)\n",
    "curAcc"
   ]
  },
  {
   "cell_type": "markdown",
   "id": "ea537fbe-1baf-40a2-b15f-ef4236c2982b",
   "metadata": {},
   "source": [
    "Let me create a transfer manager class that takes care of transfering money at runtime depending on the type of the account being used, and thus implement Liskov"
   ]
  },
  {
   "cell_type": "code",
   "execution_count": null,
   "id": "540271bd-1bc4-49bb-933b-bdb947843d17",
   "metadata": {},
   "outputs": [],
   "source": [
    "from dataclasses import dataclass\n",
    "\n",
    "@dataclass\n",
    "class TransferManager:\n",
    "    account:Account=None\n",
    "    \n",
    "    def transfer(self, amount:float, counter_account:str)->str:\n",
    "        match type(self.account).__name__:\n",
    "            case 'SavingsAccount':\n",
    "                return self.account.transfer(amount)\n",
    "            case 'CurrentAccount':\n",
    "                return self.account.transfer(amount, counter_account)\n",
    "                \n",
    "    "
   ]
  },
  {
   "cell_type": "markdown",
   "id": "547aceb2-986e-41e6-bbb4-d7960b346c08",
   "metadata": {},
   "source": [
    "Now to use TransferManager"
   ]
  },
  {
   "cell_type": "code",
   "execution_count": null,
   "id": "300833d0-bd23-488a-a68c-cc144972682d",
   "metadata": {},
   "outputs": [],
   "source": [
    "tm1 = TransferManager(savAcc)\n",
    "tm1"
   ]
  },
  {
   "cell_type": "code",
   "execution_count": null,
   "id": "5eb55990-15ee-45fb-a1f5-b7d287e414ce",
   "metadata": {},
   "outputs": [],
   "source": [
    "tm1.transfer(amount=3000,counter_account='NL57SNSB01011010')"
   ]
  },
  {
   "cell_type": "code",
   "execution_count": null,
   "id": "2a38d195-83ac-4771-811a-87c97e554aa3",
   "metadata": {},
   "outputs": [],
   "source": [
    "tm2 = TransferManager(curAcc)\n",
    "tm2"
   ]
  },
  {
   "cell_type": "code",
   "execution_count": null,
   "id": "49eeaa2f-91eb-46d5-a9fa-638821aafa1a",
   "metadata": {},
   "outputs": [],
   "source": [
    "tm2.transfer(amount=2700, counter_account='NL57SNSB0909009')"
   ]
  },
  {
   "cell_type": "markdown",
   "id": "d6b67855-7533-43f8-98c1-efbccddb6ac4",
   "metadata": {},
   "source": [
    "As you can see the transfermanager adheres to the implicit rule that a savingsaccount can only transfer to a fixed counter-account. "
   ]
  },
  {
   "cell_type": "markdown",
   "id": "ed05d7fa-7721-4e63-8823-6e5e079cd205",
   "metadata": {},
   "source": [
    "#### **Subtyping and implementation inheritance are orthogonal!**\n",
    "In all Python tutorials on Liskov I did read, I found a little sentence like this: \"objects of a superclass shall be replaceable with objects of its subclasses without breaking the application.\" \n",
    "\n",
    "This is not true, subtyping is a specification notion. B is a subtype of A iff an object of B can masquerade as an object of A in any context, meaning that B emcompasses all of A's spec (see the catagory example). Subclassing is an inheritance notion, factoring out code repetition, to write a new class is simply adding new functionality. \n",
    "\n",
    "Sorry for banging on, on this but it is important to remember. For more on the subject read the paper bij Cook, Hill, and Canning https://dl.acm.org/doi/10.1145/96709.96721.\n",
    "\n",
    "This miscomprehension leads to quite a few bad Liskov examples in Python turorials. I want to show you one that you see a lot in online tutorials"
   ]
  },
  {
   "cell_type": "markdown",
   "id": "d3e17f53-74f6-4fcf-8642-ef53869f5554",
   "metadata": {},
   "source": [
    "#### **The bad**"
   ]
  },
  {
   "cell_type": "code",
   "execution_count": 1,
   "id": "ded799a0-a9a9-4ed2-9adf-3314b9642ed0",
   "metadata": {},
   "outputs": [],
   "source": [
    "from abc import ABC, abstractmethod\n",
    "\n",
    "class Notification(ABC):\n",
    "    @abstractmethod\n",
    "    def notify(self, message):\n",
    "        pass\n",
    "\n",
    "class Email(Notification):\n",
    "    def __init__(self, email):\n",
    "        self.email = email\n",
    "\n",
    "    def notify(self, message):\n",
    "        print(f'Send \"{message}\" to {self.email}')\n",
    "\n",
    "class SMS(Notification):\n",
    "    def __init__(self, phone):\n",
    "        self.phone = phone\n",
    "\n",
    "    def notify(self, message):\n",
    "        print(f'Send \"{message}\" to {self.phone}')\n",
    "\n",
    "class Contact:\n",
    "    def __init__(self, name, email, phone):\n",
    "        self.name = name\n",
    "        self.email = email\n",
    "        self.phone = phone\n",
    "\n",
    "class NotificationManager:\n",
    "    def __init__(self, notification):\n",
    "        self.notification = notification\n",
    "\n",
    "    def send(self, message):\n",
    "        self.notification.notify(message)\n"
   ]
  },
  {
   "cell_type": "code",
   "execution_count": null,
   "id": "82531639-14b3-4926-baca-2a163a8296e2",
   "metadata": {},
   "outputs": [],
   "source": [
    "contact = Contact('John Doe', 'john@test.com', '(408)-888-9999')\n",
    "sms_notification = SMS(contact.phone)\n",
    "email_notification = Email(contact.email)\n",
    "notification_manager = NotificationManager(sms_notification)\n",
    "notification_manager.send('Hello John')"
   ]
  },
  {
   "cell_type": "code",
   "execution_count": null,
   "id": "2b4e3263-ac11-43ac-a8b8-e838ca3a719a",
   "metadata": {},
   "outputs": [],
   "source": [
    "notification_manager.notification = email_notification\n",
    "notification_manager.send('Hi John')"
   ]
  },
  {
   "cell_type": "markdown",
   "id": "f8381266-8288-45b9-8536-5ff0601794c2",
   "metadata": {},
   "source": [
    "OK we have a notification_manager with a constructor with as argument SMS notification `NotificationManager(sms_notification)` and we have done it like `notification_manager.notification = email_notification`. \n",
    "\n",
    "This is not Liskov, we do not substitute types here. I have a further specific problem with these examples. Of course it is messy code but more importantly that they cheat. To show you this we have to restart the notebook kernel and clear all outputs. Load our class again and than directly go the code below without running any other cells."
   ]
  },
  {
   "cell_type": "code",
   "execution_count": 2,
   "id": "debdb6e9-f32b-4a8a-8626-bc7099522885",
   "metadata": {},
   "outputs": [
    {
     "ename": "NameError",
     "evalue": "name 'notification_manager' is not defined",
     "output_type": "error",
     "traceback": [
      "\u001b[1;31m---------------------------------------------------------------------------\u001b[0m",
      "\u001b[1;31mNameError\u001b[0m                                 Traceback (most recent call last)",
      "Cell \u001b[1;32mIn[2], line 4\u001b[0m\n\u001b[0;32m      2\u001b[0m sms_notification \u001b[38;5;241m=\u001b[39m SMS(contact\u001b[38;5;241m.\u001b[39mphone)\n\u001b[0;32m      3\u001b[0m email_notification \u001b[38;5;241m=\u001b[39m Email(contact\u001b[38;5;241m.\u001b[39memail)\n\u001b[1;32m----> 4\u001b[0m \u001b[43mnotification_manager\u001b[49m\u001b[38;5;241m.\u001b[39mnotification \u001b[38;5;241m=\u001b[39m email_notification\n\u001b[0;32m      5\u001b[0m notification_manager\u001b[38;5;241m.\u001b[39msend(\u001b[38;5;124m'\u001b[39m\u001b[38;5;124mHi John\u001b[39m\u001b[38;5;124m'\u001b[39m)\n",
      "\u001b[1;31mNameError\u001b[0m: name 'notification_manager' is not defined"
     ]
    }
   ],
   "source": [
    "contact = Contact('John Doe', 'john@test.com', '(408)-888-9999')\n",
    "sms_notification = SMS(contact.phone)\n",
    "email_notification = Email(contact.email)\n",
    "notification_manager.notification = email_notification\n",
    "notification_manager.send('Hi John')"
   ]
  },
  {
   "cell_type": "markdown",
   "id": "35b324d5-28ae-48bf-9ed2-5c286966c7c6",
   "metadata": {},
   "source": [
    "This code only works because Python allows you to directly access the attribute notification. In `notification_manager.notification = email_notification` we attach a new object to notificationmanager.notification, but this can only be done after we instantiated the class of course.\n",
    "\n",
    "This has nothing to do with Liskov which is all about substituting a supertype for a subtype. What we do here is nothing more than to replace object 1 (sms_notification) for object 2 (email_notification), this is object composition and attribute assignment."
   ]
  },
  {
   "attachments": {
    "b35220a2-f586-4e6a-ac8c-847ca1422a85.png": {
     "image/png": "[encoded data removed]"
    }
   },
   "cell_type": "markdown",
   "id": "fb576974-25e2-499d-a973-71904cd75f17",
   "metadata": {},
   "source": [
    "#### **Interface segregation** (I)\n",
    "If Python is not the best at the Liskov Principle, Python is a natural at interface segregation. Interface segregation, states that no code should be forced to depend on methods it does not use. It simply means that larger interfaces should be split into smaller ones.\n",
    "\n",
    "This is a natural for Python as Python knows multi-inheritance, and you could easily split larger interfaces into smaller ones and still; use multiple smaller ones if needed. \n",
    "\n",
    "Interfaces that implement many different methods that cater to diverse clients are called fat interfaces.    \n",
    "\n",
    "**A fat interface**   \n",
    "\n",
    "![afbeelding.png](attachment:b35220a2-f586-4e6a-ac8c-847ca1422a85.png)\n",
    "\n",
    "this interface has n clients implements n methods, one for each client. Let me give you a Python example of a fat (or grand) interface."
   ]
  },
  {
   "cell_type": "code",
   "execution_count": 8,
   "id": "d5f7607e-d069-4ac0-9e53-83514d0d0e7c",
   "metadata": {},
   "outputs": [],
   "source": [
    "from abc import ABC, abstractmethod \n",
    "\n",
    "class RestaurantInterface(ABC):\n",
    "    \n",
    "    @abstractmethod\n",
    "    def accept_online_order(self):\n",
    "        pass\n",
    "    \n",
    "    @abstractmethod\n",
    "    def take_telephone_order(self):\n",
    "        pass\n",
    "  \n",
    "    @abstractmethod\n",
    "    def online_payment(self):\n",
    "        pass\n",
    "    \n",
    "    @abstractmethod\n",
    "    def walkin_order(self):\n",
    "        pass\n",
    "    \n",
    "    @abstractmethod\n",
    "    def cash_payment(self):\n",
    "        pass\n",
    "\n",
    "    @abstractmethod\n",
    "    def card_payment(self):\n",
    "        pass"
   ]
  },
  {
   "cell_type": "markdown",
   "id": "bd619816-550b-403e-b52d-1b5779c8495a",
   "metadata": {},
   "source": [
    "First let's think for second about this interface. There are obviously three specific clients:\n",
    " 1. Online\n",
    " 2. Telephone\n",
    " 3. Walk-ins\n",
    "\n",
    "There are three specific payment methods, but these methods are not all available to all clients, eg., an online client can't pay cash.\n",
    "\n",
    "Now let's try to implement this."
   ]
  },
  {
   "cell_type": "code",
   "execution_count": 18,
   "id": "12e0c5fa-ebc4-4bd1-85fd-0438df03b2d7",
   "metadata": {},
   "outputs": [],
   "source": [
    "from dataclasses import dataclass,field\n",
    "from decimal import Decimal\n",
    "\n",
    "@dataclass\n",
    "class OnlineOrder(RestaurantInterface):\n",
    "    client:str\n",
    "    order:list[str]= field(default_factory=list)\n",
    "    order_nr:Decimal=None\n",
    "    price:float=0.0\n",
    "    \n",
    "    def accept_online_order(self)->bool:\n",
    "        return True\n",
    "    \n",
    "    def take_telephone_order(self)->None:\n",
    "        'We can`t take phone calls online'\n",
    "  \n",
    "    def online_payment(self)->str:\n",
    "        return 'we are doing the logic to proces online payment'\n",
    "    \n",
    "    def walkin_order(self)->None:\n",
    "        print('You can`t walk-in online')\n",
    "    \n",
    "    def cash_payment(self)->None:\n",
    "        print('You can`t pay cash online')\n",
    "\n",
    "    def card_payment(self)->None:\n",
    "        'A card payment goes via the online payment logic'"
   ]
  },
  {
   "cell_type": "markdown",
   "id": "49ef59e4-7c74-48bf-968c-76ed4780c1f9",
   "metadata": {},
   "source": [
    "As you can see I really only wanted to implement two of te six methods the rest I had to implement otherwise my OnlineOrder class would be an abstract class itself. Which I could not instantiate. \n",
    "\n",
    "Lots of clutter but our class works."
   ]
  },
  {
   "cell_type": "code",
   "execution_count": 19,
   "id": "6e5c20b1-bd23-41bf-badd-a1c3168d91c1",
   "metadata": {},
   "outputs": [
    {
     "data": {
      "text/plain": [
       "OnlineOrder(client='Croc', order=['Blue Heron', 'Cote du Boeuf'], order_nr=None, price=0.0)"
      ]
     },
     "execution_count": 19,
     "metadata": {},
     "output_type": "execute_result"
    }
   ],
   "source": [
    "order = OnlineOrder(client='Croc', order=['Blue Heron','Cote du Boeuf'])\n",
    "order"
   ]
  },
  {
   "cell_type": "code",
   "execution_count": 20,
   "id": "efd5304b-e5f3-4004-b509-97beaf96fde2",
   "metadata": {},
   "outputs": [
    {
     "data": {
      "text/plain": [
       "'we are doing the logic to proces online payment'"
      ]
     },
     "execution_count": 20,
     "metadata": {},
     "output_type": "execute_result"
    }
   ],
   "source": [
    "order.online_payment()"
   ]
  },
  {
   "cell_type": "markdown",
   "id": "9484b344-a306-4191-8e52-11630b1204b5",
   "metadata": {},
   "source": [
    "Unfortunately we also can do operations that really don't belong to our class"
   ]
  },
  {
   "cell_type": "code",
   "execution_count": 21,
   "id": "8d2a37cd-131d-46e2-a2cd-64868d89b962",
   "metadata": {},
   "outputs": [
    {
     "name": "stdout",
     "output_type": "stream",
     "text": [
      "You can`t walk-in online\n"
     ]
    }
   ],
   "source": [
    "order.walkin_order()"
   ]
  },
  {
   "cell_type": "markdown",
   "id": "68dc03ca-b1f0-43ec-96b9-b85b95b3d488",
   "metadata": {},
   "source": [
    "Now there are two ways to correct this, actually there are quite a few more, but let me focus on these two. \n",
    "\n",
    "Let me start with a manner Python offers you the DuckTyped interface."
   ]
  },
  {
   "cell_type": "code",
   "execution_count": 22,
   "id": "13295de2-b8d6-413c-a20d-c3d2165bfdb4",
   "metadata": {},
   "outputs": [],
   "source": [
    "class RestaurantInterfaceDT(ABC):\n",
    "    '''This is DuckTyped inteface or informal interface'''\n",
    "    \n",
    "    def accept_online_order(self):\n",
    "        pass\n",
    "    \n",
    "    def take_telephone_order(self):\n",
    "        pass\n",
    "  \n",
    "    def online_payment(self):\n",
    "        pass\n",
    "    \n",
    "    def walkin_order(self):\n",
    "        pass\n",
    "    \n",
    "    def cash_payment(self):\n",
    "        pass\n",
    "\n",
    "    def card_payment(self):\n",
    "        pass"
   ]
  },
  {
   "cell_type": "code",
   "execution_count": 23,
   "id": "61bcc96f-acff-4ea5-946a-765e3cb2e3fa",
   "metadata": {},
   "outputs": [],
   "source": [
    "@dataclass\n",
    "class OnlineOrderTwo(RestaurantInterfaceDT):\n",
    "    client:str\n",
    "    order:list[str]= field(default_factory=list)\n",
    "    order_nr:Decimal=None\n",
    "    price:float=0.0\n",
    "    \n",
    "    def accept_online_order(self)->bool:\n",
    "        return True\n",
    "    \n",
    "    def online_payment(self)->str:\n",
    "        return 'we are doing the logic to proces online payment'\n",
    "\n",
    "    "
   ]
  },
  {
   "cell_type": "code",
   "execution_count": 24,
   "id": "0beb32d8-7015-41e8-b46f-99227da82b95",
   "metadata": {},
   "outputs": [
    {
     "data": {
      "text/plain": [
       "OnlineOrderTwo(client='Croc', order=['Blue heron', 'Cote du Boeuf', 'Tomahawk steak'], order_nr=None, price=0.0)"
      ]
     },
     "execution_count": 24,
     "metadata": {},
     "output_type": "execute_result"
    }
   ],
   "source": [
    "order_two = OnlineOrderTwo(client='Croc', order=['Blue heron', 'Cote du Boeuf','Tomahawk steak'])\n",
    "order_two"
   ]
  },
  {
   "cell_type": "code",
   "execution_count": 25,
   "id": "fec20b2b-0d50-488f-adb6-6d3e494d0221",
   "metadata": {},
   "outputs": [
    {
     "data": {
      "text/plain": [
       "'we are doing the logic to proces online payment'"
      ]
     },
     "execution_count": 25,
     "metadata": {},
     "output_type": "execute_result"
    }
   ],
   "source": [
    "order_two.online_payment()"
   ]
  },
  {
   "cell_type": "markdown",
   "id": "21be9a0c-a77e-4387-b7e0-89eaa780b5f2",
   "metadata": {},
   "source": [
    "I have solved the problem, well sort of anyway. \n",
    "\n",
    "I haven't cleaned up the interface, for instance I can still do a cash payment, it just doesn't do anything. Hopefully you understand that this is very buggy code."
   ]
  },
  {
   "cell_type": "code",
   "execution_count": 26,
   "id": "2162d98b-bac4-4e32-b338-8a5331ce2407",
   "metadata": {},
   "outputs": [],
   "source": [
    "order_two.cash_payment()"
   ]
  },
  {
   "attachments": {
    "16950fdb-32e7-40a2-abd9-720bacd666e9.png": {
     "image/png": "[encoded data removed]"
    }
   },
   "cell_type": "markdown",
   "id": "4b7d0619-91dd-4b83-a237-db4ce126de8c",
   "metadata": {},
   "source": [
    "There is better way to implement this.\n",
    "\n",
    "We seperate the interface in three interfaces that are order specific. We implement all these interfaces with ABC and abstract methods.\n",
    "\n",
    "![image.png](attachment:16950fdb-32e7-40a2-abd9-720bacd666e9.png)"
   ]
  },
  {
   "cell_type": "code",
   "execution_count": 27,
   "id": "fa71ceaa-2abc-4c60-9ffd-c4ecfd6933f8",
   "metadata": {},
   "outputs": [],
   "source": [
    "from abc import ABC, abstractmethod \n",
    "\n",
    "class OnlineOrderInterface(ABC):\n",
    "    \n",
    "    @abstractmethod\n",
    "    def accept_online_order(self):\n",
    "        pass\n",
    "    \n",
    "    @abstractmethod\n",
    "    def online_payment(self):\n",
    "        pass\n",
    "    \n",
    "class TelephoneOrderInterface(ABC):\n",
    "    \n",
    "    @abstractmethod\n",
    "    def take_telephone_order(self):\n",
    "        pass\n",
    "    \n",
    "    @abstractmethod\n",
    "    def card_payment(self):\n",
    "        pass\n",
    "    \n",
    "class WalkInOrderInterface(ABC):\n",
    "    \n",
    "    @abstractmethod\n",
    "    def walkin_order(self):\n",
    "        pass\n",
    "    \n",
    "    @abstractmethod\n",
    "    def cash_payment(self):\n",
    "        pass\n",
    "\n",
    "    @abstractmethod\n",
    "    def card_payment(self):\n",
    "        pass"
   ]
  },
  {
   "cell_type": "code",
   "execution_count": 28,
   "id": "8dff0302-3914-4723-9719-39d6f5e2a212",
   "metadata": {},
   "outputs": [],
   "source": [
    "@dataclass\n",
    "class OnlineOrderThree(OnlineOrderInterface):\n",
    "    client:str\n",
    "    order:list[str]= field(default_factory=list)\n",
    "    order_nr:Decimal=None\n",
    "    price:float=0.0\n",
    "    \n",
    "    def accept_online_order(self)->bool:\n",
    "        return True\n",
    "    \n",
    "    def online_payment(self)->str:\n",
    "        return 'we are doing the logic to proces online payment'"
   ]
  },
  {
   "cell_type": "code",
   "execution_count": 29,
   "id": "5f56fa99-8386-40c1-a98d-5f1a9600784e",
   "metadata": {},
   "outputs": [
    {
     "data": {
      "text/plain": [
       "OnlineOrderThree(client='Croc', order=['Blue heron', 'Cote du Boeuf', 'Tomahawk steak', 'Leg of Lamb'], order_nr=None, price=0.0)"
      ]
     },
     "execution_count": 29,
     "metadata": {},
     "output_type": "execute_result"
    }
   ],
   "source": [
    "order_three = OnlineOrderThree(client='Croc', order=['Blue heron', 'Cote du Boeuf','Tomahawk steak', 'Leg of Lamb'])\n",
    "order_three"
   ]
  },
  {
   "cell_type": "code",
   "execution_count": 30,
   "id": "cdfbe5e1-6981-4d2e-abfe-17646482b658",
   "metadata": {},
   "outputs": [
    {
     "data": {
      "text/plain": [
       "'we are doing the logic to proces online payment'"
      ]
     },
     "execution_count": 30,
     "metadata": {},
     "output_type": "execute_result"
    }
   ],
   "source": [
    "order_three.online_payment()"
   ]
  },
  {
   "cell_type": "markdown",
   "id": "e0a6da0c-347d-4ba2-9210-c96f09e2f707",
   "metadata": {},
   "source": [
    "This is a much better solution for I have only to implement the methods that are applicable to me. \n",
    "\n",
    "However, I had to repeat some implementations across the interfaces `card_payment(self):` occurs twice. \n",
    "\n",
    "This is code-repetition, we want to avoid it where possible. And as I stated we can do better, especially in Python."
   ]
  },
  {
   "attachments": {
    "2c294309-dbd5-4f88-9522-419dbce6ab13.png": {
     "image/png": "[encoded data removed]"
    }
   },
   "cell_type": "markdown",
   "id": "21a3df96-eea1-447b-b495-123f9308169c",
   "metadata": {},
   "source": [
    "#### **Mixin solution**\n",
    "We could use a Mixin class, to solve the problem, as I do not think order should contain the logic for processing payments. That should be a payment class.\n",
    "\n",
    "Our diagram would like:\n",
    "\n",
    "![afbeelding.png](attachment:2c294309-dbd5-4f88-9522-419dbce6ab13.png)"
   ]
  },
  {
   "cell_type": "code",
   "execution_count": 31,
   "id": "e93bf8bd-cf32-46a7-8d5b-1f341d542769",
   "metadata": {},
   "outputs": [],
   "source": [
    "from abc import ABC, abstractmethod \n",
    "\n",
    "class OnlineOrderInterfaceII(ABC):\n",
    "    \n",
    "    @abstractmethod\n",
    "    def accept_online_order(self):\n",
    "        pass\n",
    "    \n",
    "class MixinPaymentClass:\n",
    "    \n",
    "    def online_payment(self)->str:\n",
    "        return f'we are facilitating {type(self).__name__}`s online payment'\n",
    "    \n",
    "    def cash_payment(self)->str:\n",
    "        return f'we are facilitating {type(self).__name__}`s cash payment'\n",
    "    \n",
    "    def card_payment(self)->str:\n",
    "        return f'we are facilitating {type(self).__name__}`s card payment'\n",
    "    \n",
    "\n",
    "@dataclass\n",
    "class OnlineOrderFour(OnlineOrderInterfaceII, MixinPaymentClass):\n",
    "    client:str\n",
    "    order:list[str]= field(default_factory=list)\n",
    "    order_nr:Decimal=None\n",
    "    price:float=0.0\n",
    "    \n",
    "    def accept_online_order(self)->bool:\n",
    "        return True\n",
    "    \n",
    "    def online_payment(self)->str:\n",
    "        return super().online_payment()\n",
    "    \n",
    "    def cash_payment(self)->str:\n",
    "        return f'unfortunately {type(self).__name__} does not accept cash payments'\n",
    "    \n",
    "    def card_payment(self)->str:\n",
    "        return f'unfortunately {type(self).__name__} does not accept card payments'\n",
    "        \n",
    "    \n",
    "    "
   ]
  },
  {
   "cell_type": "code",
   "execution_count": 32,
   "id": "c73bc0ca-7a37-4156-b4fc-49666247fab9",
   "metadata": {},
   "outputs": [
    {
     "data": {
      "text/plain": [
       "OnlineOrderFour(client='Croc', order=['Blue heron', 'Cote du Boeuf', 'Tomahawk steak', 'Leg of Lamb', 'roasted suckling pig'], order_nr=None, price=0.0)"
      ]
     },
     "execution_count": 32,
     "metadata": {},
     "output_type": "execute_result"
    }
   ],
   "source": [
    "order_four = OnlineOrderFour(client='Croc', order=['Blue heron', 'Cote du Boeuf','Tomahawk steak', 'Leg of Lamb', 'roasted suckling pig'])\n",
    "order_four"
   ]
  },
  {
   "cell_type": "code",
   "execution_count": 33,
   "id": "571791ed-b994-42fb-843c-dd87f82cc397",
   "metadata": {},
   "outputs": [
    {
     "data": {
      "text/plain": [
       "'we are facilitating OnlineOrderFour`s online payment'"
      ]
     },
     "execution_count": 33,
     "metadata": {},
     "output_type": "execute_result"
    }
   ],
   "source": [
    "order_four.online_payment()"
   ]
  },
  {
   "cell_type": "markdown",
   "id": "93fc6df5-48f4-4a98-945e-cd9bfe2faaae",
   "metadata": {},
   "source": [
    "Of course we should implement the other methods to avoid bugs"
   ]
  },
  {
   "cell_type": "code",
   "execution_count": 34,
   "id": "2120fab9-9bf9-483f-828b-851370cd00eb",
   "metadata": {},
   "outputs": [
    {
     "data": {
      "text/plain": [
       "'unfortunately OnlineOrderFour does not accept cash payments'"
      ]
     },
     "execution_count": 34,
     "metadata": {},
     "output_type": "execute_result"
    }
   ],
   "source": [
    "order_four.cash_payment()"
   ]
  },
  {
   "cell_type": "markdown",
   "id": "0833f435-006b-4f95-a49e-c61e6fdd45ab",
   "metadata": {},
   "source": [
    "The GoF favoured object composition over inheritance. Here I feel that object composition is the better solution."
   ]
  },
  {
   "cell_type": "code",
   "execution_count": 39,
   "id": "112243a2-2bdf-4588-8ed2-a10e72b79267",
   "metadata": {},
   "outputs": [],
   "source": [
    "class PaymentClass:\n",
    "    \n",
    "    def online_payment(self)->str:\n",
    "        return f'we are facilitating {type(self).__name__}`s online payment'\n",
    "    \n",
    "    def cash_payment(self)->str:\n",
    "        return f'we are facilitating {type(self).__name__}`s cash payment'\n",
    "    \n",
    "    def card_payment(self)->str:\n",
    "        return f'we are facilitating {type(self).__name__}`s card payment'"
   ]
  },
  {
   "cell_type": "code",
   "execution_count": 40,
   "id": "f98e8ff8-6efa-48fc-9310-be79776d8699",
   "metadata": {},
   "outputs": [],
   "source": [
    "from abc import ABC, abstractmethod \n",
    "\n",
    "class OnlineOrderInterfaceII(ABC):\n",
    "    \n",
    "    @abstractmethod\n",
    "    def accept_online_order(self):\n",
    "        pass\n",
    "    \n",
    "@dataclass\n",
    "class OnlineOrderFive(OnlineOrderInterfaceII):\n",
    "    client:str\n",
    "    order:list[str]= field(default_factory=list)\n",
    "    order_nr:Decimal=None\n",
    "    price:float=0.0\n",
    "    \n",
    "    def accept_online_order(self)->bool:\n",
    "        return True\n",
    "    \n",
    "    def online_payment(self)->str:\n",
    "        return PaymentClass().online_payment()\n",
    "    "
   ]
  },
  {
   "cell_type": "code",
   "execution_count": 37,
   "id": "88046a46-a93f-4702-9073-358220a8e7e1",
   "metadata": {},
   "outputs": [
    {
     "data": {
      "text/plain": [
       "OnlineOrderFive(client='Croc', order=['Blue heron', 'Cote du Boeuf', 'Tomahawk steak', 'Leg of Lamb', 'roasted suckling pig', 'Veal Orloff'], order_nr=None, price=0.0)"
      ]
     },
     "execution_count": 37,
     "metadata": {},
     "output_type": "execute_result"
    }
   ],
   "source": [
    "order_five = OnlineOrderFive(client='Croc', order=['Blue heron', 'Cote du Boeuf','Tomahawk steak', 'Leg of Lamb', 'roasted suckling pig', 'Veal Orloff'])\n",
    "order_five"
   ]
  },
  {
   "cell_type": "code",
   "execution_count": 38,
   "id": "741b0b17-efea-4341-bb1d-7198c2498e5d",
   "metadata": {},
   "outputs": [
    {
     "data": {
      "text/plain": [
       "'we are facilitating PaymentClass`s online payment'"
      ]
     },
     "execution_count": 38,
     "metadata": {},
     "output_type": "execute_result"
    }
   ],
   "source": [
    "order_five.online_payment()"
   ]
  },
  {
   "cell_type": "markdown",
   "id": "6b0aa7e6-2de5-4419-9b5c-1745877f8bcb",
   "metadata": {},
   "source": [
    "The last solution is obviously the best, we did avoid the need to implement useless methods in our class.\n",
    "\n",
    "We traded our parent dependency for a direct dependency on another class, but still, we don't care about the implementation. \n",
    "\n",
    "Now I am working in an interactive environment usually you would just import the PaymentClass. We also simplified the responsibility of our class and gave over the payment responsibility to a specialized PaymentClass, which can be expanded with numerous payment methods without us needing to change the interface or the `OnlineOrderFive` class.\n",
    "\n",
    "There is another option see if you can think of that, maybe first read on.\n",
    "   "
   ]
  },
  {
   "attachments": {
    "2c41b154-2121-43b8-82dc-193f52c5c2af.png": {
     "image/png": "[encoded data removed]"
    }
   },
   "cell_type": "markdown",
   "id": "f0eda2a2-bf1c-4123-a838-bc94525dd151",
   "metadata": {},
   "source": [
    "#### **Dependency inversion principle** (D)\n",
    "The principle of dependency inversion refers to the decoupling of software modules. This way, instead of high-level modules depending on low-level modules, both will depend on abstractions.\n",
    "\n",
    "This diagram gives a clear view of DIP.\n",
    "\n",
    "![image.png](attachment:2c41b154-2121-43b8-82dc-193f52c5c2af.png)!"
   ]
  },
  {
   "cell_type": "markdown",
   "id": "46e6e63c-a5dc-4167-9120-d5963582ca1d",
   "metadata": {},
   "source": [
    "Simply put, DIP is about making software components to explicitly declare their dependencies or collaborators through their APIs, \n",
    "instead of acquiring them by themselves.\n",
    "\n",
    "Bob Martin says dependency inversion is about: High-level modules should not depend on low-level modules. Both should depend on abstractions; abstractions should not depend on details. Details should depend on abstractions.\n",
    "\n",
    "However, I believe that this doesn't make much clearer. Dependency inversion is all about API's. It is about high-level modules interoperate with medium and low-level modules. This is not Bob Martins idea; it comes from one of the first object-oriented languages called Smalltalk.\n",
    "\n",
    "Let's see a Pythonic way of implementing DIP You should recognize the code."
   ]
  },
  {
   "cell_type": "code",
   "execution_count": 41,
   "id": "ea57f675-773f-4776-b5b2-c5d42b806d1f",
   "metadata": {},
   "outputs": [],
   "source": [
    "from abc import ABC, abstractmethod\n",
    "from dataclasses import dataclass\n",
    "\n",
    "class CurrencyConverter(ABC):\n",
    "    '''This the interface that the client class will use, there are no details here''' \n",
    "    \n",
    "    @abstractmethod\n",
    "    def convert(self, from_currency, to_currency, amount) -> float:\n",
    "        raise NotImplementedError(\"You need to implement this.\")\n",
    "\n",
    "\n",
    "@dataclass\n",
    "class FXConverter(CurrencyConverter):\n",
    "    '''this a low level module that implements the conversion in a detailed manner'''\n",
    "    \n",
    "    def convert(self, from_currency, to_currency, amount) -> float:\n",
    "        print(f'using the {type(self).__name__} converter')\n",
    "        print(f'{amount} {from_currency} = {amount * 1.2} {to_currency}')\n",
    "        return amount * 1.15\n",
    "\n",
    "\n",
    "@dataclass\n",
    "class AlphaConverter(CurrencyConverter):\n",
    "    '''this a low level module that implements the conversion in a detailed manner'''\n",
    "    \n",
    "    def convert(self, from_currency, to_currency, amount) -> float:\n",
    "        print(f'using the {type(self).__name__} converter')\n",
    "        print(f'{amount} {from_currency} = {amount * 1.2} {to_currency}')\n",
    "        return amount * 1.2\n",
    "\n",
    "@dataclass\n",
    "class Client:\n",
    "    converter:CurrencyConverter=None\n",
    "\n",
    "    def start(self):\n",
    "        self.converter.convert('EUR', 'USD', 100)\n"
   ]
  },
  {
   "cell_type": "code",
   "execution_count": 42,
   "id": "4d112ae3-f7ea-4fb9-a6c2-cbda69a726cb",
   "metadata": {},
   "outputs": [
    {
     "name": "stdout",
     "output_type": "stream",
     "text": [
      "using the AlphaConverter converter\n",
      "100 EUR = 120.0 USD\n"
     ]
    }
   ],
   "source": [
    "client = Client(AlphaConverter())\n",
    "client.start()"
   ]
  },
  {
   "attachments": {
    "9069b245-f70e-4a91-983e-4e5e73b23e7f.png": {
     "image/png": "[encoded data removed]"
    }
   },
   "cell_type": "markdown",
   "id": "81ba686f-6f12-4360-8d9c-8c0884f52afb",
   "metadata": {},
   "source": [
    "To understand what happens see the following diagram:\n",
    "\n",
    "![image.png](attachment:9069b245-f70e-4a91-983e-4e5e73b23e7f.png)\n",
    "\n",
    "The client has an attribute called converter of type CurrencyConverter. CurrencyConverter is an interface, both AlpaConverter and FXConverter implement that interface. When we instantiate `client = Client(AlphaConverter())` we give it an AlphaConverter (this is Liskov in prima forma, as AlphaConverter is a subtype of CurrencyConverter, also we use 1 of the 3 forms of dependency injection here, on which more later.)\n",
    "\n",
    "The thing to notice is that there is a barrier between Client and the actual classes (AlphaConverter, FXConverter) that implement `convert()` Some of the most famous programming patterns follow this general pattern, for instance the Adapter Pattern see https://en.wikipedia.org/wiki/Adapter_pattern."
   ]
  },
  {
   "cell_type": "markdown",
   "id": "749ee549-f5bf-4264-b9cb-3eccb627cd8f",
   "metadata": {},
   "source": [
    "#### **Dependency injection**\n",
    "You often hear dependency inversion said in the same sentence as dependency injection. What is dependency injection? Dependency injection is a design pattern in which an object or function receives other objects or functions that it depends on. A form of inversion of control, dependency injection aims to separate the concerns of constructing objects and using them.\n",
    "\n",
    "Most of the dependency injection is done by a framework, as manual dependency injection is rather tedious. There are several famous frameworks that use dependency injection. The most famous being Spring for Java, domain specific frameworks are for instance AngularJS for JavaScript and Django for Python.    \n",
    "\n",
    "The advantages of dependency injection are that it leads to loosely coupled programs, which we have seen is a software quality. Furthermore, there are advantages in unit testing, as the code behaviour does not change, dependency injection allows for testing in isolation, aka unit testing.   \n",
    "\n",
    "However, dependency injection also leads invariably to a lot of mocking, which in turn come with the following cost:\n",
    "\n",
    " 1. Using mocks leads to violations of the DRY principle.\n",
    " 2. Using mocks makes refactoring harder.\n",
    " 3. Using mocks can reduce the simplicity of the design. \n",
    "\n",
    "Unfortunately, there are more disadvantages you should consider: \n",
    " * dependence on frameworks. \n",
    " * code is difficult to trace, and therefore more difficult to understand.\n",
    "\n",
    "Let me show you some simple examples of dependency injection.\n"
   ]
  },
  {
   "cell_type": "markdown",
   "id": "db9503c4-84bc-4b46-9950-280e02b7c421",
   "metadata": {},
   "source": [
    "#### **Three ways to inject dependencies**\n",
    " 1. constructor injection\n",
    " 2. setter injection\n",
    " 3. Interface injection"
   ]
  },
  {
   "cell_type": "code",
   "execution_count": 1,
   "id": "58c05cd0-3cd9-41d2-852a-fc85c9830073",
   "metadata": {},
   "outputs": [],
   "source": [
    "class Service:\n",
    "    '''this is some service you want'''\n",
    "    pass\n",
    "\n",
    "class Client:\n",
    "\n",
    "    def __init__(self): \n",
    "        #This dependency is hard-coded this class is tightly coupled.\n",
    "        self.service = Service()"
   ]
  },
  {
   "cell_type": "markdown",
   "id": "e491ce6a-29bd-4ea9-96fc-09109063d9e9",
   "metadata": {},
   "source": [
    "**1 Constructor injection**\n",
    "\n",
    "Create a depency at initialization."
   ]
  },
  {
   "cell_type": "code",
   "execution_count": 45,
   "id": "24eeed5b-5a44-4089-829d-7bc4e0468385",
   "metadata": {},
   "outputs": [],
   "source": [
    "class Client:\n",
    "    '''This is loosely coupled because the constructor takes a service'''\n",
    "    \n",
    "    def __init__(self, service:Service)->None: \n",
    "        if service is None:\n",
    "            raise 'The service should not be None'\n",
    "        self.service = service "
   ]
  },
  {
   "cell_type": "markdown",
   "id": "7a2ccb2f-030f-4e32-a92d-7ff77017a7a5",
   "metadata": {},
   "source": [
    "#### **2 Setter injection**\n",
    "Basically the same as above, but now we use a setter, instead of initializing the variable."
   ]
  },
  {
   "cell_type": "code",
   "execution_count": 27,
   "id": "1eefd3cf-5740-4df5-a884-096a41dfec66",
   "metadata": {},
   "outputs": [],
   "source": [
    "class Client:\n",
    "    '''This is loosely coupled because the setter injects a service'''\n",
    "    \n",
    "    def set_service(self, service:Service)->None:\n",
    "        if service is None:\n",
    "            raise 'The service should not be None'\n",
    "        self.service = service"
   ]
  },
  {
   "cell_type": "markdown",
   "id": "e8058a4f-9604-4de2-b07a-b9a70490cb66",
   "metadata": {},
   "source": [
    "#### **3 Interface Injection**\n",
    "Interface injection is the most common form of injection. Dependents are completely ignorant of their clients, yet still send and receive references to new clients.\n",
    "\n",
    "That this is important might be difficult to understand for a programmer that develops small systems. The essence boils down to this: you should not create a dependency between two object that work together but don't necessarily belong together.  \n",
    "\n",
    "A simple example is of course a brake, a car has a brake, but so do a motorbike, a bicycle, and even an elevator has a brake. It does not make sense to hardwire the car and the brake together as this might mean your brake is too specific to be of use for the other objects. \n",
    "\n",
    "You could use interface dependency injection to solve this issue."
   ]
  },
  {
   "cell_type": "code",
   "execution_count": 2,
   "id": "d561f599-048d-4968-b1af-3ec153759a61",
   "metadata": {},
   "outputs": [],
   "source": [
    "from abc import ABC, abstractmethod\n",
    "\n",
    "class BrakeInterface(ABC):\n",
    "    \n",
    "    @abstractmethod\n",
    "    def brake_on(sender)->None:\n",
    "        ...\n",
    "    \n",
    "    @abstractmethod\n",
    "    def brake_off(sender)->None:\n",
    "        ...\n",
    "        \n",
    "class Car(BrakeInterface):\n",
    "    \n",
    "    def __init__(self)->None:\n",
    "        self.brake = False\n",
    "        \n",
    "    def brake_on(self, sender)->None:\n",
    "        self.brake = True\n",
    "        print(f'{self.__class__.__name__} is braking')\n",
    "    \n",
    "    def brake_off(self, sender)->None:\n",
    "        self.brake = False\n",
    "        print(f'{self.__class__.__name__} is braking')\n",
    "\n",
    "class Elevator(BrakeInterface):\n",
    "    \n",
    "    def __init__(self)->None:\n",
    "        self.brake = False\n",
    "        \n",
    "    def brake_on(self, sender)->None:\n",
    "        self.brake = True\n",
    "        print(f'{sender.__class__.__name__} is braking')\n",
    "    \n",
    "    def brake_off(self, sender)->None:\n",
    "        self.brake = False\n",
    "        print(f'{sender.__class__.__name__} is braking')\n",
    "    \n",
    "\n",
    "class Brake:\n",
    "    \n",
    "    def __init__(self, outlet):          \n",
    "        self.status = None                \n",
    "        self.outlet = outlet \n",
    "    \n",
    "    def braking(self):\n",
    "        if not self.status:\n",
    "            self.status = True\n",
    "            self.outlet.brake_on(sender=self)\n",
    "    \n",
    "    def not_braking(self):\n",
    "        if self.status:\n",
    "            self.status = False\n",
    "            self.outlet.brake_on(sender=self)        \n",
    "    \n",
    "    "
   ]
  },
  {
   "cell_type": "markdown",
   "id": "2e52b286-8e80-4161-8915-43c903d4c8de",
   "metadata": {},
   "source": [
    "The above you would use in a main as such:"
   ]
  },
  {
   "cell_type": "code",
   "execution_count": 3,
   "id": "e45b4065-cb0c-4065-9601-4ec2855f8cde",
   "metadata": {},
   "outputs": [
    {
     "name": "stdout",
     "output_type": "stream",
     "text": [
      "Car is braking\n"
     ]
    }
   ],
   "source": [
    "car = Car()\n",
    "brake = Brake(car)\n",
    "brake.braking()"
   ]
  },
  {
   "cell_type": "code",
   "execution_count": 30,
   "id": "a6aa7958-e79f-4c26-993e-1c5dc4659266",
   "metadata": {},
   "outputs": [
    {
     "name": "stdout",
     "output_type": "stream",
     "text": [
      "Brake is braking\n"
     ]
    }
   ],
   "source": [
    "elevator = Elevator()\n",
    "brake2 = Brake(elevator)\n",
    "brake2.braking()"
   ]
  },
  {
   "cell_type": "markdown",
   "id": "a8868f49-2141-461c-b563-036e01b6d212",
   "metadata": {},
   "source": [
    "As you can see both objects use the brake object. \n",
    "\n",
    "The brake object does not care what object it receives, iff it adheres to the BrakeInterface. \n",
    "\n",
    "This is very like the strategy pattern see https://en.wikipedia.org/wiki/Strategy_pattern, and very much like the factory pattern see https://en.wikipedia.org/wiki/Factory_(object-oriented_programming).\n",
    "\n",
    "As far as I am aware dependency injection is not a massive thing in dynamic languages like Python, which are flexible in nature, unlike C++ or Java. There are other solutions. See Raymond Hettinger's video https://www.youtube.com/watch?v=EiOglTERPEo. \n",
    "\n",
    "Or in a pinch you could use **monkey-patching**, which is to dynamically change the behaviour of code at runtime."
   ]
  },
  {
   "cell_type": "code",
   "execution_count": 4,
   "id": "32568be4-ea0f-4c9b-9503-d771d552273c",
   "metadata": {},
   "outputs": [
    {
     "name": "stdout",
     "output_type": "stream",
     "text": [
      "3.141592653589793\n"
     ]
    }
   ],
   "source": [
    "import math\n",
    "\n",
    "print(math.pi)\n"
   ]
  },
  {
   "cell_type": "code",
   "execution_count": 5,
   "id": "aa85cde8-f86c-4c41-b894-96e015f13695",
   "metadata": {},
   "outputs": [
    {
     "name": "stdout",
     "output_type": "stream",
     "text": [
      "100\n"
     ]
    }
   ],
   "source": [
    "# the monkey-patch\n",
    "math.pi = 100\n",
    "print(math.pi)"
   ]
  },
  {
   "cell_type": "markdown",
   "id": "f252c9de-5e6e-4575-9983-8af822d6c29c",
   "metadata": {},
   "source": [
    "I would advice against monkey-patching, but am a fan of the code Hettinger shows, which I feel is more Pythonic than dependency injection.\n",
    "\n",
    "However, if you want to use dependency injection, it seems a framework is the way to go see https://python-dependency-injector.ets-labs.org/."
   ]
  },
  {
   "cell_type": "markdown",
   "id": "771968fe-f5bd-47bc-8bb5-8af65fa81f8a",
   "metadata": {},
   "source": [
    "## **The Ugly**\n",
    "Now we have talked about SOLID in quite some detail, we need to talk about the ugly with SOLID. SOLID leads to a lot of abstraction via the use of interfaces as you can see from the last example. Unfortunately to a lot of dependencies too. This is of course dependent :-) on your definition of dependency. In the broadest sense it is a form of association, but dependency is stronger in object composition than in inheritance. The reason for this is simple you can ignore the parents’ implementations (you can override them), you cannot ignore the implementation of the objects your object is composed off. \n",
    "\n",
    "Because you cannot ignore the implementations of objects in composition is the reason for the application programming interface. The API provides you with at minimal a signature for the object and hopefully some added documentation. So, you know what to expect without needing to care how such is achieved in the actual code of the object. \n",
    "\n",
    "SOLID leads to dependencies for it favours composition over inheritance, but inheritance is also a dependency. Now if you're confused it is maybe time to look at the benefits of functional programming ;-) \n",
    "\n",
    "I am not sure SOLID is an important thing in the Netherlands, I would suggest that the GRASP principles are more used. https://en.wikipedia.org/wiki/GRASP_(object-oriented_design), but I was raised with GRASP so I might very well be wrong. The Dutch wiki page for SOLID is however quite light :-) see https://nl.wikipedia.org/wiki/SOLID. \n",
    "\n",
    "Using SOLID or GRASP will inevitably lead to code-bloat, meaning you will pump up your code base with a lot of boiler plate code, and your code base might become very opaque and exceedingly difficult to test."
   ]
  },
  {
   "cell_type": "markdown",
   "id": "41c9865b-f7fe-4cb9-aaa8-75b824d5dd65",
   "metadata": {},
   "source": [
    "#### **Mocking**\n",
    "Hopefully you have seen that next to solving some design issues, the SOLID principles lead to your code base growing substantially and increasing dependencies. Dependencies are difficult to test, you need not only to unit test the classes, but you also need to test the dependencies. This leads inevitably to a lot of mocking. With mocking I mean you need to create objects that simulate the behaviour of real objects to test the behaviour of the dependencies. After all you might not have written the other class, or it might not exist at all yet.\n",
    "\n",
    "*'Mocks are a smell. They tell you that your code depends on some semi-related part of the system. Rather than work around the design defect, fix the design.'* \n",
    "\n",
    "Good advice! see this interesting blogpost http://arlobelshee.com/tag/no-mocks/ for more information."
   ]
  },
  {
   "cell_type": "markdown",
   "id": "4d95b037-248e-4693-b7bd-c7098be84ec1",
   "metadata": {},
   "source": [
    "#### **Dependency elimination**\n",
    "The good in SOLID is foremost in the Single Responsibility Principle. The other principles tend to lead to added dependencies. But if you decide to (loosely I hope) follow SOLID you need to extra care of your dependencies, in fact you should treat dependencies as code smells. Why, simply because dependencies are inherently buggy and harder to test.\n",
    "\n",
    "But how do I eliminate dependencies especially in Python?\n",
    " 1. Following the SRP principle, meaning that the responsibility of changing a class lies with one actor. One dependency, The software quality principles low coupling and high cohesion will help you to clean your code up. \n",
    " 2. Consider the testability of what you are writing, in order from easy to difficult:\n",
    "    * A pure (mathematical) function, meaning no side effects.\n",
    "    * A class that has immutable state.\n",
    "    * A class that has mutable state but has no dependencies with behaviour (no parent not depending on other objects).\n",
    "    * A class that operates against a dependency with its own behaviour.\n",
    " 3. Use immutable data where possible, otherwise make it possible in your design.\n",
    " 4. Favour object composition over inheritance if you want to do SOLID see https://en.wikipedia.org/wiki/Composition_over_inheritance. Favour inheritance if you want to be more Pythonic.\n",
    " 5. Treat dependencies as code smells. \n",
    "\n",
    "I just want to expound on point five for point four see the Inheritance notebook."
   ]
  },
  {
   "cell_type": "markdown",
   "id": "d48103f6-4b35-4c19-b159-30f66185a512",
   "metadata": {},
   "source": [
    "#### **This code stinks!**\n",
    "Treat dependecies as code smell, consider the following code:"
   ]
  },
  {
   "cell_type": "code",
   "execution_count": 9,
   "id": "8d4b7a2c-7b24-4507-b872-efec1d352fe9",
   "metadata": {},
   "outputs": [],
   "source": [
    "from abc import ABC, abstractmethod\n",
    "from dataclasses import dataclass, field\n",
    "\n",
    "class Order:\n",
    "    \n",
    "    def __init__(self)->None:\n",
    "        self.state = 'unpaid'\n",
    "\n",
    "class PaymentProcessor(ABC):\n",
    "\n",
    "    @abstractmethod\n",
    "    def pay(self, order:Order, verification_method:str)->None:\n",
    "        raise NotImplementedError(\"You need to implement this.\")\n",
    "\n",
    "class DebitPaymentProcessor(PaymentProcessor):\n",
    "    \n",
    "    def pay(self, order:Order, verification_method:str)->None:\n",
    "        print(f\"Using pin code: {verification_method}\")         \n",
    "        order.state = 'paid'\n",
    "\n",
    "class CreditPaymentProcessor(PaymentProcessor):\n",
    "    \n",
    "    def pay(self, order:Order, verification_method:str)->None:\n",
    "        print(f\"Using pin code: {verification_method}\")         \n",
    "        order.state = 'paid'\n",
    "\n",
    "class PaypalPaymentProcessor(PaymentProcessor):\n",
    "    \n",
    "    def pay(self, order:Order, verification_method:str)->None:\n",
    "        print(f\"Using email-address: {verification_method}\")         \n",
    "        order.state = 'paid'\n",
    "\n",
    "@dataclass\n",
    "class Order:\n",
    "    #attributen\n",
    "    items:list[str] = field(default_factory=list)\n",
    "    quantities:list[int] = field(default_factory=list)\n",
    "    prices:list[float] = field(default_factory=list)\n",
    "    state:str = \"open\"\n",
    "    total:float = 0.0\n",
    "\n",
    "    #methodes\n",
    "    def add_item_to_order(self, name, quantity, price)->None:\n",
    "        self.items.append(name)\n",
    "        self.quantities.append(quantity)\n",
    "        self.prices.append(price)\n",
    "\n",
    "    def calculate_sum_of_items(self)->None:\n",
    "        total = 0\n",
    "        for i in range(len(self.prices)):\n",
    "            total += self.quantities[i] * self.prices[i]\n",
    "        self.total = total         \n",
    "        "
   ]
  },
  {
   "attachments": {
    "c12b1498-1dbe-4c16-b18a-1ad20a894c21.png": {
     "image/png": "[encoded data removed]"
    }
   },
   "cell_type": "markdown",
   "id": "91bef815-a05b-414b-bc13-9f88f02a3e3e",
   "metadata": {},
   "source": [
    "#### In a diagram\n",
    "![image.png](attachment:c12b1498-1dbe-4c16-b18a-1ad20a894c21.png)\n"
   ]
  },
  {
   "attachments": {
    "6544866f-e455-4181-a08c-1ae0b677b164.png": {
     "image/png": "[encoded data removed]"
    }
   },
   "cell_type": "markdown",
   "id": "884fb621-9893-4fd7-a674-c7ae3000cdc8",
   "metadata": {},
   "source": [
    "As we can see there is a lot of dependency here. Three classes are depending on order and four classes are responsible for Order!\n",
    "What creates this dependency let's have a look at the implementation of pay: \n",
    "\n",
    "` def pay(self, order:Order, verification_method:str)->None:`\n",
    "         \n",
    "We take an order as argument. If you see a method taking an object as an argument, all the stink alarms need to go off. Your first question should be does a PaymentProcessor.pay() need an order to process payment? The answer is of course no, it needs an amount to process the payment, `order.total` perhaps?\n",
    "\n",
    "As a guideline you should always try to use low level types as arguments to methods and functions, not compounded types as objects. There are exceptions to this of course, but these are rare.\n",
    "\n",
    "By giving it an object, we create a dependency to that object, if I want to change something in that object, for instance I want order.state to be a Boolean, I now must change all PaymentProcessor classes...\n",
    "\n",
    "In general, you should try to avoid accessing attributes directly from outside of the object itself, for this is cause of probably the most errors in Python. This code isn't following the SRP guideline, both Order and all the PaymentProcessor classes are now responsible for changing order. That is four actors when we only should have one!\n",
    "\n",
    "People change the attributes of objects for their own reasons, without realizing that others depend on this. Having four different classes responsible for changing order makes it difficult to trace who changed it! These types of errors are near to impossible to test (especially while only using unit testing, you would need regression  and dependency testing, but no guarantees that you would actually find the root cause. They're near to impossible to debug in large systems, with a large code base.\n",
    "\n",
    "It is better to use a setter for that and make explicit what you are doing and maybe log it. Better still make your object immutable, recreate the changed object and delete the old one.\n",
    "\n",
    "Furthermore, by giving the PaymentProcesser classes access to the order I gave it significantly more information that it needed. I gave it access to five attributes, but it only needed one. This is not information hiding (one of the reasons for objected oriented programming). \n",
    "\n",
    "This code is tightly coupled it should be loosely coupled. \n",
    "\n",
    "There is another question which is not solved by SOLID, and that question is who creates a payment? Is it a PaymentProcessor class or is it Order in this simple example? It is Order that needs to be paid, and in this simple diagram it is the job of order to create a payment, and for the PaymentProcessor classes to process that payment (GRASP would make this clear).\n",
    "\n",
    "We can redesign this.\n",
    "\n",
    "![image.png](attachment:6544866f-e455-4181-a08c-1ae0b677b164.png)\n",
    "\n",
    "Now order uses the PaymentProcessor classes without creating a dependency. The implementation of the different pay methods might change, there won't be a need to change order if you keep the methods signature the same.\n"
   ]
  },
  {
   "cell_type": "code",
   "execution_count": 16,
   "id": "f0115b3c-8710-4c81-9738-6e8606256e7b",
   "metadata": {},
   "outputs": [],
   "source": [
    "from abc import ABC, abstractmethod\n",
    "from dataclasses import dataclass, field\n",
    "\n",
    "class PaymentProcessor(ABC):\n",
    "\n",
    "    @abstractmethod\n",
    "    def pay(self, total, verification_method)->bool:\n",
    "        raise NotImplementedError(\"You need to implement this.\")\n",
    "\n",
    "\n",
    "class DebitPaymentProcessor(PaymentProcessor):\n",
    "    \n",
    "    def pay(self, total:float, verification_method:str)->bool:\n",
    "        print(f\"Using pin code: {verification_method}\")         \n",
    "        return True\n",
    "\n",
    "class CreditPaymentProcessor(PaymentProcessor):\n",
    "    \n",
    "    def pay(self, total:float, verification_method:str)->bool:\n",
    "        print(f\"Using pin code: {verification_method}\")         \n",
    "        return True\n",
    "\n",
    "class PaypalPaymentProcessor(PaymentProcessor):\n",
    "    \n",
    "    def pay(self, total:float, verification_method:str)->bool:\n",
    "        print(f\"Using email-address: {verification_method}\")         \n",
    "        return True\n",
    " \n",
    " \n",
    "@dataclass(frozen=False)\n",
    "class Order:\n",
    "    items:list[str] = field(default_factory=list)\n",
    "    quantities:list[int] = field(default_factory=list)\n",
    "    prices:list[float] = field(default_factory=list)\n",
    "    state:str = \"open\"\n",
    "    total:float = 0.0\n",
    "\n",
    "    def add_item_to_order(self, name, quantity, price)->None:\n",
    "        self.items.append(name)\n",
    "        self.quantities.append(quantity)\n",
    "        self.prices.append(price)\n",
    "\n",
    "    def calculate_sum_of_items(self)->None:\n",
    "        total = 0\n",
    "        for i in range(len(self.prices)):\n",
    "            total += self.quantities[i] * self.prices[i]\n",
    "        self.total = total\n",
    "\n",
    "    def pay_order(self, payment_processor:PaymentProcessor, verification_method)->None: # we do Liskov here\n",
    "        if payment_processor.pay(self.total, verification_method):\n",
    "            self.state = 'paid'\n",
    "        else:\n",
    "            self.state = 'open'"
   ]
  },
  {
   "cell_type": "code",
   "execution_count": 17,
   "id": "a6fb95f2-712e-4900-a3cf-53c492d3ccad",
   "metadata": {},
   "outputs": [],
   "source": [
    "order = Order()\n",
    "order.add_item_to_order(\"Spaghetti\", 1, 50)\n",
    "order.add_item_to_order(\"Monitor\", 1, 150)"
   ]
  },
  {
   "cell_type": "code",
   "execution_count": 18,
   "id": "a364fabf-2fbe-4c61-91dd-0bebd934b97c",
   "metadata": {},
   "outputs": [
    {
     "name": "stdout",
     "output_type": "stream",
     "text": [
      "200\n"
     ]
    }
   ],
   "source": [
    "order.calculate_sum_of_items()\n",
    "print(order.total)"
   ]
  },
  {
   "cell_type": "code",
   "execution_count": 19,
   "id": "ec790b55-bccb-438d-9274-8e98c421d09f",
   "metadata": {},
   "outputs": [
    {
     "data": {
      "text/plain": [
       "'open'"
      ]
     },
     "execution_count": 19,
     "metadata": {},
     "output_type": "execute_result"
    }
   ],
   "source": [
    "order.state"
   ]
  },
  {
   "cell_type": "code",
   "execution_count": 20,
   "id": "6fb25336-30c2-427c-8348-06492b929aaa",
   "metadata": {},
   "outputs": [
    {
     "name": "stdout",
     "output_type": "stream",
     "text": [
      "Using email-address: hoi@ikbener.nl\n"
     ]
    }
   ],
   "source": [
    "order.pay_order(PaypalPaymentProcessor(), 'hoi@ikbener.nl') "
   ]
  },
  {
   "cell_type": "code",
   "execution_count": 21,
   "id": "7d5aff99-d5f2-4c91-86b9-e48b4ebc22bb",
   "metadata": {},
   "outputs": [
    {
     "data": {
      "text/plain": [
       "'paid'"
      ]
     },
     "execution_count": 21,
     "metadata": {},
     "output_type": "execute_result"
    }
   ],
   "source": [
    "order.state"
   ]
  },
  {
   "attachments": {
    "3db84bf1-4d04-4560-8450-c92244c6a7dc.png": {
     "image/png": "[encoded data removed]"
    }
   },
   "cell_type": "markdown",
   "id": "daa56879-dc08-4e29-a212-4374eb91b883",
   "metadata": {},
   "source": [
    "This code smells fresher, but the stink alarm still goes off.  \n",
    "Pay_order(self, payment_processor:PaymentProcessor, verification_method) still takes an object. This code could use one more refactoring. \n",
    "\n",
    "Instead of telling `order.pay_order()` the PaymentProcessing class used. I want to abstract that, Order is only concerned with a payment method, not with the actual class and certainly not its implementation.\n",
    "\n",
    "We should build an interface and let Python decide at runtime which class to use, based on the information it receives. \n",
    "\n",
    "The diagram would look like this. \n",
    "\n",
    "![image.png](attachment:3db84bf1-4d04-4560-8450-c92244c6a7dc.png)"
   ]
  },
  {
   "cell_type": "code",
   "execution_count": 22,
   "id": "b032fd6a-e44a-4c08-9a4d-c6ae19879a1c",
   "metadata": {},
   "outputs": [],
   "source": [
    "from abc import ABC, abstractmethod\n",
    "from dataclasses import dataclass, field\n",
    "\n",
    "class PaymentProcessor(ABC):\n",
    "\n",
    "    @abstractmethod\n",
    "    def pay(self, total, verification_method)->bool:\n",
    "        raise NotImplementedError(\"You need to implement this.\")\n",
    "\n",
    "class DebitPaymentProcessor(PaymentProcessor):\n",
    "    def pay(self, total, verification_method)->bool:\n",
    "        print(f\"Using pin code: {verification_method}\")         \n",
    "        return True\n",
    "\n",
    "class CreditPaymentProcessor(PaymentProcessor):\n",
    "    \n",
    "    def pay(self, total:float, verification_method:str)->bool:\n",
    "        print(f\"Using pin code: {verification_method}\")         \n",
    "        return True\n",
    "\n",
    "class PaypalPaymentProcessor(PaymentProcessor):\n",
    "    \n",
    "    def pay(self, total:float, verification_method:str)->bool:\n",
    "        print(f\"Using email-address: {verification_method}\")         \n",
    "        return True\n",
    "\n",
    "@dataclass\n",
    "class Order:\n",
    "    items:list[str] = field(default_factory=list)\n",
    "    quantities:list[int] = field(default_factory=list)\n",
    "    prices:list[float] = field(default_factory=list)\n",
    "    state:str = \"open\"\n",
    "    total:float = 0.0\n",
    "\n",
    "    def add_item_to_order(self, name, quantity, price)->None:\n",
    "        self.items.append(name)\n",
    "        self.quantities.append(quantity)\n",
    "        self.prices.append(price)\n",
    "\n",
    "    def calculate_sum_of_items(self)->None:\n",
    "        self.total = round(sum([quantity * price for quantity in self.quantities for price in self.prices ])/2,2)\n",
    "\n",
    "    def pay_order(self, payment_method:str, verification_method:str)->None: # we do Liskov here\n",
    "        if PayAPI().pay(self.total, payment_method, verification_method):\n",
    "            self.state = 'paid'\n",
    "        else:\n",
    "            self.state = 'open'\n",
    "\n",
    "class PayAPI:\n",
    "    \n",
    "    def pay(self,amount:float,payment_method:str,verification_method:str):\n",
    "        match payment_method:\n",
    "            case 'debit':\n",
    "                return DebitPaymentProcessor().pay(total=amount, verification_method=verification_method)\n",
    "            case 'credit':\n",
    "                return CreditPaymentProcessor().pay(total=amount, verification_method=verification_method)\n",
    "            case 'paypal':\n",
    "                return PaypalPaymentProcessor().pay(total=amount, verification_method=verification_method)\n",
    "            case other:\n",
    "                print('We do not accept this payment method')\n",
    "                return False                "
   ]
  },
  {
   "cell_type": "markdown",
   "id": "955fc49c-c4cb-4570-ba3f-66117e30b97f",
   "metadata": {},
   "source": [
    "I have two options here, the first is to create a hierarchy by letting order inherit PayApi.\n",
    "\n",
    "Though this would be a valid choice, I like to just use PayApi.pay as a helper and prefer to use it as an external method. This keeps the MRO DAG from bloating (in real-life you would simply import it).\n",
    "\n",
    "I made two other changes in the code I insisted that verification_methode is a string, why? I can represent the pin code 0001 as a string '0001', but I can't as a numerical value, there 0001 and 1 would be the same. I changed `calculate_sum_of_items()` too as I don't like frivolous for-loops which are easy to break and used a comprehension instead. "
   ]
  },
  {
   "cell_type": "code",
   "execution_count": 36,
   "id": "1a9304fc-2439-4a15-8c72-ec92037baca1",
   "metadata": {},
   "outputs": [],
   "source": [
    "order = Order()\n",
    "order.add_item_to_order(\"Spaghetti\", 1, 50)\n",
    "order.add_item_to_order(\"Monitor\", 1, 150)"
   ]
  },
  {
   "cell_type": "code",
   "execution_count": 37,
   "id": "c1023600-51ba-48b6-b6b0-47d642fccd25",
   "metadata": {},
   "outputs": [
    {
     "name": "stdout",
     "output_type": "stream",
     "text": [
      "200.0\n"
     ]
    }
   ],
   "source": [
    "order.calculate_sum_of_items()\n",
    "print(order.total)"
   ]
  },
  {
   "cell_type": "code",
   "execution_count": 38,
   "id": "9e768d63-95ac-42c7-a6b7-d5d1e5246006",
   "metadata": {},
   "outputs": [
    {
     "data": {
      "text/plain": [
       "'open'"
      ]
     },
     "execution_count": 38,
     "metadata": {},
     "output_type": "execute_result"
    }
   ],
   "source": [
    "order.state"
   ]
  },
  {
   "cell_type": "code",
   "execution_count": 39,
   "id": "e3efd179-2604-4d6e-b007-8013afb0f5df",
   "metadata": {},
   "outputs": [
    {
     "name": "stdout",
     "output_type": "stream",
     "text": [
      "Using pin code: 0101\n"
     ]
    }
   ],
   "source": [
    "order.pay_order('debit', '0101')"
   ]
  },
  {
   "cell_type": "code",
   "execution_count": 40,
   "id": "5cc666f7-5512-4302-a632-3cbb11617f61",
   "metadata": {},
   "outputs": [
    {
     "data": {
      "text/plain": [
       "'paid'"
      ]
     },
     "execution_count": 40,
     "metadata": {},
     "output_type": "execute_result"
    }
   ],
   "source": [
    "order.state"
   ]
  },
  {
   "cell_type": "code",
   "execution_count": 41,
   "id": "0f563522-e708-44c8-adc7-1d4deb9c0e2a",
   "metadata": {},
   "outputs": [
    {
     "name": "stdout",
     "output_type": "stream",
     "text": [
      "592.51\n"
     ]
    }
   ],
   "source": [
    "order2 = Order()\n",
    "order2.add_item_to_order(\"Blue Heron\", 5, 75.30)\n",
    "order2.add_item_to_order(\"Cote du boeuf\", 4, 56.37)\n",
    "order2.calculate_sum_of_items()\n",
    "print(order2.total)"
   ]
  },
  {
   "cell_type": "code",
   "execution_count": 42,
   "id": "dc17111e-d2da-42b8-be82-8aca208c6586",
   "metadata": {},
   "outputs": [
    {
     "data": {
      "text/plain": [
       "'open'"
      ]
     },
     "execution_count": 42,
     "metadata": {},
     "output_type": "execute_result"
    }
   ],
   "source": [
    "order2.state"
   ]
  },
  {
   "cell_type": "code",
   "execution_count": 43,
   "id": "51bab6ec-3a5a-45f8-8124-98616c2f6167",
   "metadata": {},
   "outputs": [
    {
     "name": "stdout",
     "output_type": "stream",
     "text": [
      "Using email-address: croc@peckish.com\n"
     ]
    }
   ],
   "source": [
    "order2.pay_order('paypal', 'croc@peckish.com')"
   ]
  },
  {
   "cell_type": "code",
   "execution_count": 44,
   "id": "7264c26e-e010-45fa-ae61-368110611c0a",
   "metadata": {},
   "outputs": [
    {
     "name": "stdout",
     "output_type": "stream",
     "text": [
      "3.81\n"
     ]
    }
   ],
   "source": [
    "order3 = Order()\n",
    "order3.add_item_to_order('Milk', 1, 1.36)\n",
    "order3.add_item_to_order('Hopjes vla', 2, 1.18)\n",
    "order3.calculate_sum_of_items()\n",
    "print(order3.total)"
   ]
  },
  {
   "cell_type": "code",
   "execution_count": 45,
   "id": "4a9af4cd-9c0d-472b-8c84-d7224acf74d9",
   "metadata": {},
   "outputs": [
    {
     "name": "stdout",
     "output_type": "stream",
     "text": [
      "We do not accept this payment method\n"
     ]
    }
   ],
   "source": [
    "order3.pay_order('cash', '10 euro')"
   ]
  },
  {
   "cell_type": "code",
   "execution_count": 46,
   "id": "88644ec5-a57c-46bc-99ba-566561f7b9d7",
   "metadata": {},
   "outputs": [
    {
     "data": {
      "text/plain": [
       "'open'"
      ]
     },
     "execution_count": 46,
     "metadata": {},
     "output_type": "execute_result"
    }
   ],
   "source": [
    "order3.state"
   ]
  },
  {
   "cell_type": "code",
   "execution_count": 47,
   "id": "12ec04c5-3f62-43e0-b9c9-ec58433b75e9",
   "metadata": {},
   "outputs": [
    {
     "name": "stdout",
     "output_type": "stream",
     "text": [
      "Using pin code: 00000\n"
     ]
    }
   ],
   "source": [
    "order3.pay_order('credit', '00000')"
   ]
  },
  {
   "cell_type": "code",
   "execution_count": 48,
   "id": "921ccfb8-466a-4be6-bf1e-e8d58770222d",
   "metadata": {},
   "outputs": [
    {
     "data": {
      "text/plain": [
       "'paid'"
      ]
     },
     "execution_count": 48,
     "metadata": {},
     "output_type": "execute_result"
    }
   ],
   "source": [
    "order.state"
   ]
  },
  {
   "cell_type": "markdown",
   "id": "102712a6-08bc-4aea-bf5d-bb9de8ce7505",
   "metadata": {},
   "source": [
    "#### **A final word**\n",
    "There is a lot to learn about programming design. If you program in OO than you need to fastidiously design your program and the (critical) use of SOLID and GRASP will surely help you a lot. Another lesson is perhaps that OO isn't the end all of programming the functional paradigm is equally as good, better I would suggest. Unfortunately, you can't do any actual Functional Programming in Python, and that will never happen if you believe Guido van Rossum. As Guido is Python's benevolent dictator, I guess we should.\n",
    "\n",
    "#### **The End**"
   ]
  },
  {
   "cell_type": "code",
   "execution_count": null,
   "id": "15726cf8-5516-4cd7-a87f-6ecab871cf62",
   "metadata": {},
   "outputs": [],
   "source": []
  }
 ],
 "metadata": {
  "kernelspec": {
   "display_name": "Python 3 (ipykernel)",
   "language": "python",
   "name": "python3"
  },
  "language_info": {
   "codemirror_mode": {
    "name": "ipython",
    "version": 3
   },
   "file_extension": ".py",
   "mimetype": "text/x-python",
   "name": "python",
   "nbconvert_exporter": "python",
   "pygments_lexer": "ipython3",
   "version": "3.11.1"
  }
 },
 "nbformat": 4,
 "nbformat_minor": 5
}
