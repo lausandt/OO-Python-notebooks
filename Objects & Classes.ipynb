{
 "cells": [
  {
   "cell_type": "markdown",
   "id": "96724b2e-42cd-4c69-9c3c-87695a23c2c3",
   "metadata": {},
   "source": [
    "## **Objects & Classes**\n",
    "\n",
    "---\n",
    "When you start programming you get confronted with a lot of concepts that seem to have a meaning to most but you. However you do not need to worry about this lack of understanding for three very simple reasons.   \n",
    "\n",
    "1. You will learn the necessary concepts as you go along,\n",
    "2. quite a few of these concepts are badly understood by those that think they do (including me I suppose) \n",
    "3. a large body of these concepts are foremost of academic interest and are of little consequence in practical programming.  \n",
    "\n",
    "The first of the concepts is perhaps the programming paradigm. In science a paradigm is a set of assumptions, concepts, values, and practices that constitutes a way of viewing reality for the community that shares them, especially in an intellectual discipline. In computer science, which is very much an intellectual discipline, it is model with which we program. There are four main models/paradigms:   \n",
    "\n",
    "1. procedural\n",
    "2. object-oriented \n",
    "3. functional \n",
    "4. logical    \n",
    "\n",
    "Python allows you to programming procedural (scripting) and allows you to program with the object-oriented model, despite of what is sometimes said Python is not and will never be (dixit Guido van Rossum) be a functional programming language, nor wil it be logical programming language like Prolog.\n",
    "\n",
    "This notebook teaches you the basis of programming with the object oriented model."
   ]
  },
  {
   "cell_type": "markdown",
   "id": "de0c293c-e014-47a8-9845-db675750b1f4",
   "metadata": {},
   "source": [
    "#### **Why object-orientation?**\n",
    "Perhaps first we should answer the question why programming in the OO-model is so popular? If you DuckDuckGo for a reason why you should program in the OO-model there are many reasons that will be cited, reasons such as:\n",
    "\n",
    "- code reusability\n",
    "- information hiding\n",
    "- limiting scope\n",
    "- etc etc    \n",
    "    \n",
    "However all of the aforementioned can easily be achieved in a functional language as Haskell too. So to me, this cannot be enough of a reason for the existence of the OO-model.    \n",
    "The success of the OO-model, I would suggest, is the ease with which we can model the real world in our programming. We look for traits that can represent a state and for functions that can change that state. The OO-model is as far as I am concerned not just a programming model it is also very much a design model. It would be wrong to separate these two sides of the OO-model, as we can see in the concepts of class and object."
   ]
  },
  {
   "cell_type": "markdown",
   "id": "fabff0ff-0793-4ee6-a88f-8e83d4044f9e",
   "metadata": {},
   "source": [
    "#### **Class**   \n",
    "Scottish computer scientist David Watt defines a class to be a set of similar objects, these objects share components, e.g. variables and operations. However this (correct) definition might still be very opaque for the not computer scientist. So what is a class?  \n",
    "\n",
    "A class is model of something that exists in reality. It consists of certain traits (variables) that can hold the current state and certain operations on those traits (methods), that can change that state. A class is the design recipe for every object that belongs to it.  \n",
    "\n",
    "#### **Object**\n",
    "In the OO-model, objects are entities that combine state (the attributes/variables) behaviour (methods) and have an identity with which we can differentiate between objects.   \n",
    "\n",
    "A class is blue print for all objects of a certain type. An object is similar to a structure (hence C++/Go use structs), but an object has enhanced features (such as member access control). An object is a member of a class and needs to be instantiated to have a memory address so that the changes in state can be stored. An object only exists in runtime, a class exists as code (in a .py file in our case) outside runtime.    \n",
    "\n",
    "Take a coffee machine as example:"
   ]
  },
  {
   "cell_type": "code",
   "execution_count": 2,
   "id": "6cc280c8-e57e-47b9-8c22-818ca309d768",
   "metadata": {},
   "outputs": [],
   "source": [
    "class CoffeeMachine:\n",
    "    '''This is not how you program a class in Python!'''\n",
    "    # attributes are the traits sometimes as known as variables \n",
    "    on:bool\n",
    "    water_reservoir:bool\n",
    "    piston:bool\n",
    "    \n",
    "    # the constructor which is just a method\n",
    "    def __init__(self, on=False, water_reservoir=False, piston=False):\n",
    "        self.on = on \n",
    "        self.water_reservoir = water_reservoir\n",
    "        self.piston = piston\n",
    "    \n",
    "    # the operations also known as methods sometimes functions\n",
    "    def switch_on(self)->None:\n",
    "        if self.on:\n",
    "            pass\n",
    "        else:\n",
    "            self.on = True\n",
    "            \n",
    "    def switch_off(self)->None:\n",
    "        if self.on:\n",
    "            self.on = False\n",
    "        else:\n",
    "            pass\n",
    "    \n",
    "    def fill_reservoir(self)->None:\n",
    "        self.water_reservoir = True\n",
    "    \n",
    "    def fill_piston(self)->None:\n",
    "        self.piston = True\n",
    "    \n",
    "    def make_coffee(self)->str:\n",
    "        if self.on and self.water_reservoir and self.piston:\n",
    "            return 'a lovely cup of coffee'\n",
    "        else:\n",
    "            return f'some conditions for making coffee are not met, is the machine on = {self.on} is there water = {self.water_reservoir} is there coffee = {self.piston}'         "
   ]
  },
  {
   "attachments": {
    "7943fab3-863e-4a99-a8be-474609b903ae.png": {
     "image/png": "[encoded data removed]"
    }
   },
   "cell_type": "markdown",
   "id": "e1d76a5d-17fd-463c-b8a5-da087debedc7",
   "metadata": {},
   "source": [
    "All class based programming languages that I know, like Java, Go or C++, this is the general form of a class. \n",
    "1. attributes (traits)\n",
    "2. some sort of constructor (`__init__()`) to make an object from the class \n",
    "3. several methods (operations) that change attributes or check their state\n",
    "   \n",
    "This has a connection with  UML where a class is designed in the following manner:   \n",
    "\n",
    "![afbeelding.png](attachment:7943fab3-863e-4a99-a8be-474609b903ae.png)"
   ]
  },
  {
   "cell_type": "markdown",
   "id": "303992a9-6ac2-4696-8a29-cd0d3ef3b521",
   "metadata": {},
   "source": [
    "I do realize that in Python classes often appear different, from this example.    \n",
    "\n",
    "There are a few reasons for this, most I will discuss in this notebook. I will also give you a blueprint, a sort of factory, you can use to create classes that will at least give you the same consistent feel when creating classes.    \n",
    "\n",
    "However first we should see if our class works."
   ]
  },
  {
   "cell_type": "code",
   "execution_count": 3,
   "id": "c8b77814-ce22-48ac-80ff-1a4a855b24d6",
   "metadata": {},
   "outputs": [],
   "source": [
    "c = CoffeeMachine()"
   ]
  },
  {
   "cell_type": "code",
   "execution_count": 4,
   "id": "c4ce5765-b403-4f68-933b-0fb0bd327dbb",
   "metadata": {},
   "outputs": [
    {
     "data": {
      "text/plain": [
       "'some conditions for making coffee are not met, is the machine on = False is there water = False is there coffee = False'"
      ]
     },
     "execution_count": 4,
     "metadata": {},
     "output_type": "execute_result"
    }
   ],
   "source": [
    "c.make_coffee()"
   ]
  },
  {
   "cell_type": "markdown",
   "id": "3c298762-ed6a-424c-83fa-f8c2d620e481",
   "metadata": {},
   "source": [
    "We can't make coffee, let's make coffee"
   ]
  },
  {
   "cell_type": "code",
   "execution_count": 5,
   "id": "e0017d12-8ab1-4763-93dd-25552769d35c",
   "metadata": {},
   "outputs": [
    {
     "data": {
      "text/plain": [
       "'a lovely cup of coffee'"
      ]
     },
     "execution_count": 5,
     "metadata": {},
     "output_type": "execute_result"
    }
   ],
   "source": [
    "c.switch_on();c.fill_reservoir();c.fill_piston()\n",
    "c.make_coffee()"
   ]
  },
  {
   "cell_type": "markdown",
   "id": "2901ee60-0919-42df-8af1-d0bd8c5ff9a6",
   "metadata": {},
   "source": [
    "If we make a second coffee machine object, d for instance, we again we would see we can't make coffee yet"
   ]
  },
  {
   "cell_type": "code",
   "execution_count": 6,
   "id": "9ca627a8-84d1-4add-8935-805cf4859734",
   "metadata": {},
   "outputs": [
    {
     "data": {
      "text/plain": [
       "'some conditions for making coffee are not met, is the machine on = False is there water = False is there coffee = False'"
      ]
     },
     "execution_count": 6,
     "metadata": {},
     "output_type": "execute_result"
    }
   ],
   "source": [
    "d = CoffeeMachine()\n",
    "d.make_coffee()"
   ]
  },
  {
   "cell_type": "markdown",
   "id": "70a61b34-094b-4c44-a212-f1772cf4bd7a",
   "metadata": {},
   "source": [
    "in Python they way to see if two objects are the same is with `is` keyword"
   ]
  },
  {
   "cell_type": "code",
   "execution_count": 7,
   "id": "eaef58fd-18b2-4980-b5ac-1367e1172eb2",
   "metadata": {},
   "outputs": [
    {
     "data": {
      "text/plain": [
       "False"
      ]
     },
     "execution_count": 7,
     "metadata": {},
     "output_type": "execute_result"
    }
   ],
   "source": [
    "c is d"
   ]
  },
  {
   "cell_type": "markdown",
   "id": "1478ace4-44fe-41e6-8b94-9ebf484887c9",
   "metadata": {},
   "source": [
    "As discussed this way of writing a class in Python is uncommon. Usually you more likely to see the same class written as follows: "
   ]
  },
  {
   "cell_type": "code",
   "execution_count": 9,
   "id": "ea63ea6d-b1ed-42b2-99c7-ee837e2484d0",
   "metadata": {},
   "outputs": [],
   "source": [
    "class CoffeeMachineTwo:\n",
    "    \n",
    "    #the constructor which is just a method\n",
    "    def __init__(self, on:bool=False, water_reservoir:bool=False, piston:bool=False):\n",
    "        self.on = on \n",
    "        self.water_reservoir = water_reservoir\n",
    "        self.piston = piston\n",
    "    \n",
    "    #the operations == methods\n",
    "    def switch_on(self)->None:\n",
    "        if self.on:\n",
    "            pass\n",
    "        else:\n",
    "            self.on = True\n",
    "            \n",
    "    def switch_off(self)->None:\n",
    "        if self.on:\n",
    "            self.on = False\n",
    "        else:\n",
    "            pass\n",
    "           \n",
    "    def fill_reservoir(self)->None:\n",
    "        self.water_reservoir = True\n",
    "    \n",
    "    def fill_piston(self)->None:\n",
    "        self.piston = True\n",
    "    \n",
    "    def make_coffee(self)->str:\n",
    "        if self.on and self.water_reservoir and self.piston:\n",
    "            return 'a lovely cup of coffee'\n",
    "        else:\n",
    "            return f'some conditions for making coffee are not met, is the machine on {self.on} is there water {self.water_reservoir} is there coffee {self.piston}'        "
   ]
  },
  {
   "cell_type": "markdown",
   "id": "eb7062fb-eba9-4bab-94d6-33b3f0d303b0",
   "metadata": {},
   "source": [
    "The attributes named in the `__init__` tagged with self are the instance attributes. \n",
    "\n",
    "These are the attributes an object gets at creation, these attributes might come with a default value, but do not have to."
   ]
  },
  {
   "cell_type": "code",
   "execution_count": 10,
   "id": "56e8d913-aaa4-4c01-8dac-378d3cd4d682",
   "metadata": {},
   "outputs": [
    {
     "data": {
      "text/plain": [
       "'some conditions for making coffee are not met, is the machine on False is there water False is there coffee False'"
      ]
     },
     "execution_count": 10,
     "metadata": {},
     "output_type": "execute_result"
    }
   ],
   "source": [
    "c2 = CoffeeMachineTwo()\n",
    "c2.make_coffee()"
   ]
  },
  {
   "cell_type": "code",
   "execution_count": 11,
   "id": "56fbf0e6-4ab9-45fa-a534-81f3d64b425f",
   "metadata": {},
   "outputs": [
    {
     "data": {
      "text/plain": [
       "'a lovely cup of coffee'"
      ]
     },
     "execution_count": 11,
     "metadata": {},
     "output_type": "execute_result"
    }
   ],
   "source": [
    "c2.switch_on(),c2.fill_reservoir(),c2.fill_piston()\n",
    "c2.make_coffee()"
   ]
  },
  {
   "cell_type": "markdown",
   "id": "cebd287c-43ad-4d84-aa3c-e84b74e18e05",
   "metadata": {},
   "source": [
    "Python is a very dynamic language, it trusts it's users to not do silly things. Silly things like breaking the design of a class"
   ]
  },
  {
   "cell_type": "code",
   "execution_count": 14,
   "id": "bdcf911c-2cee-4fe1-807c-12b08be75030",
   "metadata": {},
   "outputs": [
    {
     "data": {
      "text/plain": [
       "{'on': False, 'water_reservoir': False, 'piston': False, 'milk': True}"
      ]
     },
     "execution_count": 14,
     "metadata": {},
     "output_type": "execute_result"
    }
   ],
   "source": [
    "broken = CoffeeMachineTwo()\n",
    "broken.milk = True\n",
    "broken.__dict__"
   ]
  },
  {
   "cell_type": "markdown",
   "id": "0b761538-5ffb-4823-80e9-af59113a374d",
   "metadata": {},
   "source": [
    "I perceive the possibility to randomly add attributes to a class in Python its weakest point.\n",
    "\n",
    "If we now ask for the type of broken we see it is the same type as our class, but our class does not `milk` to have the attribute milk is to redefine the state the object can represent. "
   ]
  },
  {
   "cell_type": "code",
   "execution_count": 16,
   "id": "3fb6b2a3-3720-47d8-8d83-10265aaf32f5",
   "metadata": {},
   "outputs": [
    {
     "data": {
      "text/plain": [
       "__main__.CoffeeMachineTwo"
      ]
     },
     "execution_count": 16,
     "metadata": {},
     "output_type": "execute_result"
    }
   ],
   "source": [
    "type(broken)"
   ]
  },
  {
   "cell_type": "markdown",
   "id": "a21db311-0e53-496a-8a90-a137243bfc99",
   "metadata": {},
   "source": [
    "## **Framework for designing classes**\n",
    "Unfortunately there are many possibilities to \"break\" Python, more than a language like Java. It is for this reason that in my academic circles Python is not highly regarded as programming language. Which is a shame, I prefer Python over Java, I find Java unnecessarily verbose. \n",
    "\n",
    "Python is a very flexible language, Python tends to have multiple ways to tackle the same problem, making Python is a language which is easy to grasp, and quick to learn. However Python is more easily \"broken\", it is also more susceptible to bugs and other mistakes. This susceptibility is foremostly due to the dynamism of Python that allows for multiple solutions to a problem.      \n",
    "    \n",
    "Python knows several ways with which you could create a class. For instance, you could use type as meta creator of classes."
   ]
  },
  {
   "cell_type": "code",
   "execution_count": 17,
   "id": "41be7e00-87bd-4cb3-ace1-039157a49266",
   "metadata": {},
   "outputs": [],
   "source": [
    "def afunc(self)->str:\n",
    "    return f'{self.name} is a rhino!'\n",
    "\n",
    "George = type('Wooly rhino', (), {'afunc':afunc, 'name':'George'})"
   ]
  },
  {
   "cell_type": "code",
   "execution_count": 18,
   "id": "3028321e-532b-4418-a243-0a6c5f93b10e",
   "metadata": {},
   "outputs": [],
   "source": [
    "george = George()"
   ]
  },
  {
   "cell_type": "code",
   "execution_count": 19,
   "id": "96f965d7-a97a-4cc3-b17a-de2bca1fb7b4",
   "metadata": {},
   "outputs": [
    {
     "data": {
      "text/plain": [
       "'George is a rhino!'"
      ]
     },
     "execution_count": 19,
     "metadata": {},
     "output_type": "execute_result"
    }
   ],
   "source": [
    "george.afunc()"
   ]
  },
  {
   "cell_type": "code",
   "execution_count": 20,
   "id": "f5cb5dbd-abef-43b4-a678-1d84f2e79eba",
   "metadata": {},
   "outputs": [
    {
     "data": {
      "text/plain": [
       "__main__.Wooly rhino"
      ]
     },
     "execution_count": 20,
     "metadata": {},
     "output_type": "execute_result"
    }
   ],
   "source": [
    "type(george)"
   ]
  },
  {
   "cell_type": "markdown",
   "id": "07c3bfe7-428e-456b-891b-db4b99056fcc",
   "metadata": {},
   "source": [
    "Do not create your class like this unless you need some kind of factory for classes or so. In fact I would not suggest you write classes like any example I have used so far.     \n",
    "\n",
    "You should be explicit about the traits (attributes), when designing and programming classes. The first manner of creating a class is thus superior as far as I am concerned. However, Python has a few odities that make you not want to use this as a framework for building classes.    \n",
    "\n",
    "For instance, Python seemingly has some difficulties differentiating class variables and instance attributes. Python also has the empty list as default value problem that creates strange behaviour. If you curious at the end of this notebook I will show you the problem, for now trust me it exists.   \n",
    "\n",
    "One of the main selling points of Python is that it is a very well supported language; it has an active group of administrators and contributors that fix known issues within Python. With Python 3.7, Python introduced the dataclasses module, which is a kind of factory for classes. We can now create fields instead of attributes, and with that be explicit about the traits of our classes, we can solve the empty list as default value problem. (And quite a bit more as you will see shortly)    \n",
    "\n",
    "To me it is clear this is the blueprint one should use when creating classes in Python fot it alleviates some of the fragility innate to Python. Yes there is room to discuss if this framework is not too heavy for all classes, but when you starting out in object oriented Python this framework gives you clarity. something Python often lacks."
   ]
  },
  {
   "cell_type": "code",
   "execution_count": 21,
   "id": "5ca81f4e-9e38-49c1-9e3d-3969b5ecc9df",
   "metadata": {},
   "outputs": [],
   "source": [
    "from dataclasses import dataclass, field\n",
    "\n",
    "@dataclass\n",
    "class FrameWork:\n",
    "    ''''fields are attributes, but they have a name and a type, the can be left empty or asigned a default value\n",
    "    attributes that normally have a default value like None or [] need one now too''' \n",
    "    attribute1:str\n",
    "    attribute2:int\n",
    "    attribute3:float=0.0\n",
    "    attribute4:list[str]=field(default_factory=list) # solves the empty list default problem\n",
    "    \n",
    "    \n",
    "    #regular methods\n",
    "    def method1(self):\n",
    "        pass\n",
    "    \n",
    "    def method2(self):\n",
    "        pass"
   ]
  },
  {
   "cell_type": "markdown",
   "id": "af0c5e58-d2de-437c-92bc-0b4971c8d6fc",
   "metadata": {},
   "source": [
    "We can create framework it is an actual class"
   ]
  },
  {
   "cell_type": "code",
   "execution_count": 22,
   "id": "2df936d4-1bdd-4ad7-9698-9130dd4213d2",
   "metadata": {},
   "outputs": [
    {
     "data": {
      "text/plain": [
       "FrameWork(attribute1='Croc', attribute2=7, attribute3=0.0, attribute4=[])"
      ]
     },
     "execution_count": 22,
     "metadata": {},
     "output_type": "execute_result"
    }
   ],
   "source": [
    "fw = FrameWork('Croc', 7)\n",
    "fw"
   ]
  },
  {
   "cell_type": "markdown",
   "id": "4d3d02d2-dd94-4659-bcec-47fb6bca25e9",
   "metadata": {},
   "source": [
    "#### **`__init__()`**\n",
    "As you see this class also has no `__init__()` defined. You often see classes with no constructor defined, for you do not need an explicit `__init__()` if you have no attributes to create & assign.    \n",
    "\n",
    "Here however we have attributes. `@dataclass` provides us with an `__init__()` that creates and assigns the attributes/fields for us.   \n",
    "There is one caveat, non-default fields always need to come before default fields, when you consider this prerequisite, it is quite logical.    \n",
    "\n",
    "I call `__init__()` a constructor but this actually incorrect, it is only the 2nd part of object construction in Python. \n",
    "First the (class) method `__new__()` is called that creates an instance of the class, `__init__()` customizes it's behaviour by giving it attributes\n",
    "methods like `__init__()` and `__new__()` are called special methods. You call these special methods with functions like `len()` and `print()`, but never access these directly. Special methods are called by the compiler. \n",
    "\n",
    "For instance, `__len__()` is a special method which we can call with len(arg)    \n",
    "\n",
    "The same goes for `__init__()` we can call it with `Classname(args*)` A call to `Classname(args*)` actually activates the `__new__()` special method which Python implements automatically for you, which when finished activates the `__init__()` method after which your object has been created and only than passes control back to you.   \n",
    "\n",
    "You can write your own `__init__()` even your own `__new__()` but why should you, better let Python do it for you. (This is not the case with all special methods)     \n",
    "\n",
    "let's use our framework for creating the coffeemachine class"
   ]
  },
  {
   "cell_type": "code",
   "execution_count": 23,
   "id": "8088b74f-9c98-4d6c-955a-cc08622af06a",
   "metadata": {},
   "outputs": [],
   "source": [
    "from dataclasses import dataclass\n",
    "\n",
    "@dataclass\n",
    "class CoffeeMachineFW:\n",
    "    #attributes\n",
    "    on:bool=False\n",
    "    water_reservoir:bool=False\n",
    "    piston:bool=False\n",
    "    \n",
    "    \n",
    "    #methods\n",
    "    def switch_on(self)->None:\n",
    "        if self.on:\n",
    "            pass\n",
    "        else:\n",
    "            self.on = True\n",
    "            \n",
    "    def switch_off(self)->None:\n",
    "        if self.on:\n",
    "            self.on = False\n",
    "        else:\n",
    "            pass\n",
    "        \n",
    "    def empty_reservoir(self)->bool:\n",
    "        return self.water_reservoir\n",
    "    \n",
    "    def fill_reservoir(self)->None:\n",
    "        self.water_reservoir = True\n",
    "        \n",
    "    def empty_piston(self)->bool:\n",
    "        return self.piston\n",
    "    \n",
    "    def fill_piston(self)->None:\n",
    "        self.piston = True\n",
    "    \n",
    "    def make_coffee(self)->str:\n",
    "        if self.on and self.water_reservoir and self.piston:\n",
    "            return 'a lovely cup of coffee'\n",
    "        else:\n",
    "            return f'some conditions for making coffee are not met, is the machine on = {self.on} is there water = {self.water_reservoir} is there coffee = {self.piston}'         "
   ]
  },
  {
   "cell_type": "code",
   "execution_count": 24,
   "id": "0b9c5af8-3164-4af1-b5f2-464f8cde6df4",
   "metadata": {},
   "outputs": [
    {
     "data": {
      "text/plain": [
       "CoffeeMachineFW(on=False, water_reservoir=False, piston=False)"
      ]
     },
     "execution_count": 24,
     "metadata": {},
     "output_type": "execute_result"
    }
   ],
   "source": [
    "cfw = CoffeeMachineFW()\n",
    "cfw"
   ]
  },
  {
   "cell_type": "code",
   "execution_count": 25,
   "id": "f00b515e-fe88-4a35-b69e-01be2d6b0514",
   "metadata": {},
   "outputs": [
    {
     "data": {
      "text/plain": [
       "'some conditions for making coffee are not met, is the machine on = False is there water = False is there coffee = False'"
      ]
     },
     "execution_count": 25,
     "metadata": {},
     "output_type": "execute_result"
    }
   ],
   "source": [
    "cfw.make_coffee()"
   ]
  },
  {
   "cell_type": "code",
   "execution_count": 26,
   "id": "06cc8c25-f5b5-4ed7-998e-694fa94b6654",
   "metadata": {},
   "outputs": [
    {
     "data": {
      "text/plain": [
       "'a lovely cup of coffee'"
      ]
     },
     "execution_count": 26,
     "metadata": {},
     "output_type": "execute_result"
    }
   ],
   "source": [
    "cfw.switch_on(),cfw.fill_reservoir(),cfw.fill_piston()\n",
    "cfw.make_coffee()"
   ]
  },
  {
   "cell_type": "markdown",
   "id": "aaba0f5a-e78b-49ae-9f1e-7e741113840c",
   "metadata": {},
   "source": [
    "#### **Object representation in Python**\n",
    "In Python there two manners in in which you represent an object. \n",
    "1. With the `__repr__()` method. This manner is meant for the target audience that is your fellow programmer.\n",
    "2. with the `__str__()` method (perhaps surprisingly called with `print()`) the information about the object is now targeted at end-users.\n",
    "    \n",
    "An example of object representation that is meaningless and how to do it better."
   ]
  },
  {
   "cell_type": "code",
   "execution_count": 27,
   "id": "40af29e3-1d2b-4762-a43c-e6b3d42a2572",
   "metadata": {},
   "outputs": [],
   "source": [
    "class Rep:\n",
    "    \n",
    "    def __init__(self, text):\n",
    "        self.text = text"
   ]
  },
  {
   "cell_type": "code",
   "execution_count": 28,
   "id": "5a5dcc06-b722-40ed-bf0f-a650e1bfab3a",
   "metadata": {},
   "outputs": [
    {
     "data": {
      "text/plain": [
       "'<__main__.Rep object at 0x000002A61A153C50>'"
      ]
     },
     "execution_count": 28,
     "metadata": {},
     "output_type": "execute_result"
    }
   ],
   "source": [
    "rep = Rep('George is a rhino!')\n",
    "repr(rep)"
   ]
  },
  {
   "cell_type": "code",
   "execution_count": 29,
   "id": "569a1d5e-882d-4276-a83b-ad6cb30ed2e3",
   "metadata": {},
   "outputs": [
    {
     "name": "stdout",
     "output_type": "stream",
     "text": [
      "<__main__.Rep object at 0x000002A61A153C50>\n"
     ]
    }
   ],
   "source": [
    "print(rep)"
   ]
  },
  {
   "cell_type": "markdown",
   "id": "fb64b6f3-a4ca-4846-9d10-97776b5f95b0",
   "metadata": {},
   "source": [
    "I didn't use the framework because I wanted to show you that you don't get a lot of useful info in the old manner in which to create classes in Python, you would have to add that to your class.    \n",
    "\n",
    "If you use the framework you get slightly better information"
   ]
  },
  {
   "cell_type": "code",
   "execution_count": 30,
   "id": "37f46b1d-1ff6-473f-971d-bd18116149d9",
   "metadata": {},
   "outputs": [],
   "source": [
    "from dataclasses import dataclass, field\n",
    "\n",
    "@dataclass\n",
    "class Rep:\n",
    "    text:str\n"
   ]
  },
  {
   "cell_type": "code",
   "execution_count": 31,
   "id": "3f568329-e2a9-466b-a7b6-0d58caae95bd",
   "metadata": {},
   "outputs": [
    {
     "data": {
      "text/plain": [
       "\"Rep(text='George is a rhino!')\""
      ]
     },
     "execution_count": 31,
     "metadata": {},
     "output_type": "execute_result"
    }
   ],
   "source": [
    "rep = Rep(text='George is a rhino!')\n",
    "repr(rep)"
   ]
  },
  {
   "cell_type": "markdown",
   "id": "c031755a-1046-425c-bec1-2298ee9a58f1",
   "metadata": {},
   "source": [
    "This message is clearer any programmer will now know we have an object, with one attribute called text, with the value George is a rhino!\n",
    "     \n",
    "However if I now call print I will receive the same message"
   ]
  },
  {
   "cell_type": "code",
   "execution_count": 32,
   "id": "6ebdbd03-0d42-4a64-b53e-15fae0589058",
   "metadata": {},
   "outputs": [
    {
     "name": "stdout",
     "output_type": "stream",
     "text": [
      "Rep(text='George is a rhino!')\n"
     ]
    }
   ],
   "source": [
    "print(rep)"
   ]
  },
  {
   "cell_type": "markdown",
   "id": "72c9154b-23e7-431d-b3f8-44f868414176",
   "metadata": {},
   "source": [
    "I do admit this message is somewhat clearer for but perhaps not enough for end-user purposes    \n",
    "\n",
    "We can implement our own `__str__()` method "
   ]
  },
  {
   "cell_type": "code",
   "execution_count": 33,
   "id": "6356e2ca-2141-4f8d-aa30-1f04b11aa38b",
   "metadata": {},
   "outputs": [],
   "source": [
    "from dataclasses import dataclass, field\n",
    "\n",
    "@dataclass\n",
    "class Rep:\n",
    "    text:str\n",
    "    \n",
    "    def __str__(self)->str:\n",
    "        return f'{self.text}'\n"
   ]
  },
  {
   "cell_type": "code",
   "execution_count": 34,
   "id": "7848db2e-f795-4cf2-b28c-b950a6dba452",
   "metadata": {},
   "outputs": [
    {
     "data": {
      "text/plain": [
       "\"Rep(text='George is a rhino!')\""
      ]
     },
     "execution_count": 34,
     "metadata": {},
     "output_type": "execute_result"
    }
   ],
   "source": [
    "rep = Rep(text='George is a rhino!')\n",
    "repr(rep)"
   ]
  },
  {
   "cell_type": "code",
   "execution_count": 35,
   "id": "2b63dae6-185f-43ca-a66a-3273b9171cc5",
   "metadata": {},
   "outputs": [
    {
     "name": "stdout",
     "output_type": "stream",
     "text": [
      "George is a rhino!\n"
     ]
    }
   ],
   "source": [
    "print(rep)"
   ]
  },
  {
   "cell_type": "markdown",
   "id": "4cd30cff-b20e-415d-8362-f40c687f0c77",
   "metadata": {},
   "source": [
    "#### **class variables**\n",
    "I stated that Python has difficulties to distinguish between attributes and class variables. This is not correct, for Python variables that are declared to have a value outside of __init__ are class variables and inside the init are the attributes. Python distinguishes between the two by giving them a different dictionary.   \n",
    "\n",
    "Let me show you"
   ]
  },
  {
   "cell_type": "code",
   "execution_count": 36,
   "id": "b700c6a3-491f-49da-85c5-96916d5fea4f",
   "metadata": {},
   "outputs": [],
   "source": [
    "class One:\n",
    "    '''this is the One.'''\n",
    "    classvar:int = 1\n",
    "    \n",
    "    def __init__(self, nr:int, nrstr:str)->None:\n",
    "        self.nr = nr\n",
    "        self.nrstr = nrstr\n",
    "        \n",
    "    def __repr__(self)->str:\n",
    "        return f'<{self.__class__.__name__} {self.__dict__}>'\n",
    "\n",
    "one = One(nr=2,nrstr='Three')"
   ]
  },
  {
   "cell_type": "markdown",
   "id": "4b75fbef-df2f-4951-8f82-a83bbb3810d0",
   "metadata": {},
   "source": [
    "let's look at one a little closer\n",
    "\n",
    "let's start with it's dict"
   ]
  },
  {
   "cell_type": "code",
   "execution_count": 37,
   "id": "ec624185-e5b0-4df8-aa42-091d95dfac38",
   "metadata": {},
   "outputs": [
    {
     "data": {
      "text/plain": [
       "{'nr': 2, 'nrstr': 'Three'}"
      ]
     },
     "execution_count": 37,
     "metadata": {},
     "output_type": "execute_result"
    }
   ],
   "source": [
    "one.__dict__"
   ]
  },
  {
   "cell_type": "code",
   "execution_count": 38,
   "id": "187b65d6-01c4-4c77-a711-3105b3b026eb",
   "metadata": {},
   "outputs": [
    {
     "data": {
      "text/plain": [
       "1"
      ]
     },
     "execution_count": 38,
     "metadata": {},
     "output_type": "execute_result"
    }
   ],
   "source": [
    "one.classvar"
   ]
  },
  {
   "cell_type": "markdown",
   "id": "38966e94-37e4-4960-97ca-502d4e95be0b",
   "metadata": {},
   "source": [
    "As you can see though we have declared classvar to be 1 we don't find it in the dict containing the intialization variables.   \n",
    "\n",
    "What is the meaning of this as we can clearly access the variable?   \n",
    "\n",
    "A class variable differs from an attribute because it belongs to the class, its lifespan is the runtime of the program, while the lifespan of an attribute equals that of the object it belongs to. \n",
    "\n",
    "We can see this if we inspect the class One instead of the object one."
   ]
  },
  {
   "cell_type": "code",
   "execution_count": 39,
   "id": "d30098e5-36e4-4796-b5fc-e9fd4b17211f",
   "metadata": {},
   "outputs": [
    {
     "data": {
      "text/plain": [
       "mappingproxy({'__module__': '__main__',\n",
       "              '__annotations__': {'classvar': int},\n",
       "              '__doc__': 'this is the One.',\n",
       "              'classvar': 1,\n",
       "              '__init__': <function __main__.One.__init__(self, nr: int, nrstr: str) -> None>,\n",
       "              '__repr__': <function __main__.One.__repr__(self) -> str>,\n",
       "              '__dict__': <attribute '__dict__' of 'One' objects>,\n",
       "              '__weakref__': <attribute '__weakref__' of 'One' objects>})"
      ]
     },
     "execution_count": 39,
     "metadata": {},
     "output_type": "execute_result"
    }
   ],
   "source": [
    "One.__dict__"
   ]
  },
  {
   "cell_type": "markdown",
   "id": "fdc39834-73c9-4248-8f0f-e46e3601f754",
   "metadata": {},
   "source": [
    "The use of a class variable is simple. Sometimes you want all objects of a class to share a trait. \n",
    "\n",
    "For instance consider a bankaccount class, you do not want to set an interest rate per object, no you want to set it for the entire class of objects at initialization. "
   ]
  },
  {
   "cell_type": "code",
   "execution_count": 40,
   "id": "c51685fd-6667-4ac8-97b0-7ec1f5b837ab",
   "metadata": {},
   "outputs": [],
   "source": [
    "from dataclasses import dataclass, field\n",
    "from typing import ClassVar\n",
    "\n",
    "@dataclass\n",
    "class SavingsAccount:\n",
    "    accountnr:str\n",
    "    accountholder:str\n",
    "    balance:float=0.0\n",
    "    rate:ClassVar[float]=2.4\n",
    "    \n",
    "    def show_rate(self)->str:\n",
    "        return f'the interest for your {type(self).__name__} is {self.rate}%'  \n",
    "    "
   ]
  },
  {
   "cell_type": "code",
   "execution_count": 41,
   "id": "ebeb537b-20a4-4f72-bda5-9366862c8230",
   "metadata": {},
   "outputs": [
    {
     "data": {
      "text/plain": [
       "'the interest for your SavingsAccount is 2.4%'"
      ]
     },
     "execution_count": 41,
     "metadata": {},
     "output_type": "execute_result"
    }
   ],
   "source": [
    "sav1 = SavingsAccount(accountnr='NL57SNB123456', accountholder='Ente')\n",
    "sav2 = SavingsAccount(accountnr='NL57SNB654321', accountholder='Rhino')\n",
    "sav1.show_rate()"
   ]
  },
  {
   "cell_type": "code",
   "execution_count": 43,
   "id": "f855f854-7902-4ce2-9fb7-5997a5d0a7e4",
   "metadata": {},
   "outputs": [
    {
     "data": {
      "text/plain": [
       "{'accountnr': 'NL57SNB123456', 'accountholder': 'Ente', 'balance': 0.0}"
      ]
     },
     "execution_count": 43,
     "metadata": {},
     "output_type": "execute_result"
    }
   ],
   "source": [
    "sav1.__dict__"
   ]
  },
  {
   "cell_type": "code",
   "execution_count": 42,
   "id": "55402fe8-38a2-4bb6-9186-22714675b6a9",
   "metadata": {},
   "outputs": [
    {
     "data": {
      "text/plain": [
       "'the interest for your SavingsAccount is 2.4%'"
      ]
     },
     "execution_count": 42,
     "metadata": {},
     "output_type": "execute_result"
    }
   ],
   "source": [
    "sav2.show_rate()"
   ]
  },
  {
   "cell_type": "markdown",
   "id": "223c03c3-f5a9-47e7-a3eb-de600d4005b9",
   "metadata": {},
   "source": [
    "let's change the rate"
   ]
  },
  {
   "cell_type": "code",
   "execution_count": 44,
   "id": "46b4acd7-8462-4665-9acc-9b7297321df1",
   "metadata": {},
   "outputs": [
    {
     "data": {
      "text/plain": [
       "'the interest for your SavingsAccount is 3.7%'"
      ]
     },
     "execution_count": 44,
     "metadata": {},
     "output_type": "execute_result"
    }
   ],
   "source": [
    "sav1.rate=3.7\n",
    "sav1.show_rate()"
   ]
  },
  {
   "cell_type": "markdown",
   "id": "af61eeb9-63ae-4549-b075-83bd53a3a38a",
   "metadata": {},
   "source": [
    "what happend to the interest rate of sav2?"
   ]
  },
  {
   "cell_type": "code",
   "execution_count": 45,
   "id": "c15cb207-67c7-4daa-a30e-1cf9cb4bb7fd",
   "metadata": {},
   "outputs": [
    {
     "data": {
      "text/plain": [
       "'the interest for your SavingsAccount is 2.4%'"
      ]
     },
     "execution_count": 45,
     "metadata": {},
     "output_type": "execute_result"
    }
   ],
   "source": [
    "sav2.show_rate()"
   ]
  },
  {
   "cell_type": "markdown",
   "id": "39857b08-306b-4ed3-ba4f-70fa295a60d3",
   "metadata": {},
   "source": [
    "Houston we have a problem, we had just decided that all saving accounts must have the same interest rate and now they don't...   \n",
    "\n",
    "Class variables in Python should not be accessed from outside the class directly. If you do so then your class variable will become an attribute of the object you used to approach the variable. "
   ]
  },
  {
   "cell_type": "code",
   "execution_count": 46,
   "id": "47ecd9ed-c457-4cda-afe1-7b1a5e47bcf9",
   "metadata": {},
   "outputs": [
    {
     "data": {
      "text/plain": [
       "{'accountnr': 'NL57SNB123456',\n",
       " 'accountholder': 'Ente',\n",
       " 'balance': 0.0,\n",
       " 'rate': 3.7}"
      ]
     },
     "execution_count": 46,
     "metadata": {},
     "output_type": "execute_result"
    }
   ],
   "source": [
    "sav1.__dict__"
   ]
  },
  {
   "cell_type": "code",
   "execution_count": 47,
   "id": "4ff9557c-b225-40c0-923c-56853cee217a",
   "metadata": {},
   "outputs": [
    {
     "name": "stdout",
     "output_type": "stream",
     "text": [
      "Help on SavingsAccount in module __main__ object:\n",
      "\n",
      "class SavingsAccount(builtins.object)\n",
      " |  SavingsAccount(accountnr: str, accountholder: str, balance: float = 0.0) -> None\n",
      " |  \n",
      " |  SavingsAccount(accountnr: str, accountholder: str, balance: float = 0.0)\n",
      " |  \n",
      " |  Methods defined here:\n",
      " |  \n",
      " |  __eq__(self, other)\n",
      " |      Return self==value.\n",
      " |  \n",
      " |  __init__(self, accountnr: str, accountholder: str, balance: float = 0.0) -> None\n",
      " |      Initialize self.  See help(type(self)) for accurate signature.\n",
      " |  \n",
      " |  __repr__(self)\n",
      " |      Return repr(self).\n",
      " |  \n",
      " |  show_rate(self) -> str\n",
      " |  \n",
      " |  ----------------------------------------------------------------------\n",
      " |  Data descriptors defined here:\n",
      " |  \n",
      " |  __dict__\n",
      " |      dictionary for instance variables (if defined)\n",
      " |  \n",
      " |  __weakref__\n",
      " |      list of weak references to the object (if defined)\n",
      " |  \n",
      " |  ----------------------------------------------------------------------\n",
      " |  Data and other attributes defined here:\n",
      " |  \n",
      " |  __annotations__ = {'accountholder': <class 'str'>, 'accountnr': <class...\n",
      " |  \n",
      " |  __dataclass_fields__ = {'accountholder': Field(name='accountholder',ty...\n",
      " |  \n",
      " |  __dataclass_params__ = _DataclassParams(init=True,repr=True,eq=True,or...\n",
      " |  \n",
      " |  __hash__ = None\n",
      " |  \n",
      " |  __match_args__ = ('accountnr', 'accountholder', 'balance')\n",
      " |  \n",
      " |  balance = 0.0\n",
      " |  \n",
      " |  rate = 2.4\n",
      "\n"
     ]
    }
   ],
   "source": [
    "help(sav1)"
   ]
  },
  {
   "cell_type": "markdown",
   "id": "f14d0857-fa3b-4dd3-97ac-e6d670508a99",
   "metadata": {},
   "source": [
    "If we look at the help on sav1 we can see that the class variable rate still exists. \n",
    "\n",
    "In fact, it has the old value 2.4 we cannot reach it with the tools I showed you so far. We need a class method (There is another method I will show you this in another notebook)."
   ]
  },
  {
   "cell_type": "markdown",
   "id": "601bdfb7-fd97-46f5-a5f8-d5ae46aca482",
   "metadata": {},
   "source": [
    "#### **class method & class variable**\n",
    "\n",
    "The on-the-fly attribute creation is one of the reasons why Python is so flexible. People love Python for its innate flexibility, but this is also one of the main reasons Python is so fault prone when used inconsiderately.\n",
    "\n",
    "Python created a method, the class method just so you can set and change class variables without creating an attribute. The typing library provides us with a type hint which we can use to state that a field is a class variable. So we can use our framework."
   ]
  },
  {
   "cell_type": "code",
   "execution_count": 49,
   "id": "998e0bc4-5b50-4b90-b7fe-7031100a9645",
   "metadata": {},
   "outputs": [],
   "source": [
    "from dataclasses import dataclass, field\n",
    "from typing import ClassVar\n",
    "\n",
    "@dataclass\n",
    "class SavingsAccount:\n",
    "    accountnr:str\n",
    "    accountholder:str\n",
    "    balance:float=0.0\n",
    "    rate:ClassVar[float]=2.4\n",
    "    \n",
    "    def show_rate(self)->str:\n",
    "        return f'the interest for your {type(self).__name__} is {self.rate}%'  \n",
    "    \n",
    "    @classmethod\n",
    "    def set_rate(self, rate:float):\n",
    "        self.rate = rate        "
   ]
  },
  {
   "cell_type": "code",
   "execution_count": 50,
   "id": "ccf57d5e-9dc9-4074-8f86-54c8f64f4b4a",
   "metadata": {},
   "outputs": [
    {
     "data": {
      "text/plain": [
       "'the interest for your SavingsAccount is 2.4%'"
      ]
     },
     "execution_count": 50,
     "metadata": {},
     "output_type": "execute_result"
    }
   ],
   "source": [
    "sav1 = SavingsAccount(accountnr='NL57SNB123456', accountholder='Ente')\n",
    "sav2 = SavingsAccount(accountnr='NL57SNB654321', accountholder='Rhino')\n",
    "sav1.show_rate()"
   ]
  },
  {
   "cell_type": "code",
   "execution_count": 51,
   "id": "7eb5de07-f39f-443a-8479-3ae64ba726eb",
   "metadata": {},
   "outputs": [
    {
     "data": {
      "text/plain": [
       "'the interest for your SavingsAccount is 2.4%'"
      ]
     },
     "execution_count": 51,
     "metadata": {},
     "output_type": "execute_result"
    }
   ],
   "source": [
    "sav2.show_rate()"
   ]
  },
  {
   "cell_type": "code",
   "execution_count": 52,
   "id": "11d90942-83cd-4b1d-a88e-838967a13819",
   "metadata": {},
   "outputs": [
    {
     "data": {
      "text/plain": [
       "'the interest for your SavingsAccount is 3.7%'"
      ]
     },
     "execution_count": 52,
     "metadata": {},
     "output_type": "execute_result"
    }
   ],
   "source": [
    "sav1.set_rate(3.7)\n",
    "sav1.show_rate()"
   ]
  },
  {
   "cell_type": "code",
   "execution_count": 53,
   "id": "42cd3204-f850-40aa-a917-dcca905f7e11",
   "metadata": {},
   "outputs": [
    {
     "data": {
      "text/plain": [
       "'the interest for your SavingsAccount is 3.7%'"
      ]
     },
     "execution_count": 53,
     "metadata": {},
     "output_type": "execute_result"
    }
   ],
   "source": [
    "sav2.show_rate()"
   ]
  },
  {
   "cell_type": "markdown",
   "id": "0388550d-c037-4336-a5ff-0a5ea360aa90",
   "metadata": {},
   "source": [
    "#### **The 5 Python methods**\n",
    "A Python class knows 5 methods (methods outside of a class environment are called functions and only come in one flavour)\n",
    "1. a regular method. \n",
    "2. a special method recognisable by the dubble underscore (dunder). \n",
    "3. a class method with the decorator `@classmethod`.\n",
    "4. a static method with the decorator `@staticmethod`.\n",
    "5. an abstract method with the decorator `@abstractmethod`. "
   ]
  },
  {
   "cell_type": "markdown",
   "id": "e99788a1-7441-4a59-90b5-8cc7474120cb",
   "metadata": {},
   "source": [
    "#### **special method**\n",
    "A special method is one that is called implicitely by Python. This is Python’s approach to operator overloading. With that I mean you can do 3 + 4 = 7 or 3.4 + 4.5 = 7.9. The + operator is overloaded it excepts the int type and the float type. The + operator is linked with the `__add__` special method. When you write 7 + 8 the Python interpreter actually calls `__add__()`    \n",
    "\n",
    "Python has 80 special methods, the most famous is probably `__init__()` but also `__len__()` and `__doc__()` are just a lot. Most basic maths operators are bound to a special method. `<` $\\rightarrow$ `__lt__()`   While using dataclasses as in our Framework we have access to all 80 some are implemented others not and need to be overridden.   \n",
    "\n",
    "You cannot write special methods, Python does that, but you can override (reimplement) them. Which you do infact everytime you write your own `__init__()`. We can for instance write our own string representation of a class with `__str__()`  as you have already seen."
   ]
  },
  {
   "cell_type": "code",
   "execution_count": null,
   "id": "1271fbc2-c181-4d12-be01-689684674c9a",
   "metadata": {},
   "outputs": [],
   "source": [
    "from dataclasses import dataclass, field\n",
    "from typing import ClassVar\n",
    "\n",
    "@dataclass\n",
    "class SavingsAccount:\n",
    "    accountnr:str\n",
    "    accountholder:str\n",
    "    balance:float=0.0\n",
    "    rate:ClassVar[float]=2.4\n",
    "    \n",
    "    def show_rate(self)->str:\n",
    "        return f'the interest for your {type(self).__name__} is {self.rate}%'  \n",
    "    \n",
    "    @classmethod\n",
    "    def set_rate(self, rate:float):\n",
    "        self.rate = rate        \n",
    "        \n",
    "    def __str__(self)->str: \n",
    "        return f'this {type(self).__name__} with number {self.accountnr} belongs to {self.accountholder}.'\n",
    "        \n",
    "        "
   ]
  },
  {
   "cell_type": "code",
   "execution_count": null,
   "id": "d8b0f9a4-dcb0-47ab-bb5d-c33f66171417",
   "metadata": {},
   "outputs": [],
   "source": [
    "sav3 = SavingsAccount(accountnr='NL57SNS09876',accountholder='Rhino')\n",
    "print(sav3)"
   ]
  },
  {
   "cell_type": "markdown",
   "id": "4c16291f-1075-4919-b455-bec584d81abe",
   "metadata": {},
   "source": [
    "#### **class methods**\n",
    "Class methods are methods that have access to and only to class variables, they use the `@classmethod` decorator.\n",
    "    \n",
    "Like class variables class methods have a life-span equalling runtime, unlike regular methods which life-span equals that of the object it belongs to.\n",
    "\n",
    "Class variables share the same memory address, class methods have access to that address."
   ]
  },
  {
   "cell_type": "code",
   "execution_count": 54,
   "id": "b7b04708-6033-4297-a34e-8169428c2f03",
   "metadata": {},
   "outputs": [
    {
     "data": {
      "text/plain": [
       "True"
      ]
     },
     "execution_count": 54,
     "metadata": {},
     "output_type": "execute_result"
    }
   ],
   "source": [
    "sav1.rate is sav2.rate # the is operator checks memory location"
   ]
  },
  {
   "cell_type": "markdown",
   "id": "863aa3ab-48b9-45ca-8a7f-8fe4aee46780",
   "metadata": {},
   "source": [
    "In language like Java you have member access control. You cannot directly access variables that are declared private\n",
    "\n",
    "`private static int classvariable`\n",
    "\n",
    "Python does not know a similar mechanisme but there are ways to achieve similar behaviour, which is outside of the scope of this notebook. An easy solution is to not directly access attributes but write your own setters and getters. This however is not Pythonic"
   ]
  },
  {
   "cell_type": "markdown",
   "id": "608eb01d-074f-42a6-a3b8-956ca6890cd8",
   "metadata": {},
   "source": [
    "#### **static methods**\n",
    "* Static methods are methods that belong to class, not to the object. Static methods don't have a self and cannot access attributes or class variables\n",
    "* Static methods use the decorator `@staticmethod`\n",
    "* Static methods are great to write utility methods, utility methods are an excellent tool to simplify a class and declutter it. For instance, we could use it to predict the balance of a SavingsAccount in several years time, while keeping the actual object method simple."
   ]
  },
  {
   "cell_type": "code",
   "execution_count": 55,
   "id": "9038b1fa-02e0-40a0-88f9-9a7b93c7aaf1",
   "metadata": {},
   "outputs": [],
   "source": [
    "from dataclasses import dataclass, field\n",
    "from typing import ClassVar\n",
    "\n",
    "@dataclass\n",
    "class SavingsAccount:\n",
    "    accountnr:str\n",
    "    accountholder:str\n",
    "    balance:float=0.0\n",
    "    rate:ClassVar[float]=0.024\n",
    "    \n",
    "    def show_rate(self)->str:\n",
    "        return f'the interest for your {type(self).__name__} is {self.rate*100}%'  \n",
    "    \n",
    "    def deposit(self, amount:float)->None:\n",
    "        self.balance += amount\n",
    "    \n",
    "    def calculate_interest_over_period(self,period=int)->float:\n",
    "        '''period is measured in years'''\n",
    "        return round(self.calculate_interest(balance=self.balance,rate=self.rate,period=period) - self.balance,2)\n",
    "    \n",
    "    @classmethod\n",
    "    def set_rate(self, rate:float)->None:\n",
    "        self.rate = rate        \n",
    "    \n",
    "    @staticmethod\n",
    "    def calculate_interest(balance:float, rate:float, period=int)->float:\n",
    "        '''does the actual calculation'''\n",
    "        return balance * (1+rate)**period\n",
    "    \n",
    "    def __str__(self)->str: \n",
    "        return f'this {type(self).__name__} with number {self.accountnr} belongs to {self.accountholder}.'"
   ]
  },
  {
   "cell_type": "code",
   "execution_count": 56,
   "id": "bfe2c857-cdcd-4e83-8795-391a787f0c84",
   "metadata": {},
   "outputs": [
    {
     "data": {
      "text/plain": [
       "'the interest for your SavingsAccount is 2.4%'"
      ]
     },
     "execution_count": 56,
     "metadata": {},
     "output_type": "execute_result"
    }
   ],
   "source": [
    "sav4 = SavingsAccount(accountnr='NL57SNSB09090909', accountholder='George')\n",
    "sav4.show_rate()"
   ]
  },
  {
   "cell_type": "code",
   "execution_count": 57,
   "id": "ae9859a2-375e-48fa-bb3b-d157ab78892c",
   "metadata": {},
   "outputs": [
    {
     "data": {
      "text/plain": [
       "SavingsAccount(accountnr='NL57SNSB09090909', accountholder='George', balance=5000.0)"
      ]
     },
     "execution_count": 57,
     "metadata": {},
     "output_type": "execute_result"
    }
   ],
   "source": [
    "sav4.deposit(5000)\n",
    "sav4"
   ]
  },
  {
   "cell_type": "code",
   "execution_count": 58,
   "id": "c0e50de7-4746-4053-888a-b0666e6fc175",
   "metadata": {},
   "outputs": [
    {
     "data": {
      "text/plain": [
       "520.4"
      ]
     },
     "execution_count": 58,
     "metadata": {},
     "output_type": "execute_result"
    }
   ],
   "source": [
    "sav4.set_rate(rate=0.02)\n",
    "sav4.calculate_interest_over_period(5)"
   ]
  },
  {
   "cell_type": "markdown",
   "id": "f69a87a8-2fe0-4231-bbed-cbce2ef39049",
   "metadata": {},
   "source": [
    "When using static methods always consider if they are really a utility (helper) method or that they should be a regular method. Be prepared during a code review to motivate your choice!"
   ]
  },
  {
   "cell_type": "markdown",
   "id": "84542543-fa82-4ca7-8d7d-005842629f18",
   "metadata": {},
   "source": [
    "#### **abstract methods**\n",
    "Python knows a fifth method called the abstract method, this is not a method belong to class/object as the previous four are. It is member of the abc module.  ABC stands for abstract base class, which is Python's manner to create an interface (In the sense of a contract, not API).    \n",
    "\n",
    "Here I show you abstract methods briefly, in the inheritance notebook I will comment on them in greater detail. The important thing to remember is that abstract methods shouldn't be implemented and abstracted classes can't be instantiated, also remember abstract methods need to be imported and use the `@abstractmethod` decorator. "
   ]
  },
  {
   "cell_type": "code",
   "execution_count": 59,
   "id": "d4dab43d-eccc-46b5-b989-dea1e19ac278",
   "metadata": {},
   "outputs": [],
   "source": [
    "from dataclasses import dataclass\n",
    "from abc import ABC, abstractmethod\n",
    "\n",
    "class Animal(ABC):\n",
    "    \n",
    "    @abstractmethod\n",
    "    def speak(self):\n",
    "        pass\n",
    "\n",
    "@dataclass    \n",
    "class Dog(Animal):\n",
    "    \n",
    "    def speak(self)->str:\n",
    "        return f'a {type(self).__name__} says woof'\n",
    "\n",
    "@dataclass    \n",
    "class Cat(Animal):\n",
    "    \n",
    "    def speak(self)->str:\n",
    "        return f'a {type(self).__name__} says miauw'      \n",
    "    "
   ]
  },
  {
   "cell_type": "code",
   "execution_count": 60,
   "id": "a337ba3a-df5c-4122-8c07-716b81ddaf30",
   "metadata": {},
   "outputs": [],
   "source": [
    "dog = Dog()\n",
    "cat = Cat()"
   ]
  },
  {
   "cell_type": "code",
   "execution_count": 61,
   "id": "6d29b5dc-74d6-4aa8-b81e-2f827a2ce50b",
   "metadata": {},
   "outputs": [
    {
     "data": {
      "text/plain": [
       "'a Dog says woof'"
      ]
     },
     "execution_count": 61,
     "metadata": {},
     "output_type": "execute_result"
    }
   ],
   "source": [
    "dog.speak()"
   ]
  },
  {
   "cell_type": "code",
   "execution_count": 62,
   "id": "d9c67663-7bd9-42a3-9364-882347246a94",
   "metadata": {},
   "outputs": [
    {
     "data": {
      "text/plain": [
       "'a Cat says miauw'"
      ]
     },
     "execution_count": 62,
     "metadata": {},
     "output_type": "execute_result"
    }
   ],
   "source": [
    "cat.speak()"
   ]
  },
  {
   "cell_type": "code",
   "execution_count": 63,
   "id": "bbc13b51-5f6f-4d63-96e7-9a99879932f9",
   "metadata": {},
   "outputs": [
    {
     "ename": "TypeError",
     "evalue": "Can't instantiate abstract class Animal with abstract method speak",
     "output_type": "error",
     "traceback": [
      "\u001b[1;31m---------------------------------------------------------------------------\u001b[0m",
      "\u001b[1;31mTypeError\u001b[0m                                 Traceback (most recent call last)",
      "Cell \u001b[1;32mIn[63], line 1\u001b[0m\n\u001b[1;32m----> 1\u001b[0m animal \u001b[38;5;241m=\u001b[39m \u001b[43mAnimal\u001b[49m\u001b[43m(\u001b[49m\u001b[43m)\u001b[49m\n",
      "\u001b[1;31mTypeError\u001b[0m: Can't instantiate abstract class Animal with abstract method speak"
     ]
    }
   ],
   "source": [
    "animal = Animal()"
   ]
  },
  {
   "cell_type": "markdown",
   "id": "3f13f7ed-9357-4414-935e-e3e5d2e1132d",
   "metadata": {},
   "source": [
    "#### **Your done**\n",
    "To write a good class is designing that class. It requires you to think about the traits that define the class and its state and what methods you need to change that state. The FrameWork I presented you with gives you the boilerplate code that ensures you to always write a good class.\n",
    "\n",
    "Of course now you can write a class you would want to know what to do with them, that requires continuing reading, for now there is nothing more to know about classes and objects in Python."
   ]
  },
  {
   "cell_type": "markdown",
   "id": "bd8235a1-3e31-465e-b73e-afc752f12773",
   "metadata": {},
   "source": [
    "## **Objects in the real-world**\n",
    "\n",
    "---\n",
    "In the real-world objects are usually not that simple as the coffee machine example. They are different in the sense they are not single objects. Let me list a few of these:\n",
    " - Some objects are filled with other objects, yet they seem to be themselves without the others, they don't own them so to say. Consider a supermarket it has fruits, veggies, cookies, meat, breakfast products, cleaning products. Which are all objects but them not being in the supermarket might be a nuisance, but it would still be a supermarket. \n",
    " - Some objects are made up of other objects, without these objects the larger object cannot exist. E.g., a car, it is made up of at least four other classes, the engine, the body, the interior, and the chassis, which themselves are made up of other classes. For instance, the engine knows pistons, a camshaft, an alternator, etc.\n",
    " - Some objects seemed to be related to one another, we can easily see a parent, a child, a sibling, a grandchild.    \n",
    " \n",
    "These patterns are respectively known as:\n",
    "1. aggregation\n",
    "2. composition\n",
    "3. inheritance     \n",
    "\n",
    "Object-oriented programming is the Siamese twin of object-oriented design, you cannot separate them. OO design (and therefore programming) is all about rooting out those relationships on how the objects are connected. What are the patterns, how do you capture these patterns in efficient way, how do these programming patterns allow you to build bigger, better, coherent, and consistent programs.    "
   ]
  },
  {
   "cell_type": "markdown",
   "id": "cc916f70-a122-496c-bf61-8ad08e7558a0",
   "metadata": {},
   "source": [
    "#### **Aggregation**\n",
    "The simplest of the compounded classes is aggregation. The simplest because our object could exist and still make sense without the compounding objects. In other words when the owning object is destroyed the other objects are not. \n",
    "\n",
    "Let's use our FrameWork to create an aggregation"
   ]
  },
  {
   "cell_type": "code",
   "execution_count": null,
   "id": "2de548cc-df46-4d41-8578-72f1c9de5650",
   "metadata": {},
   "outputs": [],
   "source": [
    "from dataclasses import dataclass, field\n",
    "\n",
    "'''I am not implementing these classes, for a MVP I do not need to'''\n",
    "\n",
    "@dataclass\n",
    "class Fridge:\n",
    "    pass\n",
    "\n",
    "@dataclass\n",
    "class Hob:\n",
    "    pass\n",
    "\n",
    "@dataclass\n",
    "class Sink:\n",
    "    pass\n",
    "\n",
    "@dataclass\n",
    "class Oven:\n",
    "    pass"
   ]
  },
  {
   "cell_type": "code",
   "execution_count": null,
   "id": "537d2836-52c9-470c-97b7-61596b3c7e73",
   "metadata": {},
   "outputs": [],
   "source": [
    "from dataclasses import dataclass, field\n",
    "\n",
    "@dataclass\n",
    "class Kitchen:\n",
    "    colour:str\n",
    "    clean:bool\n",
    "    fridge:Fridge=None\n",
    "    hob:Hob=None\n",
    "    sink:Sink=None\n",
    "    oven:Oven=None\n",
    "    coffee_machine:CoffeeMachineFW=None\n",
    "    \n",
    "    def __post_init__(self):\n",
    "        self.fridge = Fridge()\n",
    "        self.hob=Hob()\n",
    "        self.sink=Sink()\n",
    "        self.oven=Oven()\n",
    "        self.coffee_machine=CoffeeMachineFW(on=True, water_reservoir=True,piston=True) # I have already written this class in this notebook\n",
    "        \n",
    "    def make_coffee(self):\n",
    "        return self.coffee_machine.make_coffee()\n",
    "\n",
    "        "
   ]
  },
  {
   "cell_type": "code",
   "execution_count": null,
   "id": "8e20b32c-f914-45c5-bd78-ecefc0512cb2",
   "metadata": {},
   "outputs": [],
   "source": [
    "kitchen = Kitchen(colour='Purple', clean=True)\n",
    "kitchen"
   ]
  },
  {
   "cell_type": "markdown",
   "id": "cb5da045-315a-48f6-9dfb-73f91d4fe4ea",
   "metadata": {},
   "source": [
    "The kitchen it self doesn't do anything it just captures all the objects that belong to the kitchen.    \n",
    "\n",
    "Any operation it delegates to the specialized object thus we can make coffee in our kitchen"
   ]
  },
  {
   "cell_type": "code",
   "execution_count": null,
   "id": "aa18ad18-0e5b-4fd9-b2a8-ed9006bcbcc8",
   "metadata": {},
   "outputs": [],
   "source": [
    "kitchen.make_coffee()"
   ]
  },
  {
   "cell_type": "markdown",
   "id": "e8412f3f-e71a-462d-bd75-3565a1736dbf",
   "metadata": {},
   "source": [
    "**Aggregation** is wide spread in OO programming for instance it is how you present objects to the user. The application programming interface (API) is an example aggregation.   \n",
    "\n",
    "With the kitchen I offer a full range of services to my client, he can cook on the hob, bake in the oven, make coffee etc. But notice how this is done without knowing the implementation of the object that perform the operation i.e., make coffee.     \n",
    "\n",
    "This is known as **encapsulation**, encapsulation is the bundeling of data and methods (true in Python) and limiting access to some data (not true in Python). As a client you do not need to know how the coffee is made just that you can make it. \n",
    "\n",
    "This class is tightly coupled, there are ways around this, for instance via dependency injection, this something for the design/SOLID notebook"
   ]
  },
  {
   "attachments": {
    "4c14b145-f4ad-4a47-affa-aedbfbcc9fd9.png": {
     "image/png": "[encoded data removed]"
    }
   },
   "cell_type": "markdown",
   "id": "7cd2abe6-89aa-4c90-b13a-ea7497f44f1d",
   "metadata": {},
   "source": [
    "#### **Composition** \n",
    "Object composition is about combining objects within an object to use the functionality of the objects to create the functionailty of the larger object. This while ensuring the encapsulation of the combining objects.   \n",
    "\n",
    "The big difference between **aggregation** and **composition** is that the latter couldn't function without the objects it is composed of. Take a bicycle as example, it is composed of several objects, for instance, a saddle, wheel, frame, you can't leave one of these off for without these there simply would not be a bicycle.    \n",
    "\n",
    "Object composition in UML looks like:   \n",
    "![afbeelding.png](attachment:4c14b145-f4ad-4a47-affa-aedbfbcc9fd9.png)\n",
    "\n",
    "Where Engine, Chassis, Body, and Interior are objects. In UML objects are given a capital letter, so you should read this, we have an attribute with as type an object i.e engine:Engine"
   ]
  },
  {
   "cell_type": "markdown",
   "id": "acb97fc1-955d-4dbe-a6c7-9af1cb8dc75f",
   "metadata": {},
   "source": [
    "let's use our Framework for building classes to build a car"
   ]
  },
  {
   "cell_type": "code",
   "execution_count": null,
   "id": "046a2336-866f-4f49-8c68-faffbd29d246",
   "metadata": {},
   "outputs": [],
   "source": [
    "from dataclasses import dataclass, field\n",
    "\n",
    "@dataclass\n",
    "class Engine:\n",
    "    running:bool=False\n",
    "    \n",
    "    def start(self)->None:\n",
    "        self.running=True\n",
    "        \n",
    "    def stop(self)->None:\n",
    "        self.running=False\n"
   ]
  },
  {
   "cell_type": "code",
   "execution_count": null,
   "id": "3ac6d30e-c538-4d26-a9ca-24166a052cd5",
   "metadata": {},
   "outputs": [],
   "source": [
    "from dataclasses import dataclass, field\n",
    "\n",
    "@dataclass\n",
    "class Chassis:\n",
    "    wheels:int\n",
    "    brakes:bool=False\n",
    "    accelerator:bool=False\n",
    "    \n",
    "    def brake(self)->str:\n",
    "        self.brakes=True\n",
    "        return 'slowing down'\n",
    "    \n",
    "    def accelerating(self)->str:\n",
    "        self.accelerator=True\n",
    "        return 'speeding up'"
   ]
  },
  {
   "cell_type": "code",
   "execution_count": null,
   "id": "1e2e60f8-8e44-408c-a667-d7723b6e04bb",
   "metadata": {},
   "outputs": [],
   "source": [
    "from dataclasses import dataclass, field\n",
    "\n",
    "@dataclass\n",
    "class Body:\n",
    "    colour:str\n",
    "    body_type:str\n",
    "    windows_closed:bool=True\n",
    "    doors_open:bool=False\n",
    "    \n",
    "    def open_doors(self)->str:\n",
    "        self.doors_open=True\n",
    "        return 'Hurry the doors are open it is cold outside' \n",
    "    \n",
    "    def open_windows(self)->str:\n",
    "        self.windows_closed=False\n",
    "        return 'Blimey it is hot outside, luckily the windows are open'"
   ]
  },
  {
   "cell_type": "code",
   "execution_count": null,
   "id": "c2f1c388-0d1d-4725-991e-7317df81e2fb",
   "metadata": {},
   "outputs": [],
   "source": [
    "from dataclasses import dataclass, field\n",
    "\n",
    "@dataclass\n",
    "class Interior:\n",
    "    seats:int \n",
    "    speedometer:int\n",
    "    \n",
    "    @dataclass\n",
    "    class Dashboard:\n",
    "        speedometer:int\n",
    "        claxon:str\n",
    "        \n",
    "        def push_claxon(self)->str:\n",
    "            return self.claxon\n",
    "        \n",
    "        def read_speedo(self)->int:\n",
    "            return self.speedometer\n",
    "        \n",
    "    def __post_init__(self):\n",
    "        self.dashboard = self.Dashboard(speedometer=self.speedometer, claxon='Tuut tuut')\n",
    "        \n",
    "    def honk(self)->str:\n",
    "        return self.dashboard.push_claxon()\n",
    "    \n",
    "    def how_fast(self)->int:\n",
    "        return self.dashboard.read_speedo()\n",
    "\n"
   ]
  },
  {
   "cell_type": "code",
   "execution_count": null,
   "id": "b8b8a55c-6728-4ec6-b371-f8e4feb97cd1",
   "metadata": {},
   "outputs": [],
   "source": [
    "from dataclasses import dataclass, field\n",
    "\n",
    "@dataclass\n",
    "class Car:\n",
    "    \n",
    "    colour:str\n",
    "    body_type:str\n",
    "    speed:int\n",
    "    seats:int=4\n",
    "    wheels:int=4\n",
    "    \n",
    "    engine:Engine=None\n",
    "    chassis:Chassis=None\n",
    "    body:Body=None\n",
    "    interior:Interior=None\n",
    "    \n",
    "    def __post_init__(self):\n",
    "        self.engine   = Engine()\n",
    "        self.chassis  = Chassis(wheels=self.wheels)\n",
    "        self.body     = Body(colour=self.colour, body_type=self.body_type)\n",
    "        self.interior = Interior(seats=self.seats,speedometer=self.speed)\n",
    "    \n",
    "    def start_car(self)->None:\n",
    "        self.engine.start()\n",
    "    \n",
    "    def stop_car(self)->None:\n",
    "        self.engine.stop()\n",
    "        \n",
    "    def accelerate(self)->str:\n",
    "        if self.engine.running:\n",
    "            return self.chassis.accelerating()\n",
    "        else:\n",
    "            'You need to start the car before it can accelerate'\n",
    "            \n",
    "    def brake(self)->str:\n",
    "        if self.engine.running:\n",
    "            return self.chassis.brake()\n",
    "        else:\n",
    "            return 'We do not need to brake, the engine isn`t running'\n",
    "        \n",
    "    def open_doors(self)->str:\n",
    "        if not self.body.doors_open:\n",
    "            return self.body.open_doors()\n",
    "        else:\n",
    "            return 'The doors are already open'\n",
    "        \n",
    "    def open_windows(self)->str:\n",
    "        if self.body.windows_closed:\n",
    "            return self.body.open_windows()\n",
    "        else:\n",
    "            return 'The windows are already down'\n",
    "        \n",
    "    def push_claxon(self)->str:\n",
    "        return self.interior.honk()\n",
    "    \n",
    "    def read_speedo(self)->str:\n",
    "        return f'You are currently driving at {self.interior.how_fast()} kilometers an hour'\n",
    "    \n",
    "    \n",
    "    \n",
    "    \n",
    "        "
   ]
  },
  {
   "cell_type": "markdown",
   "id": "d214b639-6b0e-4717-940c-8573fa24a03a",
   "metadata": {},
   "source": [
    "Before you play with class and try out the functionality of Car a few remarks:\n",
    "1. In general you would never program all classes in one file, but in five in this case and have Car importing Engine cum suis\n",
    "2. In Interior you find an interior class, could not resist the pun, we better call it an inner class, Dashboard. A dashboard is part the interior and does not make any sense outside the interior, yet it is a complicated thing with operations, there for it deserves its own class. These are the questions you should ask yourself if you write a complicated class, are there complicated objects in my class that have operations, if the answer is yes. Ask if it make sense that lives outside of your class, should it live on if your object is gone. If the answer is no, you should write an inner class, otherwise use object composition.\n",
    "3. Especially when using object composition, you might want to first initialize the outer object before initializing the inner objects, for instance because you need some attribute, like I need body_type, colour, and speed from the car object. @dataclass offers you __post_init__() which allows you to initialize some attributes (or a method if you want) directly after the object is created by the compiler, before control is handed back to you.    \n",
    "\n",
    "Now go and play! (Btw this is good class to test with Pytest as an exercise, but you need to take the code out of this notebook)\n"
   ]
  },
  {
   "cell_type": "markdown",
   "id": "c9e6f094-f5d2-4eb4-a5f5-262e225c56ef",
   "metadata": {},
   "source": [
    "#### **Inheritance**\n",
    "There are in general two reasons you want to use inheritance.\n",
    " 1. To create a subtype (I shall not discuss it here)\n",
    " 2. to avoid code duplication by reuse    \n",
    " \n",
    "The example is about code reuse and how to do that clearly, so other people know what is going on, something that isn't always clear with inheritance"
   ]
  },
  {
   "cell_type": "code",
   "execution_count": null,
   "id": "0d28c959-8028-4eaf-b1ae-567f02acdda8",
   "metadata": {},
   "outputs": [],
   "source": [
    "from dataclasses import dataclass, field\n",
    "\n",
    "@dataclass\n",
    "class BankAccount:\n",
    "    accountnr:str\n",
    "    accountholder:str\n",
    "    balance:float=0.0\n",
    "    \n",
    "    def deposit(self,amount:float)->None:\n",
    "        self.balance += amount\n",
    "        \n",
    "    def show_balance(self)->str:\n",
    "        return f'{self.balance}'\n",
    "    \n",
    "    def __str__(self)->str:\n",
    "        return f'{type(self).__name__} with number {self.accountnr} is held by {self.accountholder} the current balance is {self.balance} euro.'\n",
    "    "
   ]
  },
  {
   "cell_type": "code",
   "execution_count": null,
   "id": "cfad257e-e629-47e2-97c4-a2170488e2fd",
   "metadata": {},
   "outputs": [],
   "source": [
    "bankaccount = BankAccount(accountnr='NL57SNSB666666', accountholder='Pheebs')\n",
    "bankaccount"
   ]
  },
  {
   "cell_type": "code",
   "execution_count": null,
   "id": "fe53bcf6-bb45-4859-a6f8-8916b60fcc1a",
   "metadata": {},
   "outputs": [],
   "source": [
    "bankaccount.deposit(4000)\n",
    "bankaccount.show_balance()"
   ]
  },
  {
   "cell_type": "code",
   "execution_count": null,
   "id": "66af2e0b-a16e-4209-b90b-5cb598366e95",
   "metadata": {},
   "outputs": [],
   "source": [
    "print(bankaccount)"
   ]
  },
  {
   "cell_type": "markdown",
   "id": "8f99d596-2596-4db1-95c2-83fd182bbe2d",
   "metadata": {},
   "source": [
    "Our base class works, let's give it some children"
   ]
  },
  {
   "cell_type": "code",
   "execution_count": null,
   "id": "f6c9bd9a-3601-4732-93ca-eba7bd4020f2",
   "metadata": {},
   "outputs": [],
   "source": [
    "from dataclasses import dataclass, field\n",
    "from typing import ClassVar\n",
    "\n",
    "@dataclass\n",
    "class SavingsAccount(BankAccount):\n",
    "    rate:ClassVar[float]=0.0\n",
    "    \n",
    "    @classmethod\n",
    "    def set_rate(self, rate:float)->None:\n",
    "        self.rate = rate\n",
    "    \n",
    "    "
   ]
  },
  {
   "cell_type": "code",
   "execution_count": null,
   "id": "82afa460-3d85-4c29-b57d-45ba815bc7b7",
   "metadata": {},
   "outputs": [],
   "source": [
    "savingsaccount = SavingsAccount(accountnr='NL37ASNB343434', accountholder='George')\n",
    "savingsaccount"
   ]
  },
  {
   "cell_type": "markdown",
   "id": "482eb156-4b35-40d6-a216-71cfa438cd2b",
   "metadata": {},
   "source": [
    "As SavingsAccount is a subclass of BankAccount you can use it's attributes and methods"
   ]
  },
  {
   "cell_type": "code",
   "execution_count": null,
   "id": "94d2be86-60be-462c-b8d0-71da8aeca0c6",
   "metadata": {},
   "outputs": [],
   "source": [
    "issubclass(SavingsAccount,BankAccount)"
   ]
  },
  {
   "cell_type": "code",
   "execution_count": null,
   "id": "a78bda17-9916-41d4-b592-5e360dd0be71",
   "metadata": {},
   "outputs": [],
   "source": [
    "savingsaccount.deposit(2000)\n",
    "savingsaccount.show_balance()"
   ]
  },
  {
   "cell_type": "code",
   "execution_count": null,
   "id": "51c90929-31d9-45e3-a510-5037f236405c",
   "metadata": {},
   "outputs": [],
   "source": [
    "print(savingsaccount)"
   ]
  },
  {
   "cell_type": "markdown",
   "id": "974db7e1-8574-4bd5-a4d2-962172bf9501",
   "metadata": {},
   "source": [
    "#### **`super()`**\n",
    "This not the way to use the functionality from the base class. You should make it explicit by using the `super()` function which creates a proxy object to call the base class' method on (it is a bit more complicate see the inheritance notebook)"
   ]
  },
  {
   "cell_type": "code",
   "execution_count": null,
   "id": "e62aed35-d6af-4716-9f49-c30271ac5353",
   "metadata": {},
   "outputs": [],
   "source": [
    "from dataclasses import dataclass\n",
    "\n",
    "@dataclass\n",
    "class CurrentAccount(BankAccount):\n",
    "    ''' A bankaccount for daily use'''\n",
    "    limit:int=0\n",
    "    overdraft:bool=False\n",
    "    \n",
    "    def deposit(self, amount:float)->None:\n",
    "        super().deposit(amount)\n",
    "        \n",
    "    def show_balance(self)->str:\n",
    "        return super().show_balance()\n",
    "    \n",
    "    def set_overdraft(self)->None:\n",
    "        self.overdraft = True\n",
    "        \n",
    "    def set_limit(self, limit:int)->None:\n",
    "        self.limit=limit\n",
    "        \n",
    "    def __str__(self)->str: # this method overrides the one from BankAccount\n",
    "        return f'{type(self).__name__} has a overdraft limit of {self.limit} euro.'\n",
    "        \n",
    "    "
   ]
  },
  {
   "cell_type": "code",
   "execution_count": null,
   "id": "e5ac6f31-3840-4fdf-8c1e-fcf80e7ec9a9",
   "metadata": {},
   "outputs": [],
   "source": [
    "current = CurrentAccount(accountnr='NL12INSINGER0808008', accountholder='Croc')\n",
    "current"
   ]
  },
  {
   "cell_type": "code",
   "execution_count": null,
   "id": "ed5c8476-16f3-4a8d-9bfd-79b088a30a88",
   "metadata": {},
   "outputs": [],
   "source": [
    "current.deposit(25000)\n",
    "current.show_balance()"
   ]
  },
  {
   "cell_type": "code",
   "execution_count": null,
   "id": "5af73d12-50c2-44d9-827f-094987168b46",
   "metadata": {},
   "outputs": [],
   "source": [
    "current.set_overdraft()\n",
    "current.set_limit(1000000)\n",
    "print(current)"
   ]
  },
  {
   "cell_type": "markdown",
   "id": "b82e345d-cf81-4d12-b4f6-fd5ec45486a0",
   "metadata": {},
   "source": [
    "You can see what is the actual order in which methods are called if you call on the help of a class.\n",
    "You will see the MRO of the object you call help on, MRO stands for method resolution order "
   ]
  },
  {
   "cell_type": "code",
   "execution_count": null,
   "id": "1ed76289-582a-4d9d-b1b8-aae8bd8eb448",
   "metadata": {},
   "outputs": [],
   "source": [
    "help(current)"
   ]
  },
  {
   "cell_type": "markdown",
   "id": "991e1123-447a-4dbc-a81d-7c3a6e68b9fb",
   "metadata": {},
   "source": [
    "There is a lot to say about inheritance in general in for Python specific. See the inheritance notebook for details.\n",
    "For now there are only two things I want to say about it:\n",
    " 1. When you want to use inheritance consider if you should not be using object composition, but remember Python favours inheritance\n",
    " 2. use `super()` instead of implicitely using the base class' methods!!!"
   ]
  },
  {
   "cell_type": "markdown",
   "id": "30c98aea-836c-4fa2-bc15-b89e5a528bf2",
   "metadata": {},
   "source": [
    "#### **The empty list as default value problem**\n",
    "As promised I would show you the empty list as default problem. There is a lot to say more about this, but I just want to show you the problem. (I talk about similar problems in another notebook, programming concepts) \n",
    "\n",
    "The basis of this problem lies in the fact that Python only knows two storables (things that you can store) these are either primitives (int, float, etc) or a pointer. A pointer points (hence the name) to a location in memory."
   ]
  },
  {
   "cell_type": "code",
   "execution_count": null,
   "id": "c435e59a-f9b1-479a-879f-e130df7e3f6a",
   "metadata": {},
   "outputs": [],
   "source": [
    "class Taxi:\n",
    "    '''Class to illustrate the empty default list problem'''\n",
    "    \n",
    "    def __init__(self, passengers=[]): # de taxi is initieel leeg\n",
    "        self.passengers=passengers\n",
    "        \n",
    "    def pick_up(self,name:str):\n",
    "        self.passengers.append(name)\n",
    "    \n",
    "    def drop_off(self,name:str):\n",
    "        self.passengers.remove(name)  "
   ]
  },
  {
   "cell_type": "markdown",
   "id": "97e46080-13f9-4e0a-8eff-b9476f6194da",
   "metadata": {},
   "source": [
    "Let's make a taxi"
   ]
  },
  {
   "cell_type": "code",
   "execution_count": null,
   "id": "78df57b8-b626-45b4-bd14-c599acc41b07",
   "metadata": {},
   "outputs": [],
   "source": [
    "taxi_one = Taxi(passengers=['Ente', 'Croc'])\n",
    "taxi_one.passengers"
   ]
  },
  {
   "cell_type": "code",
   "execution_count": null,
   "id": "8b4ff40e-0aa3-4e50-ae5a-76e3783626e9",
   "metadata": {},
   "outputs": [],
   "source": [
    "taxi_one.drop_off('Ente')\n",
    "taxi_one.passengers"
   ]
  },
  {
   "cell_type": "code",
   "execution_count": null,
   "id": "4f094772-ba98-4eb8-9e3e-ead087f821f2",
   "metadata": {},
   "outputs": [],
   "source": [
    "taxi_one.pick_up('Rhino')\n",
    "taxi_one.passengers"
   ]
  },
  {
   "cell_type": "markdown",
   "id": "b799e248-990f-4ec8-91fb-898c74b37171",
   "metadata": {},
   "source": [
    "so far the taxi class works as it supposed to do. But I have a few taxi's and really would like to instantiate them at the same time, before their shift begins"
   ]
  },
  {
   "cell_type": "code",
   "execution_count": null,
   "id": "20aa316c-da36-4ee9-a1d3-69de6df323d0",
   "metadata": {},
   "outputs": [],
   "source": [
    "taxi_two = Taxi()\n",
    "taxi_three= Taxi()\n",
    "taxi_two.passengers"
   ]
  },
  {
   "cell_type": "code",
   "execution_count": null,
   "id": "9ed0c373-2e00-4dba-87e3-84950008b52e",
   "metadata": {},
   "outputs": [],
   "source": [
    "taxi_three.passengers"
   ]
  },
  {
   "cell_type": "markdown",
   "id": "5ce4bf25-90fc-4e41-9872-0b981df0f268",
   "metadata": {},
   "source": [
    "Both lists are empty, so far so good let's pick up a passenger"
   ]
  },
  {
   "cell_type": "code",
   "execution_count": null,
   "id": "0bb12ee3-37ce-4bf8-ad12-8bc339388e63",
   "metadata": {},
   "outputs": [],
   "source": [
    "taxi_two.pick_up('George')\n",
    "taxi_two.passengers"
   ]
  },
  {
   "cell_type": "markdown",
   "id": "79ed5776-d50d-4acb-875a-e11a4c1addb0",
   "metadata": {},
   "source": [
    "Now taxi_three should have no passengers, we have done nothing with taxi_three"
   ]
  },
  {
   "cell_type": "code",
   "execution_count": null,
   "id": "942fbb8e-9600-4c9e-ae40-4ea03e2b73a0",
   "metadata": {},
   "outputs": [],
   "source": [
    "taxi_three.passengers"
   ]
  },
  {
   "cell_type": "markdown",
   "id": "a6e8d0db-808d-4c58-ad06-5b1bbd32b80c",
   "metadata": {},
   "source": [
    "However George got in that taxi too, he is very spooky. Let's get rid of George taxi_three!"
   ]
  },
  {
   "cell_type": "code",
   "execution_count": null,
   "id": "28ce29aa-406f-4d91-8a4e-a35a186987d2",
   "metadata": {},
   "outputs": [],
   "source": [
    "taxi_three.drop_off('George')\n",
    "taxi_two.passengers"
   ]
  },
  {
   "cell_type": "markdown",
   "id": "cdc397e0-09f4-44ab-ba27-4703fb40c612",
   "metadata": {},
   "source": [
    "Bye bye George! George has gone from both taxi's indeed a spooky relationship"
   ]
  },
  {
   "cell_type": "markdown",
   "id": "bf630a00-b493-4232-86e5-5dfb0c9f49f4",
   "metadata": {},
   "source": [
    "This is quite the nefarious problem, and not simple to solve if your Python. The root cause is that Python has two storables, primitives and pointers.    \n",
    "\n",
    "What happens is that both taxi_two and taxi_three passenger list points to the same memory location, if you do an operation on that list both taxis will have the result of that operation, for it is the same list. The class is after all defined with an empty list as a default. Taxi_one overrides this by using its own list at creation and does not have this problem.    \n",
    "\n",
    "Now for Python to solve this would not be easy this is very deep in the core of Python. So, they created a work around a solution for wanting to instantiate objects with empty lists, dataclasses' field function.\n",
    "\n",
    "Let's use our framework to build the same class."
   ]
  },
  {
   "cell_type": "code",
   "execution_count": null,
   "id": "7b2d4e03-142a-43ab-a063-bae934b1633b",
   "metadata": {},
   "outputs": [],
   "source": [
    "from dataclasses import dataclass, field\n",
    "\n",
    "@dataclass\n",
    "class Taxi:\n",
    "    passengers:list[str]= field(default_factory=list)\n",
    "    \n",
    "    def pick_up(self,name:str):\n",
    "        self.passengers.append(name)\n",
    "    \n",
    "    def drop_off(self,name:str):\n",
    "        self.passengers.remove(name)\n",
    "    "
   ]
  },
  {
   "cell_type": "code",
   "execution_count": null,
   "id": "f3285382-2f50-463a-93c5-d27bb9ff0ba5",
   "metadata": {},
   "outputs": [],
   "source": [
    "type(Taxi().passengers)"
   ]
  },
  {
   "cell_type": "code",
   "execution_count": null,
   "id": "0b364903-7d04-457f-b269-e09b57a17ea6",
   "metadata": {},
   "outputs": [],
   "source": [
    "taxi_one = Taxi(passengers=['Ente', 'Croc'])\n",
    "taxi_one.passengers"
   ]
  },
  {
   "cell_type": "code",
   "execution_count": null,
   "id": "34de1260-90f8-4b68-9f19-e6a5a37e509e",
   "metadata": {},
   "outputs": [],
   "source": [
    "taxi_two = Taxi()\n",
    "taxi_three = Taxi()"
   ]
  },
  {
   "cell_type": "code",
   "execution_count": null,
   "id": "47fa0ce8-449b-4019-ad00-23428688f060",
   "metadata": {},
   "outputs": [],
   "source": [
    "taxi_two.pick_up('George')\n",
    "taxi_two.passengers"
   ]
  },
  {
   "cell_type": "code",
   "execution_count": null,
   "id": "ddbffb9f-5704-4fc6-8329-dce811f3c206",
   "metadata": {},
   "outputs": [],
   "source": [
    "taxi_three.passengers"
   ]
  },
  {
   "cell_type": "markdown",
   "id": "d0b47bfb-b294-4e24-9f8c-1557b3ffcf40",
   "metadata": {},
   "source": [
    "#### **Problem solved**"
   ]
  },
  {
   "cell_type": "markdown",
   "id": "c0170a40-e6df-45b9-8e29-e4f6d1c85090",
   "metadata": {},
   "source": [
    "There is few more things you could learn about classes and objects in general and Python specific, but these are technical & historical details a programmer can do without. There is however a lot more to learn about object oriented programming, subjects that include:\n",
    " - Inheritance\n",
    " - Interfaces \n",
    " - Design & SOLID\n",
    " - Typing \n",
    " - Generic programming (advanced topic) "
   ]
  },
  {
   "cell_type": "code",
   "execution_count": null,
   "id": "f5abbf3b-b7bb-45cd-9c9b-e47524565e97",
   "metadata": {},
   "outputs": [],
   "source": []
  }
 ],
 "metadata": {
  "kernelspec": {
   "display_name": "Python 3 (ipykernel)",
   "language": "python",
   "name": "python3"
  },
  "language_info": {
   "codemirror_mode": {
    "name": "ipython",
    "version": 3
   },
   "file_extension": ".py",
   "mimetype": "text/x-python",
   "name": "python",
   "nbconvert_exporter": "python",
   "pygments_lexer": "ipython3",
   "version": "3.11.1"
  }
 },
 "nbformat": 4,
 "nbformat_minor": 5
}
