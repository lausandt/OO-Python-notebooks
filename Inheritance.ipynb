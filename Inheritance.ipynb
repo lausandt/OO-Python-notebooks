{
 "cells": [
  {
   "cell_type": "markdown",
   "id": "e922a851-9181-473e-bf21-0c5bf537e884",
   "metadata": {
    "tags": []
   },
   "source": [
    "## **Inheritance in Python**\n",
    "\n",
    "---\n",
    "Inheritance is Python's core manner to reuse code, unlike Java or C++, who both favour composition.\n",
    "Inheritance is the mechanism where a class, the subclass, inherits traits from another class, the base class. As you will see in this notebook, inheritance allows you to go from the general, to the specialised. Inheritance allows you to use the attributes and methods of base (or super class) and add to that functionality to your subclass with attributes and methods of your own and thus specializing off a general parent.\n",
    "\n",
    "Let's do a simple example of inheritance to make this clear.\n"
   ]
  },
  {
   "cell_type": "code",
   "execution_count": null,
   "id": "d718b9f5-d91f-45d8-ac60-2265b28f93fb",
   "metadata": {},
   "outputs": [],
   "source": [
    "class Shape:# our base class\n",
    "    \n",
    "    def area(self):\n",
    "        pass\n",
    "    \n",
    "    def perimeter(self):\n",
    "        pass\n",
    "    \n",
    "    def colour(self)->str:\n",
    "        return f'{type(self).__name__} is a lovely colour purple'\n",
    "    \n",
    "s = Shape() \n",
    "s.colour()"
   ]
  },
  {
   "cell_type": "code",
   "execution_count": null,
   "id": "b7b941e4-2f90-40c1-9207-91a88e6f3794",
   "metadata": {},
   "outputs": [],
   "source": [
    "from dataclasses import dataclass\n",
    "\n",
    "@dataclass\n",
    "class Rectangle(Shape):\n",
    "    length:float=0\n",
    "    breadth:float=0\n",
    "    \n",
    "    def colour(self)->str:\n",
    "        return super().colour()\n",
    "    \n",
    "    def area(self)->float: \n",
    "        return self.length*self.breadth\n",
    "    \n",
    "    def perimeter(self)->float:\n",
    "        return 2*(self.length+self.breadth)\n",
    "        \n",
    "r = Rectangle(length=4.0, breadth=5.0)    \n",
    "r"
   ]
  },
  {
   "cell_type": "code",
   "execution_count": null,
   "id": "e2fc06f1-9264-4add-be1b-becd32a5d10c",
   "metadata": {},
   "outputs": [],
   "source": [
    "r.area()"
   ]
  },
  {
   "cell_type": "code",
   "execution_count": null,
   "id": "e79f096d-4f8f-41bb-9f49-64e6f56244ce",
   "metadata": {},
   "outputs": [],
   "source": [
    "r.perimeter()"
   ]
  },
  {
   "cell_type": "code",
   "execution_count": null,
   "id": "bb2bf8de-29a0-4986-9d69-4e78d6abd142",
   "metadata": {},
   "outputs": [],
   "source": [
    "r.colour()"
   ]
  },
  {
   "cell_type": "code",
   "execution_count": null,
   "id": "0146a04d-0c4f-45fd-afea-615650bc8065",
   "metadata": {},
   "outputs": [],
   "source": [
    "@dataclass\n",
    "class Square(Rectangle):\n",
    "    \n",
    "    def colour(self)->str:\n",
    "        return super().colour()\n",
    "    \n",
    "    def area(self)->float: \n",
    "        return super().area()\n",
    "    \n",
    "    def perimeter(self)->float:\n",
    "        return super().perimeter()\n",
    "    \n",
    "sq = Square(length=4.0, breadth=4.0)\n",
    "sq    "
   ]
  },
  {
   "cell_type": "code",
   "execution_count": null,
   "id": "db8eb2c4-b477-4106-a056-05ac2349f83b",
   "metadata": {},
   "outputs": [],
   "source": [
    "sq.area()"
   ]
  },
  {
   "cell_type": "code",
   "execution_count": null,
   "id": "60cc7d5d-46e4-4969-8f88-70160cfafdf9",
   "metadata": {},
   "outputs": [],
   "source": [
    "sq.perimeter()"
   ]
  },
  {
   "cell_type": "code",
   "execution_count": null,
   "id": "d09f4437-c34c-4a9f-b464-991d3140277c",
   "metadata": {},
   "outputs": [],
   "source": [
    "sq.colour()"
   ]
  },
  {
   "cell_type": "markdown",
   "id": "563334e1-9ebf-4220-9c4b-9218437efedf",
   "metadata": {},
   "source": [
    "As we can see we have a base class Shape, with one implemented method and two empty methods.\n",
    "\n",
    "From shape we create rectangle, we override the inherit methods, `colour()` we simply implement with a `super()` call. \n",
    "\n",
    "From rectangle we derive the square, which has all the same methods and only `super()` calls. This works as we inherit the fields from `Rectangle`    \n",
    "\n",
    "To see all of this and more we can call on help which tells us what we inherit.\n"
   ]
  },
  {
   "cell_type": "code",
   "execution_count": null,
   "id": "1c454821-1306-40e6-ad75-87fb6e87430a",
   "metadata": {},
   "outputs": [],
   "source": [
    "help(sq)"
   ]
  },
  {
   "cell_type": "markdown",
   "id": "4800b5c4-b064-40b8-988c-49cbd080279f",
   "metadata": {},
   "source": [
    "#### **help**\n",
    "\n",
    "I cannot stress this enough, help is a great source of information, you should take your time and read that information thoroughly. Help does not just give you information on the object you are calling help on. It also gives you a great insight into how Python works internally, more on that in Objects in Python notebook.   \n",
    "\n",
    "Help for instance gives you information about the methods that are defined for this class. Information on where these methods are defined and how to resolve which methods to use, and in which order. This is known as the MRO which stands for Method Resolution Order. I cannot stress enough how important it is to understand the MRO in Python, if only because Python favours inheritance over composition. \n",
    "\n",
    "The inheritance relation in Python is deep. We can even use the base class's `__init__()` method with a super() call."
   ]
  },
  {
   "cell_type": "code",
   "execution_count": null,
   "id": "a765cc5e-f31b-4c61-8cf2-c52e0f39b313",
   "metadata": {},
   "outputs": [],
   "source": [
    "from dataclasses import dataclass\n",
    "\n",
    "class Shape:# our base class\n",
    "    \n",
    "    def area(self):\n",
    "        pass\n",
    "    \n",
    "    def perimeter(self):\n",
    "        pass\n",
    "    \n",
    "    def colour(self)->str:\n",
    "        return f'{type(self).__name__}.colour() returns a lovely colour purple'\n",
    "\n",
    "@dataclass    \n",
    "class Rectangle(Shape):\n",
    "    length:float=0.0\n",
    "    breadth:float=0.0\n",
    "    \n",
    "    def colour(self)->str:\n",
    "        return super().colour()\n",
    "    \n",
    "    def area(self)->float: \n",
    "        return self.length*self.breadth\n",
    "    \n",
    "    def perimeter(self)->float:\n",
    "        return 2*(self.length+self.breadth)\n",
    "\n",
    "@dataclass    \n",
    "class Square(Rectangle):\n",
    "    \n",
    "    def __init__(self, side:float=0):\n",
    "        self.side = side\n",
    "        super().__init__(side, side)\n",
    "\n",
    "    def colour(self)->str:\n",
    "        return super().colour()\n",
    "    \n",
    "    def area(self)->float: \n",
    "        return super().area()\n",
    "    \n",
    "    def perimeter(self)->float:\n",
    "        return super().perimeter()"
   ]
  },
  {
   "cell_type": "code",
   "execution_count": null,
   "id": "f693b309-5dcb-4540-892e-bc854596447c",
   "metadata": {},
   "outputs": [],
   "source": [
    "s = Shape()\n",
    "s.colour()"
   ]
  },
  {
   "cell_type": "code",
   "execution_count": null,
   "id": "41e19fae-c219-4873-a4cf-1b2f7da1406b",
   "metadata": {},
   "outputs": [],
   "source": [
    "r = Rectangle(length=4.0, breadth=5.0)\n",
    "r.area()"
   ]
  },
  {
   "cell_type": "code",
   "execution_count": null,
   "id": "5b9ba67b-7068-40a3-8351-7b20855ab725",
   "metadata": {},
   "outputs": [],
   "source": [
    "sq2 = Square(side=4.0)\n",
    "sq2.area()"
   ]
  },
  {
   "cell_type": "code",
   "execution_count": null,
   "id": "118c0aba-7c0a-470d-8e17-04ab2c07d543",
   "metadata": {},
   "outputs": [],
   "source": [
    "sq2.colour()"
   ]
  },
  {
   "cell_type": "code",
   "execution_count": null,
   "id": "2f17d9e6-4158-4a36-bfa4-8c7727854286",
   "metadata": {},
   "outputs": [],
   "source": [
    "sq2.__dict__"
   ]
  },
  {
   "cell_type": "markdown",
   "id": "46df0850-4d52-4b8b-b02b-817649e17226",
   "metadata": {},
   "source": [
    "#### **Multiple Inheritance**\n",
    "Unlike Java, Python knows multiple inheritance. Meaning that you can have multiple parents to inherit from. However, this brings issues, but before we consider those issues, let's look at an example of multiple inheritance first.\n",
    "    \n",
    "Say that you have class A with desirable features, and you want them for your class C, but with slightly different behaviour, you could write a third class B that would adopt that behaviour of C to fit your purposes. This quite a common way of programming in Python it is called a **mixin class**. A mixin class is a class that is designed to be subclassed together with a least one other class. It only customizes the behaviour of a child class without providing the full functionality of a concrete object.\n",
    "\n",
    "The use case of a Mixin class is twofold:\n",
    " 1. You want to provide a lot of optional features for a class.\n",
    " 2. Or you want to use one particular feature in a lot of different classes.\n",
    "\n",
    "Say we thought about it and really colour is not a good trait for a shape to have we could rewrite everything with a Mixin class. Where the outside trait of colour comes from the MixinColour class.\n"
   ]
  },
  {
   "cell_type": "code",
   "execution_count": null,
   "id": "1e968bed-c9ad-4782-918a-0ef7e1cdb26a",
   "metadata": {},
   "outputs": [],
   "source": [
    "import math\n",
    "from dataclasses import dataclass\n",
    "\n",
    "class Shape:# our base class\n",
    "    \n",
    "    def area(self):\n",
    "        pass\n",
    "    \n",
    "    def perimeter(self):\n",
    "        pass\n",
    "\n",
    "class MixinColour:\n",
    "    '''Mixin class provides colours to shape classes'''\n",
    "    \n",
    "    def colour(self)->str:\n",
    "        match type(self).__name__:\n",
    "            case 'Rectangle':\n",
    "                return f'{type(self).__name__}.colour() returns a lovely colour purple'\n",
    "            case 'Rhombus':\n",
    "                return f'{type(self).__name__}.colour() returns a lovely colour orchid'\n",
    "            case 'Square':\n",
    "                return f'{type(self).__name__}.colour() returns a lovely colour violet'\n",
    "            case _:\n",
    "                return f'{type(self).__name__}.colour() returns a lovely colour lilac'\n",
    "            \n",
    "    \n",
    "@dataclass\n",
    "class Rectangle(Shape, MixinColour):\n",
    "    length:float=0.0\n",
    "    breadth:float=0.0\n",
    "         \n",
    "    def area(self)->float: \n",
    "        return self.length*self.breadth\n",
    "    \n",
    "    def perimeter(self)->float:\n",
    "        return 2*(self.length+self.breadth)\n",
    "    \n",
    "    def colour(self):\n",
    "        return super().colour()\n",
    "\n",
    "@dataclass    \n",
    "class Rhombus(Shape, MixinColour):\n",
    "    side:float=0.0\n",
    "    degrees:int=0\n",
    "           \n",
    "    def area(self)->float:\n",
    "        return self.side**2*math.sin(math.radians(self.degrees))\n",
    "    \n",
    "    def perimeter(self)->float:\n",
    "        return 4*self.side\n",
    "    \n",
    "    def colour(self):\n",
    "        return super().colour()\n",
    "    \n",
    "@dataclass\n",
    "class Square(Shape, MixinColour):\n",
    "    side:float=0.0\n",
    "    \n",
    "    def area(self)->float: \n",
    "        return 4*self.side\n",
    "    \n",
    "    def perimeter(self)->float:\n",
    "        return 4*self.side\n",
    "    \n",
    "    def colour(self):\n",
    "        return super().colour()"
   ]
  },
  {
   "cell_type": "code",
   "execution_count": null,
   "id": "3d154d96-a291-4281-8350-95b1f6cf90e5",
   "metadata": {},
   "outputs": [],
   "source": [
    "rec = Rectangle(length=4.0, breadth=5.0)\n",
    "rho = Rhombus(side=4.0, degrees=45)\n",
    "sqr = Square(side=4.0)"
   ]
  },
  {
   "cell_type": "code",
   "execution_count": null,
   "id": "9b202d21-a9c3-4ca4-9d50-411898b735f2",
   "metadata": {},
   "outputs": [],
   "source": [
    "sqr.area()"
   ]
  },
  {
   "cell_type": "code",
   "execution_count": null,
   "id": "accb5481-fb73-4128-a9ac-32318d3a28c4",
   "metadata": {},
   "outputs": [],
   "source": [
    "rec.area()"
   ]
  },
  {
   "cell_type": "code",
   "execution_count": null,
   "id": "8f5f4ada-d95e-44f2-a1ce-eac98267711d",
   "metadata": {},
   "outputs": [],
   "source": [
    "rho.area()"
   ]
  },
  {
   "cell_type": "code",
   "execution_count": null,
   "id": "9eceb050-8809-4df1-aabb-c952d4c0f1c6",
   "metadata": {},
   "outputs": [],
   "source": [
    "rho.colour()"
   ]
  },
  {
   "cell_type": "code",
   "execution_count": null,
   "id": "d4804aae-b6d9-4fa8-8cf1-b639e1ce0137",
   "metadata": {},
   "outputs": [],
   "source": [
    "rec.colour()"
   ]
  },
  {
   "cell_type": "code",
   "execution_count": null,
   "id": "0ad2c19b-7453-443a-a2f2-5e4015220cb7",
   "metadata": {},
   "outputs": [],
   "source": [
    "sqr.colour()"
   ]
  },
  {
   "cell_type": "markdown",
   "id": "351343f0-5895-4454-85bb-d5269b007b61",
   "metadata": {},
   "source": [
    "As you can see this works fine. However suddenly we realize that sqr is a special version of Rhombus and Rectangle.   \n",
    "\n",
    "If we make a child of both, we have a problem. Honestly, we would want the perimeter() method of Rhombus as a square does not have length and breadth just a side. While we do not want area() of Rhombus as we need an angle. Which we could provide, but really need not use in a determining the parameter of a square. \n",
    "\n",
    "Which one do you choose? To understand that we need to deepen our understanding of inheritance.\n"
   ]
  },
  {
   "cell_type": "markdown",
   "id": "bd24f577-47cd-4502-b0c8-8c51234c4e7c",
   "metadata": {},
   "source": [
    "#### **DAG**\n",
    "How does inheritance work, how do we know what method will be choosen? To answer that question I have to introduce the mathematical concept of a DAG a directed acyclic graph"
   ]
  },
  {
   "attachments": {
    "2fd0dd8b-d88f-4fa9-a692-abf0da81949e.png": {
     "image/png": "[encoded data removed]"
    }
   },
   "cell_type": "markdown",
   "id": "4888f0c4-fd64-41a5-b503-37da6d030342",
   "metadata": {},
   "source": [
    "![image.png](attachment:2fd0dd8b-d88f-4fa9-a692-abf0da81949e.png)"
   ]
  },
  {
   "cell_type": "markdown",
   "id": "5bb0594e-66ed-4bb7-9322-94d6fb2a58b9",
   "metadata": {},
   "source": [
    "A DAG is simply a set of nodes (a.k.a vertices) and arcs (a.k.a edges).     \n",
    "\n",
    "The arcs connect the nodes in a directed manner (one way) and never create a cycle, meaning if you have gone from a to b there is no way back to a.  \n",
    "\n",
    "Python's inheritance structure is a DAG. If e executes a method it hasn't implemented the interpreter simply looks up to the nodes at one level higher and executes that method. If it can't find an implemented method at level d it moves up to b,c and finally a. If none of these have implemented that method it throws an error.   "
   ]
  },
  {
   "attachments": {
    "7128ee87-e52e-4c99-b918-65df8b891737.png": {
     "image/png": "[encoded data removed]"
    }
   },
   "cell_type": "markdown",
   "id": "98a5f134-5334-4921-ab49-313e3c2c2efc",
   "metadata": {},
   "source": [
    "![image.png](attachment:7128ee87-e52e-4c99-b918-65df8b891737.png)     \n",
    "In Java, C#, and Rust there is no multiple inheritance and there the DAG is basically a tree structure, where every class has only one parent, which never leads to confusion, to go from G to A, there is only one path. To go from e to a on the previous graph there are two paths, which implies a choice, which path to follow. This is a particular problem for languages that support multiple inheritance like C++ and Python. It is affectionally known as the Deadly Diamond of Death. This diamond problem needs a solution, the Python solution, I feel, is particularly elegant, however there are concepts you should know.\n",
    " 1. What is Pythons method resolution order (MRO)?\n",
    " 2. How can I find the MRO\n",
    " 3. What algorithm does Python use to determine the MRO\n",
    " 4. What is super()\n",
    " 5. How do I use super() to exploit multiple inheritance?"
   ]
  },
  {
   "cell_type": "code",
   "execution_count": null,
   "id": "6eeb5824-0f2e-473a-b947-012b7c3982b3",
   "metadata": {},
   "outputs": [],
   "source": [
    "class A:\n",
    "    pass\n",
    "\n",
    "class B(A):\n",
    "    pass\n",
    "\n",
    "class C(A):\n",
    "    pass\n",
    "\n",
    "class D(B,C):\n",
    "    pass\n",
    "\n",
    "class E(C):\n",
    "    pass\n",
    "\n",
    "class F(D,E):\n",
    "    pass\n",
    "\n",
    "class G(F):\n",
    "    '''our starting point for the MRO'''\n",
    "    pass"
   ]
  },
  {
   "attachments": {
    "6e53c48a-1cef-4582-b97f-7002fe8032f9.png": {
     "image/png": "[encoded data removed]"
    }
   },
   "cell_type": "markdown",
   "id": "3bf65c7d-73b7-4aac-98d2-449fecd9134e",
   "metadata": {},
   "source": [
    "The above class as a DAG    \n",
    "![image.png](attachment:6e53c48a-1cef-4582-b97f-7002fe8032f9.png)"
   ]
  },
  {
   "cell_type": "markdown",
   "id": "4375b638-050b-43f4-a7a8-565ead0c31e2",
   "metadata": {},
   "source": [
    "The MRO is the order of inheritance Python follows. It is used to determine the route through the graph. It can be called two ways    \n",
    "\n",
    "The first way is by simply calling help on the class"
   ]
  },
  {
   "cell_type": "code",
   "execution_count": null,
   "id": "65567404-4415-45c8-a2ae-81fde9a3095f",
   "metadata": {},
   "outputs": [],
   "source": [
    "help(G)"
   ]
  },
  {
   "cell_type": "markdown",
   "id": "5e198405-62ad-44e4-b9a8-5b8a803d8ab5",
   "metadata": {},
   "source": [
    "The second manner is by calling the `__mro__` atribute of the class, this is inferior as it is less clear, but it is also less verbose"
   ]
  },
  {
   "cell_type": "code",
   "execution_count": null,
   "id": "da81b029-5b6d-4941-943f-1e9a5deb6cd4",
   "metadata": {},
   "outputs": [],
   "source": [
    "G.__mro__"
   ]
  },
  {
   "attachments": {
    "edd385eb-fafb-4423-a10e-998a86b87b2f.png": {
     "image/png": "[encoded data removed]"
    }
   },
   "cell_type": "markdown",
   "id": "e987d891-3362-4558-aedc-3dcefa91169e",
   "metadata": {},
   "source": [
    "#### **$C^3$ linearization**\n",
    "\n",
    "Python uses the $C^3$ linearization algorithm to create, from the slightly complicated DAG from above, a simple ordered line. See https://en.wikipedia.org/wiki/C3_linearization  for details on how.\n",
    "\n",
    "Let's look at the Method Resolution Order as determined by $C^3$.\n",
    " * G: The MRO always starts with the class itself; the MRO always starts looking for the method in the class itself, only if it cannot find an implementation there, it moves up the DAG. This is very clever and allows you to create smart solutions to everyday programming problems.\n",
    " * F: The MRO goes to the parent directly above F. \n",
    " * D: We have two parent the MRO chooses which parent to follow in an order from left to right\n",
    " * B: Once the MRO has not found the method in D it doesn't revert back to the other parent, instead it traverses the graph further up to the left most parent of D. \n",
    " * E: When it meets start node A it traverses all the way down the graph to where it first encountered another parent to F.\n",
    " * C: The parent of E\n",
    " * A: The start node in graph terminology the root. \n",
    " * builtins.object - This is a special node. Every object in Python is a subclass of the built-in object. Python inheritance DAG will ultimately start with builtins.object    \n",
    "\n",
    " \n",
    "![image.png](attachment:edd385eb-fafb-4423-a10e-998a86b87b2f.png)    \n",
    "\n",
    "All DAGs in Python thus ultimately have the same start node, for all classes are subclass of root"
   ]
  },
  {
   "cell_type": "code",
   "execution_count": null,
   "id": "c13d847b-11e5-4fa6-acff-deae49859bd5",
   "metadata": {},
   "outputs": [],
   "source": [
    "# this an example from Raymond Hettinger with some adaptations by me to bring it up to todays standards\n",
    "from typing import Union\n",
    "\n",
    "class DoughFactory:\n",
    "    \n",
    "    def get_dough(self)->str:\n",
    "        return 'insecticide treated wheat dough'\n",
    "    \n",
    "class Pizza(DoughFactory): # 1\n",
    "    \n",
    "    def order_pizza(self, *toppings:Union[str,list[str]])->None:\n",
    "        print('getting dough')\n",
    "        dough = DoughFactory().get_dough() # 2\n",
    "        print(f'making pie with {dough}')\n",
    "        for topping in toppings:\n",
    "            print(f'Adding {topping}')      \n",
    "    "
   ]
  },
  {
   "cell_type": "markdown",
   "id": "18e5c1d2-166d-4ad8-ad63-ca8b597d5042",
   "metadata": {},
   "source": [
    "First proof that everything is a subclass of object even I don't declare the inheritance relationship as in the code above."
   ]
  },
  {
   "cell_type": "code",
   "execution_count": null,
   "id": "683527a4-847c-42e1-ac0b-6a6f19125d89",
   "metadata": {},
   "outputs": [],
   "source": [
    "issubclass(DoughFactory, object)"
   ]
  },
  {
   "cell_type": "code",
   "execution_count": null,
   "id": "dea45ac8-91ca-4eab-8165-1b518ad81332",
   "metadata": {},
   "outputs": [],
   "source": [
    "Pizza().order_pizza('pulpo', 'onion')"
   ]
  },
  {
   "cell_type": "markdown",
   "id": "9f8a0c46-6d89-48aa-afb7-9f6bbb69f0da",
   "metadata": {},
   "source": [
    "There are a few problems with this code. \n",
    "\n",
    " 1. We do not want to eat any insecticide treated pizza, but we will solve this problem last. \n",
    " 2. The actual first problem Hettinger does not even mention in his talk, but this code actually does not use inheritance. We declare the inheritance relationship in 1 but in 2 we use object composition to access get_dough() `DoughFactory().get_dough()` I will call it the second problem.  \n",
    " 3. This code repeats itself; therefor it is not DRY, which after all stands for, do not repeat yourself. If I change the name DoughFactory into DeegFabriek I will have to change the Pizza class in two places.   \n",
    " \n",
    "We should fix these problems, but before I do let me prove that this code does not use inheritance by running this code without specifying the inheritance relationship.\n"
   ]
  },
  {
   "cell_type": "code",
   "execution_count": null,
   "id": "33feb7da-b12f-43b4-afde-11b9eb58abec",
   "metadata": {},
   "outputs": [],
   "source": [
    "# this an example from Raymond Hettinger withn some adaptations by me to bring it up to todays standards\n",
    "from typing import Union\n",
    "\n",
    "class DoughFactory:\n",
    "    \n",
    "    def get_dough(self)->str:\n",
    "        return 'insecticide treated wheat dough'\n",
    "    \n",
    "class Pizza: # 1\n",
    "       \n",
    "    def order_pizza(self, *toppings:Union[str,list[str]])->None:\n",
    "        print('getting dough')\n",
    "        dough = DoughFactory().get_dough() # 2\n",
    "        print(f'making pie with {dough}')\n",
    "        for topping in toppings:\n",
    "            print(f'Adding {topping}')     "
   ]
  },
  {
   "cell_type": "code",
   "execution_count": null,
   "id": "7ea70577-e8c4-4a5c-a806-6ce98827adab",
   "metadata": {},
   "outputs": [],
   "source": [
    "Pizza().order_pizza('pulpo', 'onion')"
   ]
  },
  {
   "cell_type": "markdown",
   "id": "57cadd86-282f-41db-b66e-affb609fd1a8",
   "metadata": {},
   "source": [
    "Now to fix the problems."
   ]
  },
  {
   "cell_type": "code",
   "execution_count": null,
   "id": "28318413-1d6d-48e5-abf9-15b89304c258",
   "metadata": {},
   "outputs": [],
   "source": [
    "# this an example from Raymond Hettinger with some adaptations by me to bring it up to todays standards\n",
    "from typing import Union\n",
    "\n",
    "class DoughFactory(object):\n",
    "    \n",
    "    def get_dough(self)->str:\n",
    "        return 'insecticide treated wheat dough'\n",
    "    \n",
    "class Pizza(DoughFactory): \n",
    "    \n",
    "    def order_pizza(self, *toppings:Union[str,list[str]])->None:\n",
    "        print('getting dough')\n",
    "        dough = super().get_dough() \n",
    "        print(f'making pie with {dough}')\n",
    "        for topping in toppings:\n",
    "            print(f'Adding {topping}')    "
   ]
  },
  {
   "cell_type": "code",
   "execution_count": null,
   "id": "95242530-d9b2-4e78-a655-3774ed286757",
   "metadata": {},
   "outputs": [],
   "source": [
    "Pizza().order_pizza('salami', 'romano pepper')"
   ]
  },
  {
   "cell_type": "markdown",
   "id": "de399d57-b51c-4bbc-9156-560b94743f9d",
   "metadata": {},
   "source": [
    "#### **super()**   \n",
    "This code has solved both problems it is DRY as a bone and uses inheritance. `dough` uses the `super()` function to call DoughFactory's `get_dough()` method. If the name of DoughFactory changes to DeegFabriek, super() knows where to find with the caveat you adopt Pizza to class Pizza(DeegFabriek):\n",
    "\n",
    "I learned Java as OO language and though I knew what super() meant, but in Python the meaning is slightly different and best described as *next-in-line*.\n",
    "\n",
    "For a programmer in Python, it is important to remember `super()`is your friend. However, it is also a friend to your fellow programmer, using super() makes easier to understand what is going on, for you really do not need to use `super()`\n"
   ]
  },
  {
   "cell_type": "code",
   "execution_count": null,
   "id": "369b8880-183f-4111-924a-ff4eca41f89a",
   "metadata": {},
   "outputs": [],
   "source": [
    "Pizza().get_dough()"
   ]
  },
  {
   "cell_type": "markdown",
   "id": "88cf5125-920c-493b-9cac-954789a2dc13",
   "metadata": {},
   "source": [
    "But how does super help us with not having insecticide treated wheat dough?   \n",
    "\n",
    "This is where Python's multiple inheritance and MRO really becomes powerful yet stays remarkably simple."
   ]
  },
  {
   "cell_type": "code",
   "execution_count": null,
   "id": "806494b2-3e16-484c-99f9-73e57c8980af",
   "metadata": {},
   "outputs": [],
   "source": [
    "class OrganicDoughFactory(DoughFactory):\n",
    "    \n",
    "    def get_dough(self)->str:\n",
    "        return 'Pure untreated wheat dough'\n",
    "    \n",
    "class OrganicPizza(Pizza, OrganicDoughFactory):\n",
    "    '''this class is left empty on purpose'''\n",
    "    pass"
   ]
  },
  {
   "cell_type": "code",
   "execution_count": null,
   "id": "1398a692-1776-4439-ab9e-e686ba51b235",
   "metadata": {},
   "outputs": [],
   "source": [
    "OrganicPizza().order_pizza('salami', 'romano pepper')"
   ]
  },
  {
   "cell_type": "markdown",
   "id": "59ca1c0e-93f5-4a21-9c20-a36f0a7f1970",
   "metadata": {},
   "source": [
    "The first time I saw this I just smiled, it was the most simple and elegant solution to a wicked problem in OO: \n",
    "How to bypass an unwanted superclass of a class we want in a DAG?  \n",
    "\n",
    "But what exactly happens?\n",
    "    \n",
    "First, we need to go back to MRO. The MRO always starts with the children. Then the most left parent is chosen, it goes up the MRO line until the root (or object) is met, if that is case, we go the next most left parent to start a path we have not traversed. \n",
    "\n",
    "To solve the problem, we simply create a new descendant that is now top of the MRO OrganicPizza. By adding OrganicPizza to the MRO, we have access to order_pizza, by adding OrganicDoughFactory as second parent, we ensure that our call to `super()` is handled by OrganicDoughFactory, which is a subclass of DoughFactory. The latter staying the root.\n",
    "   \n",
    "Let's look at the MRO of OrganicPizza.\n"
   ]
  },
  {
   "cell_type": "code",
   "execution_count": null,
   "id": "4656bc3a-9b6b-43fa-9328-503c77738b22",
   "metadata": {},
   "outputs": [],
   "source": [
    "help(OrganicPizza)"
   ]
  },
  {
   "cell_type": "markdown",
   "id": "2cfbc7f7-bc3b-4858-8122-09d57dd87b15",
   "metadata": {},
   "source": [
    "As you can see from help you inherit `order_pizza(args)` from Pizza while you inherit `get_dough()` from  OrganicPizza\n",
    "This is a simple example of how powerful and elegant, yet simple Python's multiple inheritance structure is.  \n",
    "\n",
    "We can build on this example we can for instance bypass an unwanted class in the MRO by putting a class in front of it as we did here with OrganicDoughFactory. If this confuses you, draw it and you will see.    \n",
    "\n",
    "But how to use this in your daily programming practice. Again, we turn to Hettinger who gives us an excellent example of using it for testing with a mock.\n"
   ]
  },
  {
   "cell_type": "code",
   "execution_count": null,
   "id": "1f9077e3-de40-44bc-bac5-f6823b290b13",
   "metadata": {},
   "outputs": [],
   "source": [
    "# this an example from Raymond Hettinger withn some adaptations by me to bring it up to todays standards\n",
    "from dataclasses import dataclass, field\n",
    "\n",
    "@dataclass\n",
    "class Robot:\n",
    "    '''Sophisticated robot class'''\n",
    "    #don't wear down real robots just for testing\n",
    "    def fetch(self,tool:str)->None:\n",
    "        print(f'Physical movent, fetching {tool}')\n",
    "        \n",
    "    def move_forwards(self, tool:str)->None:\n",
    "        print(f'Physical movent, moving {tool} forward!')\n",
    "        \n",
    "    def move_backwards(self, tool:str)->None:\n",
    "        print(f'Physical movent, moving {tool} backward!')\n",
    "        \n",
    "    def replace(self,tool:str)->None:\n",
    "        print(f'Physical movent, replacing {tool}!')   \n",
    "        "
   ]
  },
  {
   "cell_type": "markdown",
   "id": "3b673aac-6347-459f-be8b-cec4bddf7a5d",
   "metadata": {},
   "source": [
    "From this base I could create several specialised robots. \n",
    "\n",
    "I could create a GardeningRobot or a PostmanRobot or a CleaningRobot as below. \n",
    "\n",
    "This is the power of inheritance I can specialize off a general concept."
   ]
  },
  {
   "cell_type": "code",
   "execution_count": null,
   "id": "da4fae85-0149-4cd6-aa38-1e1c0b4817c7",
   "metadata": {},
   "outputs": [],
   "source": [
    "@dataclass\n",
    "class CleaningRobot(Robot):\n",
    "    '''Custom robot that can clean with a given tool'''\n",
    "    \n",
    "    def clean(self, tool:str, times=10)->None:\n",
    "        super().fetch(tool)\n",
    "        for n in range(times):\n",
    "            super().move_forwards(tool)\n",
    "            super().move_backwards(tool)\n",
    "        super().replace(tool)\n",
    "    "
   ]
  },
  {
   "cell_type": "code",
   "execution_count": null,
   "id": "854f20d2-0ff6-43c7-9849-da565395d2a4",
   "metadata": {},
   "outputs": [],
   "source": [
    "CleaningRobot().clean('mop')"
   ]
  },
  {
   "cell_type": "markdown",
   "id": "31d633f3-b3cc-48fd-9c71-247aed46da41",
   "metadata": {},
   "source": [
    "Robot's are expensive as Hettinger rightfully says.    \n",
    "\n",
    "Thus we want to test the CleaningRobot without actually using robot. To prevent wear and tear on our robot, we mock the robot for use in tests."
   ]
  },
  {
   "cell_type": "code",
   "execution_count": null,
   "id": "e7eb83ce-3c5e-4c00-b4b2-c8703a6dce11",
   "metadata": {},
   "outputs": [],
   "source": [
    "@dataclass\n",
    "class MockRobot(Robot):\n",
    "    '''This is a mock robot class instead of actually doing any movement we store the commands in a list'''\n",
    "    tasks:list[str]= field(default_factory=list)\n",
    "    \n",
    "    def fetch(self,tool:str)->None:\n",
    "        self.tasks.append(f'Fetching {tool}')\n",
    "        \n",
    "    def move_forwards(self, tool:str)->None:\n",
    "        self.tasks.append(f'Moving {tool} forwards')\n",
    "        \n",
    "    def move_backwards(self, tool:str)->None:\n",
    "        self.tasks.append(f'Moving {tool} backwards')\n",
    "        \n",
    "    def replace(self,tool:str)->None:\n",
    "         self.tasks.append(f'Replacing {tool}')     "
   ]
  },
  {
   "cell_type": "markdown",
   "id": "3154ec83-daa8-4fca-be78-531e6fcae1b9",
   "metadata": {},
   "source": [
    "Now we want to inject this mock bot into the robot dependency. We have just seen how easy this achieved in Python.   \n",
    "\n",
    "We simply add a new descendent to the MRO line"
   ]
  },
  {
   "cell_type": "code",
   "execution_count": null,
   "id": "ba03a862-5ecc-497c-88a9-f8dd34a6e010",
   "metadata": {},
   "outputs": [],
   "source": [
    "@dataclass\n",
    "class MockedCleaningRobot(CleaningRobot, MockRobot):\n",
    "    '''just a class for dependecy injection'''\n",
    "    pass"
   ]
  },
  {
   "cell_type": "code",
   "execution_count": null,
   "id": "0850c58b-0c23-439c-8958-6231905ebe2e",
   "metadata": {},
   "outputs": [],
   "source": [
    "@dataclass\n",
    "class TestCleaningRobot:\n",
    "    '''I am just mocking a test :-)''' \n",
    "    expected:tuple[list]=field(default_factory=tuple)\n",
    "    t:object=None\n",
    "    \n",
    "    \n",
    "    def __post_init__(self):    \n",
    "        self.t = MockedCleaningRobot()\n",
    "        self.t.clean('rag')\n",
    "        self.expected = (['Fetching rag'] +\n",
    "                ['Moving rag forwards', 'Moving rag backwards']*10 +\n",
    "                ['Replacing rag'])\n",
    "        \n",
    "    def test(self)->bool:        \n",
    "        return self.t.tasks == self.expected  "
   ]
  },
  {
   "cell_type": "code",
   "execution_count": null,
   "id": "ae2f6c6f-5d62-4e67-aac5-f26ff8790033",
   "metadata": {},
   "outputs": [],
   "source": [
    "TestCleaningRobot().test()"
   ]
  },
  {
   "cell_type": "markdown",
   "id": "59f42027-6bd3-4ec8-9df0-a732cac27407",
   "metadata": {},
   "source": [
    "#### **Python subclasses are not subtypes!**\n",
    "This might strike you as odd, after all a class is of a type, therefore a subclass of a type should be a subtype, but this would only be so if the typing was static, and Python is a dynamic language. You cannot perform Liskov in Python, as you cannot guarantee type. If you cannot do Liskov, you cannot do SOLID (would you want to?), well you can mock it, see the SOLID notebook. \n",
    "\n",
    "You could use static DuckTyping or ABCs to create a subtype but would need to use an external type-checker like MyPy to actual check type. But MyPy checks this before interpretation by the interpreter. The Python interpreter (usually CPython) determines type, not MyPy. Python will never be a static language, dixit Guido van Rossum. \n",
    "\n",
    "Python’s multiple inheritance causes some specific problems caused by dynamic typing see the code.\n",
    "  "
   ]
  },
  {
   "cell_type": "code",
   "execution_count": null,
   "id": "353c0b14-bf28-4705-8ac3-d75c74a85952",
   "metadata": {},
   "outputs": [],
   "source": [
    "class A:\n",
    "    \n",
    "    def f(self, some_number):\n",
    "        return some_number % 2\n",
    "    \n",
    "class B:\n",
    "    \n",
    "    def f(self, some_string):\n",
    "        return f'the string was: {self.some_string}'\n",
    "    \n",
    "class C(A,B):\n",
    "    \n",
    "    def f(self, something):\n",
    "        return super().f(something)\n",
    "    \n",
    "c = C()\n",
    "c.f('George is a rhino')"
   ]
  },
  {
   "cell_type": "markdown",
   "id": "647a0180-e33d-4b85-b88d-464db48ecc64",
   "metadata": {},
   "source": [
    "Python does not catch that we can call the modulo operator on a string until interpretation. Python does check for type when interpreting and throws the TypeError with the following message 'not all arguments converted during string formatting'.   \n",
    "\n",
    "Unfortunately, despite super() being super I have not found a solution to this problem. That is to choose the correct order of the MRO based on type the descendant is using. I do not think it will ever come to Python either, for the only solution I see is by using type inference (Haskell style) with static typing, but hey I might be wrong.\n",
    "\n",
    "If we flip the resolution order, we have no problems not even if we throw in some number."
   ]
  },
  {
   "cell_type": "code",
   "execution_count": null,
   "id": "d6dd7630-42b3-4bd6-b7e0-6e8fbd4ed33e",
   "metadata": {},
   "outputs": [],
   "source": [
    "class A:\n",
    "    \n",
    "    def f(self, some_number):\n",
    "        return some_number % 2\n",
    "    \n",
    "class B:\n",
    "    \n",
    "    def f(self, some_string):\n",
    "        return f'the string was: {some_string}'\n",
    "    \n",
    "class C(B,A):\n",
    "    \n",
    "    \n",
    "    def f(self, something):\n",
    "        return super().f(something)\n",
    "    \n",
    "c = C()\n",
    "c.f('George is a rhino')"
   ]
  },
  {
   "cell_type": "code",
   "execution_count": null,
   "id": "68630b93-64e2-4694-ad49-2ee30427f7f2",
   "metadata": {},
   "outputs": [],
   "source": [
    "c.f(42)"
   ]
  },
  {
   "cell_type": "markdown",
   "id": "e6575bab-7161-473f-9b21-414052bf60e6",
   "metadata": {},
   "source": [
    "#### **Subclassing Python built-in classes**\n",
    "Maybe you wonder if you can subclass a Python built-in class, the answer is yes and don't do it. The CPython interpreter will most likely just ignore your implementation of a method and choose the one from the build in class so what is the point?   \n",
    "\n",
    "You implement a Python interface and use Python built-in classes instead. However, having said all that; in Hettinger's video there is a great example how to subclass Python built-ins if you need them to show different than standard behaviour."
   ]
  },
  {
   "cell_type": "markdown",
   "id": "ccb4d04f-28e4-4d56-97cc-e1abeb67f5dd",
   "metadata": {},
   "source": [
    "#### **Composition**\n",
    "Inheritance is not the only way to achieve code reuse. You could object composition to create code reuse and polymorphic behaviour. Remember object-oriented programming derives its popularity for its prowess to model the real world. Object composition is then also a real-world phenomenon. \n",
    "\n",
    "Consider a car, it is composed object it  is made of:\n",
    " - Engine\n",
    " - Chassis\n",
    " - Interior\n",
    " - Body\n",
    " - and more ...    \n",
    " \n",
    "All those objects that make up a car are in themselves objects. Take an engine, it is composed of numerous objects. Now consider programming a car would you want it to be an inheritance relationship?\n"
   ]
  },
  {
   "cell_type": "code",
   "execution_count": null,
   "id": "5fc123e6-716b-4fa3-b610-3c39d53717db",
   "metadata": {},
   "outputs": [],
   "source": [
    "class Engine:\n",
    "    pass\n",
    "\n",
    "class Chassis:\n",
    "    pass\n",
    "\n",
    "class Interior:\n",
    "    pass\n",
    "\n",
    "class Body:\n",
    "    pass\n",
    "\n",
    "class Car(Engine, Chassis, Interior, Body):\n",
    "    pass"
   ]
  },
  {
   "attachments": {
    "a9c52ac3-91b1-4f2d-a6cc-a6cd5b0c3a01.png": {
     "image/png": "[encoded data removed]"
    }
   },
   "cell_type": "markdown",
   "id": "647e1ecc-7a15-4cf9-8fb6-a146b695505d",
   "metadata": {},
   "source": [
    "Hopefully this intuitively feels the wrong approach    \n",
    "\n",
    "![image.png](attachment:a9c52ac3-91b1-4f2d-a6cc-a6cd5b0c3a01.png)    \n",
    "\n",
    "An engine for instance, is a complicated object. It consists of many many objects that in themselves consists of many objects. Trying to caputure that in an inheritance realtionship would be insanely complicated, the DAG would be a nightmare. Better to do object composition."
   ]
  },
  {
   "cell_type": "code",
   "execution_count": null,
   "id": "cd1d349a-ee48-457b-83ef-1ffa90c52bf0",
   "metadata": {},
   "outputs": [],
   "source": [
    "from dataclasses import dataclass\n",
    "\n",
    "@dataclass\n",
    "class Car:\n",
    "    engine:   Engine   = None\n",
    "    chassis:  Chassis  = None\n",
    "    interior: Interior = None \n",
    "    body:     Body     = None\n",
    "    \n",
    "car = Car()    \n",
    "    \n",
    "    "
   ]
  },
  {
   "cell_type": "code",
   "execution_count": null,
   "id": "cd17a487-4887-4cb6-bf40-4f1344de7cef",
   "metadata": {},
   "outputs": [],
   "source": [
    "car"
   ]
  },
  {
   "cell_type": "markdown",
   "id": "8efcd134-1473-45bc-a591-4df0cb810666",
   "metadata": {},
   "source": [
    "\n",
    "#### **Composition over inheritance**\n",
    "The gang of four once stated famously that you should prefer object composition over inheritance. This is not that easy to say in Python as it is in C++ or Java. As we have seen here Python's multiple inheritance is particularly elegant and powerful. It can be used often where the Gang of Four would advise against it. \n",
    "\n",
    "Object composition leaves you with a harder form of dependency than inheritance as you can simply override the parents’ implementations of methods you do not like. In general dependencies should be avoided as much as possible.   \n",
    "\n",
    "The GoF is quite outdated if you ask me, you should realize that of the twenty-three coding patterns of the gang of four probably quite a few are not in use anymore. I will refer you to the notebook on those patterns I feel are still relevant. (Do realize that I prefer functional programming where the twenty-three patterns are basically of little use)"
   ]
  },
  {
   "cell_type": "markdown",
   "id": "a463b1f3-5ac7-4a89-afa0-8ab686b459e5",
   "metadata": {},
   "source": [
    "#### **When to use compsition when inheritance**\n",
    "Python favors inheritance which it's Mixin classes, clever MRO. Inheritance should be all about common traits and operations, you want to go from general to specialised. \n",
    "\n",
    "If you have no common traits and operations do not use inheritance!\n",
    "\n",
    "However if you use object composition you need to take care of staying loosly coupled. For more information about loose coupling I refer you to the SOLID notebook"
   ]
  },
  {
   "cell_type": "markdown",
   "id": "748db4a7-6f2f-4279-ad3c-b0c3ca50ff69",
   "metadata": {},
   "source": [
    "The video of Raymond Hettinger at PyCon 2015 in Canada https://www.youtube.com/watch?v=EiOglTERPEo"
   ]
  },
  {
   "cell_type": "markdown",
   "id": "fa444753-0620-4262-947d-bbc6c3a70215",
   "metadata": {},
   "source": [
    "#### **The End**"
   ]
  }
 ],
 "metadata": {
  "kernelspec": {
   "display_name": "Python 3 (ipykernel)",
   "language": "python",
   "name": "python3"
  },
  "language_info": {
   "codemirror_mode": {
    "name": "ipython",
    "version": 3
   },
   "file_extension": ".py",
   "mimetype": "text/x-python",
   "name": "python",
   "nbconvert_exporter": "python",
   "pygments_lexer": "ipython3",
   "version": "3.11.1"
  }
 },
 "nbformat": 4,
 "nbformat_minor": 5
}
